{
 "cells": [
  {
   "cell_type": "markdown",
   "id": "3b23aad1",
   "metadata": {},
   "source": [
    "**Ejercicio 1.** Utilizando operadores lógicos, determina si una cadena de texto introducida por el usuario tiene una longitud mayor o igual que 3 y a su vez es menor que 10 (es suficiene con mostrar True o False):"
   ]
  },
  {
   "cell_type": "code",
   "execution_count": null,
   "id": "e63a6069",
   "metadata": {},
   "outputs": [],
   "source": [
    "# Escriba su código aquí"
   ]
  },
  {
   "cell_type": "markdown",
   "id": "f017f2fe",
   "metadata": {},
   "source": [
    "**Ejercicio 2.**  Realiza un programa que lea 2 números por teclado y determine los siguientes aspectos (es suficiene con mostrar True o False):\n",
    "\n",
    "- Si los dos números son iguales\n",
    "- Si los dos números son diferentes\n",
    "- Si el primero es mayor que el segundo\n",
    "- Si el segundo es mayor o igual que el primero"
   ]
  },
  {
   "cell_type": "code",
   "execution_count": 3,
   "id": "fe2748c3",
   "metadata": {},
   "outputs": [
    {
     "name": "stdout",
     "output_type": "stream",
     "text": [
      "Introduce el primer número: 9852\n",
      "Introduce el segundo número: 25\n"
     ]
    }
   ],
   "source": [
    "a, b = input('Introduce el primer número: '), input('Introduce el segundo número: ')"
   ]
  },
  {
   "cell_type": "code",
   "execution_count": 8,
   "id": "32b4e270",
   "metadata": {},
   "outputs": [
    {
     "name": "stdout",
     "output_type": "stream",
     "text": [
      "Los dos números son iguales: False\n",
      "Los dos números son diferentes: True\n",
      "El primer número 9852 es mayor que el segundo número 25: True\n",
      "El segundo número 25 es mayor o igual que el primer número 9852: False\n"
     ]
    }
   ],
   "source": [
    "print('Los dos números son iguales:', a == b)\n",
    "print('Los dos números son diferentes:', a != b)\n",
    "print('El primer número {} es mayor que el segundo número {}: {}'.format(a, b, a > b))\n",
    "print('El segundo número {} es mayor o igual que el primer número {}: {}'.format(b, a, b >= a))"
   ]
  },
  {
   "cell_type": "code",
   "execution_count": null,
   "id": "9c6e1f7b",
   "metadata": {},
   "outputs": [],
   "source": []
  }
 ],
 "metadata": {
  "kernelspec": {
   "display_name": "Python 3 (ipykernel)",
   "language": "python",
   "name": "python3"
  },
  "language_info": {
   "codemirror_mode": {
    "name": "ipython",
    "version": 3
   },
   "file_extension": ".py",
   "mimetype": "text/x-python",
   "name": "python",
   "nbconvert_exporter": "python",
   "pygments_lexer": "ipython3",
   "version": "3.9.7"
  }
 },
 "nbformat": 4,
 "nbformat_minor": 5
}
