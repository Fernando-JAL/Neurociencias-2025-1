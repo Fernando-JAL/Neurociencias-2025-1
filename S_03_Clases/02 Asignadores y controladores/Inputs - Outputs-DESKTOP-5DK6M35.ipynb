{
 "cells": [
  {
   "cell_type": "markdown",
   "id": "51ade247",
   "metadata": {},
   "source": [
    "# Entrada de valores\n",
    "\n",
    "Se utiliza la función input para recibir valores por teclado"
   ]
  },
  {
   "cell_type": "code",
   "execution_count": null,
   "id": "1a30689f",
   "metadata": {},
   "outputs": [],
   "source": [
    "input()"
   ]
  },
  {
   "cell_type": "code",
   "execution_count": null,
   "id": "3fb2458b",
   "metadata": {},
   "outputs": [],
   "source": [
    "x = input()\n",
    "type(x)"
   ]
  },
  {
   "cell_type": "code",
   "execution_count": null,
   "id": "6e1d1aac",
   "metadata": {},
   "outputs": [],
   "source": [
    "# Hacer ejemplos\n",
    "float(x)"
   ]
  },
  {
   "cell_type": "code",
   "execution_count": null,
   "id": "73c32297",
   "metadata": {},
   "outputs": [],
   "source": [
    "# Podemos mostrar un mensaje antes de leer el valor\n",
    "valor = input(\"Introduce un valor: \")\n",
    "valor = int(valor)\n",
    "valor"
   ]
  },
  {
   "cell_type": "code",
   "execution_count": null,
   "id": "27e6a1d3",
   "metadata": {},
   "outputs": [],
   "source": [
    "type(valor)"
   ]
  },
  {
   "cell_type": "markdown",
   "id": "1e0f2d20",
   "metadata": {},
   "source": [
    "## Recuérdese que se puede hacer cast entre tipos de datos"
   ]
  },
  {
   "cell_type": "code",
   "execution_count": null,
   "id": "099a1584",
   "metadata": {},
   "outputs": [],
   "source": [
    "# Hacer ejemplos"
   ]
  },
  {
   "cell_type": "code",
   "execution_count": null,
   "id": "2d96558b",
   "metadata": {},
   "outputs": [],
   "source": []
  },
  {
   "cell_type": "markdown",
   "id": "c98bbe69",
   "metadata": {},
   "source": [
    "# Salida de valores\n",
    "\n",
    "Se utiliza la función print para imprimir valores"
   ]
  },
  {
   "cell_type": "code",
   "execution_count": null,
   "id": "e8d10531",
   "metadata": {},
   "outputs": [],
   "source": [
    "val1 = -8.32\n",
    "val2 = 'string'"
   ]
  },
  {
   "cell_type": "code",
   "execution_count": null,
   "id": "375f187d",
   "metadata": {},
   "outputs": [],
   "source": [
    "print(val1, val2)"
   ]
  },
  {
   "cell_type": "code",
   "execution_count": null,
   "id": "9b4336d3",
   "metadata": {},
   "outputs": [],
   "source": [
    "print('{} {}'.format(val1, val2))"
   ]
  },
  {
   "cell_type": "code",
   "execution_count": null,
   "id": "f9b95d68",
   "metadata": {},
   "outputs": [],
   "source": [
    "print('{1} {0}'.format(val1, val2))"
   ]
  },
  {
   "cell_type": "code",
   "execution_count": null,
   "id": "1f18be7e",
   "metadata": {},
   "outputs": [],
   "source": [
    "print('{0} {1}'.format(val1, val2))"
   ]
  },
  {
   "cell_type": "code",
   "execution_count": null,
   "id": "e3c0443d",
   "metadata": {},
   "outputs": [],
   "source": [
    "print('La primera variable es: {0} y la segunda es: {1}'.format(val1, val2))"
   ]
  },
  {
   "cell_type": "code",
   "execution_count": null,
   "id": "b41d616a",
   "metadata": {},
   "outputs": [],
   "source": [
    "print(f'La primera variable es: {val1} y la 2da es: {val2}')"
   ]
  },
  {
   "cell_type": "code",
   "execution_count": null,
   "id": "53fa3ef1",
   "metadata": {},
   "outputs": [],
   "source": []
  }
 ],
 "metadata": {
  "kernelspec": {
   "display_name": "Python 3 (ipykernel)",
   "language": "python",
   "name": "python3"
  },
  "language_info": {
   "codemirror_mode": {
    "name": "ipython",
    "version": 3
   },
   "file_extension": ".py",
   "mimetype": "text/x-python",
   "name": "python",
   "nbconvert_exporter": "python",
   "pygments_lexer": "ipython3",
   "version": "3.9.7"
  }
 },
 "nbformat": 4,
 "nbformat_minor": 5
}
