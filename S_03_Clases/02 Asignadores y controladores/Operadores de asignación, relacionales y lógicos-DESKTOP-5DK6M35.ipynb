{
 "cells": [
  {
   "cell_type": "markdown",
   "id": "141773d2",
   "metadata": {},
   "source": [
    "# Operadores de asignación, relacionales y lógicos"
   ]
  },
  {
   "cell_type": "markdown",
   "id": "d4b7f2ab",
   "metadata": {},
   "source": [
    "En programación, una **variable** está formada por un espacio en el sistema de almacenaje y un nombre simbólico que está asociado a dicho espacio. \n",
    "\n",
    "Ese espacio contiene una cantidad de información conocida o desconocida, es decir un valor."
   ]
  },
  {
   "cell_type": "code",
   "execution_count": null,
   "id": "7a23b819",
   "metadata": {},
   "outputs": [],
   "source": [
    "# Se le asigna el valor de 5 a la variable a\n",
    "a = 5\n",
    "a"
   ]
  },
  {
   "cell_type": "code",
   "execution_count": null,
   "id": "e206c0ee",
   "metadata": {},
   "outputs": [],
   "source": [
    "type(a)"
   ]
  },
  {
   "cell_type": "code",
   "execution_count": null,
   "id": "c748b47d",
   "metadata": {},
   "outputs": [],
   "source": [
    "string1 = 'cadena de ejemplo'\n",
    "string1"
   ]
  },
  {
   "cell_type": "code",
   "execution_count": null,
   "id": "a844e220",
   "metadata": {},
   "outputs": [],
   "source": [
    "type(string1)"
   ]
  },
  {
   "cell_type": "code",
   "execution_count": null,
   "id": "8bf69491",
   "metadata": {},
   "outputs": [],
   "source": [
    "# La función id() da la dirección del objeto en particular.\n",
    "id(a)"
   ]
  },
  {
   "cell_type": "markdown",
   "id": "26ef2dba",
   "metadata": {},
   "source": [
    "Recuerden que es posible darle otro valor a la misma variable, dicha variable cambiará su dirección."
   ]
  },
  {
   "cell_type": "code",
   "execution_count": null,
   "id": "db1c13cf",
   "metadata": {},
   "outputs": [],
   "source": [
    "a"
   ]
  },
  {
   "cell_type": "code",
   "execution_count": null,
   "id": "6d638673",
   "metadata": {},
   "outputs": [],
   "source": [
    "b = a\n",
    "b"
   ]
  },
  {
   "cell_type": "code",
   "execution_count": null,
   "id": "04c749fc",
   "metadata": {},
   "outputs": [],
   "source": [
    "b = b + 1\n",
    "b"
   ]
  },
  {
   "cell_type": "code",
   "execution_count": null,
   "id": "5071a704",
   "metadata": {},
   "outputs": [],
   "source": [
    "id(b)"
   ]
  },
  {
   "cell_type": "code",
   "execution_count": null,
   "id": "5769faf7",
   "metadata": {},
   "outputs": [],
   "source": [
    "a"
   ]
  },
  {
   "cell_type": "code",
   "execution_count": null,
   "id": "bc78e6c6",
   "metadata": {},
   "outputs": [],
   "source": [
    "a = 'string'\n",
    "a"
   ]
  },
  {
   "cell_type": "code",
   "execution_count": null,
   "id": "59f87b86",
   "metadata": {},
   "outputs": [],
   "source": [
    "id(a)"
   ]
  },
  {
   "cell_type": "markdown",
   "id": "ba69c44c",
   "metadata": {},
   "source": [
    "# Operadores de asignación\n",
    "\n",
    "Los operadores de asignación que se verán en el curso son:\n",
    "\n",
    "=, +=, -=, \\*=, /=, //= %= \\**="
   ]
  },
  {
   "cell_type": "code",
   "execution_count": null,
   "id": "04245568",
   "metadata": {},
   "outputs": [],
   "source": [
    "a = 10\n",
    "a = a + 22\n",
    "a"
   ]
  },
  {
   "cell_type": "code",
   "execution_count": null,
   "id": "60370472",
   "metadata": {},
   "outputs": [],
   "source": [
    "a = 10\n",
    "a += 22\n",
    "a"
   ]
  },
  {
   "cell_type": "code",
   "execution_count": null,
   "id": "b8ce0502",
   "metadata": {},
   "outputs": [],
   "source": [
    "string = 'más frío '\n",
    "string = string + 'que antes '\n",
    "string"
   ]
  },
  {
   "cell_type": "code",
   "execution_count": null,
   "id": "350f9c9f",
   "metadata": {},
   "outputs": [],
   "source": [
    "string = 'más frío '\n",
    "string += 'que antes '\n",
    "string"
   ]
  },
  {
   "cell_type": "code",
   "execution_count": null,
   "id": "746e1e8f",
   "metadata": {},
   "outputs": [],
   "source": [
    "a = 25\n",
    "a -= 10\n",
    "a"
   ]
  },
  {
   "cell_type": "code",
   "execution_count": null,
   "id": "1df689bb",
   "metadata": {},
   "outputs": [],
   "source": [
    "a = 7\n",
    "a *= 10\n",
    "a"
   ]
  },
  {
   "cell_type": "code",
   "execution_count": null,
   "id": "1860bc87",
   "metadata": {},
   "outputs": [],
   "source": [
    "a = 12_345_698_520\n",
    "a /= 12\n",
    "a"
   ]
  },
  {
   "cell_type": "code",
   "execution_count": null,
   "id": "51088551",
   "metadata": {},
   "outputs": [],
   "source": [
    "type(a)"
   ]
  },
  {
   "cell_type": "code",
   "execution_count": null,
   "id": "cd8ce889",
   "metadata": {},
   "outputs": [],
   "source": [
    "a = 2\n",
    "a **= 8\n",
    "a"
   ]
  },
  {
   "cell_type": "code",
   "execution_count": null,
   "id": "02ab7965",
   "metadata": {},
   "outputs": [],
   "source": [
    "a = 456\n",
    "a //= 10\n",
    "a"
   ]
  },
  {
   "cell_type": "code",
   "execution_count": null,
   "id": "720d3183",
   "metadata": {},
   "outputs": [],
   "source": [
    "type(a)"
   ]
  },
  {
   "cell_type": "code",
   "execution_count": null,
   "id": "5f6bb974",
   "metadata": {},
   "outputs": [],
   "source": [
    "a = 7\n",
    "a %= 5\n",
    "a"
   ]
  },
  {
   "cell_type": "code",
   "execution_count": null,
   "id": "cc511aed",
   "metadata": {},
   "outputs": [],
   "source": [
    "# Python permite la asignación de múltiples variables en una sola línea\n",
    "a, b, c = 5, 'casa', ['arroz', -8.5]\n",
    "print(a)\n",
    "print(b)\n",
    "print(c)"
   ]
  },
  {
   "cell_type": "markdown",
   "id": "c4dce285",
   "metadata": {},
   "source": [
    "# Operadores relacionales\n",
    "Los operadores relacionales a considerar son:\n",
    "\n",
    "<, >, ==, !="
   ]
  },
  {
   "cell_type": "code",
   "execution_count": null,
   "id": "f8db45ae",
   "metadata": {},
   "outputs": [],
   "source": [
    "# Hacer ejercicios\n",
    "a = 5\n",
    "b = 18\n",
    "a > b"
   ]
  },
  {
   "cell_type": "code",
   "execution_count": null,
   "id": "d877aafd",
   "metadata": {},
   "outputs": [],
   "source": [
    "a *= 4\n",
    "a > b"
   ]
  },
  {
   "cell_type": "code",
   "execution_count": null,
   "id": "75ef28a9",
   "metadata": {},
   "outputs": [],
   "source": [
    "a == b+2"
   ]
  },
  {
   "cell_type": "code",
   "execution_count": null,
   "id": "f96260a7",
   "metadata": {},
   "outputs": [],
   "source": [
    "a != b"
   ]
  },
  {
   "cell_type": "code",
   "execution_count": null,
   "id": "c1d90272",
   "metadata": {},
   "outputs": [],
   "source": [
    "a, b, c = -45.2, 22, 100\n",
    "\n",
    "(((a-b) < 567) != 0) == c*0"
   ]
  },
  {
   "cell_type": "code",
   "execution_count": null,
   "id": "2759b20c",
   "metadata": {},
   "outputs": [],
   "source": [
    "True != 0"
   ]
  },
  {
   "cell_type": "code",
   "execution_count": null,
   "id": "9ba7d146",
   "metadata": {},
   "outputs": [],
   "source": [
    "True == 1"
   ]
  },
  {
   "cell_type": "code",
   "execution_count": null,
   "id": "64179bd7",
   "metadata": {},
   "outputs": [],
   "source": [
    "False == 0"
   ]
  },
  {
   "cell_type": "code",
   "execution_count": null,
   "id": "6717a41c",
   "metadata": {},
   "outputs": [],
   "source": [
    "# Hacer ejercicios usando listas\n",
    "a = [2, 3, 4]\n",
    "b = [4, 5, 10]\n",
    "a < b"
   ]
  },
  {
   "cell_type": "code",
   "execution_count": null,
   "id": "756490ab",
   "metadata": {},
   "outputs": [],
   "source": [
    "# Hacer ejercicios usando strings\n",
    "'bk' < 'pm'"
   ]
  },
  {
   "cell_type": "code",
   "execution_count": null,
   "id": "82486520",
   "metadata": {},
   "outputs": [],
   "source": [
    "'mn' < 'ma'"
   ]
  },
  {
   "cell_type": "code",
   "execution_count": null,
   "id": "3349f07d",
   "metadata": {},
   "outputs": [],
   "source": [
    "ord('m') == ord('M')+32"
   ]
  },
  {
   "cell_type": "code",
   "execution_count": null,
   "id": "625b3e3c",
   "metadata": {},
   "outputs": [],
   "source": [
    "'tu' < 'ya'"
   ]
  },
  {
   "cell_type": "code",
   "execution_count": null,
   "id": "7544e0c5",
   "metadata": {},
   "outputs": [],
   "source": [
    "'abc' < 'aba'"
   ]
  },
  {
   "cell_type": "code",
   "execution_count": null,
   "id": "994de4dc",
   "metadata": {},
   "outputs": [],
   "source": [
    "# Para conocer el valor de un caracter en código ASCII se usa ord\n",
    "ord('M')"
   ]
  },
  {
   "cell_type": "markdown",
   "id": "78f9793e",
   "metadata": {},
   "source": [
    "La representación aritmética de True y False equivale a 1 y 0 respectivamente"
   ]
  },
  {
   "cell_type": "code",
   "execution_count": null,
   "id": "cf17cd6e",
   "metadata": {},
   "outputs": [],
   "source": [
    "# 0   < 1\n",
    "False < True"
   ]
  },
  {
   "cell_type": "code",
   "execution_count": null,
   "id": "f25e0d35",
   "metadata": {},
   "outputs": [],
   "source": [
    "#   0 + 1 <= 1\n",
    "False + 1 <= True"
   ]
  },
  {
   "cell_type": "code",
   "execution_count": null,
   "id": "b69bf2b4",
   "metadata": {},
   "outputs": [],
   "source": [
    "# Python permite conjuntar operadores relacionales\n",
    "5 < 10 < 58"
   ]
  },
  {
   "cell_type": "code",
   "execution_count": null,
   "id": "6baf6d77",
   "metadata": {},
   "outputs": [],
   "source": [
    "5 < 10 < 3"
   ]
  },
  {
   "cell_type": "code",
   "execution_count": null,
   "id": "cc6f5e2a",
   "metadata": {},
   "outputs": [],
   "source": [
    "5 < 10 > 2"
   ]
  },
  {
   "cell_type": "code",
   "execution_count": null,
   "id": "e0c22713",
   "metadata": {},
   "outputs": [],
   "source": [
    "# Hacer ejercicios"
   ]
  },
  {
   "cell_type": "markdown",
   "id": "1575d226",
   "metadata": {},
   "source": [
    "# Operadores lógicos\n",
    "\n",
    "Los operadores lógicos son *or*, *and* y *not*\n",
    "\n",
    "## not - es la negación lógica"
   ]
  },
  {
   "cell_type": "code",
   "execution_count": null,
   "id": "a4ccf842",
   "metadata": {},
   "outputs": [],
   "source": [
    "False and False"
   ]
  },
  {
   "cell_type": "code",
   "execution_count": null,
   "id": "67bbabb5",
   "metadata": {},
   "outputs": [],
   "source": [
    "not True"
   ]
  },
  {
   "cell_type": "code",
   "execution_count": null,
   "id": "2c8dce72",
   "metadata": {},
   "outputs": [],
   "source": [
    "not False"
   ]
  },
  {
   "cell_type": "code",
   "execution_count": null,
   "id": "bd2bb924",
   "metadata": {},
   "outputs": [],
   "source": [
    "False == (not True)"
   ]
  },
  {
   "cell_type": "code",
   "execution_count": null,
   "id": "532b791a",
   "metadata": {},
   "outputs": [],
   "source": [
    "a = 45\n",
    "a > 10 and a < 20"
   ]
  },
  {
   "cell_type": "code",
   "execution_count": null,
   "id": "67c93c26",
   "metadata": {},
   "outputs": [],
   "source": [
    "a = 45\n",
    "10 < a < 20"
   ]
  },
  {
   "cell_type": "code",
   "execution_count": null,
   "id": "3c2b62b0",
   "metadata": {},
   "outputs": [],
   "source": [
    "c = \"Hola Mundo cómo estás hoy?\"\n",
    "len(c) >= 20 and c[0] == \"H\""
   ]
  },
  {
   "cell_type": "markdown",
   "id": "950e235d",
   "metadata": {},
   "source": [
    "## or - es la disyunción lógica"
   ]
  },
  {
   "cell_type": "code",
   "execution_count": null,
   "id": "dac10bc4",
   "metadata": {},
   "outputs": [],
   "source": [
    "False or True"
   ]
  },
  {
   "cell_type": "code",
   "execution_count": null,
   "id": "6ecf6fef",
   "metadata": {},
   "outputs": [],
   "source": [
    "1 or 0"
   ]
  },
  {
   "cell_type": "code",
   "execution_count": null,
   "id": "280c1cd0",
   "metadata": {},
   "outputs": [],
   "source": [
    "True == not False"
   ]
  },
  {
   "cell_type": "code",
   "execution_count": null,
   "id": "1ea67d24",
   "metadata": {},
   "outputs": [],
   "source": [
    "not True == False"
   ]
  },
  {
   "cell_type": "code",
   "execution_count": null,
   "id": "798b1bab",
   "metadata": {},
   "outputs": [],
   "source": [
    "c = \"OTRA COSA\"\n",
    "c == \"OTRA\" or c == \"COSA\" or c == \"SALIR\""
   ]
  },
  {
   "cell_type": "code",
   "execution_count": null,
   "id": "88e5b6e9",
   "metadata": {},
   "outputs": [],
   "source": [
    "c.lower()"
   ]
  },
  {
   "cell_type": "code",
   "execution_count": null,
   "id": "d5092a23",
   "metadata": {},
   "outputs": [],
   "source": [
    "c = \"Lector\"\n",
    "c[0] == \"H\" or c[0] == \"h\""
   ]
  },
  {
   "cell_type": "code",
   "execution_count": null,
   "id": "6be5399d",
   "metadata": {},
   "outputs": [],
   "source": [
    "print(c.lower())\n",
    "print(c.upper())\n",
    "print(c.capitalize())"
   ]
  },
  {
   "cell_type": "code",
   "execution_count": null,
   "id": "c6d714ab",
   "metadata": {},
   "outputs": [],
   "source": []
  },
  {
   "cell_type": "code",
   "execution_count": null,
   "id": "23a7a610",
   "metadata": {},
   "outputs": [],
   "source": []
  }
 ],
 "metadata": {
  "kernelspec": {
   "display_name": "Python 3 (ipykernel)",
   "language": "python",
   "name": "python3"
  },
  "language_info": {
   "codemirror_mode": {
    "name": "ipython",
    "version": 3
   },
   "file_extension": ".py",
   "mimetype": "text/x-python",
   "name": "python",
   "nbconvert_exporter": "python",
   "pygments_lexer": "ipython3",
   "version": "3.9.7"
  }
 },
 "nbformat": 4,
 "nbformat_minor": 5
}
