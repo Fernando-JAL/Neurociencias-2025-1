{
 "cells": [
  {
   "cell_type": "markdown",
   "metadata": {},
   "source": [
    "# Argumentos y parámetros indeterminados\n",
    "Quizá en alguna ocasión no sabemos de antemano cuantos elementos vamos a enviar a una función. En estos casos podemos utilizar los parámetros indeterminados por posición y por nombre.\n",
    "\n",
    "## Por posición\n",
    "Para recibir un número indeterminado de parámetros por posición, debemos crear una lista dinámica de argumentos (una tupla en realidad):"
   ]
  },
  {
   "cell_type": "code",
   "execution_count": 1,
   "metadata": {},
   "outputs": [
    {
     "name": "stdout",
     "output_type": "stream",
     "text": [
      "5\n",
      "Hola\n",
      "[1, 2, 3, 4, 5]\n"
     ]
    }
   ],
   "source": [
    "def indeterminados_posicion(*args):\n",
    "    for arg in args:\n",
    "        print(arg)\n",
    "    \n",
    "indeterminados_posicion(5, \"Hola\", [1,2,3,4,5])"
   ]
  },
  {
   "cell_type": "code",
   "execution_count": 3,
   "metadata": {},
   "outputs": [
    {
     "name": "stdout",
     "output_type": "stream",
     "text": [
      "{'azul': 5, 'verde': -5.2}\n",
      "[5, 'cada', 3.14]\n",
      "docena\n",
      "9\n"
     ]
    }
   ],
   "source": [
    "indeterminados_posicion({'azul': 5, 'verde': -5.2}, [5, 'cada', 3.14], 'docena', 9)"
   ]
  },
  {
   "cell_type": "code",
   "execution_count": 4,
   "metadata": {},
   "outputs": [],
   "source": [
    "indeterminados_posicion()"
   ]
  },
  {
   "cell_type": "code",
   "execution_count": 6,
   "metadata": {},
   "outputs": [
    {
     "name": "stdout",
     "output_type": "stream",
     "text": [
      "5\n",
      "Hola\n",
      "[1, 2, 3, 4, 5]\n"
     ]
    }
   ],
   "source": [
    "def funcion(X):\n",
    "    for x in X:\n",
    "        print(x)\n",
    "        \n",
    "var = [5, \"Hola\", [1,2,3,4,5]]\n",
    "funcion(var)"
   ]
  },
  {
   "cell_type": "code",
   "execution_count": 13,
   "metadata": {},
   "outputs": [
    {
     "name": "stdout",
     "output_type": "stream",
     "text": [
      "base = 5, altura = 90.5, profundidad = 94\n",
      "5\n",
      "90.5\n",
      "94\n",
      "base = 94, altura = 5, profundidad = 90.5\n",
      "94\n",
      "5\n",
      "90.5\n"
     ]
    }
   ],
   "source": [
    "def funcion2(*args):\n",
    "    if len(args) >= 3:\n",
    "        base, altura, profundidad = args[0], args[1], args[2]\n",
    "        print('base = {}, altura = {}, profundidad = {}'.format(base, altura, profundidad))\n",
    "\n",
    "    for arg in args:\n",
    "        print(arg)\n",
    "        \n",
    "funcion2(5, 90.5, 94)\n",
    "\n",
    "funcion2(94, 5, 90.5)"
   ]
  },
  {
   "cell_type": "markdown",
   "metadata": {},
   "source": [
    "## Por nombre\n",
    "Para recibir un número indeterminado de parámetros por nombre (clave-valor), debemos crear un diccionario dinámico de argumentos:"
   ]
  },
  {
   "cell_type": "code",
   "execution_count": 15,
   "metadata": {},
   "outputs": [
    {
     "name": "stdout",
     "output_type": "stream",
     "text": [
      "{'n': 5, 'c': 'Hola', 'l': [1, 2, 3, 4, 5]}\n",
      "<class 'dict'>\n"
     ]
    }
   ],
   "source": [
    "def indeterminados_nombre(**kwargs):\n",
    "    print(kwargs)\n",
    "    print(type(kwargs))\n",
    "\n",
    "indeterminados_nombre(n=5,c=\"Hola\",l=[1,2,3,4,5])    "
   ]
  },
  {
   "cell_type": "code",
   "execution_count": 16,
   "metadata": {},
   "outputs": [
    {
     "name": "stdout",
     "output_type": "stream",
     "text": [
      "{'l': [1, 2, 3, 4, 5], 'c': 'Hola', 'n': 5}\n",
      "<class 'dict'>\n"
     ]
    }
   ],
   "source": [
    "indeterminados_nombre(l=[1,2,3,4,5], c=\"Hola\", n=5)"
   ]
  },
  {
   "cell_type": "code",
   "execution_count": 20,
   "metadata": {},
   "outputs": [
    {
     "name": "stdout",
     "output_type": "stream",
     "text": [
      "base = 5, altura = 15, profundidad = 93\n"
     ]
    }
   ],
   "source": [
    "def funcion_kwargs(**kwargs):\n",
    "    if len(kwargs) >= 3:\n",
    "        base =        kwargs['b']\n",
    "        altura =      kwargs['a']\n",
    "        profundidad = kwargs['z']\n",
    "        print('base = {}, altura = {}, profundidad = {}'.format(base, altura, profundidad))\n",
    "        \n",
    "funcion_kwargs(a = 15, b = 5, z = 93)"
   ]
  },
  {
   "cell_type": "code",
   "execution_count": 21,
   "metadata": {},
   "outputs": [
    {
     "name": "stdout",
     "output_type": "stream",
     "text": [
      "n\n",
      "c\n",
      "l\n"
     ]
    }
   ],
   "source": [
    "def indeterminados_nombre(**kwargs):\n",
    "    for kwarg in kwargs:\n",
    "        print(kwarg)\n",
    "indeterminados_nombre(n=5,c=\"Hola\",l=[1,2,3,4,5])   "
   ]
  },
  {
   "cell_type": "code",
   "execution_count": 22,
   "metadata": {},
   "outputs": [
    {
     "name": "stdout",
     "output_type": "stream",
     "text": [
      "n\n",
      "c\n",
      "l\n"
     ]
    }
   ],
   "source": [
    "dict_ej = {'n': 5, 'c': 'Hola', 'l': [1, 2, 3, 4, 5]}\n",
    "for elt in dict_ej:\n",
    "    print(elt)"
   ]
  },
  {
   "cell_type": "code",
   "execution_count": 25,
   "metadata": {},
   "outputs": [
    {
     "name": "stdout",
     "output_type": "stream",
     "text": [
      "n 5\n",
      "c Hola\n",
      "l [1, 2, 3, 4, 5]\n"
     ]
    }
   ],
   "source": [
    "dict_ej = {'n': 5, 'c': 'Hola', 'l': [1, 2, 3, 4, 5]}\n",
    "for elt in dict_ej:\n",
    "    print(elt, dict_ej[elt])"
   ]
  },
  {
   "cell_type": "code",
   "execution_count": 26,
   "metadata": {},
   "outputs": [
    {
     "name": "stdout",
     "output_type": "stream",
     "text": [
      "n   5\n",
      "c   Hola\n",
      "l   [1, 2, 3, 4, 5]\n"
     ]
    }
   ],
   "source": [
    "def indeterminados_nombre(**kwargs):\n",
    "    for kwarg in kwargs:\n",
    "        print(kwarg,\" \", kwargs[kwarg])\n",
    "indeterminados_nombre(n=5,c=\"Hola\",l=[1,2,3,4,5])   "
   ]
  },
  {
   "cell_type": "markdown",
   "metadata": {},
   "source": [
    "## Por posición y nombre a la vez\n",
    "Si queremos aceptar ambos tipos de parámetros simultáneamente, entonces debemos crear ambas colecciones dinámicas:"
   ]
  },
  {
   "cell_type": "code",
   "execution_count": 5,
   "metadata": {},
   "outputs": [
    {
     "name": "stdout",
     "output_type": "stream",
     "text": [
      "longitud =  7\n",
      "Suma indeterminado es 390.56\n",
      "nombre   Hector\n",
      "edad   27\n"
     ]
    }
   ],
   "source": [
    "def super_funcion(*args,**kwargs):\n",
    "    t = 0\n",
    "    print('longitud = ', len(args))\n",
    "    for arg in args:\n",
    "        t+=arg\n",
    "    print(\"Suma indeterminado es\", t)\n",
    "    \n",
    "    for kwarg in kwargs:\n",
    "        print(kwarg,\" \", kwargs[kwarg])\n",
    "\n",
    "super_funcion(10,50,-1,1.56,10,20,300,nombre=\"Hector\",edad=27)"
   ]
  },
  {
   "cell_type": "code",
   "execution_count": 3,
   "metadata": {},
   "outputs": [
    {
     "name": "stdout",
     "output_type": "stream",
     "text": [
      "longitud =  8\n",
      "Suma indeterminado es 417.56\n"
     ]
    }
   ],
   "source": [
    "super_funcion(10,50,-1,1.56,10,20,300,27)"
   ]
  },
  {
   "cell_type": "code",
   "execution_count": 6,
   "metadata": {},
   "outputs": [
    {
     "name": "stdout",
     "output_type": "stream",
     "text": [
      "longitud =  7\n",
      "Suma indeterminado es 390.56\n",
      "nombre   Hector\n",
      "edad   27\n"
     ]
    }
   ],
   "source": [
    "super_funcion(10,50,-1,1.56,10,20,300,nombre=\"Hector\",edad=27)"
   ]
  },
  {
   "cell_type": "code",
   "execution_count": 11,
   "metadata": {},
   "outputs": [
    {
     "name": "stdout",
     "output_type": "stream",
     "text": [
      "[[1, 2, 3], [4, 5, 6]]\n",
      "8\n",
      "pepito\n",
      "9\n",
      "valor1 =  0\n",
      "{'musica': 'rock'}\n"
     ]
    }
   ],
   "source": [
    "def funcion_kwars(*args, valor1 = 0, **kwargs):\n",
    "    for arg in args:\n",
    "        print(arg)\n",
    "    \n",
    "    print('valor1 = ', valor1)\n",
    "    \n",
    "    print(kwargs)\n",
    "    \n",
    "funcion_kwars([[1, 2, 3], [4, 5, 6]], 8, 'pepito', 9, musica='rock')"
   ]
  },
  {
   "cell_type": "code",
   "execution_count": null,
   "metadata": {},
   "outputs": [],
   "source": []
  }
 ],
 "metadata": {
  "kernelspec": {
   "display_name": "Python 3 (ipykernel)",
   "language": "python",
   "name": "python3"
  },
  "language_info": {
   "codemirror_mode": {
    "name": "ipython",
    "version": 3
   },
   "file_extension": ".py",
   "mimetype": "text/x-python",
   "name": "python",
   "nbconvert_exporter": "python",
   "pygments_lexer": "ipython3",
   "version": "3.9.7"
  }
 },
 "nbformat": 4,
 "nbformat_minor": 1
}
