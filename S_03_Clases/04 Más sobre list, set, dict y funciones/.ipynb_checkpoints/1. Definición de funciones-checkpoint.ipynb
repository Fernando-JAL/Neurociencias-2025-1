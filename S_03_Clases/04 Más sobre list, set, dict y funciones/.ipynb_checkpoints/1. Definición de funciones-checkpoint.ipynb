{
 "cells": [
  {
   "cell_type": "markdown",
   "id": "5db9a275",
   "metadata": {},
   "source": [
    "# Las funciones\n",
    "Son fragmentos de código que se pueden ejecutar múltiples veces. Pueden recibir y devolver información para comunicarse con el proceso principal.\n",
    "\n",
    "### Definición y llamada"
   ]
  },
  {
   "cell_type": "code",
   "execution_count": 1,
   "id": "ec810b80",
   "metadata": {},
   "outputs": [
    {
     "name": "stdout",
     "output_type": "stream",
     "text": [
      "Hola! Este print se llama desde la función saludar()\n"
     ]
    }
   ],
   "source": [
    "def saludar():\n",
    "    print(\"Hola! Este print se llama desde la función saludar()\")\n",
    "\n",
    "saludar()"
   ]
  },
  {
   "cell_type": "markdown",
   "id": "bd85eae8",
   "metadata": {},
   "source": [
    "#### Dentro de una función podemos utilizar variables y sentencias de control:"
   ]
  },
  {
   "cell_type": "code",
   "execution_count": 8,
   "id": "81e0696d",
   "metadata": {},
   "outputs": [
    {
     "name": "stdout",
     "output_type": "stream",
     "text": [
      "5 * 0 = 0\n",
      "5 * 1 = 5\n",
      "5 * 2 = 10\n",
      "5 * 3 = 15\n",
      "5 * 4 = 20\n",
      "5 * 5 = 25\n",
      "5 * 6 = 30\n",
      "5 * 7 = 35\n",
      "5 * 8 = 40\n",
      "5 * 9 = 45\n"
     ]
    }
   ],
   "source": [
    "def dibujar_tabla_del_5():\n",
    "    for i in range(10):\n",
    "        print(\"5 * {} = {}\".format(i, i*5))\n",
    "\n",
    "dibujar_tabla_del_5()"
   ]
  },
  {
   "cell_type": "markdown",
   "id": "61e25928",
   "metadata": {},
   "source": [
    "### Ámbito de las variables\n",
    "Una variable declarada en una función no existe en la función principal:"
   ]
  },
  {
   "cell_type": "code",
   "execution_count": 9,
   "id": "ff2d6090",
   "metadata": {},
   "outputs": [
    {
     "ename": "NameError",
     "evalue": "name 'n' is not defined",
     "output_type": "error",
     "traceback": [
      "\u001b[1;31m---------------------------------------------------------------------------\u001b[0m",
      "\u001b[1;31mNameError\u001b[0m                                 Traceback (most recent call last)",
      "Input \u001b[1;32mIn [9]\u001b[0m, in \u001b[0;36m<cell line: 5>\u001b[1;34m()\u001b[0m\n\u001b[0;32m      2\u001b[0m     n \u001b[38;5;241m=\u001b[39m \u001b[38;5;241m10\u001b[39m\n\u001b[0;32m      4\u001b[0m test()\n\u001b[1;32m----> 5\u001b[0m \u001b[38;5;28mprint\u001b[39m(\u001b[43mn\u001b[49m)\n",
      "\u001b[1;31mNameError\u001b[0m: name 'n' is not defined"
     ]
    }
   ],
   "source": [
    "def test():\n",
    "    n = 10\n",
    "\n",
    "test()\n",
    "print(n)"
   ]
  },
  {
   "cell_type": "markdown",
   "id": "3a5b6537",
   "metadata": {},
   "source": [
    "#### Sin embargo, una variable declarada fuera de la función (al mismo nivel), sí que es accesible desde la función:"
   ]
  },
  {
   "cell_type": "code",
   "execution_count": 10,
   "id": "a53857a9",
   "metadata": {},
   "outputs": [
    {
     "name": "stdout",
     "output_type": "stream",
     "text": [
      "10\n"
     ]
    }
   ],
   "source": [
    "m = 10\n",
    "def test():\n",
    "    print(m)\n",
    "\n",
    "test()"
   ]
  },
  {
   "cell_type": "markdown",
   "id": "b7ba7cd1",
   "metadata": {},
   "source": [
    "#### Siempre que declaremos la variable antes de la ejecución, podemos acceder a ella desde dentro:"
   ]
  },
  {
   "cell_type": "code",
   "execution_count": 11,
   "id": "9a6afe52",
   "metadata": {},
   "outputs": [
    {
     "name": "stdout",
     "output_type": "stream",
     "text": [
      "10\n"
     ]
    }
   ],
   "source": [
    "def test():\n",
    "    print(l)\n",
    "    \n",
    "l = 10\n",
    "test()"
   ]
  },
  {
   "cell_type": "markdown",
   "id": "8ad93637",
   "metadata": {},
   "source": [
    "#### En el caso que declaremos de nuevo una variable en la función, se creará un copia de la misma que sólo funcionará dentro de la función. \n",
    "### Por tanto *no podemos modificar una variable externa dentro de una función*:"
   ]
  },
  {
   "cell_type": "code",
   "execution_count": 12,
   "id": "8d5ee245",
   "metadata": {},
   "outputs": [
    {
     "name": "stdout",
     "output_type": "stream",
     "text": [
      "1er llamado\n",
      "5\n",
      "2do llamado\n",
      "5\n",
      "10\n"
     ]
    }
   ],
   "source": [
    "def test():\n",
    "    o = 5 # variable que sólo existe dentro de la función\n",
    "    print(o)\n",
    "\n",
    "print('1er llamado')\n",
    "test()\n",
    "\n",
    "\n",
    "print('2do llamado')\n",
    "o=10 # variable externa, no modificable\n",
    "test()\n",
    "print(o)"
   ]
  },
  {
   "cell_type": "markdown",
   "id": "e932cda6",
   "metadata": {},
   "source": [
    "## La instrucción global\n",
    "Para poder modificar una variable externa en la función, debemos indicar que es global de la siguiente forma:"
   ]
  },
  {
   "cell_type": "code",
   "execution_count": 17,
   "id": "49acc929",
   "metadata": {},
   "outputs": [
    {
     "name": "stdout",
     "output_type": "stream",
     "text": [
      "1er llamado\n",
      "5\n",
      "2do llamado\n",
      "5\n",
      "5\n",
      "15\n"
     ]
    }
   ],
   "source": [
    "def test():\n",
    "    global o # variable que hace referencia a la o externa\n",
    "    o = 5\n",
    "    print(o)\n",
    "    \n",
    "print('1er llamado')\n",
    "test()\n",
    "\n",
    "print('2do llamado')\n",
    "o=10\n",
    "test()\n",
    "print(o)\n",
    "o = 15\n",
    "print(o)"
   ]
  },
  {
   "cell_type": "code",
   "execution_count": 15,
   "id": "2476b348",
   "metadata": {},
   "outputs": [
    {
     "data": {
      "text/plain": [
       "5"
      ]
     },
     "execution_count": 15,
     "metadata": {},
     "output_type": "execute_result"
    }
   ],
   "source": [
    "o"
   ]
  },
  {
   "cell_type": "code",
   "execution_count": null,
   "id": "06e621ef",
   "metadata": {},
   "outputs": [],
   "source": []
  }
 ],
 "metadata": {
  "kernelspec": {
   "display_name": "Python 3 (ipykernel)",
   "language": "python",
   "name": "python3"
  },
  "language_info": {
   "codemirror_mode": {
    "name": "ipython",
    "version": 3
   },
   "file_extension": ".py",
   "mimetype": "text/x-python",
   "name": "python",
   "nbconvert_exporter": "python",
   "pygments_lexer": "ipython3",
   "version": "3.9.7"
  }
 },
 "nbformat": 4,
 "nbformat_minor": 5
}
