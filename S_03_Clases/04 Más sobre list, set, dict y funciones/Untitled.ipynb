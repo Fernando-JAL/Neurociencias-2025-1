{
 "cells": [
  {
   "cell_type": "markdown",
   "id": "51a80605",
   "metadata": {},
   "source": [
    "# Ejemplo de función recursiva\n",
    "\n",
    "Sea la función \n",
    "\n",
    "$\\sum_{i = 1}^5 = 1 + \\sum_{i = 2}^5$"
   ]
  },
  {
   "cell_type": "code",
   "execution_count": 1,
   "id": "5d61f091",
   "metadata": {},
   "outputs": [
    {
     "data": {
      "text/plain": [
       "15"
      ]
     },
     "execution_count": 1,
     "metadata": {},
     "output_type": "execute_result"
    }
   ],
   "source": [
    "def ej_recursividad(i):\n",
    "    valor = 0\n",
    "    if i <= 5:\n",
    "        valor += i + ej_recursividad(i+1)\n",
    "    return valor\n",
    "    \n",
    "ej_recursividad(1)"
   ]
  },
  {
   "cell_type": "code",
   "execution_count": 5,
   "id": "b3abe524",
   "metadata": {},
   "outputs": [
    {
     "data": {
      "text/plain": [
       "120"
      ]
     },
     "execution_count": 5,
     "metadata": {},
     "output_type": "execute_result"
    }
   ],
   "source": [
    "# Calular el factorial\n",
    "def factorial(n):\n",
    "    value = 1\n",
    "    if n > 1:\n",
    "        for i in range(1, n+1):\n",
    "            value *= i\n",
    "    return value\n",
    "\n",
    "factorial(5)"
   ]
  },
  {
   "cell_type": "code",
   "execution_count": 6,
   "id": "74864484",
   "metadata": {},
   "outputs": [
    {
     "name": "stdout",
     "output_type": "stream",
     "text": [
      "Introduce un límite5.5\n",
      "Introduce otro límite10\n",
      "Introduce un valor8\n",
      "El valor sí está en el rango\n"
     ]
    }
   ],
   "source": [
    "# checar si el 3er número se encuentra en el rango de los dos primeros\n",
    "lim_1, lim_2 = float(input('Introduce un límite: ')), float(input('Introduce otro límite: '))\n",
    "value = float(input('Introduce un valor: '))\n",
    "\n",
    "lim_inf, lim_sup = min(lim_1, lim_2), max(lim_1, lim_2)\n",
    "if lim_inf <= value <= lim_sup:\n",
    "    print('El valor sí está en el rango')\n",
    "else:\n",
    "    print('El valor no está en el rango')"
   ]
  },
  {
   "cell_type": "code",
   "execution_count": null,
   "id": "5cb0e1c5",
   "metadata": {},
   "outputs": [],
   "source": [
    "# Dos métodos para contar los espacios\n",
    "string = input('Introduce una cadena: ')\n",
    "\n",
    "num_spaces = 0\n",
    "for letter in string:\n",
    "    if letter == ' ':\n",
    "        num_spaces += 1\n",
    "print('El número de espacioes es ', num_spaces)\n",
    "\n",
    "print('El número de espacioes es ', num_spaces.count(' '))"
   ]
  },
  {
   "cell_type": "code",
   "execution_count": null,
   "id": "12763b56",
   "metadata": {},
   "outputs": [],
   "source": [
    "# "
   ]
  }
 ],
 "metadata": {
  "kernelspec": {
   "display_name": "Python 3 (ipykernel)",
   "language": "python",
   "name": "python3"
  },
  "language_info": {
   "codemirror_mode": {
    "name": "ipython",
    "version": 3
   },
   "file_extension": ".py",
   "mimetype": "text/x-python",
   "name": "python",
   "nbconvert_exporter": "python",
   "pygments_lexer": "ipython3",
   "version": "3.9.7"
  }
 },
 "nbformat": 4,
 "nbformat_minor": 5
}
