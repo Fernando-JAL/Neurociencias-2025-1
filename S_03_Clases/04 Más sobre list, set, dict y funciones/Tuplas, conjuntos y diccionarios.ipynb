{
 "cells": [
  {
   "cell_type": "code",
   "execution_count": 1,
   "id": "e4362b69",
   "metadata": {},
   "outputs": [
    {
     "data": {
      "text/plain": [
       "[1, 2, 3]"
      ]
     },
     "execution_count": 1,
     "metadata": {},
     "output_type": "execute_result"
    }
   ],
   "source": [
    "list_ej = [1, 2, 3]\n",
    "list_ej"
   ]
  },
  {
   "cell_type": "code",
   "execution_count": 2,
   "id": "e65f600d",
   "metadata": {},
   "outputs": [
    {
     "data": {
      "text/plain": [
       "[1, 2, 3, 'casa']"
      ]
     },
     "execution_count": 2,
     "metadata": {},
     "output_type": "execute_result"
    }
   ],
   "source": [
    "list_ej.append('casa')\n",
    "list_ej"
   ]
  },
  {
   "cell_type": "markdown",
   "id": "dba42850",
   "metadata": {},
   "source": [
    "# Las Tuplas\n",
    "Son unas colecciones parecidas a las listas, con la peculiaridad de que son inmutables."
   ]
  },
  {
   "cell_type": "code",
   "execution_count": 11,
   "id": "b8bfbd6b",
   "metadata": {},
   "outputs": [
    {
     "data": {
      "text/plain": [
       "('casa',)"
      ]
     },
     "execution_count": 11,
     "metadata": {},
     "output_type": "execute_result"
    }
   ],
   "source": [
    "tuple_1elt = ('casa', )\n",
    "tuple_1elt"
   ]
  },
  {
   "cell_type": "code",
   "execution_count": 12,
   "id": "1889bfaa",
   "metadata": {},
   "outputs": [
    {
     "data": {
      "text/plain": [
       "tuple"
      ]
     },
     "execution_count": 12,
     "metadata": {},
     "output_type": "execute_result"
    }
   ],
   "source": [
    "type(tuple_1elt)"
   ]
  },
  {
   "cell_type": "code",
   "execution_count": 13,
   "id": "fd798fb4",
   "metadata": {},
   "outputs": [],
   "source": [
    "tupla = (100, \"Hola\", [1,2,3], 'verde', -50, \"Hola\")"
   ]
  },
  {
   "cell_type": "code",
   "execution_count": 17,
   "id": "0a35ede9",
   "metadata": {},
   "outputs": [
    {
     "data": {
      "text/plain": [
       "-50"
      ]
     },
     "execution_count": 17,
     "metadata": {},
     "output_type": "execute_result"
    }
   ],
   "source": [
    "# Indexing\n",
    "tupla[-2]"
   ]
  },
  {
   "cell_type": "code",
   "execution_count": 18,
   "id": "20b28184",
   "metadata": {},
   "outputs": [
    {
     "data": {
      "text/plain": [
       "3"
      ]
     },
     "execution_count": 18,
     "metadata": {},
     "output_type": "execute_result"
    }
   ],
   "source": [
    "# Slicing\n",
    "tupla[2][-1]"
   ]
  },
  {
   "cell_type": "code",
   "execution_count": 19,
   "id": "a5cfa894",
   "metadata": {},
   "outputs": [
    {
     "ename": "TypeError",
     "evalue": "'tuple' object does not support item assignment",
     "output_type": "error",
     "traceback": [
      "\u001b[1;31m---------------------------------------------------------------------------\u001b[0m",
      "\u001b[1;31mTypeError\u001b[0m                                 Traceback (most recent call last)",
      "Input \u001b[1;32mIn [19]\u001b[0m, in \u001b[0;36m<cell line: 2>\u001b[1;34m()\u001b[0m\n\u001b[0;32m      1\u001b[0m \u001b[38;5;66;03m# Inmutabilidad\u001b[39;00m\n\u001b[1;32m----> 2\u001b[0m tupla[\u001b[38;5;241m0\u001b[39m] \u001b[38;5;241m=\u001b[39m \u001b[38;5;241m50\u001b[39m\n",
      "\u001b[1;31mTypeError\u001b[0m: 'tuple' object does not support item assignment"
     ]
    }
   ],
   "source": [
    "# Inmutabilidad\n",
    "tupla[0] = 50"
   ]
  },
  {
   "cell_type": "markdown",
   "id": "02f957df",
   "metadata": {},
   "source": [
    "## Métodos integrados\n",
    "### index()\n",
    "Sirve para buscar un elemento y saber su posición en la tupla. Da error si no se encuentra."
   ]
  },
  {
   "cell_type": "code",
   "execution_count": 20,
   "id": "6cdc6d0c",
   "metadata": {},
   "outputs": [
    {
     "data": {
      "text/plain": [
       "(100, 'Hola', [1, 2, 3], 'verde', -50, 'Hola')"
      ]
     },
     "execution_count": 20,
     "metadata": {},
     "output_type": "execute_result"
    }
   ],
   "source": [
    "tupla"
   ]
  },
  {
   "cell_type": "code",
   "execution_count": 21,
   "id": "6bf9c2dc",
   "metadata": {},
   "outputs": [
    {
     "data": {
      "text/plain": [
       "4"
      ]
     },
     "execution_count": 21,
     "metadata": {},
     "output_type": "execute_result"
    }
   ],
   "source": [
    "tupla.index(-50)"
   ]
  },
  {
   "cell_type": "code",
   "execution_count": 22,
   "id": "fcefa0a4",
   "metadata": {},
   "outputs": [
    {
     "data": {
      "text/plain": [
       "3"
      ]
     },
     "execution_count": 22,
     "metadata": {},
     "output_type": "execute_result"
    }
   ],
   "source": [
    "tupla.index('verde')"
   ]
  },
  {
   "cell_type": "code",
   "execution_count": 23,
   "id": "9212b5c9",
   "metadata": {},
   "outputs": [
    {
     "ename": "ValueError",
     "evalue": "tuple.index(x): x not in tuple",
     "output_type": "error",
     "traceback": [
      "\u001b[1;31m---------------------------------------------------------------------------\u001b[0m",
      "\u001b[1;31mValueError\u001b[0m                                Traceback (most recent call last)",
      "Input \u001b[1;32mIn [23]\u001b[0m, in \u001b[0;36m<cell line: 1>\u001b[1;34m()\u001b[0m\n\u001b[1;32m----> 1\u001b[0m \u001b[43mtupla\u001b[49m\u001b[38;5;241;43m.\u001b[39;49m\u001b[43mindex\u001b[49m\u001b[43m(\u001b[49m\u001b[38;5;124;43m'\u001b[39;49m\u001b[38;5;124;43mOtro\u001b[39;49m\u001b[38;5;124;43m'\u001b[39;49m\u001b[43m)\u001b[49m\n",
      "\u001b[1;31mValueError\u001b[0m: tuple.index(x): x not in tuple"
     ]
    }
   ],
   "source": [
    "tupla.index('Otro')"
   ]
  },
  {
   "cell_type": "markdown",
   "id": "98dcab30",
   "metadata": {},
   "source": [
    "### count()\n",
    "Sirve para contar cuantas veces aparece un elemento en una tupla."
   ]
  },
  {
   "cell_type": "code",
   "execution_count": 25,
   "id": "604c8dd9",
   "metadata": {},
   "outputs": [
    {
     "data": {
      "text/plain": [
       "(100, 'Hola', [1, 2, 3], 'verde', -50, 'Hola')"
      ]
     },
     "execution_count": 25,
     "metadata": {},
     "output_type": "execute_result"
    }
   ],
   "source": [
    "tupla"
   ]
  },
  {
   "cell_type": "code",
   "execution_count": 24,
   "id": "52e4db1c",
   "metadata": {},
   "outputs": [
    {
     "data": {
      "text/plain": [
       "2"
      ]
     },
     "execution_count": 24,
     "metadata": {},
     "output_type": "execute_result"
    }
   ],
   "source": [
    "tupla.count('Hola')"
   ]
  },
  {
   "cell_type": "code",
   "execution_count": 29,
   "id": "1af5f12a",
   "metadata": {},
   "outputs": [
    {
     "data": {
      "text/plain": [
       "(100, 'Hola', [1, 2, 3], 'verde', -50, 'Hola', 'adio', 'azul')"
      ]
     },
     "execution_count": 29,
     "metadata": {},
     "output_type": "execute_result"
    }
   ],
   "source": [
    "# Recuerdese que para agregar un valor a una tupla, se concatena con +\n",
    "# Hacer ejemplos\n",
    "tupla2 = ('adio', 'azul')\n",
    "joined_tuple = tupla + tupla2\n",
    "joined_tuple"
   ]
  },
  {
   "cell_type": "code",
   "execution_count": 36,
   "id": "bed40839",
   "metadata": {},
   "outputs": [
    {
     "data": {
      "text/plain": [
       "(100, 'Hola', [1, 2, 3], 'verde', -50, 'Hola', 'adio', 'azul')"
      ]
     },
     "execution_count": 36,
     "metadata": {},
     "output_type": "execute_result"
    }
   ],
   "source": [
    "joined_tuple\n",
    "\n",
    "# agregar el elemento ('casita', -8.2) después de 'verde' y antes de -50\n",
    "# agregar el elemento ('amarillo', ) después de 'Hola' y antes de 'adio'"
   ]
  },
  {
   "cell_type": "code",
   "execution_count": 38,
   "id": "658e4a39",
   "metadata": {},
   "outputs": [
    {
     "data": {
      "text/plain": [
       "(100,\n",
       " 'Hola',\n",
       " [1, 2, 3],\n",
       " 'verde',\n",
       " 'casita',\n",
       " -8.2,\n",
       " -50,\n",
       " 'Hola',\n",
       " 'amarillo',\n",
       " 'adio',\n",
       " 'azul')"
      ]
     },
     "execution_count": 38,
     "metadata": {},
     "output_type": "execute_result"
    }
   ],
   "source": [
    "id_verde = joined_tuple.index('verde')\n",
    "\n",
    "new_tuple1 = joined_tuple[:id_verde+1] + ('casita', -8.2) + joined_tuple[id_verde+1:]\n",
    "\n",
    "new_tuple2 = new_tuple1[:-3+1] + ('amarillo', ) + new_tuple1[-2:]\n",
    "new_tuple2"
   ]
  },
  {
   "cell_type": "markdown",
   "id": "f47aa282",
   "metadata": {},
   "source": [
    "# Los conjuntos\n",
    "Son colecciones desordenadas de elementos únicos utilizados para hacer pruebas de pertenencia a grupos y eliminación de elementos duplicados."
   ]
  },
  {
   "cell_type": "code",
   "execution_count": 42,
   "id": "6a72e7d6",
   "metadata": {},
   "outputs": [
    {
     "data": {
      "text/plain": [
       "{1, 2, 3}"
      ]
     },
     "execution_count": 42,
     "metadata": {},
     "output_type": "execute_result"
    }
   ],
   "source": [
    "conjunto1 = {1,2,3}\n",
    "conjunto1"
   ]
  },
  {
   "cell_type": "code",
   "execution_count": 41,
   "id": "1a33fc62",
   "metadata": {},
   "outputs": [
    {
     "data": {
      "text/plain": [
       "set()"
      ]
     },
     "execution_count": 41,
     "metadata": {},
     "output_type": "execute_result"
    }
   ],
   "source": [
    "conjunto2 = set()\n",
    "conjunto2"
   ]
  },
  {
   "cell_type": "markdown",
   "id": "3a186780",
   "metadata": {},
   "source": [
    "### Método add()\n",
    "Sirve para añadir elementos al conjunto. Si un elemento ya se encuentra, no se añadirá de nuevo."
   ]
  },
  {
   "cell_type": "code",
   "execution_count": 44,
   "id": "12aa0510",
   "metadata": {},
   "outputs": [
    {
     "data": {
      "text/plain": [
       "{1, 2, 3, 4}"
      ]
     },
     "execution_count": 44,
     "metadata": {},
     "output_type": "execute_result"
    }
   ],
   "source": [
    "conjunto1.add(4)\n",
    "conjunto1"
   ]
  },
  {
   "cell_type": "code",
   "execution_count": 49,
   "id": "e4ccbc73",
   "metadata": {},
   "outputs": [
    {
     "data": {
      "text/plain": [
       "{0, 1, 2, 3, 4, 'casa', 'cosa', 'osa'}"
      ]
     },
     "execution_count": 49,
     "metadata": {},
     "output_type": "execute_result"
    }
   ],
   "source": [
    "conjunto1.add('casa')\n",
    "conjunto1.add('cosa')\n",
    "conjunto1.add('osa')\n",
    "conjunto1"
   ]
  },
  {
   "cell_type": "markdown",
   "id": "df1fbcd7",
   "metadata": {},
   "source": [
    "### Colecciones desordenadas\n",
    "Se dice que son desordenados porque gestionan automáticamente la posición de sus elementos, en lugar de conservarlos en la posición que nosotros los añadimos."
   ]
  },
  {
   "cell_type": "code",
   "execution_count": 51,
   "id": "9b3d71cd",
   "metadata": {},
   "outputs": [
    {
     "data": {
      "text/plain": [
       "{0, 1, 2, 3, 4, 5, 'A', 'Z', 'casa', 'cosa', 'osa'}"
      ]
     },
     "execution_count": 51,
     "metadata": {},
     "output_type": "execute_result"
    }
   ],
   "source": [
    "conjunto1.add('A')\n",
    "conjunto1.add('Z')\n",
    "conjunto1.add(5)\n",
    "conjunto1"
   ]
  },
  {
   "cell_type": "markdown",
   "id": "82d8bbd4",
   "metadata": {},
   "source": [
    "### Método remove()\n",
    "Sirve para eliminar elementos al conjunto."
   ]
  },
  {
   "cell_type": "code",
   "execution_count": 52,
   "id": "fb1ab751",
   "metadata": {},
   "outputs": [
    {
     "data": {
      "text/plain": [
       "{0, 1, 2, 3, 5, 'A', 'Z', 'casa', 'cosa', 'osa'}"
      ]
     },
     "execution_count": 52,
     "metadata": {},
     "output_type": "execute_result"
    }
   ],
   "source": [
    "conjunto1.remove(4)\n",
    "conjunto1"
   ]
  },
  {
   "cell_type": "code",
   "execution_count": 53,
   "id": "a8f24de0",
   "metadata": {},
   "outputs": [
    {
     "ename": "KeyError",
     "evalue": "'azul'",
     "output_type": "error",
     "traceback": [
      "\u001b[1;31m---------------------------------------------------------------------------\u001b[0m",
      "\u001b[1;31mKeyError\u001b[0m                                  Traceback (most recent call last)",
      "Input \u001b[1;32mIn [53]\u001b[0m, in \u001b[0;36m<cell line: 1>\u001b[1;34m()\u001b[0m\n\u001b[1;32m----> 1\u001b[0m \u001b[43mconjunto1\u001b[49m\u001b[38;5;241;43m.\u001b[39;49m\u001b[43mremove\u001b[49m\u001b[43m(\u001b[49m\u001b[38;5;124;43m'\u001b[39;49m\u001b[38;5;124;43mazul\u001b[39;49m\u001b[38;5;124;43m'\u001b[39;49m\u001b[43m)\u001b[49m\n",
      "\u001b[1;31mKeyError\u001b[0m: 'azul'"
     ]
    }
   ],
   "source": [
    "conjunto1.remove('azul')"
   ]
  },
  {
   "cell_type": "markdown",
   "id": "7a34751c",
   "metadata": {},
   "source": [
    "# Los diccionarios\n",
    "Son junto a las listas las colecciones más utilizadas. Se basan en una estructura mapeada donde cada elemento de la colección se encuentra identificado con una clave única. Por tanto, no puede haber dos claves iguales. En otros lenguajes se conocen como arreglos asociativos."
   ]
  },
  {
   "cell_type": "code",
   "execution_count": 54,
   "id": "1e841a3b",
   "metadata": {},
   "outputs": [
    {
     "data": {
      "text/plain": [
       "{}"
      ]
     },
     "execution_count": 54,
     "metadata": {},
     "output_type": "execute_result"
    }
   ],
   "source": [
    "empty_dict = {}\n",
    "empty_dict"
   ]
  },
  {
   "cell_type": "code",
   "execution_count": 55,
   "id": "6e7a6d97",
   "metadata": {},
   "outputs": [
    {
     "data": {
      "text/plain": [
       "dict"
      ]
     },
     "execution_count": 55,
     "metadata": {},
     "output_type": "execute_result"
    }
   ],
   "source": [
    "type(empty_dict)"
   ]
  },
  {
   "cell_type": "code",
   "execution_count": 57,
   "id": "843f0e55",
   "metadata": {},
   "outputs": [
    {
     "data": {
      "text/plain": [
       "{'amarillo': 'yellow', 'azul': 'blue'}"
      ]
     },
     "execution_count": 57,
     "metadata": {},
     "output_type": "execute_result"
    }
   ],
   "source": [
    "colores = {'amarillo':'yellow','azul':'blue'}\n",
    "colores"
   ]
  },
  {
   "cell_type": "code",
   "execution_count": 58,
   "id": "0d8d4e35",
   "metadata": {},
   "outputs": [
    {
     "data": {
      "text/plain": [
       "'yellow'"
      ]
     },
     "execution_count": 58,
     "metadata": {},
     "output_type": "execute_result"
    }
   ],
   "source": [
    "colores['amarillo']"
   ]
  },
  {
   "cell_type": "markdown",
   "id": "3d905fc8",
   "metadata": {},
   "source": [
    "### Para agregar algún elemento"
   ]
  },
  {
   "cell_type": "code",
   "execution_count": 60,
   "id": "51753809",
   "metadata": {},
   "outputs": [
    {
     "data": {
      "text/plain": [
       "{'amarillo': 'yellow', 'azul': 'blue', 'verde': 'green'}"
      ]
     },
     "execution_count": 60,
     "metadata": {},
     "output_type": "execute_result"
    }
   ],
   "source": [
    "colores['verde'] = 'green'\n",
    "colores"
   ]
  },
  {
   "cell_type": "markdown",
   "id": "bb33898f",
   "metadata": {},
   "source": [
    "### Modificación de valor a partir de la clave"
   ]
  },
  {
   "cell_type": "code",
   "execution_count": 61,
   "id": "5fa56a3a",
   "metadata": {},
   "outputs": [
    {
     "data": {
      "text/plain": [
       "{'amarillo': 'white', 'azul': 'blue', 'verde': 'green'}"
      ]
     },
     "execution_count": 61,
     "metadata": {},
     "output_type": "execute_result"
    }
   ],
   "source": [
    "colores['amarillo'] = 'white'\n",
    "colores"
   ]
  },
  {
   "cell_type": "code",
   "execution_count": 62,
   "id": "e18e9091",
   "metadata": {},
   "outputs": [
    {
     "data": {
      "text/plain": [
       "{'key1': 5, 'key2': 'value', 'key3': [1, 2, 'cosa'], 'key4': 9}"
      ]
     },
     "execution_count": 62,
     "metadata": {},
     "output_type": "execute_result"
    }
   ],
   "source": [
    "dict_ej = {'key1': 5, 'key2': 'value', 'key3': [1, 2, 'cosa'], 'key4': 9}\n",
    "dict_ej"
   ]
  },
  {
   "cell_type": "code",
   "execution_count": 63,
   "id": "7d24e60f",
   "metadata": {},
   "outputs": [
    {
     "data": {
      "text/plain": [
       "{'key1': 5,\n",
       " 'key2': 'value',\n",
       " 'key3': [1, 2, 'cosa'],\n",
       " 'key4': 9,\n",
       " 23: {'key21': 'value2'}}"
      ]
     },
     "execution_count": 63,
     "metadata": {},
     "output_type": "execute_result"
    }
   ],
   "source": [
    "dict_ej[23] = {'key21': 'value2'}\n",
    "dict_ej"
   ]
  },
  {
   "cell_type": "code",
   "execution_count": 78,
   "id": "d9b9185c",
   "metadata": {},
   "outputs": [
    {
     "data": {
      "text/plain": [
       "19"
      ]
     },
     "execution_count": 78,
     "metadata": {},
     "output_type": "execute_result"
    }
   ],
   "source": [
    "dict_ej['key4']+ 10"
   ]
  },
  {
   "cell_type": "code",
   "execution_count": 64,
   "id": "66e49ed0",
   "metadata": {},
   "outputs": [
    {
     "data": {
      "text/plain": [
       "{'nombre': ['ximena', 'leo'],\n",
       " 'apellido': ['no sé', 'tampoco sé'],\n",
       " 'calif': [6, 3]}"
      ]
     },
     "execution_count": 64,
     "metadata": {},
     "output_type": "execute_result"
    }
   ],
   "source": [
    "dict_ej2 = {'nombre': ['ximena', 'leo'], 'apellido': ['no sé', 'tampoco sé'], 'calif': [6, 3]}\n",
    "dict_ej2"
   ]
  },
  {
   "cell_type": "markdown",
   "id": "6d34a890",
   "metadata": {},
   "source": [
    "### Función del()\n",
    "Sirve para borrar un elemento del diccionario."
   ]
  },
  {
   "cell_type": "code",
   "execution_count": 65,
   "id": "f913edf4",
   "metadata": {},
   "outputs": [
    {
     "data": {
      "text/plain": [
       "{'amarillo': 'white', 'azul': 'blue', 'verde': 'green'}"
      ]
     },
     "execution_count": 65,
     "metadata": {},
     "output_type": "execute_result"
    }
   ],
   "source": [
    "colores"
   ]
  },
  {
   "cell_type": "code",
   "execution_count": 66,
   "id": "1a69c45f",
   "metadata": {},
   "outputs": [],
   "source": [
    "del(colores['amarillo'])"
   ]
  },
  {
   "cell_type": "code",
   "execution_count": 67,
   "id": "0ea84b8c",
   "metadata": {},
   "outputs": [
    {
     "data": {
      "text/plain": [
       "{'azul': 'blue', 'verde': 'green'}"
      ]
     },
     "execution_count": 67,
     "metadata": {},
     "output_type": "execute_result"
    }
   ],
   "source": [
    "colores"
   ]
  },
  {
   "cell_type": "markdown",
   "id": "f06033f1",
   "metadata": {},
   "source": [
    "### Trabajando directamente con registros"
   ]
  },
  {
   "cell_type": "code",
   "execution_count": 79,
   "id": "649ea078",
   "metadata": {},
   "outputs": [
    {
     "data": {
      "text/plain": [
       "{'Hector': 27, 'Juan': 45, 'Maria': 34}"
      ]
     },
     "execution_count": 79,
     "metadata": {},
     "output_type": "execute_result"
    }
   ],
   "source": [
    "edades = {'Hector':27,'Juan':45,'Maria':34}\n",
    "edades"
   ]
  },
  {
   "cell_type": "code",
   "execution_count": 69,
   "id": "385f4e40",
   "metadata": {},
   "outputs": [
    {
     "data": {
      "text/plain": [
       "{'Hector': 28, 'Juan': 45, 'Maria': 34}"
      ]
     },
     "execution_count": 69,
     "metadata": {},
     "output_type": "execute_result"
    }
   ],
   "source": [
    "edades['Hector'] += 1\n",
    "edades"
   ]
  },
  {
   "cell_type": "code",
   "execution_count": 80,
   "id": "1628ed26",
   "metadata": {},
   "outputs": [
    {
     "data": {
      "text/plain": [
       "45"
      ]
     },
     "execution_count": 80,
     "metadata": {},
     "output_type": "execute_result"
    }
   ],
   "source": [
    "edades['Juan']"
   ]
  },
  {
   "cell_type": "code",
   "execution_count": 81,
   "id": "a7c61ebb",
   "metadata": {},
   "outputs": [
    {
     "data": {
      "text/plain": [
       "34"
      ]
     },
     "execution_count": 81,
     "metadata": {},
     "output_type": "execute_result"
    }
   ],
   "source": [
    "edades['Maria']"
   ]
  },
  {
   "cell_type": "code",
   "execution_count": 82,
   "id": "a032a5c9",
   "metadata": {},
   "outputs": [
    {
     "data": {
      "text/plain": [
       "79"
      ]
     },
     "execution_count": 82,
     "metadata": {},
     "output_type": "execute_result"
    }
   ],
   "source": [
    "edades['Juan'] + edades['Maria']"
   ]
  },
  {
   "cell_type": "markdown",
   "id": "7d1eee16",
   "metadata": {},
   "source": [
    "## Lectura secuencial con for .. in ..\n",
    "Es posible utilizar una iteraciín for para recorrer los elementos del diccionario:"
   ]
  },
  {
   "cell_type": "code",
   "execution_count": 83,
   "id": "af35ba3d",
   "metadata": {},
   "outputs": [
    {
     "data": {
      "text/plain": [
       "{'Hector': 27, 'Juan': 45, 'Maria': 34}"
      ]
     },
     "execution_count": 83,
     "metadata": {},
     "output_type": "execute_result"
    }
   ],
   "source": [
    "edades"
   ]
  },
  {
   "cell_type": "code",
   "execution_count": 84,
   "id": "6f3f302d",
   "metadata": {},
   "outputs": [
    {
     "name": "stdout",
     "output_type": "stream",
     "text": [
      "Hector\n",
      "Juan\n",
      "Maria\n"
     ]
    }
   ],
   "source": [
    "for edad in edades:\n",
    "    print(edad)"
   ]
  },
  {
   "cell_type": "code",
   "execution_count": 86,
   "id": "fecc53e8",
   "metadata": {},
   "outputs": [
    {
     "data": {
      "text/plain": [
       "{'nombre': ['ximena', 'leo'],\n",
       " 'apellido': ['no sé', 'tampoco sé'],\n",
       " 'calif': [6, 3]}"
      ]
     },
     "execution_count": 86,
     "metadata": {},
     "output_type": "execute_result"
    }
   ],
   "source": [
    "dict_ej2"
   ]
  },
  {
   "cell_type": "code",
   "execution_count": 89,
   "id": "cf11ca17",
   "metadata": {},
   "outputs": [
    {
     "data": {
      "text/plain": [
       "['ximena', 'leo']"
      ]
     },
     "execution_count": 89,
     "metadata": {},
     "output_type": "execute_result"
    }
   ],
   "source": [
    "dict_ej2['nombre']"
   ]
  },
  {
   "cell_type": "code",
   "execution_count": 85,
   "id": "8d541f01",
   "metadata": {},
   "outputs": [
    {
     "name": "stdout",
     "output_type": "stream",
     "text": [
      "nombre\n",
      "apellido\n",
      "calif\n"
     ]
    }
   ],
   "source": [
    "# Hacer ejemplos\n",
    "for key in dict_ej2:\n",
    "    print(key)"
   ]
  },
  {
   "cell_type": "code",
   "execution_count": 90,
   "id": "6c7ddeda",
   "metadata": {},
   "outputs": [
    {
     "name": "stdout",
     "output_type": "stream",
     "text": [
      "nombre ['ximena', 'leo']\n",
      "apellido ['no sé', 'tampoco sé']\n",
      "calif [6, 3]\n"
     ]
    }
   ],
   "source": [
    "# Hacer ejemplos\n",
    "for key in dict_ej2:\n",
    "    print(key, dict_ej2[key])"
   ]
  },
  {
   "cell_type": "markdown",
   "id": "8cb285ad",
   "metadata": {},
   "source": [
    "### El método .items()\n",
    "Nos facilita la lectura en clave y valor de los elementos porque devuelve ambos valores en cada iteración automáticamente:"
   ]
  },
  {
   "cell_type": "code",
   "execution_count": 94,
   "id": "78d8b99a",
   "metadata": {},
   "outputs": [
    {
     "name": "stdout",
     "output_type": "stream",
     "text": [
      "('nombre', ['ximena', 'leo'])\n",
      "('apellido', ['no sé', 'tampoco sé'])\n",
      "('calif', [6, 3])\n"
     ]
    }
   ],
   "source": [
    "for key, value in dict_ej2.items():\n",
    "    print(key)"
   ]
  },
  {
   "cell_type": "code",
   "execution_count": 95,
   "id": "a2cfa2ba",
   "metadata": {},
   "outputs": [
    {
     "data": {
      "text/plain": [
       "(5, 8)"
      ]
     },
     "execution_count": 95,
     "metadata": {},
     "output_type": "execute_result"
    }
   ],
   "source": [
    "tupla2elts = (5, 8)\n",
    "tupla2elts"
   ]
  },
  {
   "cell_type": "code",
   "execution_count": 96,
   "id": "7f62cbcc",
   "metadata": {},
   "outputs": [
    {
     "name": "stdout",
     "output_type": "stream",
     "text": [
      "5\n",
      "8\n"
     ]
    }
   ],
   "source": [
    "val1, val2 = tupla2elts\n",
    "print(val1)\n",
    "print(val2)"
   ]
  }
 ],
 "metadata": {
  "kernelspec": {
   "display_name": "Python 3 (ipykernel)",
   "language": "python",
   "name": "python3"
  },
  "language_info": {
   "codemirror_mode": {
    "name": "ipython",
    "version": 3
   },
   "file_extension": ".py",
   "mimetype": "text/x-python",
   "name": "python",
   "nbconvert_exporter": "python",
   "pygments_lexer": "ipython3",
   "version": "3.9.7"
  }
 },
 "nbformat": 4,
 "nbformat_minor": 5
}
