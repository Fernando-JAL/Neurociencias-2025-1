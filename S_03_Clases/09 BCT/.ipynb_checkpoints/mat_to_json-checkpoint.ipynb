{
 "cells": [
  {
   "cell_type": "code",
   "execution_count": 1,
   "id": "853b62a9",
   "metadata": {},
   "outputs": [],
   "source": [
    "import scipy.io"
   ]
  },
  {
   "cell_type": "code",
   "execution_count": 2,
   "id": "4f567f9f",
   "metadata": {},
   "outputs": [],
   "source": [
    "mat_path = r\"../../BCT/BCT/2019_03_03_BCT/data_and_demos/Coactivation_matrix.mat\""
   ]
  },
  {
   "cell_type": "code",
   "execution_count": 3,
   "id": "09a4a0b6",
   "metadata": {},
   "outputs": [],
   "source": [
    "mat_json = scipy.io.loadmat(mat_path)"
   ]
  },
  {
   "cell_type": "code",
   "execution_count": 4,
   "id": "adc20715",
   "metadata": {},
   "outputs": [
    {
     "data": {
      "text/plain": [
       "{'Coactivation_matrix': array([[0.        , 0.16071429, 0.11148649, ..., 0.        , 0.05045872,\n",
       "         0.1011236 ],\n",
       "        [0.16071429, 0.        , 0.06825939, ..., 0.        , 0.        ,\n",
       "         0.06923077],\n",
       "        [0.11148649, 0.06825939, 0.        , ..., 0.03412969, 0.        ,\n",
       "         0.        ],\n",
       "        ...,\n",
       "        [0.        , 0.        , 0.03412969, ..., 0.        , 0.        ,\n",
       "         0.        ],\n",
       "        [0.05045872, 0.        , 0.        , ..., 0.        , 0.        ,\n",
       "         0.09777778],\n",
       "        [0.1011236 , 0.06923077, 0.        , ..., 0.        , 0.09777778,\n",
       "         0.        ]]),\n",
       " 'Coord': array([[ 7.24363636, 37.01090909,  9.42545455],\n",
       "        [ 7.98653199, 46.22222222, 15.60942761],\n",
       "        [ 7.55725191, 33.83206107, 23.51145038],\n",
       "        ...,\n",
       "        [-4.92385787, 15.31979695, 27.73604061],\n",
       "        [-6.27312775, 34.70484581, -5.09251101],\n",
       "        [-4.53874539, 46.53874539,  3.06273063]])}"
      ]
     },
     "execution_count": 4,
     "metadata": {},
     "output_type": "execute_result"
    }
   ],
   "source": [
    "mat_dict = {k:v for k, v in mat_json.items() if k[0] != '_'}\n",
    "mat_dict"
   ]
  },
  {
   "cell_type": "code",
   "execution_count": 5,
   "id": "41d96414",
   "metadata": {},
   "outputs": [
    {
     "data": {
      "text/plain": [
       "dict_keys(['Coactivation_matrix', 'Coord'])"
      ]
     },
     "execution_count": 5,
     "metadata": {},
     "output_type": "execute_result"
    }
   ],
   "source": [
    "mat_dict.keys()"
   ]
  },
  {
   "cell_type": "code",
   "execution_count": 6,
   "id": "efb942c2",
   "metadata": {},
   "outputs": [
    {
     "name": "stdout",
     "output_type": "stream",
     "text": [
      "(638, 638) 2\n",
      "(638, 3) 2\n"
     ]
    }
   ],
   "source": [
    "for key in mat_dict.keys():\n",
    "    print(mat_dict[key].shape, mat_dict[key].ndim)"
   ]
  }
 ],
 "metadata": {
  "kernelspec": {
   "display_name": "Python 3 (ipykernel)",
   "language": "python",
   "name": "python3"
  },
  "language_info": {
   "codemirror_mode": {
    "name": "ipython",
    "version": 3
   },
   "file_extension": ".py",
   "mimetype": "text/x-python",
   "name": "python",
   "nbconvert_exporter": "python",
   "pygments_lexer": "ipython3",
   "version": "3.9.7"
  }
 },
 "nbformat": 4,
 "nbformat_minor": 5
}
