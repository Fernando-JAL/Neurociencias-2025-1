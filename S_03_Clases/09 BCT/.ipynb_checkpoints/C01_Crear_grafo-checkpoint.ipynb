{
 "cells": [
  {
   "cell_type": "markdown",
   "id": "cc3f17de",
   "metadata": {},
   "source": [
    "# Creación de grafos\n",
    "\n",
    "#### Documentación de grafos usando networkx\n",
    "\n",
    "Véase [documentación](https://networkx.org/documentation/stable/reference/classes/graph.html)\n"
   ]
  },
  {
   "cell_type": "code",
   "execution_count": 2,
   "id": "a48612de",
   "metadata": {},
   "outputs": [],
   "source": [
    "import networkx as nx"
   ]
  },
  {
   "cell_type": "code",
   "execution_count": 3,
   "id": "4420e3c2",
   "metadata": {},
   "outputs": [],
   "source": [
    "# Se crea un gráfico vacío\n",
    "G = nx.Graph()"
   ]
  },
  {
   "cell_type": "code",
   "execution_count": 6,
   "id": "b20b87e5",
   "metadata": {},
   "outputs": [
    {
     "data": {
      "text/plain": [
       "NodeView(())"
      ]
     },
     "execution_count": 6,
     "metadata": {},
     "output_type": "execute_result"
    }
   ],
   "source": [
    "# Muestra los nodos\n",
    "G.nodes()"
   ]
  },
  {
   "cell_type": "code",
   "execution_count": 9,
   "id": "ce9c201b",
   "metadata": {},
   "outputs": [
    {
     "data": {
      "text/plain": [
       "EdgeView([])"
      ]
     },
     "execution_count": 9,
     "metadata": {},
     "output_type": "execute_result"
    }
   ],
   "source": [
    "# Muestra los nodos\n",
    "G.edges()"
   ]
  },
  {
   "cell_type": "code",
   "execution_count": 10,
   "id": "1823bdc7",
   "metadata": {},
   "outputs": [],
   "source": [
    "# Agregando un nodo\n",
    "G.add_node('A')"
   ]
  },
  {
   "cell_type": "code",
   "execution_count": 13,
   "id": "9381ad58",
   "metadata": {},
   "outputs": [],
   "source": [
    "# Agregando nodos con una lista\n",
    "G.add_nodes_from(['B', 'C', 'D', 'E'])"
   ]
  },
  {
   "cell_type": "code",
   "execution_count": 15,
   "id": "5c08a16e",
   "metadata": {},
   "outputs": [],
   "source": [
    "# Agregar arista\n",
    "G.add_edge('A', 'B')"
   ]
  },
  {
   "cell_type": "code",
   "execution_count": 17,
   "id": "0be8a55e",
   "metadata": {},
   "outputs": [],
   "source": [
    "G.add_edges_from([('B', 'C'), ('C', 'A'), ('D', 'E')])"
   ]
  },
  {
   "cell_type": "code",
   "execution_count": 18,
   "id": "46e51995",
   "metadata": {},
   "outputs": [
    {
     "name": "stdout",
     "output_type": "stream",
     "text": [
      "['A', 'B', 'C', 'D', 'E']\n",
      "[('A', 'B'), ('A', 'C'), ('B', 'C'), ('D', 'E')]\n"
     ]
    }
   ],
   "source": [
    "print(G.nodes())\n",
    "print(G.edges())"
   ]
  },
  {
   "cell_type": "markdown",
   "id": "2727c04a",
   "metadata": {},
   "source": [
    "## Definiendo nodos con coordenadas"
   ]
  },
  {
   "cell_type": "code",
   "execution_count": 60,
   "id": "59742e40",
   "metadata": {},
   "outputs": [],
   "source": [
    "# Agregando un nodo\n",
    "G.add_node('A', pos=[1, 1])"
   ]
  },
  {
   "cell_type": "code",
   "execution_count": 61,
   "id": "ebc0c8bd",
   "metadata": {},
   "outputs": [],
   "source": [
    "G.add_nodes_from([('B', {'pos': [0, 0]}),\n",
    "                  ('C', {'pos': [2, 0.5]}),\n",
    "                  ('D', {'pos': [4, 1.5]}),\n",
    "                  ('E', {'pos': [3, -1]})])"
   ]
  },
  {
   "cell_type": "code",
   "execution_count": 62,
   "id": "7ecb048d",
   "metadata": {},
   "outputs": [
    {
     "name": "stdout",
     "output_type": "stream",
     "text": [
      "['A', 'B', 'C', 'D', 'E']\n",
      "[('A', 'B'), ('A', 'C'), ('B', 'C'), ('D', 'E')]\n"
     ]
    }
   ],
   "source": [
    "print(G.nodes())\n",
    "print(G.edges())"
   ]
  },
  {
   "cell_type": "code",
   "execution_count": 63,
   "id": "2d592013",
   "metadata": {},
   "outputs": [
    {
     "data": {
      "text/plain": [
       "AdjacencyView({'A': {'B': {'weight': 0.5}, 'C': {'weight': 2.5}}, 'B': {'A': {'weight': 0.5}, 'C': {'weight': 1.3}}, 'C': {'B': {'weight': 1.3}, 'A': {'weight': 2.5}}, 'D': {'E': {'weight': 1.0}}, 'E': {'D': {'weight': 1.0}}})"
      ]
     },
     "execution_count": 63,
     "metadata": {},
     "output_type": "execute_result"
    }
   ],
   "source": [
    "G.adj"
   ]
  },
  {
   "cell_type": "code",
   "execution_count": 74,
   "id": "a9a1e6da",
   "metadata": {},
   "outputs": [
    {
     "data": {
      "image/png": "[encoded data removed]",
      "text/plain": [
       "<Figure size 432x288 with 1 Axes>"
      ]
     },
     "metadata": {},
     "output_type": "display_data"
    }
   ],
   "source": [
    "pos=nx.get_node_attributes(G,'pos')\n",
    "nx.draw_networkx(G, pos)"
   ]
  },
  {
   "cell_type": "markdown",
   "id": "ba5c3262",
   "metadata": {},
   "source": [
    "## Definiendo aristas con peso"
   ]
  },
  {
   "cell_type": "code",
   "execution_count": 65,
   "id": "81332ba5",
   "metadata": {},
   "outputs": [],
   "source": [
    "G.add_edge('A', 'B', weight=0.5)"
   ]
  },
  {
   "cell_type": "code",
   "execution_count": 86,
   "id": "dee9aa44",
   "metadata": {},
   "outputs": [],
   "source": [
    "G.add_edges_from([('B', 'C', {'weight': 1.3}), \n",
    "                  ('C', 'A', {'weight': 2.5}), \n",
    "                  ('D', 'E', {'weight': 1.0})])"
   ]
  },
  {
   "cell_type": "code",
   "execution_count": 81,
   "id": "bebce16f",
   "metadata": {},
   "outputs": [
    {
     "data": {
      "text/plain": [
       "{('A', 'B'): Text(0.5, 0.5, '0.5'),\n",
       " ('A', 'C'): Text(1.5, 0.75, '2.5'),\n",
       " ('B', 'C'): Text(1.0, 0.25, '1.3'),\n",
       " ('D', 'E'): Text(3.5, 0.25, '1.0')}"
      ]
     },
     "execution_count": 81,
     "metadata": {},
     "output_type": "execute_result"
    },
    {
     "data": {
      "image/png": "[encoded data removed]",
      "text/plain": [
       "<Figure size 432x288 with 1 Axes>"
      ]
     },
     "metadata": {},
     "output_type": "display_data"
    }
   ],
   "source": [
    "# nodes\n",
    "pos=nx.get_node_attributes(G,'pos')\n",
    "nx.draw_networkx_nodes(G, pos, node_size=700)\n",
    "# edges\n",
    "nx.draw_networkx_edges(G, pos, edgelist=G.edges(), width=6)\n",
    "# labels\n",
    "# node labels\n",
    "nx.draw_networkx_labels(G, pos, font_size=20)\n",
    "# edge weight labels\n",
    "edge_labels = nx.get_edge_attributes(G, \"weight\")\n",
    "nx.draw_networkx_edge_labels(G, pos, edge_labels)"
   ]
  },
  {
   "cell_type": "code",
   "execution_count": null,
   "id": "95e6bb27",
   "metadata": {},
   "outputs": [],
   "source": [
    "#pos = nx.spring_layout(G)\n",
    "#pos"
   ]
  },
  {
   "cell_type": "markdown",
   "id": "4d8019ea",
   "metadata": {},
   "source": [
    "### Eliminando aristas"
   ]
  },
  {
   "cell_type": "code",
   "execution_count": 87,
   "id": "a43ae3d0",
   "metadata": {},
   "outputs": [],
   "source": [
    "G.remove_edge('D', 'E')"
   ]
  },
  {
   "cell_type": "code",
   "execution_count": 99,
   "id": "7b87090f",
   "metadata": {},
   "outputs": [
    {
     "data": {
      "image/png": "[encoded data removed]",
      "text/plain": [
       "<Figure size 432x288 with 1 Axes>"
      ]
     },
     "metadata": {},
     "output_type": "display_data"
    }
   ],
   "source": [
    "nx.draw_networkx(G, pos)"
   ]
  },
  {
   "cell_type": "markdown",
   "id": "2cd504e9",
   "metadata": {},
   "source": [
    "## Grafo a dataframe"
   ]
  },
  {
   "cell_type": "code",
   "execution_count": 95,
   "id": "41f424af",
   "metadata": {},
   "outputs": [
    {
     "data": {
      "text/plain": [
       "AdjacencyView({'A': {'B': {'weight': 0.5}, 'C': {'weight': 2.5}}, 'B': {'A': {'weight': 0.5}, 'C': {'weight': 1.3}}, 'C': {'B': {'weight': 1.3}, 'A': {'weight': 2.5}}, 'D': {}, 'E': {}})"
      ]
     },
     "execution_count": 95,
     "metadata": {},
     "output_type": "execute_result"
    }
   ],
   "source": [
    "G.adj"
   ]
  },
  {
   "cell_type": "code",
   "execution_count": 93,
   "id": "d2692700",
   "metadata": {},
   "outputs": [
    {
     "data": {
      "text/plain": [
       "[('A', {'B': {'weight': 0.5}, 'C': {'weight': 2.5}}),\n",
       " ('B', {'A': {'weight': 0.5}, 'C': {'weight': 1.3}}),\n",
       " ('C', {'B': {'weight': 1.3}, 'A': {'weight': 2.5}}),\n",
       " ('D', {}),\n",
       " ('E', {})]"
      ]
     },
     "execution_count": 93,
     "metadata": {},
     "output_type": "execute_result"
    }
   ],
   "source": [
    "list(G.adjacency())"
   ]
  },
  {
   "cell_type": "code",
   "execution_count": 97,
   "id": "61d5df80",
   "metadata": {},
   "outputs": [
    {
     "data": {
      "text/html": [
       "<div>\n",
       "<style scoped>\n",
       "    .dataframe tbody tr th:only-of-type {\n",
       "        vertical-align: middle;\n",
       "    }\n",
       "\n",
       "    .dataframe tbody tr th {\n",
       "        vertical-align: top;\n",
       "    }\n",
       "\n",
       "    .dataframe thead th {\n",
       "        text-align: right;\n",
       "    }\n",
       "</style>\n",
       "<table border=\"1\" class=\"dataframe\">\n",
       "  <thead>\n",
       "    <tr style=\"text-align: right;\">\n",
       "      <th></th>\n",
       "      <th>source</th>\n",
       "      <th>target</th>\n",
       "      <th>weight</th>\n",
       "    </tr>\n",
       "  </thead>\n",
       "  <tbody>\n",
       "    <tr>\n",
       "      <th>0</th>\n",
       "      <td>A</td>\n",
       "      <td>B</td>\n",
       "      <td>0.5</td>\n",
       "    </tr>\n",
       "    <tr>\n",
       "      <th>1</th>\n",
       "      <td>A</td>\n",
       "      <td>C</td>\n",
       "      <td>2.5</td>\n",
       "    </tr>\n",
       "    <tr>\n",
       "      <th>2</th>\n",
       "      <td>B</td>\n",
       "      <td>C</td>\n",
       "      <td>1.3</td>\n",
       "    </tr>\n",
       "  </tbody>\n",
       "</table>\n",
       "</div>"
      ],
      "text/plain": [
       "  source target  weight\n",
       "0      A      B     0.5\n",
       "1      A      C     2.5\n",
       "2      B      C     1.3"
      ]
     },
     "execution_count": 97,
     "metadata": {},
     "output_type": "execute_result"
    }
   ],
   "source": [
    "nx.to_pandas_edgelist(G)"
   ]
  },
  {
   "cell_type": "code",
   "execution_count": 96,
   "id": "ad7de3ff",
   "metadata": {},
   "outputs": [
    {
     "data": {
      "text/html": [
       "<div>\n",
       "<style scoped>\n",
       "    .dataframe tbody tr th:only-of-type {\n",
       "        vertical-align: middle;\n",
       "    }\n",
       "\n",
       "    .dataframe tbody tr th {\n",
       "        vertical-align: top;\n",
       "    }\n",
       "\n",
       "    .dataframe thead th {\n",
       "        text-align: right;\n",
       "    }\n",
       "</style>\n",
       "<table border=\"1\" class=\"dataframe\">\n",
       "  <thead>\n",
       "    <tr style=\"text-align: right;\">\n",
       "      <th></th>\n",
       "      <th>A</th>\n",
       "      <th>B</th>\n",
       "      <th>C</th>\n",
       "      <th>D</th>\n",
       "      <th>E</th>\n",
       "    </tr>\n",
       "  </thead>\n",
       "  <tbody>\n",
       "    <tr>\n",
       "      <th>A</th>\n",
       "      <td>0.0</td>\n",
       "      <td>0.5</td>\n",
       "      <td>2.5</td>\n",
       "      <td>0.0</td>\n",
       "      <td>0.0</td>\n",
       "    </tr>\n",
       "    <tr>\n",
       "      <th>B</th>\n",
       "      <td>0.5</td>\n",
       "      <td>0.0</td>\n",
       "      <td>1.3</td>\n",
       "      <td>0.0</td>\n",
       "      <td>0.0</td>\n",
       "    </tr>\n",
       "    <tr>\n",
       "      <th>C</th>\n",
       "      <td>2.5</td>\n",
       "      <td>1.3</td>\n",
       "      <td>0.0</td>\n",
       "      <td>0.0</td>\n",
       "      <td>0.0</td>\n",
       "    </tr>\n",
       "    <tr>\n",
       "      <th>D</th>\n",
       "      <td>0.0</td>\n",
       "      <td>0.0</td>\n",
       "      <td>0.0</td>\n",
       "      <td>0.0</td>\n",
       "      <td>0.0</td>\n",
       "    </tr>\n",
       "    <tr>\n",
       "      <th>E</th>\n",
       "      <td>0.0</td>\n",
       "      <td>0.0</td>\n",
       "      <td>0.0</td>\n",
       "      <td>0.0</td>\n",
       "      <td>0.0</td>\n",
       "    </tr>\n",
       "  </tbody>\n",
       "</table>\n",
       "</div>"
      ],
      "text/plain": [
       "     A    B    C    D    E\n",
       "A  0.0  0.5  2.5  0.0  0.0\n",
       "B  0.5  0.0  1.3  0.0  0.0\n",
       "C  2.5  1.3  0.0  0.0  0.0\n",
       "D  0.0  0.0  0.0  0.0  0.0\n",
       "E  0.0  0.0  0.0  0.0  0.0"
      ]
     },
     "execution_count": 96,
     "metadata": {},
     "output_type": "execute_result"
    }
   ],
   "source": [
    "nx.to_pandas_adjacency(G)"
   ]
  },
  {
   "cell_type": "code",
   "execution_count": null,
   "id": "52f4c720",
   "metadata": {},
   "outputs": [],
   "source": []
  }
 ],
 "metadata": {
  "kernelspec": {
   "display_name": "Python 3 (ipykernel)",
   "language": "python",
   "name": "python3"
  },
  "language_info": {
   "codemirror_mode": {
    "name": "ipython",
    "version": 3
   },
   "file_extension": ".py",
   "mimetype": "text/x-python",
   "name": "python",
   "nbconvert_exporter": "python",
   "pygments_lexer": "ipython3",
   "version": "3.9.7"
  }
 },
 "nbformat": 4,
 "nbformat_minor": 5
}
