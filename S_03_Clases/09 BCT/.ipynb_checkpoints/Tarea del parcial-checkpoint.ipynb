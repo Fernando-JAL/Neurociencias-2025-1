{
 "cells": [
  {
   "cell_type": "markdown",
   "id": "4f5489c5",
   "metadata": {},
   "source": [
    "### Ejercicios de grafos. Del .mat file de coativation_matrix, realizar los siguientes ejercicios:\n",
    "\n",
    "- Crear un dataframe con la información del ndarray de coativation_matrix, las columnas deben ser números desde el 1, los índices deben ser iguales a las columnas\n",
    "- Mostrar el heatmap de coativation_matrix\n",
    "- Crear un dataframe subconjunto del dataframe anterior que contenga de la fila 10 a la 30 y de la columna 10 a la 30\n",
    "- Mostrar el heatmap del nuevo dataframe\n",
    "- Crear el grafo dirigido del nuevo dataframe\n",
    "- ¿qué nodo tiene más conexiones del nuevo dataset?\n",
    "- Del dataframe con el array de coactivation_matrix, calcular los quantiles 0.25, 0.5, 0.75 de los valores de los datos (quantiles de las conexiones)\n",
    "- Filtre el dataframe usando como threshold los quantiles 0.25 y 0.5, cómo queda la matriz de activación filtrada?"
   ]
  },
  {
   "cell_type": "markdown",
   "id": "6d9c75f8",
   "metadata": {},
   "source": [
    "## Ejercicio. Del archivo fve32.mat\n",
    "- Muestra el heatmap de la matriz de activación\n",
    "- Utilizando los nombres del archivo .mat, muestra el grafo en 4 formas distintas (shell debe ser una de ellas)\n",
    "- Determina el nodo con mayores conexiones\n",
    "- Muestra el grado solo destacando las conexiones del nodo encontrado en el ejercicio anterior"
   ]
  },
  {
   "cell_type": "markdown",
   "id": "af929cda",
   "metadata": {},
   "source": [
    "## Ejercicio\n",
    "1. Generar un número aleatorio entero en el rango [-3, 3] con seed=5002\n",
    "1. Generar un número aleatorio flotante en el rango [-10, 10] con seed=5002\n",
    "1. Genera un array de 1000 números con distribución normal, con mu= ej1, y sigma= ej2\n",
    "1. Plotear la distribución de los 1000 números\n",
    "1. Calcular el valor de 1sigma, 2sigma, 3sigma\n",
    "1. Calcular el porcentaje de números que están en el rango [-1sigma, 1sigma]\n",
    "1. Calcular el porcentaje de números que están en el rango [-2sigma, 2sigma]\n",
    "1. Calcular el porcentaje de números que están en el rango [-3sigma, 3sigma]\n",
    "1. Crear una función que reciba un entero (mu), un flotante (sigma) y un entero (total de números) y: genere array de números con distribución normal, con mu, y sigma. Plotee la distribución, calcule los sigmas, calcule el porcentaje de números que están en los rangos de +-1sigmam +-2sigma, +-3sigma\n",
    "1. Usar la función anterior con los valores (0, 1., 1000), (3, 5, 5000), (-3, 3, 10000)"
   ]
  },
  {
   "cell_type": "code",
   "execution_count": null,
   "id": "e143e84f",
   "metadata": {},
   "outputs": [],
   "source": []
  }
 ],
 "metadata": {
  "kernelspec": {
   "display_name": "Python 3 (ipykernel)",
   "language": "python",
   "name": "python3"
  },
  "language_info": {
   "codemirror_mode": {
    "name": "ipython",
    "version": 3
   },
   "file_extension": ".py",
   "mimetype": "text/x-python",
   "name": "python",
   "nbconvert_exporter": "python",
   "pygments_lexer": "ipython3",
   "version": "3.9.7"
  }
 },
 "nbformat": 4,
 "nbformat_minor": 5
}
