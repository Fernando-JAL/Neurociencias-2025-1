{
 "cells": [
  {
   "cell_type": "code",
   "execution_count": 2,
   "id": "405e946c",
   "metadata": {},
   "outputs": [],
   "source": [
    "import scipy.io\n",
    "import pandas as pd\n",
    "import os"
   ]
  },
  {
   "cell_type": "code",
   "execution_count": 4,
   "id": "02651646",
   "metadata": {
    "scrolled": true
   },
   "outputs": [
    {
     "data": {
      "text/plain": [
       "True"
      ]
     },
     "execution_count": 4,
     "metadata": {},
     "output_type": "execute_result"
    }
   ],
   "source": [
    "mat_path = r\"../../BCT/BCT/2019_03_03_BCT/data_and_demos/Coactivation_matrix.mat\"\n",
    "\n",
    "os.path.isfile(mat_path)"
   ]
  },
  {
   "cell_type": "code",
   "execution_count": 6,
   "id": "a6676ac1",
   "metadata": {},
   "outputs": [
    {
     "data": {
      "text/plain": [
       "{'__header__': b'MATLAB 5.0 MAT-file, Platform: GLNX86, Created on: Wed Dec 25 01:14:03 2013',\n",
       " '__version__': '1.0',\n",
       " '__globals__': [],\n",
       " 'Coactivation_matrix': array([[0.        , 0.16071429, 0.11148649, ..., 0.        , 0.05045872,\n",
       "         0.1011236 ],\n",
       "        [0.16071429, 0.        , 0.06825939, ..., 0.        , 0.        ,\n",
       "         0.06923077],\n",
       "        [0.11148649, 0.06825939, 0.        , ..., 0.03412969, 0.        ,\n",
       "         0.        ],\n",
       "        ...,\n",
       "        [0.        , 0.        , 0.03412969, ..., 0.        , 0.        ,\n",
       "         0.        ],\n",
       "        [0.05045872, 0.        , 0.        , ..., 0.        , 0.        ,\n",
       "         0.09777778],\n",
       "        [0.1011236 , 0.06923077, 0.        , ..., 0.        , 0.09777778,\n",
       "         0.        ]]),\n",
       " 'Coord': array([[ 7.24363636, 37.01090909,  9.42545455],\n",
       "        [ 7.98653199, 46.22222222, 15.60942761],\n",
       "        [ 7.55725191, 33.83206107, 23.51145038],\n",
       "        ...,\n",
       "        [-4.92385787, 15.31979695, 27.73604061],\n",
       "        [-6.27312775, 34.70484581, -5.09251101],\n",
       "        [-4.53874539, 46.53874539,  3.06273063]])}"
      ]
     },
     "execution_count": 6,
     "metadata": {},
     "output_type": "execute_result"
    }
   ],
   "source": [
    "mat_json = scipy.io.loadmat(mat_path)\n",
    "mat_json"
   ]
  },
  {
   "cell_type": "code",
   "execution_count": 8,
   "id": "50d98e46",
   "metadata": {},
   "outputs": [
    {
     "data": {
      "text/plain": [
       "{'Coactivation_matrix': array([[0.        , 0.16071429, 0.11148649, ..., 0.        , 0.05045872,\n",
       "         0.1011236 ],\n",
       "        [0.16071429, 0.        , 0.06825939, ..., 0.        , 0.        ,\n",
       "         0.06923077],\n",
       "        [0.11148649, 0.06825939, 0.        , ..., 0.03412969, 0.        ,\n",
       "         0.        ],\n",
       "        ...,\n",
       "        [0.        , 0.        , 0.03412969, ..., 0.        , 0.        ,\n",
       "         0.        ],\n",
       "        [0.05045872, 0.        , 0.        , ..., 0.        , 0.        ,\n",
       "         0.09777778],\n",
       "        [0.1011236 , 0.06923077, 0.        , ..., 0.        , 0.09777778,\n",
       "         0.        ]]),\n",
       " 'Coord': array([[ 7.24363636, 37.01090909,  9.42545455],\n",
       "        [ 7.98653199, 46.22222222, 15.60942761],\n",
       "        [ 7.55725191, 33.83206107, 23.51145038],\n",
       "        ...,\n",
       "        [-4.92385787, 15.31979695, 27.73604061],\n",
       "        [-6.27312775, 34.70484581, -5.09251101],\n",
       "        [-4.53874539, 46.53874539,  3.06273063]])}"
      ]
     },
     "execution_count": 8,
     "metadata": {},
     "output_type": "execute_result"
    }
   ],
   "source": [
    "mat_dict = {k:v for k, v in mat_json.items() if k[0] != '_'}\n",
    "mat_dict"
   ]
  },
  {
   "cell_type": "code",
   "execution_count": 10,
   "id": "650e7774",
   "metadata": {},
   "outputs": [
    {
     "data": {
      "text/plain": [
       "dict_keys(['Coactivation_matrix', 'Coord'])"
      ]
     },
     "execution_count": 10,
     "metadata": {},
     "output_type": "execute_result"
    }
   ],
   "source": [
    "mat_dict.keys()"
   ]
  },
  {
   "cell_type": "code",
   "execution_count": 12,
   "id": "705e6f11",
   "metadata": {},
   "outputs": [
    {
     "data": {
      "text/plain": [
       "(638, 638)"
      ]
     },
     "execution_count": 12,
     "metadata": {},
     "output_type": "execute_result"
    }
   ],
   "source": [
    "len(mat_dict['Coactivation_matrix']), len(mat_dict['Coord'])"
   ]
  },
  {
   "cell_type": "code",
   "execution_count": 14,
   "id": "794dcc5c",
   "metadata": {},
   "outputs": [
    {
     "data": {
      "text/plain": [
       "2"
      ]
     },
     "execution_count": 14,
     "metadata": {},
     "output_type": "execute_result"
    }
   ],
   "source": [
    "mat_dict['Coactivation_matrix'].ndim"
   ]
  },
  {
   "cell_type": "code",
   "execution_count": 16,
   "id": "6d1d0c15",
   "metadata": {},
   "outputs": [
    {
     "data": {
      "text/plain": [
       "(638, 3)"
      ]
     },
     "execution_count": 16,
     "metadata": {},
     "output_type": "execute_result"
    }
   ],
   "source": [
    "mat_dict['Coord'].shape"
   ]
  },
  {
   "cell_type": "code",
   "execution_count": 18,
   "id": "a4dcc878",
   "metadata": {},
   "outputs": [
    {
     "ename": "NameError",
     "evalue": "name 'mat' is not defined",
     "output_type": "error",
     "traceback": [
      "\u001b[0;31m---------------------------------------------------------------------------\u001b[0m",
      "\u001b[0;31mNameError\u001b[0m                                 Traceback (most recent call last)",
      "Cell \u001b[0;32mIn[18], line 1\u001b[0m\n\u001b[0;32m----> 1\u001b[0m \u001b[38;5;28mlen\u001b[39m(mat[\u001b[38;5;124m'\u001b[39m\u001b[38;5;124mCIJall\u001b[39m\u001b[38;5;124m'\u001b[39m][\u001b[38;5;241m1\u001b[39m])\n",
      "\u001b[0;31mNameError\u001b[0m: name 'mat' is not defined"
     ]
    }
   ],
   "source": [
    "len(mat['CIJall'][1])"
   ]
  },
  {
   "cell_type": "code",
   "execution_count": null,
   "id": "3356419b",
   "metadata": {
    "scrolled": true
   },
   "outputs": [],
   "source": [
    "data = pd.DataFrame({k: pd.Series(v[0]) for k, v in mat.items()})\n",
    "\n",
    "data['Names'] = mat['Names']\n",
    "data"
   ]
  },
  {
   "cell_type": "code",
   "execution_count": null,
   "id": "1ebafade",
   "metadata": {},
   "outputs": [],
   "source": []
  },
  {
   "cell_type": "code",
   "execution_count": null,
   "id": "350eeab8-bccb-4ed6-ae09-9895c4bdbc08",
   "metadata": {},
   "outputs": [],
   "source": []
  }
 ],
 "metadata": {
  "kernelspec": {
   "display_name": "Python 3 (ipykernel)",
   "language": "python",
   "name": "python3"
  },
  "language_info": {
   "codemirror_mode": {
    "name": "ipython",
    "version": 3
   },
   "file_extension": ".py",
   "mimetype": "text/x-python",
   "name": "python",
   "nbconvert_exporter": "python",
   "pygments_lexer": "ipython3",
   "version": "3.12.4"
  }
 },
 "nbformat": 4,
 "nbformat_minor": 5
}
