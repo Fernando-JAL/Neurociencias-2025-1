{
 "cells": [
  {
   "cell_type": "markdown",
   "id": "e3e14137",
   "metadata": {},
   "source": [
    "# Creación de grafos\n",
    "\n",
    "#### Documentación de grafos dirigidos usando networkx\n",
    "\n",
    "Véase [documentación](https://networkx.org/documentation/stable/tutorial.html#directed-graphs)\n"
   ]
  },
  {
   "cell_type": "code",
   "execution_count": 10,
   "id": "4eb8a54f",
   "metadata": {},
   "outputs": [],
   "source": [
    "import networkx as nx\n",
    "import matplotlib.pyplot as plt"
   ]
  },
  {
   "cell_type": "code",
   "execution_count": 2,
   "id": "1b5491c5",
   "metadata": {},
   "outputs": [],
   "source": [
    "# Se crea un gráfico vacío\n",
    "G = nx.DiGraph()"
   ]
  },
  {
   "cell_type": "code",
   "execution_count": 3,
   "id": "9e77f3fd",
   "metadata": {},
   "outputs": [],
   "source": [
    "# Se agregan nodos al gráfico\n",
    "G.add_nodes_from(['A', 'B', 'C', 'D', 'E'])"
   ]
  },
  {
   "cell_type": "code",
   "execution_count": 4,
   "id": "8d5092f2",
   "metadata": {},
   "outputs": [
    {
     "data": {
      "text/plain": [
       "NodeView(('A', 'B', 'C', 'D', 'E'))"
      ]
     },
     "execution_count": 4,
     "metadata": {},
     "output_type": "execute_result"
    }
   ],
   "source": [
    "G.nodes"
   ]
  },
  {
   "cell_type": "code",
   "execution_count": 5,
   "id": "af3afead",
   "metadata": {},
   "outputs": [
    {
     "data": {
      "image/png": "[encoded data removed]",
      "text/plain": [
       "<Figure size 432x288 with 1 Axes>"
      ]
     },
     "metadata": {},
     "output_type": "display_data"
    }
   ],
   "source": [
    "nx.draw_networkx(G)"
   ]
  },
  {
   "cell_type": "code",
   "execution_count": 6,
   "id": "117e20fa",
   "metadata": {},
   "outputs": [
    {
     "data": {
      "text/plain": [
       "OutEdgeView([('A', 'B'), ('B', 'C'), ('C', 'A'), ('D', 'E')])"
      ]
     },
     "execution_count": 6,
     "metadata": {},
     "output_type": "execute_result"
    }
   ],
   "source": [
    "G.add_edges_from([('A', 'B', {'weight':2.5}), \n",
    "                  ('B', 'C', {'weight':1.5}), \n",
    "                  ('C', 'A', {'weight':2.0}), \n",
    "                  ('D', 'E', {'weight':1.0})])\n",
    "\n",
    "G.edges"
   ]
  },
  {
   "cell_type": "code",
   "execution_count": 7,
   "id": "905e86bc",
   "metadata": {},
   "outputs": [
    {
     "data": {
      "text/plain": [
       "AdjacencyView({'A': {'B': {'weight': 2.5}}, 'B': {'C': {'weight': 1.5}}, 'C': {'A': {'weight': 2.0}}, 'D': {'E': {'weight': 1.0}}, 'E': {}})"
      ]
     },
     "execution_count": 7,
     "metadata": {},
     "output_type": "execute_result"
    }
   ],
   "source": [
    "G.adj"
   ]
  },
  {
   "cell_type": "code",
   "execution_count": 8,
   "id": "be7d00cc",
   "metadata": {},
   "outputs": [
    {
     "data": {
      "text/plain": [
       "[('A', {'B': {'weight': 2.5}}),\n",
       " ('B', {'C': {'weight': 1.5}}),\n",
       " ('C', {'A': {'weight': 2.0}}),\n",
       " ('D', {'E': {'weight': 1.0}}),\n",
       " ('E', {})]"
      ]
     },
     "execution_count": 8,
     "metadata": {},
     "output_type": "execute_result"
    }
   ],
   "source": [
    "list(G.adjacency())"
   ]
  },
  {
   "cell_type": "code",
   "execution_count": 9,
   "id": "76f19a61",
   "metadata": {},
   "outputs": [
    {
     "data": {
      "text/plain": [
       "{'A': array([-0.41822151,  0.61702598]),\n",
       " 'B': array([-0.39172048,  0.33350919]),\n",
       " 'C': array([-0.67064967,  0.44055458]),\n",
       " 'D': array([ 0.50282112, -0.39108975]),\n",
       " 'E': array([ 0.97777054, -1.        ])}"
      ]
     },
     "execution_count": 9,
     "metadata": {},
     "output_type": "execute_result"
    }
   ],
   "source": [
    "pos = nx.spring_layout(G)\n",
    "pos"
   ]
  },
  {
   "cell_type": "code",
   "execution_count": 23,
   "id": "1016be79",
   "metadata": {},
   "outputs": [
    {
     "data": {
      "image/png": "[encoded data removed]",
      "text/plain": [
       "<Figure size 432x288 with 1 Axes>"
      ]
     },
     "metadata": {},
     "output_type": "display_data"
    }
   ],
   "source": [
    "nx.draw_networkx(G, pos, arrows=True, arrowstyle='-|>')\n",
    "plt.grid(True)\n",
    "plt.axis('on')\n",
    "plt.show()"
   ]
  },
  {
   "cell_type": "code",
   "execution_count": 22,
   "id": "ec78bfc7",
   "metadata": {},
   "outputs": [
    {
     "data": {
      "text/plain": [
       "{('A', 'B'): Text(0.0871338455803654, -0.4282135832315521, '2.5'),\n",
       " ('B', 'C'): Text(0.1966774653974824, -0.5352423291449044, '1.5'),\n",
       " ('C', 'A'): Text(0.2549129833904858, -0.4328073517922538, '2.0'),\n",
       " ('D', 'E'): Text(-0.26936214718416696, 0.6981316320843552, '1.0')}"
      ]
     },
     "execution_count": 22,
     "metadata": {},
     "output_type": "execute_result"
    },
    {
     "data": {
      "image/png": "[encoded data removed]",
      "text/plain": [
       "<Figure size 432x288 with 1 Axes>"
      ]
     },
     "metadata": {},
     "output_type": "display_data"
    }
   ],
   "source": [
    "# nodes\n",
    "nx.draw_networkx_nodes(G, pos, node_size=400)\n",
    "# edges\n",
    "nx.draw_networkx_edges(G, pos, edgelist=G.edges(), width=4)\n",
    "# labels\n",
    "# node labels\n",
    "nx.draw_networkx_labels(G, pos, font_size=20)\n",
    "# edge weight labels\n",
    "edge_labels = nx.get_edge_attributes(G, \"weight\")\n",
    "nx.draw_networkx_edge_labels(G, pos, edge_labels)"
   ]
  },
  {
   "cell_type": "markdown",
   "id": "ab47e4f8",
   "metadata": {},
   "source": [
    "### Eliminando aristas"
   ]
  },
  {
   "cell_type": "code",
   "execution_count": null,
   "id": "6047c165",
   "metadata": {},
   "outputs": [],
   "source": [
    "G.remove_edge('D', 'E')\n",
    "nx.draw_networkx(G, with_labels=True, arrows=True)"
   ]
  },
  {
   "cell_type": "markdown",
   "id": "d019314d",
   "metadata": {},
   "source": [
    "## Grafo a dataframe"
   ]
  },
  {
   "cell_type": "code",
   "execution_count": null,
   "id": "2a9b37f3",
   "metadata": {},
   "outputs": [],
   "source": [
    "nx.to_pandas_adjacency(G)"
   ]
  },
  {
   "cell_type": "code",
   "execution_count": null,
   "id": "eec274a6",
   "metadata": {},
   "outputs": [],
   "source": [
    "nx.to_pandas_edgelist(G)"
   ]
  },
  {
   "cell_type": "code",
   "execution_count": null,
   "id": "97cf1c21",
   "metadata": {},
   "outputs": [],
   "source": []
  }
 ],
 "metadata": {
  "kernelspec": {
   "display_name": "Python 3 (ipykernel)",
   "language": "python",
   "name": "python3"
  },
  "language_info": {
   "codemirror_mode": {
    "name": "ipython",
    "version": 3
   },
   "file_extension": ".py",
   "mimetype": "text/x-python",
   "name": "python",
   "nbconvert_exporter": "python",
   "pygments_lexer": "ipython3",
   "version": "3.9.7"
  }
 },
 "nbformat": 4,
 "nbformat_minor": 5
}
