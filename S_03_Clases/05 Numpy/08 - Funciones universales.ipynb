{
 "cells": [
  {
   "cell_type": "markdown",
   "id": "b785ad60",
   "metadata": {},
   "source": [
    "# Funciones universales\n",
    "\n",
    "En esta lección vamos a ver algunas de las funciones universales. Se llaman así porque sirven para aplicar funciones matemáticas comunes en los elementos.\n",
    "\n",
    "\n",
    "Podemos encontrar:\n",
    "\n",
    "* Operaciones matemáticas\n",
    "* Operaciones trigonométricas\n",
    "* Operaciones comparativas\n",
    "* Operaciones flotantes\n",
    "* Operaciones de intercambio de bits\n",
    "\n",
    "[En la documentación oficial](https://docs.scipy.org/doc/numpy/reference/ufuncs.html#available-ufuncs) encontraréis el listado completo con ejemplos de uso, vamos a practicar las más utilizadas.\n",
    "\n",
    "## Matemáticas"
   ]
  },
  {
   "cell_type": "code",
   "execution_count": 1,
   "id": "179802bf",
   "metadata": {},
   "outputs": [],
   "source": [
    "import numpy as np\n",
    "\n",
    "# arrays de prueba\n",
    "arr_1 = np.arange(1,6)\n",
    "arr_2 = np.array([-3,7,3,13,0])"
   ]
  },
  {
   "cell_type": "code",
   "execution_count": 2,
   "id": "22646b7b",
   "metadata": {},
   "outputs": [
    {
     "data": {
      "text/plain": [
       "array([1, 2, 3, 4, 5])"
      ]
     },
     "execution_count": 2,
     "metadata": {},
     "output_type": "execute_result"
    }
   ],
   "source": [
    "arr_1"
   ]
  },
  {
   "cell_type": "code",
   "execution_count": 3,
   "id": "fa97acb6",
   "metadata": {},
   "outputs": [
    {
     "data": {
      "text/plain": [
       "array([-3,  7,  3, 13,  0])"
      ]
     },
     "execution_count": 3,
     "metadata": {},
     "output_type": "execute_result"
    }
   ],
   "source": [
    "arr_2"
   ]
  },
  {
   "cell_type": "code",
   "execution_count": 4,
   "id": "29699b1a",
   "metadata": {},
   "outputs": [
    {
     "data": {
      "text/plain": [
       "array([-2,  9,  6, 17,  5])"
      ]
     },
     "execution_count": 4,
     "metadata": {},
     "output_type": "execute_result"
    }
   ],
   "source": [
    "# suma\n",
    "np.add(arr_1, arr_2)"
   ]
  },
  {
   "cell_type": "code",
   "execution_count": 5,
   "id": "0232c775",
   "metadata": {},
   "outputs": [
    {
     "data": {
      "text/plain": [
       "array([-4,  5,  0,  9, -5])"
      ]
     },
     "execution_count": 5,
     "metadata": {},
     "output_type": "execute_result"
    }
   ],
   "source": [
    "# resta\n",
    "np.subtract(arr_2, arr_1)"
   ]
  },
  {
   "cell_type": "code",
   "execution_count": 11,
   "id": "fe084b6b",
   "metadata": {},
   "outputs": [
    {
     "data": {
      "text/plain": [
       "array([1, 2, 3, 4, 5])"
      ]
     },
     "execution_count": 11,
     "metadata": {},
     "output_type": "execute_result"
    }
   ],
   "source": [
    "arr_1"
   ]
  },
  {
   "cell_type": "code",
   "execution_count": 6,
   "id": "e77abe90",
   "metadata": {},
   "outputs": [
    {
     "data": {
      "text/plain": [
       "array([1.        , 1.41421356, 1.73205081, 2.        , 2.23606798])"
      ]
     },
     "execution_count": 6,
     "metadata": {},
     "output_type": "execute_result"
    }
   ],
   "source": [
    "# raiz cuadrada\n",
    "np.sqrt(arr_1)"
   ]
  },
  {
   "cell_type": "code",
   "execution_count": 7,
   "id": "a5827067",
   "metadata": {},
   "outputs": [
    {
     "data": {
      "text/plain": [
       "array([ 1,  4,  9, 16, 25], dtype=int32)"
      ]
     },
     "execution_count": 7,
     "metadata": {},
     "output_type": "execute_result"
    }
   ],
   "source": [
    "# potencia\n",
    "np.power(arr_1, 2)"
   ]
  },
  {
   "cell_type": "code",
   "execution_count": 8,
   "id": "e3572ff1",
   "metadata": {},
   "outputs": [
    {
     "data": {
      "text/plain": [
       "array([1, 2, 3, 4, 5])"
      ]
     },
     "execution_count": 8,
     "metadata": {},
     "output_type": "execute_result"
    }
   ],
   "source": [
    "arr_1"
   ]
  },
  {
   "cell_type": "code",
   "execution_count": 9,
   "id": "7fa3f6b9",
   "metadata": {},
   "outputs": [
    {
     "data": {
      "text/plain": [
       "array([-3,  7,  3, 13,  0])"
      ]
     },
     "execution_count": 9,
     "metadata": {},
     "output_type": "execute_result"
    }
   ],
   "source": [
    "arr_2"
   ]
  },
  {
   "cell_type": "code",
   "execution_count": 10,
   "id": "0f0b8373",
   "metadata": {},
   "outputs": [
    {
     "data": {
      "text/plain": [
       "array([-1,  1,  1,  1,  0])"
      ]
     },
     "execution_count": 10,
     "metadata": {},
     "output_type": "execute_result"
    }
   ],
   "source": [
    "# signo\n",
    "np.sign(arr_2)"
   ]
  },
  {
   "cell_type": "markdown",
   "id": "d080857c",
   "metadata": {},
   "source": [
    "## Trigonométricas"
   ]
  },
  {
   "cell_type": "code",
   "execution_count": 12,
   "id": "67f17e73",
   "metadata": {},
   "outputs": [
    {
     "data": {
      "text/plain": [
       "array([1, 2, 3, 4, 5])"
      ]
     },
     "execution_count": 12,
     "metadata": {},
     "output_type": "execute_result"
    }
   ],
   "source": [
    "arr_1"
   ]
  },
  {
   "cell_type": "code",
   "execution_count": 15,
   "id": "0c1b612b",
   "metadata": {},
   "outputs": [
    {
     "data": {
      "text/plain": [
       "3.141592653589793"
      ]
     },
     "execution_count": 15,
     "metadata": {},
     "output_type": "execute_result"
    }
   ],
   "source": [
    "np.pi"
   ]
  },
  {
   "cell_type": "code",
   "execution_count": 13,
   "id": "1c77febf",
   "metadata": {},
   "outputs": [
    {
     "data": {
      "text/plain": [
       "array([ 0.84147098,  0.90929743,  0.14112001, -0.7568025 , -0.95892427])"
      ]
     },
     "execution_count": 13,
     "metadata": {},
     "output_type": "execute_result"
    }
   ],
   "source": [
    "# seno\n",
    "np.sin(arr_1)"
   ]
  },
  {
   "cell_type": "code",
   "execution_count": 16,
   "id": "cd8ca5ef",
   "metadata": {},
   "outputs": [
    {
     "data": {
      "text/plain": [
       "array([ 0.54030231, -0.41614684, -0.9899925 , -0.65364362,  0.28366219])"
      ]
     },
     "execution_count": 16,
     "metadata": {},
     "output_type": "execute_result"
    }
   ],
   "source": [
    "# coseno\n",
    "np.cos(arr_1)"
   ]
  },
  {
   "cell_type": "code",
   "execution_count": 17,
   "id": "3cedc359",
   "metadata": {},
   "outputs": [
    {
     "data": {
      "text/plain": [
       "array([ 1.55740772, -2.18503986, -0.14254654,  1.15782128, -3.38051501])"
      ]
     },
     "execution_count": 17,
     "metadata": {},
     "output_type": "execute_result"
    }
   ],
   "source": [
    "# tangente\n",
    "np.tan(arr_1)"
   ]
  },
  {
   "cell_type": "code",
   "execution_count": 18,
   "id": "21fcbd17",
   "metadata": {},
   "outputs": [
    {
     "data": {
      "text/plain": [
       "array([0.01745329, 0.03490659, 0.05235988, 0.06981317, 0.08726646])"
      ]
     },
     "execution_count": 18,
     "metadata": {},
     "output_type": "execute_result"
    }
   ],
   "source": [
    "# grados a radianes\n",
    "np.deg2rad(arr_1)"
   ]
  },
  {
   "cell_type": "code",
   "execution_count": 19,
   "id": "e07d211e",
   "metadata": {},
   "outputs": [
    {
     "data": {
      "text/plain": [
       "array([ 57.29577951, 114.59155903, 171.88733854, 229.18311805,\n",
       "       286.47889757])"
      ]
     },
     "execution_count": 19,
     "metadata": {},
     "output_type": "execute_result"
    }
   ],
   "source": [
    "# radianes a grados\n",
    "np.rad2deg(arr_1)"
   ]
  },
  {
   "cell_type": "markdown",
   "id": "7eca8d96",
   "metadata": {},
   "source": [
    "## Comparativas"
   ]
  },
  {
   "cell_type": "code",
   "execution_count": 20,
   "id": "46d3f4f1",
   "metadata": {},
   "outputs": [],
   "source": [
    "def convert_grad_2_radians(param1: int, param2: np.array, **kwards):\n",
    "    \"\"\"\n",
    "    description of the function\n",
    "    params:\n",
    "    param1: int what is used for\n",
    "    param2: int what is used for\n",
    "    kwards: contains list of params to be used for the model\n",
    "    outputs:\n",
    "    \n",
    "    \"\"\"\n",
    "    pass"
   ]
  },
  {
   "cell_type": "code",
   "execution_count": 21,
   "id": "b8648d82",
   "metadata": {},
   "outputs": [
    {
     "data": {
      "text/plain": [
       "(array([1, 2, 3, 4, 5]), array([-3,  7,  3, 13,  0]))"
      ]
     },
     "execution_count": 21,
     "metadata": {},
     "output_type": "execute_result"
    }
   ],
   "source": [
    "arr_1, arr_2"
   ]
  },
  {
   "cell_type": "code",
   "execution_count": 22,
   "id": "4e87b90c",
   "metadata": {},
   "outputs": [
    {
     "data": {
      "text/plain": [
       "array([ 1,  7,  3, 13,  5])"
      ]
     },
     "execution_count": 22,
     "metadata": {},
     "output_type": "execute_result"
    }
   ],
   "source": [
    "# máximo\n",
    "np.maximum(arr_1, arr_2)"
   ]
  },
  {
   "cell_type": "code",
   "execution_count": 23,
   "id": "04558e7a",
   "metadata": {},
   "outputs": [
    {
     "data": {
      "text/plain": [
       "array([-3,  2,  3,  4,  0])"
      ]
     },
     "execution_count": 23,
     "metadata": {},
     "output_type": "execute_result"
    }
   ],
   "source": [
    "# mínimo\n",
    "np.minimum(arr_1, arr_2)"
   ]
  },
  {
   "cell_type": "code",
   "execution_count": 24,
   "id": "ead11e65",
   "metadata": {},
   "outputs": [
    {
     "data": {
      "text/plain": [
       "array([False, False,  True, False, False])"
      ]
     },
     "execution_count": 24,
     "metadata": {},
     "output_type": "execute_result"
    }
   ],
   "source": [
    "# igual que\n",
    "np.equal(arr_1, arr_2)"
   ]
  },
  {
   "cell_type": "code",
   "execution_count": 26,
   "id": "145014db",
   "metadata": {},
   "outputs": [
    {
     "data": {
      "text/plain": [
       "(array([1, 2, 3, 4, 5]), array([-3,  7,  3, 13,  0]))"
      ]
     },
     "execution_count": 26,
     "metadata": {},
     "output_type": "execute_result"
    }
   ],
   "source": [
    "arr_1, arr_2"
   ]
  },
  {
   "cell_type": "code",
   "execution_count": 25,
   "id": "e6be0e06",
   "metadata": {},
   "outputs": [
    {
     "data": {
      "text/plain": [
       "array([ True, False, False, False,  True])"
      ]
     },
     "execution_count": 25,
     "metadata": {},
     "output_type": "execute_result"
    }
   ],
   "source": [
    "# mayor que\n",
    "np.greater(arr_1, arr_2)"
   ]
  },
  {
   "cell_type": "markdown",
   "id": "645a5de4",
   "metadata": {},
   "source": [
    "## Flotantes"
   ]
  },
  {
   "cell_type": "code",
   "execution_count": 27,
   "id": "882cdfd6",
   "metadata": {},
   "outputs": [],
   "source": [
    "# tercer array de prueba\n",
    "arr_3 = np.array([3.14, 2.57, -6.4, 0.47, 5.5])"
   ]
  },
  {
   "cell_type": "code",
   "execution_count": 28,
   "id": "91ceeb0b",
   "metadata": {},
   "outputs": [
    {
     "data": {
      "text/plain": [
       "array([3.14, 2.57, 6.4 , 0.47, 5.5 ])"
      ]
     },
     "execution_count": 28,
     "metadata": {},
     "output_type": "execute_result"
    }
   ],
   "source": [
    "# valor absoluto\n",
    "np.fabs(arr_3)"
   ]
  },
  {
   "cell_type": "code",
   "execution_count": 29,
   "id": "04b461b6",
   "metadata": {},
   "outputs": [
    {
     "data": {
      "text/plain": [
       "array([ 4.,  3., -6.,  1.,  6.])"
      ]
     },
     "execution_count": 29,
     "metadata": {},
     "output_type": "execute_result"
    }
   ],
   "source": [
    "# techo (redondeo entero al alza)\n",
    "np.ceil(arr_3)"
   ]
  },
  {
   "cell_type": "code",
   "execution_count": 30,
   "id": "2171b21c",
   "metadata": {},
   "outputs": [
    {
     "data": {
      "text/plain": [
       "array([ 3.,  2., -7.,  0.,  5.])"
      ]
     },
     "execution_count": 30,
     "metadata": {},
     "output_type": "execute_result"
    }
   ],
   "source": [
    "# suelo (redondeo entero a la baja)\n",
    "np.floor(arr_3)"
   ]
  },
  {
   "cell_type": "code",
   "execution_count": null,
   "id": "81032c7d",
   "metadata": {},
   "outputs": [],
   "source": []
  }
 ],
 "metadata": {
  "kernelspec": {
   "display_name": "Python 3 (ipykernel)",
   "language": "python",
   "name": "python3"
  },
  "language_info": {
   "codemirror_mode": {
    "name": "ipython",
    "version": 3
   },
   "file_extension": ".py",
   "mimetype": "text/x-python",
   "name": "python",
   "nbconvert_exporter": "python",
   "pygments_lexer": "ipython3",
   "version": "3.9.7"
  }
 },
 "nbformat": 4,
 "nbformat_minor": 5
}
