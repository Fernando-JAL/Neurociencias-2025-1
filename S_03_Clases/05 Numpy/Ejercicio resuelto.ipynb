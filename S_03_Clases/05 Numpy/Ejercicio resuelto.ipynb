{
 "cells": [
  {
   "cell_type": "markdown",
   "id": "d0edbce9",
   "metadata": {},
   "source": [
    "# Ejercicio\n",
    "\n",
    "1. Crear una lista de 4x3 elementos, con valores diferentes\n",
    "1. Convertir esa lista a arreglo\n",
    "1. Mostrar cómo acceder a la 3 fila de la lista\n",
    "1. Mostrar cómo acceder a la 3 fila del arreglo\n",
    "1. Mostrar cómo acceder a la 2 columna de la lista\n",
    "1. Mostrar cómo acceder a la 2 columna del arreglo"
   ]
  },
  {
   "cell_type": "code",
   "execution_count": 4,
   "id": "501060ad",
   "metadata": {},
   "outputs": [],
   "source": [
    "import numpy as np"
   ]
  },
  {
   "cell_type": "code",
   "execution_count": 3,
   "id": "446f0f2a",
   "metadata": {},
   "outputs": [
    {
     "data": {
      "text/plain": [
       "[[0, 1, 2], [3, 4, 5], [6, 7, 8], [9, 10, 11]]"
      ]
     },
     "execution_count": 3,
     "metadata": {},
     "output_type": "execute_result"
    }
   ],
   "source": [
    "n, m = 4, 3\n",
    "\n",
    "lista = []\n",
    "for i in range(n):\n",
    "    aux = []\n",
    "    for j in range(m):\n",
    "        aux.append(i*m + j)\n",
    "    lista.append(aux)\n",
    "    \n",
    "lista"
   ]
  },
  {
   "cell_type": "code",
   "execution_count": 5,
   "id": "2160c0e8",
   "metadata": {},
   "outputs": [
    {
     "data": {
      "text/plain": [
       "array([[ 0,  1,  2],\n",
       "       [ 3,  4,  5],\n",
       "       [ 6,  7,  8],\n",
       "       [ 9, 10, 11]])"
      ]
     },
     "execution_count": 5,
     "metadata": {},
     "output_type": "execute_result"
    }
   ],
   "source": [
    "arreglo = np.array(lista)\n",
    "arreglo"
   ]
  },
  {
   "cell_type": "code",
   "execution_count": 16,
   "id": "e3d89d32",
   "metadata": {},
   "outputs": [
    {
     "data": {
      "text/plain": [
       "[6, 7, 8]"
      ]
     },
     "execution_count": 16,
     "metadata": {},
     "output_type": "execute_result"
    }
   ],
   "source": [
    "# 3ra fila de la lista\n",
    "lista[2]"
   ]
  },
  {
   "cell_type": "code",
   "execution_count": 17,
   "id": "31d57dae",
   "metadata": {},
   "outputs": [
    {
     "data": {
      "text/plain": [
       "array([6, 7, 8])"
      ]
     },
     "execution_count": 17,
     "metadata": {},
     "output_type": "execute_result"
    }
   ],
   "source": [
    "# 3ra fila del array\n",
    "arreglo[2]"
   ]
  },
  {
   "cell_type": "code",
   "execution_count": 18,
   "id": "bed5603d",
   "metadata": {},
   "outputs": [
    {
     "data": {
      "text/plain": [
       "[1, 4, 7, 10]"
      ]
     },
     "execution_count": 18,
     "metadata": {},
     "output_type": "execute_result"
    }
   ],
   "source": [
    "# 2da columna de la lista\n",
    "columna = []\n",
    "for fila in lista:\n",
    "    columna.append(fila[1])\n",
    "columna"
   ]
  },
  {
   "cell_type": "code",
   "execution_count": 19,
   "id": "31d6b4c0",
   "metadata": {},
   "outputs": [
    {
     "data": {
      "text/plain": [
       "[1, 4, 7, 10]"
      ]
     },
     "execution_count": 19,
     "metadata": {},
     "output_type": "execute_result"
    }
   ],
   "source": [
    "columna = [fila[1] for fila in lista]\n",
    "columna"
   ]
  },
  {
   "cell_type": "code",
   "execution_count": 21,
   "id": "1d94b689",
   "metadata": {},
   "outputs": [
    {
     "data": {
      "text/plain": [
       "[1, 4, 7, 10]"
      ]
     },
     "execution_count": 21,
     "metadata": {},
     "output_type": "execute_result"
    }
   ],
   "source": [
    "lista_m = [lista[0][1], lista[1][1], lista[2][1], lista[3][1]]\n",
    "lista_m"
   ]
  },
  {
   "cell_type": "code",
   "execution_count": 24,
   "id": "13432d98",
   "metadata": {},
   "outputs": [
    {
     "data": {
      "text/plain": [
       "array([[ 0,  1,  2],\n",
       "       [ 3,  4,  5],\n",
       "       [ 6,  7,  8],\n",
       "       [ 9, 10, 11]])"
      ]
     },
     "execution_count": 24,
     "metadata": {},
     "output_type": "execute_result"
    }
   ],
   "source": [
    "arreglo"
   ]
  },
  {
   "cell_type": "code",
   "execution_count": 22,
   "id": "76b6ac70",
   "metadata": {},
   "outputs": [
    {
     "data": {
      "text/plain": [
       "array([ 1,  4,  7, 10])"
      ]
     },
     "execution_count": 22,
     "metadata": {},
     "output_type": "execute_result"
    }
   ],
   "source": [
    "# 2da columna del array\n",
    "arreglo[:,1]"
   ]
  },
  {
   "cell_type": "code",
   "execution_count": 25,
   "id": "7a4baa2e",
   "metadata": {},
   "outputs": [
    {
     "data": {
      "text/plain": [
       "array([[ 1,  2],\n",
       "       [ 4,  5],\n",
       "       [ 7,  8],\n",
       "       [10, 11]])"
      ]
     },
     "execution_count": 25,
     "metadata": {},
     "output_type": "execute_result"
    }
   ],
   "source": [
    "arreglo[:,1:3]"
   ]
  },
  {
   "cell_type": "code",
   "execution_count": 28,
   "id": "99969e08",
   "metadata": {},
   "outputs": [
    {
     "data": {
      "text/plain": [
       "[[0, 1, 2], [3, 4, 5], [6, 7, 8], [9, 10, 11]]"
      ]
     },
     "execution_count": 28,
     "metadata": {},
     "output_type": "execute_result"
    }
   ],
   "source": [
    "lista"
   ]
  },
  {
   "cell_type": "code",
   "execution_count": 37,
   "id": "58b9e303",
   "metadata": {},
   "outputs": [
    {
     "data": {
      "text/plain": [
       "[(0, 'l'), (1, 'i'), (2, 's'), (3, 't'), (4, 'a')]"
      ]
     },
     "execution_count": 37,
     "metadata": {},
     "output_type": "execute_result"
    }
   ],
   "source": [
    "value = enumerate('lista')\n",
    "list(value)"
   ]
  },
  {
   "cell_type": "code",
   "execution_count": 31,
   "id": "9208677c",
   "metadata": {},
   "outputs": [
    {
     "name": "stdout",
     "output_type": "stream",
     "text": [
      "0\n",
      "1\n",
      "2\n",
      "3\n",
      "4\n",
      "5\n",
      "6\n",
      "7\n",
      "8\n",
      "9\n",
      "10\n",
      "11\n"
     ]
    }
   ],
   "source": [
    "for idx, fila in enumerate(lista):\n",
    "    for idxj, columna in enumerate(fila):\n",
    "        print(lista[idx][idxj])"
   ]
  },
  {
   "cell_type": "code",
   "execution_count": null,
   "id": "88e238c6",
   "metadata": {},
   "outputs": [],
   "source": []
  }
 ],
 "metadata": {
  "kernelspec": {
   "display_name": "Python 3 (ipykernel)",
   "language": "python",
   "name": "python3"
  },
  "language_info": {
   "codemirror_mode": {
    "name": "ipython",
    "version": 3
   },
   "file_extension": ".py",
   "mimetype": "text/x-python",
   "name": "python",
   "nbconvert_exporter": "python",
   "pygments_lexer": "ipython3",
   "version": "3.9.7"
  }
 },
 "nbformat": 4,
 "nbformat_minor": 5
}
