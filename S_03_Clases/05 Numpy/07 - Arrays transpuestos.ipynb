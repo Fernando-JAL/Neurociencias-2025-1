{
 "cells": [
  {
   "cell_type": "markdown",
   "id": "174e2be9",
   "metadata": {},
   "source": [
    "# Arrays transpuestos\n",
    "\n",
    "Un array transpuesto es el reflejo de otro, de manera que las columnas se vuelven filas y las filas columna."
   ]
  },
  {
   "cell_type": "code",
   "execution_count": 1,
   "id": "beedf7db",
   "metadata": {},
   "outputs": [],
   "source": [
    "import numpy as np\n",
    "\n",
    "arr = np.array([[1,2,3],[4,5,6]])"
   ]
  },
  {
   "cell_type": "code",
   "execution_count": 2,
   "id": "b7f171f4",
   "metadata": {},
   "outputs": [
    {
     "data": {
      "text/plain": [
       "array([[1, 2, 3],\n",
       "       [4, 5, 6]])"
      ]
     },
     "execution_count": 2,
     "metadata": {},
     "output_type": "execute_result"
    }
   ],
   "source": [
    "arr"
   ]
  },
  {
   "cell_type": "code",
   "execution_count": 3,
   "id": "f3200fbd",
   "metadata": {},
   "outputs": [
    {
     "data": {
      "text/plain": [
       "array([[1, 4],\n",
       "       [2, 5],\n",
       "       [3, 6]])"
      ]
     },
     "execution_count": 3,
     "metadata": {},
     "output_type": "execute_result"
    }
   ],
   "source": [
    "arr.T"
   ]
  },
  {
   "cell_type": "markdown",
   "id": "3a0ad82e",
   "metadata": {},
   "source": [
    "El transpuesto del transpuesto es el arreglo original"
   ]
  },
  {
   "cell_type": "code",
   "execution_count": 4,
   "id": "a6bef843",
   "metadata": {},
   "outputs": [
    {
     "data": {
      "text/plain": [
       "array([[1, 2, 3],\n",
       "       [4, 5, 6]])"
      ]
     },
     "execution_count": 4,
     "metadata": {},
     "output_type": "execute_result"
    }
   ],
   "source": [
    "arr.T.T"
   ]
  },
  {
   "cell_type": "markdown",
   "id": "1961077c",
   "metadata": {},
   "source": [
    "La función `swapaxes` sirve para intercambiar la posición de los dos ejes de un array, así que sirve para lo mismo:"
   ]
  },
  {
   "cell_type": "code",
   "execution_count": 5,
   "id": "fb4b9589",
   "metadata": {},
   "outputs": [
    {
     "data": {
      "text/plain": [
       "array([[1, 4],\n",
       "       [2, 5],\n",
       "       [3, 6]])"
      ]
     },
     "execution_count": 5,
     "metadata": {},
     "output_type": "execute_result"
    }
   ],
   "source": [
    "# intercambiar filas por columnas\n",
    "arr.swapaxes(0,1)"
   ]
  },
  {
   "cell_type": "markdown",
   "id": "a8506978",
   "metadata": {},
   "source": [
    "También podemos encontrar el array transpuesto de un array de 3 o más dimensiones:"
   ]
  },
  {
   "cell_type": "code",
   "execution_count": 6,
   "id": "55c4d63d",
   "metadata": {},
   "outputs": [],
   "source": [
    "arr_3d = np.arange(8)"
   ]
  },
  {
   "cell_type": "code",
   "execution_count": 7,
   "id": "18cb164a",
   "metadata": {},
   "outputs": [
    {
     "data": {
      "text/plain": [
       "array([0, 1, 2, 3, 4, 5, 6, 7])"
      ]
     },
     "execution_count": 7,
     "metadata": {},
     "output_type": "execute_result"
    }
   ],
   "source": [
    "arr_3d"
   ]
  },
  {
   "cell_type": "code",
   "execution_count": 21,
   "id": "2b184d91",
   "metadata": {},
   "outputs": [
    {
     "data": {
      "text/plain": [
       "array([[[0, 1],\n",
       "        [2, 3]],\n",
       "\n",
       "       [[4, 5],\n",
       "        [6, 7]]])"
      ]
     },
     "execution_count": 21,
     "metadata": {},
     "output_type": "execute_result"
    }
   ],
   "source": [
    "arr_3d = arr_3d.reshape(2, 2, 2)\n",
    "arr_3d"
   ]
  },
  {
   "cell_type": "code",
   "execution_count": 22,
   "id": "c403b346",
   "metadata": {},
   "outputs": [
    {
     "data": {
      "text/plain": [
       "(2, 2, 2)"
      ]
     },
     "execution_count": 22,
     "metadata": {},
     "output_type": "execute_result"
    }
   ],
   "source": [
    "new_arr_3d.shape"
   ]
  },
  {
   "cell_type": "code",
   "execution_count": 23,
   "id": "ffe78d5a",
   "metadata": {},
   "outputs": [
    {
     "data": {
      "text/plain": [
       "array([[[0, 4],\n",
       "        [2, 6]],\n",
       "\n",
       "       [[1, 5],\n",
       "        [3, 7]]])"
      ]
     },
     "execution_count": 23,
     "metadata": {},
     "output_type": "execute_result"
    }
   ],
   "source": [
    "arr_3d.T"
   ]
  },
  {
   "cell_type": "markdown",
   "id": "3efad7ee",
   "metadata": {},
   "source": [
    "O intercambiar los ejes con `swapaxes`, por ejemplo la primera dimensión por la tercera, que en nuestro caso sería equivalente al array transpuesto:"
   ]
  },
  {
   "cell_type": "code",
   "execution_count": 25,
   "id": "b39d3a7d",
   "metadata": {},
   "outputs": [
    {
     "data": {
      "text/plain": [
       "array([[[0, 4],\n",
       "        [2, 6]],\n",
       "\n",
       "       [[1, 5],\n",
       "        [3, 7]]])"
      ]
     },
     "execution_count": 25,
     "metadata": {},
     "output_type": "execute_result"
    }
   ],
   "source": [
    "arr_3d.swapaxes(0,2)"
   ]
  },
  {
   "cell_type": "markdown",
   "id": "4d50b801",
   "metadata": {},
   "source": [
    "En cambio no sería equivalente intercambiar la primera por la segunda:"
   ]
  },
  {
   "cell_type": "code",
   "execution_count": 26,
   "id": "2532bbb5",
   "metadata": {},
   "outputs": [
    {
     "data": {
      "text/plain": [
       "array([[[0, 1],\n",
       "        [4, 5]],\n",
       "\n",
       "       [[2, 3],\n",
       "        [6, 7]]])"
      ]
     },
     "execution_count": 26,
     "metadata": {},
     "output_type": "execute_result"
    }
   ],
   "source": [
    "arr_3d.swapaxes(0,1)"
   ]
  },
  {
   "cell_type": "code",
   "execution_count": null,
   "id": "b43b8646",
   "metadata": {},
   "outputs": [],
   "source": []
  }
 ],
 "metadata": {
  "kernelspec": {
   "display_name": "Python 3 (ipykernel)",
   "language": "python",
   "name": "python3"
  },
  "language_info": {
   "codemirror_mode": {
    "name": "ipython",
    "version": 3
   },
   "file_extension": ".py",
   "mimetype": "text/x-python",
   "name": "python",
   "nbconvert_exporter": "python",
   "pygments_lexer": "ipython3",
   "version": "3.9.7"
  }
 },
 "nbformat": 4,
 "nbformat_minor": 5
}
