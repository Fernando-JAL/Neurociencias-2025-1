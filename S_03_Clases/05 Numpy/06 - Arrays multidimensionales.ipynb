{
 "cells": [
  {
   "cell_type": "markdown",
   "id": "7fc2ca25",
   "metadata": {},
   "source": [
    "# Arrays multidimensionales\n",
    "\n",
    "Anteriormente vimos como trabajar con arrays de una dimensión, ahora veamos como se trasladan esos conceptos cuando tienen 2 o más dimensiones.\n",
    "\n",
    "## Índices 2D\n",
    "\n",
    "Podemos imaginar un array 2D como una `tabla` con filas y columnas:"
   ]
  },
  {
   "cell_type": "code",
   "execution_count": 1,
   "id": "b001eea0",
   "metadata": {},
   "outputs": [],
   "source": [
    "import numpy as np\n",
    "\n",
    "arr_2d = np.array(([0,5,10], [15,20,25], [30,35,40]))"
   ]
  },
  {
   "cell_type": "code",
   "execution_count": 2,
   "id": "7e2b7c95",
   "metadata": {},
   "outputs": [
    {
     "data": {
      "text/plain": [
       "array([[ 0,  5, 10],\n",
       "       [15, 20, 25],\n",
       "       [30, 35, 40]])"
      ]
     },
     "execution_count": 2,
     "metadata": {},
     "output_type": "execute_result"
    }
   ],
   "source": [
    "arr_2d"
   ]
  },
  {
   "cell_type": "code",
   "execution_count": 3,
   "id": "ad54015d",
   "metadata": {},
   "outputs": [
    {
     "data": {
      "text/plain": [
       "(3, 3)"
      ]
     },
     "execution_count": 3,
     "metadata": {},
     "output_type": "execute_result"
    }
   ],
   "source": [
    "arr_2d.shape"
   ]
  },
  {
   "cell_type": "code",
   "execution_count": 4,
   "id": "569f5521",
   "metadata": {},
   "outputs": [
    {
     "data": {
      "text/plain": [
       "2"
      ]
     },
     "execution_count": 4,
     "metadata": {},
     "output_type": "execute_result"
    }
   ],
   "source": [
    "arr_2d.ndim"
   ]
  },
  {
   "cell_type": "markdown",
   "id": "0c985514",
   "metadata": {},
   "source": [
    "Si tenemos dos dimensiones necesitamos dos índices, uno para las filas y otro para las columnas:"
   ]
  },
  {
   "cell_type": "code",
   "execution_count": 5,
   "id": "74e351c2",
   "metadata": {},
   "outputs": [
    {
     "data": {
      "text/plain": [
       "array([[ 0,  5, 10],\n",
       "       [15, 20, 25],\n",
       "       [30, 35, 40]])"
      ]
     },
     "execution_count": 5,
     "metadata": {},
     "output_type": "execute_result"
    }
   ],
   "source": [
    "arr_2d"
   ]
  },
  {
   "cell_type": "code",
   "execution_count": 9,
   "id": "8d94b056",
   "metadata": {},
   "outputs": [
    {
     "data": {
      "text/plain": [
       "array([30, 35, 40])"
      ]
     },
     "execution_count": 9,
     "metadata": {},
     "output_type": "execute_result"
    }
   ],
   "source": [
    "# primera fila\n",
    "arr_2d[2]"
   ]
  },
  {
   "cell_type": "code",
   "execution_count": 14,
   "id": "517fa67e",
   "metadata": {},
   "outputs": [
    {
     "data": {
      "text/plain": [
       "35"
      ]
     },
     "execution_count": 14,
     "metadata": {},
     "output_type": "execute_result"
    }
   ],
   "source": [
    "# primera fila y primera columna\n",
    "arr_2d[2,1] # = arr_2d[2][1]"
   ]
  },
  {
   "cell_type": "code",
   "execution_count": 13,
   "id": "53cd1a36",
   "metadata": {},
   "outputs": [
    {
     "data": {
      "text/plain": [
       "40"
      ]
     },
     "execution_count": 13,
     "metadata": {},
     "output_type": "execute_result"
    }
   ],
   "source": [
    "# última fila y última columna\n",
    "arr_2d[-1,-1]"
   ]
  },
  {
   "cell_type": "code",
   "execution_count": 11,
   "id": "0dcb5387",
   "metadata": {},
   "outputs": [],
   "source": [
    "# edición de la primera columna en la última fila\n",
    "arr_2d[-1][0] = 99"
   ]
  },
  {
   "cell_type": "code",
   "execution_count": 12,
   "id": "b86d2ba6",
   "metadata": {},
   "outputs": [
    {
     "data": {
      "text/plain": [
       "array([[ 0,  5, 10],\n",
       "       [15, 20, 25],\n",
       "       [99, 35, 40]])"
      ]
     },
     "execution_count": 12,
     "metadata": {},
     "output_type": "execute_result"
    }
   ],
   "source": [
    "arr_2d"
   ]
  },
  {
   "cell_type": "markdown",
   "id": "40ecc35c",
   "metadata": {},
   "source": [
    "## Slicing 2D\n",
    "\n",
    "Podemos utilizr el slicing doblando los indices de inicio y fin separándolos con una coma:"
   ]
  },
  {
   "cell_type": "code",
   "execution_count": 15,
   "id": "d71e4efc",
   "metadata": {},
   "outputs": [
    {
     "data": {
      "text/plain": [
       "array([[ 0,  5, 10],\n",
       "       [15, 20, 25],\n",
       "       [99, 35, 40]])"
      ]
     },
     "execution_count": 15,
     "metadata": {},
     "output_type": "execute_result"
    }
   ],
   "source": [
    "arr_2d"
   ]
  },
  {
   "cell_type": "code",
   "execution_count": 17,
   "id": "fb5486f6",
   "metadata": {},
   "outputs": [
    {
     "data": {
      "text/plain": [
       "array([[ 0,  5, 10],\n",
       "       [15, 20, 25],\n",
       "       [99, 35, 40]])"
      ]
     },
     "execution_count": 17,
     "metadata": {},
     "output_type": "execute_result"
    }
   ],
   "source": [
    "# subarray con todas las filas y columnas\n",
    "arr_2d[:][:]"
   ]
  },
  {
   "cell_type": "code",
   "execution_count": 19,
   "id": "e95d782d",
   "metadata": {},
   "outputs": [
    {
     "data": {
      "text/plain": [
       "array([[ 0,  5, 10],\n",
       "       [15, 20, 25]])"
      ]
     },
     "execution_count": 19,
     "metadata": {},
     "output_type": "execute_result"
    }
   ],
   "source": [
    "# subarray de las dos primeras filas\n",
    "arr_2d[:2][:]"
   ]
  },
  {
   "cell_type": "code",
   "execution_count": 42,
   "id": "8272e3af",
   "metadata": {},
   "outputs": [
    {
     "data": {
      "text/plain": [
       "array([[  0,  99,  10],\n",
       "       [ 15,  99,  25],\n",
       "       [ 88, 200, 203]])"
      ]
     },
     "execution_count": 42,
     "metadata": {},
     "output_type": "execute_result"
    }
   ],
   "source": [
    "arr_2d"
   ]
  },
  {
   "cell_type": "code",
   "execution_count": 43,
   "id": "9a5c82b7",
   "metadata": {},
   "outputs": [
    {
     "data": {
      "text/plain": [
       "array([[ 0],\n",
       "       [15],\n",
       "       [88]])"
      ]
     },
     "execution_count": 43,
     "metadata": {},
     "output_type": "execute_result"
    }
   ],
   "source": [
    "# subarray de la primera columna\n",
    "arr_2d[:,:1]"
   ]
  },
  {
   "cell_type": "code",
   "execution_count": 44,
   "id": "4f4461de",
   "metadata": {},
   "outputs": [
    {
     "data": {
      "text/plain": [
       "array([[15],\n",
       "       [88]])"
      ]
     },
     "execution_count": 44,
     "metadata": {},
     "output_type": "execute_result"
    }
   ],
   "source": [
    "arr_2d[1:,:1] #[inicio: fin+1: step]"
   ]
  },
  {
   "cell_type": "markdown",
   "id": "97a16722",
   "metadata": {},
   "source": [
    "Mediante esta lógica podemos modificar los elementos masivamente:"
   ]
  },
  {
   "cell_type": "code",
   "execution_count": 45,
   "id": "10203aba",
   "metadata": {},
   "outputs": [
    {
     "data": {
      "text/plain": [
       "array([[  0,  99,  10],\n",
       "       [ 15,  99,  25],\n",
       "       [ 88, 200, 203]])"
      ]
     },
     "execution_count": 45,
     "metadata": {},
     "output_type": "execute_result"
    }
   ],
   "source": [
    "arr_2d"
   ]
  },
  {
   "cell_type": "code",
   "execution_count": 36,
   "id": "9f5b4e3d",
   "metadata": {},
   "outputs": [],
   "source": [
    "# edición masiva de la segunda columna \n",
    "arr_2d[:,1:2] = 99 #[inicio: fin+1: step]"
   ]
  },
  {
   "cell_type": "code",
   "execution_count": 40,
   "id": "8a6812b9",
   "metadata": {},
   "outputs": [
    {
     "data": {
      "text/plain": [
       "array([[  0,  99,  10],\n",
       "       [ 15,  99,  25],\n",
       "       [ 88, 200, 203]])"
      ]
     },
     "execution_count": 40,
     "metadata": {},
     "output_type": "execute_result"
    }
   ],
   "source": [
    "arr_2d"
   ]
  },
  {
   "cell_type": "code",
   "execution_count": 38,
   "id": "0f37a79f",
   "metadata": {},
   "outputs": [],
   "source": [
    "# edición masiva de la última fila\n",
    "arr_2d[-1,:] = [88, 200, 203]"
   ]
  },
  {
   "cell_type": "code",
   "execution_count": 39,
   "id": "d883c087",
   "metadata": {},
   "outputs": [
    {
     "data": {
      "text/plain": [
       "array([[  0,  99,  10],\n",
       "       [ 15,  99,  25],\n",
       "       [ 88, 200, 203]])"
      ]
     },
     "execution_count": 39,
     "metadata": {},
     "output_type": "execute_result"
    }
   ],
   "source": [
    "arr_2d"
   ]
  },
  {
   "cell_type": "markdown",
   "id": "0d3b63d1",
   "metadata": {},
   "source": [
    "## Fancy index\n",
    "\n",
    "Esta técnica se basa en pasarle una lista al array haciendo referencia a las filas donde queremos acceder."
   ]
  },
  {
   "cell_type": "code",
   "execution_count": 46,
   "id": "8baef55e",
   "metadata": {},
   "outputs": [],
   "source": [
    "# creamos un array 2d de ceros\n",
    "arr_2d = np.zeros((5,10))"
   ]
  },
  {
   "cell_type": "code",
   "execution_count": 47,
   "id": "d55f2a28",
   "metadata": {},
   "outputs": [
    {
     "data": {
      "text/plain": [
       "array([[0., 0., 0., 0., 0., 0., 0., 0., 0., 0.],\n",
       "       [0., 0., 0., 0., 0., 0., 0., 0., 0., 0.],\n",
       "       [0., 0., 0., 0., 0., 0., 0., 0., 0., 0.],\n",
       "       [0., 0., 0., 0., 0., 0., 0., 0., 0., 0.],\n",
       "       [0., 0., 0., 0., 0., 0., 0., 0., 0., 0.]])"
      ]
     },
     "execution_count": 47,
     "metadata": {},
     "output_type": "execute_result"
    }
   ],
   "source": [
    "arr_2d"
   ]
  },
  {
   "cell_type": "code",
   "execution_count": 48,
   "id": "0f1829e9",
   "metadata": {},
   "outputs": [],
   "source": [
    "# modificación masiva de la primera, tercera y última fila\n",
    "arr_2d[[0,2,-1]] = 5"
   ]
  },
  {
   "cell_type": "code",
   "execution_count": 49,
   "id": "1140d2ae",
   "metadata": {},
   "outputs": [
    {
     "data": {
      "text/plain": [
       "array([[5., 5., 5., 5., 5., 5., 5., 5., 5., 5.],\n",
       "       [0., 0., 0., 0., 0., 0., 0., 0., 0., 0.],\n",
       "       [5., 5., 5., 5., 5., 5., 5., 5., 5., 5.],\n",
       "       [0., 0., 0., 0., 0., 0., 0., 0., 0., 0.],\n",
       "       [5., 5., 5., 5., 5., 5., 5., 5., 5., 5.]])"
      ]
     },
     "execution_count": 49,
     "metadata": {},
     "output_type": "execute_result"
    }
   ],
   "source": [
    "arr_2d"
   ]
  },
  {
   "cell_type": "markdown",
   "id": "6a8c4854",
   "metadata": {},
   "source": [
    "Podemos consultar el array a voluntad, incluso repitiendo filas:"
   ]
  },
  {
   "cell_type": "code",
   "execution_count": 50,
   "id": "4269eb95",
   "metadata": {},
   "outputs": [
    {
     "data": {
      "text/plain": [
       "array([[5., 5., 5., 5., 5., 5., 5., 5., 5., 5.],\n",
       "       [0., 0., 0., 0., 0., 0., 0., 0., 0., 0.],\n",
       "       [0., 0., 0., 0., 0., 0., 0., 0., 0., 0.],\n",
       "       [0., 0., 0., 0., 0., 0., 0., 0., 0., 0.],\n",
       "       [5., 5., 5., 5., 5., 5., 5., 5., 5., 5.]])"
      ]
     },
     "execution_count": 50,
     "metadata": {},
     "output_type": "execute_result"
    }
   ],
   "source": [
    "arr_2d[[0,1,1,1,0]]"
   ]
  },
  {
   "cell_type": "markdown",
   "id": "a17951ed",
   "metadata": {},
   "source": [
    "## Bucles"
   ]
  },
  {
   "cell_type": "markdown",
   "id": "7bccc7d6",
   "metadata": {},
   "source": [
    "Podemos recorrer las filas de un array con un bucle `for` como si de una lista se tratase:"
   ]
  },
  {
   "cell_type": "code",
   "execution_count": 51,
   "id": "78965a1e",
   "metadata": {},
   "outputs": [
    {
     "data": {
      "text/plain": [
       "array([[5., 5., 5., 5., 5., 5., 5., 5., 5., 5.],\n",
       "       [0., 0., 0., 0., 0., 0., 0., 0., 0., 0.],\n",
       "       [5., 5., 5., 5., 5., 5., 5., 5., 5., 5.],\n",
       "       [0., 0., 0., 0., 0., 0., 0., 0., 0., 0.],\n",
       "       [5., 5., 5., 5., 5., 5., 5., 5., 5., 5.]])"
      ]
     },
     "execution_count": 51,
     "metadata": {},
     "output_type": "execute_result"
    }
   ],
   "source": [
    "arr_2d"
   ]
  },
  {
   "cell_type": "code",
   "execution_count": 52,
   "id": "167b6aa8",
   "metadata": {},
   "outputs": [
    {
     "name": "stdout",
     "output_type": "stream",
     "text": [
      "[5. 5. 5. 5. 5. 5. 5. 5. 5. 5.]\n",
      "[0. 0. 0. 0. 0. 0. 0. 0. 0. 0.]\n",
      "[5. 5. 5. 5. 5. 5. 5. 5. 5. 5.]\n",
      "[0. 0. 0. 0. 0. 0. 0. 0. 0. 0.]\n",
      "[5. 5. 5. 5. 5. 5. 5. 5. 5. 5.]\n"
     ]
    }
   ],
   "source": [
    "for fila in arr_2d:\n",
    "    print(fila)"
   ]
  },
  {
   "cell_type": "markdown",
   "id": "0b6ad150",
   "metadata": {},
   "source": [
    "Utilizando enumeradores podemos sacar el índice de cada posición de la fila y el de la columna y asignarle algo:"
   ]
  },
  {
   "cell_type": "code",
   "execution_count": 53,
   "id": "28e45313",
   "metadata": {},
   "outputs": [],
   "source": [
    "for i,fila in enumerate(arr_2d):\n",
    "    for j,columna in enumerate(fila):\n",
    "        arr_2d[i][j] = len(fila) * i + j"
   ]
  },
  {
   "cell_type": "code",
   "execution_count": 54,
   "id": "869a5864",
   "metadata": {},
   "outputs": [
    {
     "data": {
      "text/plain": [
       "array([[ 0.,  1.,  2.,  3.,  4.,  5.,  6.,  7.,  8.,  9.],\n",
       "       [10., 11., 12., 13., 14., 15., 16., 17., 18., 19.],\n",
       "       [20., 21., 22., 23., 24., 25., 26., 27., 28., 29.],\n",
       "       [30., 31., 32., 33., 34., 35., 36., 37., 38., 39.],\n",
       "       [40., 41., 42., 43., 44., 45., 46., 47., 48., 49.]])"
      ]
     },
     "execution_count": 54,
     "metadata": {},
     "output_type": "execute_result"
    }
   ],
   "source": [
    "arr_2d"
   ]
  },
  {
   "cell_type": "markdown",
   "id": "8139e3f6",
   "metadata": {},
   "source": [
    "## Arrays 3D y más dimensiones\n",
    "\n",
    "Hasta ahora hemos trabajado los arrays de 1 y 2 dimensiones, ¿será posible hacer lo mismo con 3 o más dimensiones?\n",
    "\n",
    "El truco para manejar arrays de más dimensiones es anidar niveles de profundidad.\n",
    "\n",
    "Vamos a recrear los 3 niveles de profundidad paso a paso para un array muy simple de 2x2x2:"
   ]
  },
  {
   "cell_type": "code",
   "execution_count": null,
   "id": "d9735b99",
   "metadata": {},
   "outputs": [],
   "source": [
    "# primer nivel con 2 de ancho \n",
    "arr_1d = np.array(    [1, 2])"
   ]
  },
  {
   "cell_type": "code",
   "execution_count": null,
   "id": "f8cf22ca",
   "metadata": {},
   "outputs": [],
   "source": [
    "arr_1d"
   ]
  },
  {
   "cell_type": "code",
   "execution_count": null,
   "id": "dc54a234",
   "metadata": {},
   "outputs": [],
   "source": [
    "# segundo nivel con 2 de ancho y 2 de alto (2*2=4)\n",
    "arr_2d = np.array(\n",
    "    [\n",
    "        [1, 2],\n",
    "        [3, 4]\n",
    "    ]\n",
    ")"
   ]
  },
  {
   "cell_type": "code",
   "execution_count": null,
   "id": "bac9668c",
   "metadata": {},
   "outputs": [],
   "source": [
    "arr_2d"
   ]
  },
  {
   "cell_type": "code",
   "execution_count": null,
   "id": "48401d39",
   "metadata": {},
   "outputs": [],
   "source": [
    "# tercer nivel con 2 de ancho, 2 de alto y 2 de profundidad (2*2*2=8)\n",
    "arr_3d = np.array(\n",
    "    [\n",
    "        [\n",
    "            [1, 2],\n",
    "            [3, 4]\n",
    "        ],\n",
    "        [\n",
    "            [5, 6],\n",
    "            [7, 8]\n",
    "        ]\n",
    "    ]\n",
    ")"
   ]
  },
  {
   "cell_type": "code",
   "execution_count": null,
   "id": "f2090440",
   "metadata": {},
   "outputs": [],
   "source": [
    "arr_3d"
   ]
  },
  {
   "cell_type": "markdown",
   "id": "04fcb3ea",
   "metadata": {},
   "source": [
    "Con esto tenemos 3 dimensiones pero podemos añadir más.\n",
    "\n",
    "El concepto es difícil de imaginar, nosotros únicamente percibimos 3 dimensiones pero si lo entendemos como una ramificación dónde para cada elemento hay otra lista con varios elementos, entonces podemos hacernos una idea:"
   ]
  },
  {
   "cell_type": "code",
   "execution_count": null,
   "id": "c4a40c88",
   "metadata": {},
   "outputs": [],
   "source": [
    "# Cuarto nivel con 2 de ancho, 2 de alto, 2 de profundidad y 2 de... ¿espacio/tiempo? xD\n",
    "arr_4d = np.array(\n",
    "    [\n",
    "        [\n",
    "            [\n",
    "                [1, 2],\n",
    "                [3, 4]\n",
    "            ],\n",
    "            [\n",
    "                [5, 6],\n",
    "                [7, 8]\n",
    "            ]\n",
    "        ],\n",
    "        [\n",
    "            [\n",
    "                [9, 10],\n",
    "                [11, 12]\n",
    "            ],\n",
    "            [\n",
    "                [13, 14],\n",
    "                [15, 16]\n",
    "            ]\n",
    "        ]\n",
    "    ]\n",
    ")"
   ]
  },
  {
   "cell_type": "code",
   "execution_count": null,
   "id": "5135238a",
   "metadata": {},
   "outputs": [],
   "source": [
    "arr_4d"
   ]
  },
  {
   "cell_type": "markdown",
   "id": "678f0c78",
   "metadata": {},
   "source": [
    "Podemos crear arrays multidimensionales con las funciones de pre-generación que ya vimos:"
   ]
  },
  {
   "cell_type": "code",
   "execution_count": null,
   "id": "1f983815",
   "metadata": {},
   "outputs": [],
   "source": [
    "# array 3d de ceros 2x2x2\n",
    "arr_3d = np.zeros([2,2,2])"
   ]
  },
  {
   "cell_type": "code",
   "execution_count": null,
   "id": "86082803",
   "metadata": {},
   "outputs": [],
   "source": [
    "arr_3d"
   ]
  },
  {
   "cell_type": "code",
   "execution_count": null,
   "id": "790cb88f",
   "metadata": {},
   "outputs": [],
   "source": [
    "# array 4d de unos 2x2x2x2\n",
    "arr_4d = np.ones([2,2,2,2])"
   ]
  },
  {
   "cell_type": "code",
   "execution_count": null,
   "id": "24b68efe",
   "metadata": {},
   "outputs": [],
   "source": [
    "arr_4d"
   ]
  },
  {
   "cell_type": "markdown",
   "id": "bf4a8b6c",
   "metadata": {},
   "source": [
    "También podemos utilizar una función llamada `reshape` para reformar las dimensiones y sus tamaños:"
   ]
  },
  {
   "cell_type": "code",
   "execution_count": null,
   "id": "2c101560",
   "metadata": {},
   "outputs": [],
   "source": [
    "# reshape de un rango con 9 elementos a una matriz 3x3\n",
    "arr_2d = np.arange(9)\n",
    "arr_2d"
   ]
  },
  {
   "cell_type": "code",
   "execution_count": null,
   "id": "23c534f5",
   "metadata": {},
   "outputs": [],
   "source": [
    "arr_2d.reshape(3,3)"
   ]
  },
  {
   "cell_type": "markdown",
   "id": "bde53ba6",
   "metadata": {},
   "source": [
    "Evidentemente hay que seguir un patrón lógico, el número de elementos tiene que coincidir con el tamaño de las dimensiones multiplicadas:"
   ]
  },
  {
   "cell_type": "code",
   "execution_count": null,
   "id": "62d895e0",
   "metadata": {},
   "outputs": [],
   "source": [
    "# esto no funcionará: 9 != 3x3x3\n",
    "arr_3d = np.arange(9).reshape(3,2)"
   ]
  },
  {
   "cell_type": "code",
   "execution_count": null,
   "id": "01f3f0ba",
   "metadata": {},
   "outputs": [],
   "source": [
    "# esto sí que funcionará: 27 == 3x3x3\n",
    "arr_3d = np.arange(27).reshape(3,3,3)"
   ]
  },
  {
   "cell_type": "code",
   "execution_count": null,
   "id": "99b3d822",
   "metadata": {},
   "outputs": [],
   "source": [
    "arr_3d"
   ]
  },
  {
   "cell_type": "code",
   "execution_count": null,
   "id": "8495b115",
   "metadata": {},
   "outputs": [],
   "source": [
    "np.zeros([2, 2, 2, 2])"
   ]
  },
  {
   "cell_type": "code",
   "execution_count": null,
   "id": "9930f937",
   "metadata": {},
   "outputs": [],
   "source": []
  }
 ],
 "metadata": {
  "kernelspec": {
   "display_name": "Python 3 (ipykernel)",
   "language": "python",
   "name": "python3"
  },
  "language_info": {
   "codemirror_mode": {
    "name": "ipython",
    "version": 3
   },
   "file_extension": ".py",
   "mimetype": "text/x-python",
   "name": "python",
   "nbconvert_exporter": "python",
   "pygments_lexer": "ipython3",
   "version": "3.9.7"
  }
 },
 "nbformat": 4,
 "nbformat_minor": 5
}
