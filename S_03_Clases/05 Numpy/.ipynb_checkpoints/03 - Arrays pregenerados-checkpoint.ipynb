{
 "cells": [
  {
   "cell_type": "markdown",
   "id": "704c76b5",
   "metadata": {},
   "source": [
    "# Arrays pregenerados\n",
    "\n",
    "Crear arrays a partir de listas puede ser muy tedioso, por eso `numpy` integra varias funciones muy útiles para generar arrays de uso común en el álgebra de matrices.\n",
    "\n",
    "## Array de ceros\n",
    "\n",
    "Un array de ceros es cuando todos sus elementos son ceros. Podemos generarlos con el método `zeros`:"
   ]
  },
  {
   "cell_type": "code",
   "execution_count": 1,
   "id": "50059f89",
   "metadata": {},
   "outputs": [
    {
     "data": {
      "text/plain": [
       "array([0., 0., 0.])"
      ]
     },
     "execution_count": 1,
     "metadata": {},
     "output_type": "execute_result"
    }
   ],
   "source": [
    "import numpy as np\n",
    "np.zeros(3)"
   ]
  },
  {
   "cell_type": "markdown",
   "id": "9d525dd5",
   "metadata": {},
   "source": [
    "\n",
    "Evidentemente podemos generar arrays multidimensionales, pero para ello tenemos que pasarle al método una lista o tupla con la longitud de sus dimensiones:"
   ]
  },
  {
   "cell_type": "code",
   "execution_count": 2,
   "id": "fadb2e4d",
   "metadata": {},
   "outputs": [
    {
     "data": {
      "text/plain": [
       "array([[0., 0., 0.],\n",
       "       [0., 0., 0.],\n",
       "       [0., 0., 0.]])"
      ]
     },
     "execution_count": 2,
     "metadata": {},
     "output_type": "execute_result"
    }
   ],
   "source": [
    "np.zeros([3,3])"
   ]
  },
  {
   "cell_type": "code",
   "execution_count": 3,
   "id": "f4280ec4",
   "metadata": {},
   "outputs": [
    {
     "data": {
      "text/plain": [
       "array([[[0., 0.],\n",
       "        [0., 0.]],\n",
       "\n",
       "       [[0., 0.],\n",
       "        [0., 0.]]])"
      ]
     },
     "execution_count": 3,
     "metadata": {},
     "output_type": "execute_result"
    }
   ],
   "source": [
    "np.zeros([2, 2, 2])"
   ]
  },
  {
   "cell_type": "markdown",
   "id": "40ddf419",
   "metadata": {},
   "source": [
    "## Array de unos\n",
    "\n",
    "Lo mismo podemos hacer pero utilizando el método `ones`:"
   ]
  },
  {
   "cell_type": "code",
   "execution_count": 4,
   "id": "7635e937",
   "metadata": {},
   "outputs": [
    {
     "data": {
      "text/plain": [
       "array([[1., 1., 1.],\n",
       "       [1., 1., 1.]])"
      ]
     },
     "execution_count": 4,
     "metadata": {},
     "output_type": "execute_result"
    }
   ],
   "source": [
    "np.ones([2,3])"
   ]
  },
  {
   "cell_type": "markdown",
   "id": "e402866e",
   "metadata": {},
   "source": [
    "## Array de identidad\n",
    "\n",
    "Los arrays de identidad son matrices cuadradas (con el mismo número de filas que de columnas) donde todos los valores son ceros a excepción de la diagonal donde son unos. Podemos generarlos con el método `eye`:"
   ]
  },
  {
   "cell_type": "code",
   "execution_count": null,
   "id": "db8746d6",
   "metadata": {},
   "outputs": [],
   "source": [
    "np.eye(3)"
   ]
  },
  {
   "cell_type": "markdown",
   "id": "5563d342",
   "metadata": {},
   "source": [
    "De forma similar a como multiplicar un número por 1 da como resulta el mismo número, multiplicar una matriz por su matriz de identidad da como resultado la matriz original. Eso tiene muchas aplicaciones en el álgrebra de matrices, especialmente en el renderizado de gráficos.\n",
    "\n",
    "## Array de rangos\n",
    "\n",
    "Por último pero no por ello menos importante también es posible generar arrays a partir de un rango de valores. Para hacerlo utilizaríamos el método `arange`:\n"
   ]
  },
  {
   "cell_type": "code",
   "execution_count": null,
   "id": "459ba61d",
   "metadata": {},
   "outputs": [],
   "source": [
    "# Rango de 0 a 4\n",
    "np.arange(4)"
   ]
  },
  {
   "cell_type": "code",
   "execution_count": 6,
   "id": "49cfa0a0",
   "metadata": {},
   "outputs": [
    {
     "data": {
      "text/plain": [
       "array([0., 1., 2., 3.])"
      ]
     },
     "execution_count": 6,
     "metadata": {},
     "output_type": "execute_result"
    }
   ],
   "source": [
    "# Rango 0 a 4 decimal\n",
    "np.arange(4.)"
   ]
  },
  {
   "cell_type": "code",
   "execution_count": 5,
   "id": "bcd3746e",
   "metadata": {},
   "outputs": [
    {
     "data": {
      "text/plain": [
       "array([-3, -2, -1,  0,  1,  2])"
      ]
     },
     "execution_count": 5,
     "metadata": {},
     "output_type": "execute_result"
    }
   ],
   "source": [
    "# Rango de -3 a 3\n",
    "np.arange(-3, 3)"
   ]
  },
  {
   "cell_type": "code",
   "execution_count": null,
   "id": "7d69e0e3",
   "metadata": {},
   "outputs": [],
   "source": [
    "# Rango de 20 números a partir de 0 cada 5 números\n",
    "np.arange(0, 20, 5)"
   ]
  },
  {
   "cell_type": "code",
   "execution_count": null,
   "id": "9a9525f5",
   "metadata": {},
   "outputs": [],
   "source": []
  }
 ],
 "metadata": {
  "kernelspec": {
   "display_name": "Python 3 (ipykernel)",
   "language": "python",
   "name": "python3"
  },
  "language_info": {
   "codemirror_mode": {
    "name": "ipython",
    "version": 3
   },
   "file_extension": ".py",
   "mimetype": "text/x-python",
   "name": "python",
   "nbconvert_exporter": "python",
   "pygments_lexer": "ipython3",
   "version": "3.9.7"
  }
 },
 "nbformat": 4,
 "nbformat_minor": 5
}
