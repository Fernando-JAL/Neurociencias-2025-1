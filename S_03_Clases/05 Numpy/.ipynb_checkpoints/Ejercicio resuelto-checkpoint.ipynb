{
 "cells": [
  {
   "cell_type": "markdown",
   "id": "688cef6e",
   "metadata": {},
   "source": [
    "# Ejercicio\n",
    "\n",
    "1. Crear una lista de 4x3 elementos, con valores diferentes\n",
    "1. Convertir esa lista a arreglo\n",
    "1. Mostrar cómo acceder a la 3 fila de la lista\n",
    "1. Mostrar cómo acceder a la 3 fila del arreglo\n",
    "1. Mostrar cómo acceder a la 2 columna de la lista\n",
    "1. Mostrar cómo acceder a la 2 columna del arreglo"
   ]
  },
  {
   "cell_type": "code",
   "execution_count": 4,
   "id": "f668557d",
   "metadata": {},
   "outputs": [],
   "source": [
    "import numpy as np"
   ]
  },
  {
   "cell_type": "code",
   "execution_count": 3,
   "id": "e8dc0702",
   "metadata": {},
   "outputs": [
    {
     "data": {
      "text/plain": [
       "[[0, 1, 2], [3, 4, 5], [6, 7, 8], [9, 10, 11]]"
      ]
     },
     "execution_count": 3,
     "metadata": {},
     "output_type": "execute_result"
    }
   ],
   "source": [
    "n, m = 4, 3\n",
    "\n",
    "lista = []\n",
    "for i in range(n):\n",
    "    aux = []\n",
    "    for j in range(m):\n",
    "        aux.append(i*m + j)\n",
    "    lista.append(aux)\n",
    "    \n",
    "lista"
   ]
  },
  {
   "cell_type": "code",
   "execution_count": 5,
   "id": "f5455f67",
   "metadata": {},
   "outputs": [
    {
     "data": {
      "text/plain": [
       "array([[ 0,  1,  2],\n",
       "       [ 3,  4,  5],\n",
       "       [ 6,  7,  8],\n",
       "       [ 9, 10, 11]])"
      ]
     },
     "execution_count": 5,
     "metadata": {},
     "output_type": "execute_result"
    }
   ],
   "source": [
    "arreglo = np.array(lista)\n",
    "arreglo"
   ]
  },
  {
   "cell_type": "code",
   "execution_count": 16,
   "id": "5c8fc31e",
   "metadata": {},
   "outputs": [
    {
     "data": {
      "text/plain": [
       "[6, 7, 8]"
      ]
     },
     "execution_count": 16,
     "metadata": {},
     "output_type": "execute_result"
    }
   ],
   "source": [
    "# 3ra fila de la lista\n",
    "lista[2]"
   ]
  },
  {
   "cell_type": "code",
   "execution_count": 17,
   "id": "5a4e4068",
   "metadata": {},
   "outputs": [
    {
     "data": {
      "text/plain": [
       "array([6, 7, 8])"
      ]
     },
     "execution_count": 17,
     "metadata": {},
     "output_type": "execute_result"
    }
   ],
   "source": [
    "# 3ra fila del array\n",
    "arreglo[2]"
   ]
  },
  {
   "cell_type": "code",
   "execution_count": 18,
   "id": "4be53ada",
   "metadata": {},
   "outputs": [
    {
     "data": {
      "text/plain": [
       "[1, 4, 7, 10]"
      ]
     },
     "execution_count": 18,
     "metadata": {},
     "output_type": "execute_result"
    }
   ],
   "source": [
    "# 2da columna de la lista\n",
    "columna = []\n",
    "for fila in lista:\n",
    "    columna.append(fila[1])\n",
    "columna"
   ]
  },
  {
   "cell_type": "code",
   "execution_count": 19,
   "id": "2a7813de",
   "metadata": {},
   "outputs": [
    {
     "data": {
      "text/plain": [
       "[1, 4, 7, 10]"
      ]
     },
     "execution_count": 19,
     "metadata": {},
     "output_type": "execute_result"
    }
   ],
   "source": [
    "columna = [fila[1] for fila in lista]\n",
    "columna"
   ]
  },
  {
   "cell_type": "code",
   "execution_count": 21,
   "id": "c1a051e1",
   "metadata": {},
   "outputs": [
    {
     "data": {
      "text/plain": [
       "[1, 4, 7, 10]"
      ]
     },
     "execution_count": 21,
     "metadata": {},
     "output_type": "execute_result"
    }
   ],
   "source": [
    "lista_m = [lista[0][1], lista[1][1], lista[2][1], lista[3][1]]\n",
    "lista_m"
   ]
  },
  {
   "cell_type": "code",
   "execution_count": 22,
   "id": "ed0311ca",
   "metadata": {},
   "outputs": [
    {
     "data": {
      "text/plain": [
       "array([ 1,  4,  7, 10])"
      ]
     },
     "execution_count": 22,
     "metadata": {},
     "output_type": "execute_result"
    }
   ],
   "source": [
    "# 2da columna del array\n",
    "arreglo[:,1]"
   ]
  },
  {
   "cell_type": "code",
   "execution_count": 23,
   "id": "a377db99",
   "metadata": {},
   "outputs": [
    {
     "data": {
      "text/plain": [
       "array([[ 1],\n",
       "       [ 4],\n",
       "       [ 7],\n",
       "       [10]])"
      ]
     },
     "execution_count": 23,
     "metadata": {},
     "output_type": "execute_result"
    }
   ],
   "source": [
    "arreglo[:,1:2]"
   ]
  },
  {
   "cell_type": "code",
   "execution_count": null,
   "id": "1f166273",
   "metadata": {},
   "outputs": [],
   "source": []
  }
 ],
 "metadata": {
  "kernelspec": {
   "display_name": "Python 3 (ipykernel)",
   "language": "python",
   "name": "python3"
  },
  "language_info": {
   "codemirror_mode": {
    "name": "ipython",
    "version": 3
   },
   "file_extension": ".py",
   "mimetype": "text/x-python",
   "name": "python",
   "nbconvert_exporter": "python",
   "pygments_lexer": "ipython3",
   "version": "3.9.7"
  }
 },
 "nbformat": 4,
 "nbformat_minor": 5
}
