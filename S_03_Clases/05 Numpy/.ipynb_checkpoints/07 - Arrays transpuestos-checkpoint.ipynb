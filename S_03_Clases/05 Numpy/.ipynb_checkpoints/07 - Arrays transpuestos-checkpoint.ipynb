{
 "cells": [
  {
   "cell_type": "markdown",
   "id": "174e2be9",
   "metadata": {},
   "source": [
    "# Arrays transpuestos\n",
    "\n",
    "Un array transpuesto es el reflejo de otro, de manera que las columnas se vuelven filas y las filas columna."
   ]
  },
  {
   "cell_type": "code",
   "execution_count": null,
   "id": "beedf7db",
   "metadata": {},
   "outputs": [],
   "source": [
    "import numpy as np\n",
    "\n",
    "arr = np.array([[1,2,3],[4,5,6]])"
   ]
  },
  {
   "cell_type": "code",
   "execution_count": null,
   "id": "b7f171f4",
   "metadata": {},
   "outputs": [],
   "source": [
    "arr"
   ]
  },
  {
   "cell_type": "code",
   "execution_count": null,
   "id": "f3200fbd",
   "metadata": {},
   "outputs": [],
   "source": [
    "arr.T"
   ]
  },
  {
   "cell_type": "markdown",
   "id": "3a0ad82e",
   "metadata": {},
   "source": [
    "El transpuesto del transpuesto es el arreglo original"
   ]
  },
  {
   "cell_type": "code",
   "execution_count": null,
   "id": "a6bef843",
   "metadata": {},
   "outputs": [],
   "source": [
    "arr.T.T"
   ]
  },
  {
   "cell_type": "markdown",
   "id": "1961077c",
   "metadata": {},
   "source": [
    "La función `swapaxes` sirve para intercambiar la posición de los dos ejes de un array, así que sirve para lo mismo:"
   ]
  },
  {
   "cell_type": "code",
   "execution_count": null,
   "id": "fb4b9589",
   "metadata": {},
   "outputs": [],
   "source": [
    "# intercambiar filas por columnas\n",
    "arr.swapaxes(0,1)"
   ]
  },
  {
   "cell_type": "markdown",
   "id": "a8506978",
   "metadata": {},
   "source": [
    "También podemos encontrar el array transpuesto de un array de 3 o más dimensiones:"
   ]
  },
  {
   "cell_type": "code",
   "execution_count": null,
   "id": "55c4d63d",
   "metadata": {},
   "outputs": [],
   "source": [
    "arr_3d = np.arange(8).reshape(2,2,2)"
   ]
  },
  {
   "cell_type": "code",
   "execution_count": null,
   "id": "18cb164a",
   "metadata": {},
   "outputs": [],
   "source": [
    "arr_3d"
   ]
  },
  {
   "cell_type": "code",
   "execution_count": null,
   "id": "ffe78d5a",
   "metadata": {},
   "outputs": [],
   "source": [
    "arr_3d.T"
   ]
  },
  {
   "cell_type": "markdown",
   "id": "3efad7ee",
   "metadata": {},
   "source": [
    "O intercambiar los ejes con `swapaxes`, por ejemplo la primera dimensión por la tercera, que en nuestro caso sería equivalente al array transpuesto:"
   ]
  },
  {
   "cell_type": "code",
   "execution_count": null,
   "id": "b39d3a7d",
   "metadata": {},
   "outputs": [],
   "source": [
    "arr_3d.swapaxes(0,2)"
   ]
  },
  {
   "cell_type": "markdown",
   "id": "4d50b801",
   "metadata": {},
   "source": [
    "En cambio no sería equivalente intercambiar la primera por la segunda:"
   ]
  },
  {
   "cell_type": "code",
   "execution_count": null,
   "id": "2532bbb5",
   "metadata": {},
   "outputs": [],
   "source": [
    "arr_3d.swapaxes(0,1)"
   ]
  },
  {
   "cell_type": "code",
   "execution_count": null,
   "id": "b43b8646",
   "metadata": {},
   "outputs": [],
   "source": []
  }
 ],
 "metadata": {
  "kernelspec": {
   "display_name": "Python 3 (ipykernel)",
   "language": "python",
   "name": "python3"
  },
  "language_info": {
   "codemirror_mode": {
    "name": "ipython",
    "version": 3
   },
   "file_extension": ".py",
   "mimetype": "text/x-python",
   "name": "python",
   "nbconvert_exporter": "python",
   "pygments_lexer": "ipython3",
   "version": "3.9.7"
  }
 },
 "nbformat": 4,
 "nbformat_minor": 5
}
