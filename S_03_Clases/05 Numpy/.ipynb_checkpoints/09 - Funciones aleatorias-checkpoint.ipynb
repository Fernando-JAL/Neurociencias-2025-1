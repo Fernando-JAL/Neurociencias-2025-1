{
 "cells": [
  {
   "cell_type": "markdown",
   "id": "cf5d45f9",
   "metadata": {},
   "source": [
    "# Funciones aleatorias\n",
    "\n",
    "Hablando de funciones no podemos olvidar las funciones aleatorias encontradas en el módulo `random`. [En la documentación oficial](https://numpy.org/doc/stable/reference/random/index.html) encontraréis el listado completo con ejemplos de uso.\n",
    "\n",
    "Tenemos funciones para generar arrays con `datos aleatorios` y `permutaciones`. También hay muchas enfocadas a generar muestras de distribuciones de probabilidad pensadas para visualizar estadística.\n",
    "\n",
    "Vamos a practicar algunas de las dos primeras.\n",
    "\n",
    "## Datos aleatorios"
   ]
  },
  {
   "cell_type": "code",
   "execution_count": 1,
   "id": "d6d5857a",
   "metadata": {},
   "outputs": [],
   "source": [
    "import numpy as np"
   ]
  },
  {
   "cell_type": "code",
   "execution_count": 7,
   "id": "7959ffbb",
   "metadata": {},
   "outputs": [
    {
     "data": {
      "text/plain": [
       "0.9145843384592902"
      ]
     },
     "execution_count": 7,
     "metadata": {},
     "output_type": "execute_result"
    }
   ],
   "source": [
    "# número decimal entre 0 y 1\n",
    "np.random.rand()"
   ]
  },
  {
   "cell_type": "code",
   "execution_count": 15,
   "id": "df6d6818",
   "metadata": {},
   "outputs": [
    {
     "data": {
      "text/plain": [
       "array([0.02926276, 0.60525196, 0.69017247, 0.12441494])"
      ]
     },
     "execution_count": 15,
     "metadata": {},
     "output_type": "execute_result"
    }
   ],
   "source": [
    "# array 1D de decimales entre 0 y 1\n",
    "np.random.rand(4)"
   ]
  },
  {
   "cell_type": "code",
   "execution_count": 21,
   "id": "2963980d",
   "metadata": {},
   "outputs": [
    {
     "data": {
      "text/plain": [
       "array([[0.71893569, 0.44191098],\n",
       "       [0.69158344, 0.16908557],\n",
       "       [0.28976236, 0.99738368],\n",
       "       [0.27082312, 0.92884774]])"
      ]
     },
     "execution_count": 21,
     "metadata": {},
     "output_type": "execute_result"
    }
   ],
   "source": [
    "# array 2D de decimales entre 0 y 1\n",
    "np.random.rand(4,2)"
   ]
  },
  {
   "cell_type": "code",
   "execution_count": 25,
   "id": "2796b98c",
   "metadata": {},
   "outputs": [],
   "source": [
    "import matplotlib.pyplot as plt"
   ]
  },
  {
   "cell_type": "code",
   "execution_count": 39,
   "id": "b1d07a6a",
   "metadata": {},
   "outputs": [],
   "source": [
    "arreglo = np.random.rand(100000)"
   ]
  },
  {
   "cell_type": "code",
   "execution_count": 40,
   "id": "b6e613ed",
   "metadata": {},
   "outputs": [
    {
     "data": {
      "text/plain": [
       "(array([10063.,  9989., 10021.,  9895., 10090.,  9959., 10054., 10037.,\n",
       "         9977.,  9915.]),\n",
       " array([1.77112858e-06, 1.00000079e-01, 1.99998387e-01, 2.99996695e-01,\n",
       "        3.99995003e-01, 4.99993311e-01, 5.99991619e-01, 6.99989927e-01,\n",
       "        7.99988235e-01, 8.99986544e-01, 9.99984852e-01]),\n",
       " <BarContainer object of 10 artists>)"
      ]
     },
     "execution_count": 40,
     "metadata": {},
     "output_type": "execute_result"
    },
    {
     "data": {
      "image/png": "[encoded data removed]",
      "text/plain": [
       "<Figure size 432x288 with 1 Axes>"
      ]
     },
     "metadata": {
      "needs_background": "light"
     },
     "output_type": "display_data"
    }
   ],
   "source": [
    "plt.hist(arreglo)"
   ]
  },
  {
   "cell_type": "code",
   "execution_count": 41,
   "id": "0b38a3ae",
   "metadata": {},
   "outputs": [
    {
     "data": {
      "text/plain": [
       "0.01157642503710632"
      ]
     },
     "execution_count": 41,
     "metadata": {},
     "output_type": "execute_result"
    }
   ],
   "source": [
    "# array 3D de decimales entre 0 y N\n",
    "np.random.uniform()"
   ]
  },
  {
   "cell_type": "code",
   "execution_count": 54,
   "id": "095c18e5",
   "metadata": {},
   "outputs": [
    {
     "data": {
      "text/plain": [
       "(array([1987., 1971., 1928., 2050., 1998., 1975., 2032., 2026., 2051.,\n",
       "        1982.]),\n",
       " array([7.00010583, 7.20009155, 7.40007727, 7.60006299, 7.80004871,\n",
       "        8.00003443, 8.20002015, 8.40000587, 8.59999159, 8.79997731,\n",
       "        8.99996303]),\n",
       " <BarContainer object of 10 artists>)"
      ]
     },
     "execution_count": 54,
     "metadata": {},
     "output_type": "execute_result"
    },
    {
     "data": {
      "image/png": "[encoded data removed]",
      "text/plain": [
       "<Figure size 432x288 with 1 Axes>"
      ]
     },
     "metadata": {
      "needs_background": "light"
     },
     "output_type": "display_data"
    }
   ],
   "source": [
    "# array 4D de decimales entre -N y M\n",
    "arreglo = np.random.uniform(7, 9, size=[20000])\n",
    "plt.hist(arreglo)"
   ]
  },
  {
   "cell_type": "code",
   "execution_count": 67,
   "id": "9039ccb1",
   "metadata": {},
   "outputs": [
    {
     "data": {
      "text/plain": [
       "9"
      ]
     },
     "execution_count": 67,
     "metadata": {},
     "output_type": "execute_result"
    }
   ],
   "source": [
    "# número entero entre 0 y N\n",
    "np.random.randint(10)"
   ]
  },
  {
   "cell_type": "code",
   "execution_count": 73,
   "id": "ecfbc054",
   "metadata": {},
   "outputs": [
    {
     "data": {
      "text/plain": [
       "array([[8, 2],\n",
       "       [1, 8],\n",
       "       [5, 8]])"
      ]
     },
     "execution_count": 73,
     "metadata": {},
     "output_type": "execute_result"
    }
   ],
   "source": [
    "# array de enteros entre 0 y N\n",
    "np.random.randint(10, size=[3,2])"
   ]
  },
  {
   "cell_type": "code",
   "execution_count": 78,
   "id": "7fb65934",
   "metadata": {},
   "outputs": [
    {
     "data": {
      "text/plain": [
       "array([[-10,   4,   2,  -8],\n",
       "       [  7,   0,   8,  -8]])"
      ]
     },
     "execution_count": 78,
     "metadata": {},
     "output_type": "execute_result"
    }
   ],
   "source": [
    "# array de enteros entre -N y M\n",
    "np.random.randint(-10, 10, size=[2, 4])"
   ]
  },
  {
   "cell_type": "code",
   "execution_count": 97,
   "id": "e860ee65",
   "metadata": {
    "scrolled": true
   },
   "outputs": [
    {
     "data": {
      "text/plain": [
       "(array([1.00000e+00, 0.00000e+00, 1.00000e+00, 1.00000e+00, 3.00000e+00,\n",
       "        0.00000e+00, 4.00000e+00, 7.00000e+00, 1.80000e+01, 1.90000e+01,\n",
       "        4.70000e+01, 4.30000e+01, 9.80000e+01, 1.75000e+02, 2.65000e+02,\n",
       "        4.34000e+02, 5.91000e+02, 8.28000e+02, 1.33300e+03, 1.88900e+03,\n",
       "        2.74000e+03, 3.89000e+03, 5.48000e+03, 7.82800e+03, 1.09670e+04,\n",
       "        1.52470e+04, 2.00190e+04, 2.71540e+04, 3.58740e+04, 4.68540e+04,\n",
       "        6.07600e+04, 7.78580e+04, 9.79790e+04, 1.22120e+05, 1.51485e+05,\n",
       "        1.83702e+05, 2.22149e+05, 2.64085e+05, 3.09045e+05, 3.60147e+05,\n",
       "        4.12527e+05, 4.69781e+05, 5.26392e+05, 5.84834e+05, 6.39781e+05,\n",
       "        6.92409e+05, 7.40953e+05, 7.81853e+05, 8.16849e+05, 8.44492e+05,\n",
       "        8.59909e+05, 8.67033e+05, 8.64528e+05, 8.50464e+05, 8.27966e+05,\n",
       "        7.97673e+05, 7.57982e+05, 7.11363e+05, 6.59708e+05, 6.05700e+05,\n",
       "        5.48621e+05, 4.90686e+05, 4.35014e+05, 3.79588e+05, 3.27804e+05,\n",
       "        2.80917e+05, 2.37101e+05, 1.98271e+05, 1.63471e+05, 1.33608e+05,\n",
       "        1.07017e+05, 8.51340e+04, 6.68000e+04, 5.13500e+04, 4.02980e+04,\n",
       "        3.00850e+04, 2.28420e+04, 1.68400e+04, 1.23170e+04, 8.76200e+03,\n",
       "        6.25400e+03, 4.33300e+03, 3.11400e+03, 2.14700e+03, 1.52800e+03,\n",
       "        9.89000e+02, 6.05000e+02, 4.31000e+02, 2.90000e+02, 1.68000e+02,\n",
       "        1.11000e+02, 6.90000e+01, 4.00000e+01, 2.40000e+01, 1.80000e+01,\n",
       "        6.00000e+00, 2.00000e+00, 4.00000e+00, 2.00000e+00, 2.00000e+00]),\n",
       " array([-5.62685743, -5.51799778, -5.40913814, -5.3002785 , -5.19141885,\n",
       "        -5.08255921, -4.97369956, -4.86483992, -4.75598027, -4.64712063,\n",
       "        -4.53826098, -4.42940134, -4.3205417 , -4.21168205, -4.10282241,\n",
       "        -3.99396276, -3.88510312, -3.77624347, -3.66738383, -3.55852419,\n",
       "        -3.44966454, -3.3408049 , -3.23194525, -3.12308561, -3.01422596,\n",
       "        -2.90536632, -2.79650668, -2.68764703, -2.57878739, -2.46992774,\n",
       "        -2.3610681 , -2.25220845, -2.14334881, -2.03448917, -1.92562952,\n",
       "        -1.81676988, -1.70791023, -1.59905059, -1.49019094, -1.3813313 ,\n",
       "        -1.27247166, -1.16361201, -1.05475237, -0.94589272, -0.83703308,\n",
       "        -0.72817343, -0.61931379, -0.51045415, -0.4015945 , -0.29273486,\n",
       "        -0.18387521, -0.07501557,  0.03384408,  0.14270372,  0.25156336,\n",
       "         0.36042301,  0.46928265,  0.5781423 ,  0.68700194,  0.79586159,\n",
       "         0.90472123,  1.01358087,  1.12244052,  1.23130016,  1.34015981,\n",
       "         1.44901945,  1.5578791 ,  1.66673874,  1.77559838,  1.88445803,\n",
       "         1.99331767,  2.10217732,  2.21103696,  2.31989661,  2.42875625,\n",
       "         2.5376159 ,  2.64647554,  2.75533518,  2.86419483,  2.97305447,\n",
       "         3.08191412,  3.19077376,  3.29963341,  3.40849305,  3.51735269,\n",
       "         3.62621234,  3.73507198,  3.84393163,  3.95279127,  4.06165092,\n",
       "         4.17051056,  4.2793702 ,  4.38822985,  4.49708949,  4.60594914,\n",
       "         4.71480878,  4.82366843,  4.93252807,  5.04138771,  5.15024736,\n",
       "         5.259107  ]),\n",
       " <BarContainer object of 100 artists>)"
      ]
     },
     "execution_count": 97,
     "metadata": {},
     "output_type": "execute_result"
    },
    {
     "data": {
      "image/png": "[encoded data removed]",
      "text/plain": [
       "<Figure size 432x288 with 1 Axes>"
      ]
     },
     "metadata": {
      "needs_background": "light"
     },
     "output_type": "display_data"
    }
   ],
   "source": [
    "# array uniforme con curva gaussiana\n",
    "arreglo = np.random.normal(size=20000000)\n",
    "plt.hist(arreglo, bins=100)"
   ]
  },
  {
   "cell_type": "code",
   "execution_count": 99,
   "id": "4be1331f",
   "metadata": {},
   "outputs": [
    {
     "data": {
      "text/plain": [
       "(0.9999014573481575, 0.00018023125217877197)"
      ]
     },
     "execution_count": 99,
     "metadata": {},
     "output_type": "execute_result"
    }
   ],
   "source": [
    "np.std(arreglo), np.mean(arreglo)"
   ]
  },
  {
   "cell_type": "markdown",
   "id": "538d5c41",
   "metadata": {},
   "source": [
    "## Permutaciones"
   ]
  },
  {
   "cell_type": "code",
   "execution_count": 100,
   "id": "487b5ff0",
   "metadata": {},
   "outputs": [
    {
     "data": {
      "text/plain": [
       "array([0, 1, 2, 3, 4, 5, 6, 7, 8])"
      ]
     },
     "execution_count": 100,
     "metadata": {},
     "output_type": "execute_result"
    }
   ],
   "source": [
    "arr = np.arange(9)\n",
    "\n",
    "arr"
   ]
  },
  {
   "cell_type": "code",
   "execution_count": 105,
   "id": "428c472c",
   "metadata": {},
   "outputs": [
    {
     "data": {
      "text/plain": [
       "array([4, 8, 1, 0, 2, 5, 7, 3, 6])"
      ]
     },
     "execution_count": 105,
     "metadata": {},
     "output_type": "execute_result"
    }
   ],
   "source": [
    "# desordenar un array\n",
    "np.random.shuffle(arr)\n",
    "\n",
    "arr"
   ]
  },
  {
   "cell_type": "code",
   "execution_count": 106,
   "id": "e3c9898d",
   "metadata": {},
   "outputs": [
    {
     "data": {
      "text/plain": [
       "array([[4, 8, 1],\n",
       "       [0, 2, 5],\n",
       "       [7, 3, 6]])"
      ]
     },
     "execution_count": 106,
     "metadata": {},
     "output_type": "execute_result"
    }
   ],
   "source": [
    "arr.reshape(3, 3)"
   ]
  },
  {
   "cell_type": "code",
   "execution_count": 115,
   "id": "6cb45b00",
   "metadata": {},
   "outputs": [
    {
     "data": {
      "text/plain": [
       "array([[4, 8, 1],\n",
       "       [0, 2, 5],\n",
       "       [7, 3, 6]])"
      ]
     },
     "execution_count": 115,
     "metadata": {},
     "output_type": "execute_result"
    }
   ],
   "source": [
    "# generar secuencia permutada a partir de un número\n",
    "np.random.permutation(arr.reshape(3, 3))"
   ]
  },
  {
   "cell_type": "code",
   "execution_count": 118,
   "id": "2c40c6e2",
   "metadata": {},
   "outputs": [],
   "source": [
    "np.random.shuffle(np.arange(15))"
   ]
  },
  {
   "cell_type": "code",
   "execution_count": 117,
   "id": "94750164",
   "metadata": {},
   "outputs": [
    {
     "data": {
      "text/plain": [
       "array([ 8,  9,  0,  2, 14, 10,  1, 13,  4,  3, 12,  7, 11,  5,  6])"
      ]
     },
     "execution_count": 117,
     "metadata": {},
     "output_type": "execute_result"
    }
   ],
   "source": [
    "np.random.permutation(15)"
   ]
  },
  {
   "cell_type": "code",
   "execution_count": null,
   "id": "149bcc5e",
   "metadata": {},
   "outputs": [],
   "source": []
  }
 ],
 "metadata": {
  "kernelspec": {
   "display_name": "Python 3 (ipykernel)",
   "language": "python",
   "name": "python3"
  },
  "language_info": {
   "codemirror_mode": {
    "name": "ipython",
    "version": 3
   },
   "file_extension": ".py",
   "mimetype": "text/x-python",
   "name": "python",
   "nbconvert_exporter": "python",
   "pygments_lexer": "ipython3",
   "version": "3.9.7"
  }
 },
 "nbformat": 4,
 "nbformat_minor": 5
}
