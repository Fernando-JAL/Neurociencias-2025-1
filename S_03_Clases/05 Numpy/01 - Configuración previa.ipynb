{
 "cells": [
  {
   "cell_type": "markdown",
   "id": "b6181a16",
   "metadata": {},
   "source": [
    "# Configuración previa\n",
    "\n",
    "El análisis de datos básico en Python se realiza utilizando tres bibliotecas que se complementan perfectamente entre ellas:\n",
    "\n",
    "- **NumPy**: Para manejar **arrays**.\n",
    "- **Pandas**: Para manejar **dataframes**.\n",
    "- **Matplotlib**: Para visualizar **gráficos**.\n",
    "\n",
    "Son externas a Python por lo que tenemos que instalarlas para poder utilizarlas:\n",
    "\n",
    "```bash\n",
    "pip install numpy pandas matplotlib\n",
    "```\n",
    "\n",
    "También se puede instalar desde el propio `Jupyter Notebook` con una exclamación delante:\n",
    "\n",
    "```bash\n",
    "!pip install numpy pandas matplotlib\n",
    "```\n",
    "\n",
    "Tardará un rato en ejecutar la celda pero veremos el resultado:"
   ]
  },
  {
   "cell_type": "code",
   "execution_count": null,
   "id": "a5143f90",
   "metadata": {},
   "outputs": [],
   "source": [
    "!pip install numpy pandas matplotlib"
   ]
  }
 ],
 "metadata": {
  "kernelspec": {
   "display_name": "Python 3 (ipykernel)",
   "language": "python",
   "name": "python3"
  },
  "language_info": {
   "codemirror_mode": {
    "name": "ipython",
    "version": 3
   },
   "file_extension": ".py",
   "mimetype": "text/x-python",
   "name": "python",
   "nbconvert_exporter": "python",
   "pygments_lexer": "ipython3",
   "version": "3.10.5"
  }
 },
 "nbformat": 4,
 "nbformat_minor": 5
}
