{
 "cells": [
  {
   "cell_type": "markdown",
   "id": "d53dd017",
   "metadata": {},
   "source": [
    "# Figuras\n",
    "\n",
    "Hasta ahora todo lo que hemos hecho ha sido dibujar gráficos en celdas, pero en la vida real necesitaremos manejar estos gráficos para poder exportarlos y utilizarlos en otros programas y aplicaciones.\n",
    "\n",
    "Para manejarlos se utilizan las figuras, la versión orientada a objetos de todo lo que hemos estado haciendo usando instancias y métodos:"
   ]
  },
  {
   "cell_type": "code",
   "execution_count": null,
   "id": "46149166",
   "metadata": {},
   "outputs": [],
   "source": [
    "# Gráficos usando figuras\n",
    "import numpy as np\n",
    "import matplotlib.pyplot as plt\n",
    "\n",
    "# La figura crea un espacio donde dibujar el gráfico\n",
    "fig = plt.figure()"
   ]
  },
  {
   "cell_type": "code",
   "execution_count": null,
   "id": "098783dd",
   "metadata": {},
   "outputs": [],
   "source": [
    "# Añadimos los límites para crear un objeto de ejes donde dibujar\n",
    "rect = (0, 0, 1, 1)\n",
    "axes = fig.add_axes(rect)\n",
    "\n",
    "# En los ejes podemos crear el gráfico mediante plt\n",
    "axes.plot(np.random.randint(100,size=[6]), label=\"Pedro\")\n",
    "axes.plot(np.random.randint(100,size=[6]), label=\"Marta\")\n",
    "axes.plot(np.random.randint(100,size=[6]), label=\"Ana\")"
   ]
  },
  {
   "cell_type": "code",
   "execution_count": null,
   "id": "d7519d97",
   "metadata": {},
   "outputs": [],
   "source": [
    "# La mayor diferencia es a la hora de personalizar el gráfico,\n",
    "# refieriéndonos a los métodos con la palabra set antes del nombre\n",
    "axes.set_ylim(0, 100)\n",
    "axes.set_xlabel(\"Meses\")\n",
    "axes.set_ylabel(\"Cantidad en €\")\n",
    "axes.set_title(\"Ahorros del primer semestre\")"
   ]
  },
  {
   "cell_type": "code",
   "execution_count": null,
   "id": "f91495ef",
   "metadata": {},
   "outputs": [],
   "source": [
    "# El mapeado de nombres ahora requiere usar dos métodos diferentes\n",
    "meses = ['Enero', 'Febrero', 'Marzo', 'Abril', 'Mayo', 'Junio']\n",
    "mapeado = range(len(meses))\n",
    "axes.set_xticks(mapeado)\n",
    "axes.set_xticklabels(meses)"
   ]
  },
  {
   "cell_type": "code",
   "execution_count": null,
   "id": "ee7d777e",
   "metadata": {},
   "outputs": [],
   "source": [
    "# Finalmente mostramos la figura resultante\n",
    "fig"
   ]
  },
  {
   "cell_type": "markdown",
   "id": "5c00de82",
   "metadata": {},
   "source": [
    "¿Cuál es la gracia de todo esto? Pues que al ser un objeto independiente podemos modificar su tamaño estableciendo una relación de pulgadas en ancho/alto y una densidad de píxeles por pulgada (dpi):"
   ]
  },
  {
   "cell_type": "code",
   "execution_count": null,
   "id": "f723b598",
   "metadata": {},
   "outputs": [],
   "source": [
    "fig.set_size_inches(2, 2)\n",
    "fig.set_dpi(100)\n",
    "fig"
   ]
  },
  {
   "cell_type": "code",
   "execution_count": null,
   "id": "522b044a",
   "metadata": {},
   "outputs": [],
   "source": [
    "# Probamos con un tamaño mayor\n",
    "fig.set_size_inches(4, 3)\n",
    "fig.set_dpi(100)\n",
    "fig"
   ]
  },
  {
   "cell_type": "markdown",
   "id": "e1420941",
   "metadata": {},
   "source": [
    "Una vez tengamos el gráfico sea de nuestro agrado podemos exportar la figura a una imagen `PNG` con `savefig`:"
   ]
  },
  {
   "cell_type": "code",
   "execution_count": null,
   "id": "ac99a334",
   "metadata": {},
   "outputs": [],
   "source": [
    "fig.savefig('grafico.png', bbox_inches='tight', dpi=100)"
   ]
  },
  {
   "cell_type": "markdown",
   "id": "6f6441df",
   "metadata": {},
   "source": [
    "## Subgráficos en figuras\n",
    "\n",
    "Para dibujar subgráficos en las figuras debemos generar una figura a partir de `plt.subplots` y las dimensiones de la cuadrícula, esto devolverá también unos ejes que podemos gestionar con los respectivos índices de cada celda:"
   ]
  },
  {
   "cell_type": "code",
   "execution_count": null,
   "id": "4e46b4e9",
   "metadata": {},
   "outputs": [],
   "source": [
    "# Creamos una figura para almacenar varios subgráficos\n",
    "fig, axes = plt.subplots(3,3)\n",
    "fig.suptitle('Subgráficos en figuras', size=15)\n",
    "\n",
    "# Dibujando 3x3=9 subgráficos\n",
    "for i in range(3):\n",
    "    for j in range(3):\n",
    "        axes[i, j].plot(np.random.randint(100, size=6))\n",
    "        axes[i, j].plot(np.random.randint(100, size=6))\n",
    "        axes[i, j].plot(np.random.randint(100, size=6))\n",
    "        axes[i, j].set_ylim(0, 100)\n",
    "        axes[i, j].set_title(f'Ejes [{i}, {j}]')"
   ]
  },
  {
   "cell_type": "markdown",
   "id": "edb5793a",
   "metadata": {},
   "source": [
    "Ajustamos el tamaño al gusto:"
   ]
  },
  {
   "cell_type": "code",
   "execution_count": null,
   "id": "4d02703d",
   "metadata": {},
   "outputs": [],
   "source": [
    "fig.set_size_inches(12, 12)\n",
    "fig"
   ]
  },
  {
   "cell_type": "markdown",
   "id": "218c7882",
   "metadata": {},
   "source": [
    "Y la guardamos:"
   ]
  },
  {
   "cell_type": "code",
   "execution_count": null,
   "id": "68e71917",
   "metadata": {},
   "outputs": [],
   "source": [
    "fig.savefig('subgraficos.png', bbox_inches='tight', dpi=100)"
   ]
  },
  {
   "cell_type": "markdown",
   "id": "2cc56796",
   "metadata": {},
   "source": [
    "En la [documentación](https://matplotlib.org/stable/gallery/subplots_axes_and_figures/subplots_demo.html) encontraréis más ejemplos sobre figuras y subgráficos."
   ]
  },
  {
   "cell_type": "code",
   "execution_count": null,
   "id": "2d7d60c2",
   "metadata": {},
   "outputs": [],
   "source": []
  }
 ],
 "metadata": {
  "kernelspec": {
   "display_name": "Python 3 (ipykernel)",
   "language": "python",
   "name": "python3"
  },
  "language_info": {
   "codemirror_mode": {
    "name": "ipython",
    "version": 3
   },
   "file_extension": ".py",
   "mimetype": "text/x-python",
   "name": "python",
   "nbconvert_exporter": "python",
   "pygments_lexer": "ipython3",
   "version": "3.9.7"
  }
 },
 "nbformat": 4,
 "nbformat_minor": 5
}
