{
 "cells": [
  {
   "cell_type": "markdown",
   "id": "7c271fd6",
   "metadata": {},
   "source": [
    "# Límites\n",
    "\n",
    "En algunas ocasiones necesitaremos manipular los límites inferiores y superiores de los ejes. Podemos hacerlo gracias a los métodos:\n",
    "\n",
    "- `plt.xlim(min, max)`\n",
    "- `plt.ylim(min, max)`\n",
    "\n",
    "Volvamos al ejemplo de los ahorros:"
   ]
  },
  {
   "cell_type": "code",
   "execution_count": null,
   "id": "5f649c19",
   "metadata": {},
   "outputs": [],
   "source": [
    "import numpy as np\n",
    "import matplotlib.pyplot as plt"
   ]
  },
  {
   "cell_type": "code",
   "execution_count": null,
   "id": "52f7c14e",
   "metadata": {},
   "outputs": [],
   "source": [
    "ahorros = np.random.randint(50,100, size=[6])\n",
    "meses = ['Enero','Febrero','Marzo','Abril','Mayo','Junio']\n",
    "mapeado = range(len(meses))\n",
    "\n",
    "plt.plot(ahorros)           # Añadimos el gráfico\n",
    "plt.xticks(mapeado, meses)  # Mapeamos los valores horizontales\n",
    "plt.show()                  # Finalmente lo mostramos"
   ]
  },
  {
   "cell_type": "markdown",
   "id": "c313bd2e",
   "metadata": {},
   "source": [
    "En este gráfico estamos manejando un array de datos aleatorios de 50 a 100. Sin embargo el gráfico establecerá los límites en los meses con más y menos ahorros. Podemos establecer que utilice 0 y 100 como escala para el eje Y con los ahorros aunque no tengamos ningún valor en ese rango:"
   ]
  },
  {
   "cell_type": "code",
   "execution_count": null,
   "id": "421a7665",
   "metadata": {},
   "outputs": [],
   "source": [
    "# Límites verticales\n",
    "plt.plot(ahorros)           # Añadimos el gráfico\n",
    "plt.xticks(mapeado, meses)  # Mapeamos los valores horizontales\n",
    "plt.ylim(0, 100)            # Configuramos el límite vertical\n",
    "plt.show()                  # Finalmente lo mostramos"
   ]
  },
  {
   "cell_type": "markdown",
   "id": "5c012de0",
   "metadata": {},
   "source": [
    "Utilizando los límites podemos centrarnos en una parte específica del gráfico.\n",
    "\n",
    "Por ejemplo para mostrar únicamente los meses Febrero, Marzo, Abril y Mayo, podemos limitar el eje X a los valores numéricos de los meses 1, 2, 3 y 4 con un range de 1 a 4:"
   ]
  },
  {
   "cell_type": "code",
   "execution_count": null,
   "id": "c48ad97b",
   "metadata": {},
   "outputs": [],
   "source": [
    "# Límites horizontales\n",
    "plt.plot(ahorros)           # Añadimos el gráfico\n",
    "plt.xticks(mapeado, meses)  # Mapeamos los valores horizontales\n",
    "plt.xlim(1, 4)              # Configuramos el límite horizontal\n",
    "plt.ylim(0, 100)            # Configuramos el límite vertical\n",
    "plt.show()                  # Finalmente lo mostramos"
   ]
  },
  {
   "cell_type": "markdown",
   "id": "40984f64",
   "metadata": {},
   "source": [
    "En cierta forma podemos considerarlo una manera de hacer zoom."
   ]
  },
  {
   "cell_type": "code",
   "execution_count": null,
   "id": "0b4a74ca",
   "metadata": {},
   "outputs": [],
   "source": []
  }
 ],
 "metadata": {
  "kernelspec": {
   "display_name": "Python 3 (ipykernel)",
   "language": "python",
   "name": "python3"
  },
  "language_info": {
   "codemirror_mode": {
    "name": "ipython",
    "version": 3
   },
   "file_extension": ".py",
   "mimetype": "text/x-python",
   "name": "python",
   "nbconvert_exporter": "python",
   "pygments_lexer": "ipython3",
   "version": "3.9.7"
  }
 },
 "nbformat": 4,
 "nbformat_minor": 5
}
