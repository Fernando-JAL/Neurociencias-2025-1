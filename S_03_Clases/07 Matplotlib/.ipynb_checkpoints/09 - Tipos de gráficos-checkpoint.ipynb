{
 "cells": [
  {
   "cell_type": "markdown",
   "id": "3d916d91",
   "metadata": {},
   "source": [
    "# Tipos de gráficos\n",
    "\n",
    "Esta última lección es una galería donde veremos diferentes tipos de gráficos. En esencia se utilizan igual que el gráfico lineal pero cada uno tiene sus peculiaridades. No entraremos en detalle, os dejaré los enlaces a la documentación de cada tipo por si queréis aprender más."
   ]
  },
  {
   "cell_type": "code",
   "execution_count": null,
   "id": "0f32e24e",
   "metadata": {},
   "outputs": [],
   "source": [
    "import numpy as np\n",
    "import matplotlib.pyplot as plt"
   ]
  },
  {
   "cell_type": "markdown",
   "id": "d235d1a6",
   "metadata": {},
   "source": [
    "## Gráfico lineal (plot)\n",
    "\n",
    "Es el que hemos utilizado durante todo el curso, no requieren indicar nada específico a la hora de crearlos.\n",
    "\n",
    "- [Documentación oficial](https://matplotlib.org/devdocs/api/_as_gen/matplotlib.pyplot.plot.html)"
   ]
  },
  {
   "cell_type": "code",
   "execution_count": null,
   "id": "bd9858d3",
   "metadata": {},
   "outputs": [],
   "source": [
    "# Gráfico lineal\n",
    "\n",
    "x = np.arange(1, 11)\n",
    "y = np.random.randint(10, size=10)\n",
    "\n",
    "plt.plot(x, y)\n",
    "plt.show()"
   ]
  },
  {
   "cell_type": "markdown",
   "id": "0484a06a",
   "metadata": {},
   "source": [
    "## Gráfico de líneas verticales (stem)\n",
    "\n",
    "Este gráfico es muy útil para ilustrar valores positivos y negativos."
   ]
  },
  {
   "cell_type": "code",
   "execution_count": null,
   "id": "358c5568",
   "metadata": {},
   "outputs": [],
   "source": [
    "# Gráfico de líneas verticales\n",
    "plt.stem(x, y)\n",
    "plt.show()"
   ]
  },
  {
   "cell_type": "markdown",
   "id": "221c986e",
   "metadata": {},
   "source": [
    "## Gráfico de series comparadas (fill_between)\n",
    "\n",
    "Con este podemos rellenar el espacio que hay entre dos series en el eje Y, pero hay que dibujarlas de más excluyente a menos para que no solapen los colores.\n",
    "\n",
    "- [Documentación oficial](https://matplotlib.org/devdocs/api/_as_gen/matplotlib.pyplot.fill_between.html)"
   ]
  },
  {
   "cell_type": "code",
   "execution_count": null,
   "id": "b5b284cc",
   "metadata": {},
   "outputs": [],
   "source": [
    "# Gráfico de series comparadas\n",
    "for t in range(1, 11)[::-1]:\n",
    "    plt.fill_between(\n",
    "        range(1, 11),\n",
    "        [t * n for n in range(1, 11)],\n",
    "        label=f\"Tabla del {t}\"\n",
    "    )\n",
    "    \n",
    "plt.title(\"Tablas de multiplicar\")\n",
    "plt.legend(loc='upper left')\n",
    "plt.show()"
   ]
  },
  {
   "cell_type": "markdown",
   "id": "5e9c2af4",
   "metadata": {},
   "source": [
    "## Gráfico circular o de pastel (pie)\n",
    "\n",
    "El gráfico de \"quesitos\" como yo lo llamo es muy útil para representar porcentajes.\n",
    "\n",
    "- [Documentación oficial](https://matplotlib.org/devdocs/api/_as_gen/matplotlib.pyplot.pie.html)"
   ]
  },
  {
   "cell_type": "code",
   "execution_count": null,
   "id": "bf968054",
   "metadata": {},
   "outputs": [],
   "source": [
    "# Gráfico circular o de pastel\n",
    "# https://es.wikipedia.org/wiki/Anexo:Destinos_tur%C3%ADsticos_mundiales\n",
    "\n",
    "turistas = [86.9, 81.8, 75.9, 60.7, 58.2, 39.3, 37.7, 37.6, 37.5, 35.4]\n",
    "paises = ['Francia', 'España', 'EEUU', 'China', 'Italia', \n",
    "          'México', 'Reino Unido', 'Turquía', 'Alemania', 'Tailandia']\n",
    "\n",
    "explode = [0, 0.2, 0, 0, 0, 0.5, 0, 0, 0, 0]  # Destacar algunos\n",
    "\n",
    "plt.title('TOP 10 DESTINOS TURÍSTICOS EN 2017')\n",
    "plt.pie(turistas, labels=paises, explode=explode, autopct='%1.1f%%', shadow=True, startangle=90)\n",
    "plt.show()"
   ]
  },
  {
   "cell_type": "markdown",
   "id": "f2482ebb",
   "metadata": {},
   "source": [
    "## Gráfico de cajas y bigotes (boxplot)\n",
    "\n",
    "Este tipo nos permite hacernos una idea de valores medios gracias a las cajas, mientras por otro lado los bigotes nos indican valores límitantes.\n",
    "\n",
    "- [Documentación oficial](https://matplotlib.org/devdocs/api/_as_gen/matplotlib.pyplot.boxplot.html)"
   ]
  },
  {
   "cell_type": "code",
   "execution_count": null,
   "id": "d6a94f0f",
   "metadata": {},
   "outputs": [],
   "source": [
    "# Gráfico de cajas y bigotes\n",
    "# https://es.wikipedia.org/wiki/Estatura\n",
    "\n",
    "jap = np.random.uniform(160, 170, 100)\n",
    "hol = np.random.uniform(171, 180, 100)\n",
    "ale = np.random.uniform(168, 176, 100)\n",
    "\n",
    "# Cambio los colores para que se vea bien en VSC con tema oscura\n",
    "plt.boxplot([jap, hol, ale], notch=True, patch_artist=True)\n",
    "plt.xticks([1, 2, 3], ['Japón', 'Países Bajos', 'Alemania'])\n",
    "plt.ylabel('Estatura media (cm)')\n",
    "plt.show()"
   ]
  },
  {
   "cell_type": "markdown",
   "id": "05961cce",
   "metadata": {},
   "source": [
    "## Gráfico histograma (hist)\n",
    "\n",
    "Los histogramas sirven para hacernos una idea de la frecuencia de distribución de valores en un rango determinado.\n",
    "\n",
    "- [Documentación oficial](https://matplotlib.org/devdocs/api/_as_gen/matplotlib.pyplot.hist.html)"
   ]
  },
  {
   "cell_type": "code",
   "execution_count": null,
   "id": "50651cc2",
   "metadata": {},
   "outputs": [],
   "source": [
    "# Gráfico histograma\n",
    "alturas = np.random.uniform(170, 180, 1000)\n",
    "\n",
    "# El rango se define con bins, debe ser menor que el número de muestras\n",
    "plt.hist(alturas, bins=10, edgecolor='black')\n",
    "\n",
    "plt.title(\"Distribución de 1000 alturas\")\n",
    "plt.xlabel(\"Altura media (cm)\")\n",
    "plt.ylabel(\"Muestras\")\n",
    "plt.show()"
   ]
  },
  {
   "cell_type": "markdown",
   "id": "8b0318c8",
   "metadata": {},
   "source": [
    "Otro ejemplo con [distribución gaussiana](https://es.wikipedia.org/wiki/Distribuci%C3%B3n_normal) a partir de un vector normal con **numpy** que tiende a dibujar una campana con su máximo justo en medio:"
   ]
  },
  {
   "cell_type": "code",
   "execution_count": null,
   "id": "e52ef8c4",
   "metadata": {},
   "outputs": [],
   "source": [
    "# Gráfico histograma gaussiano\n",
    "numeros = np.random.normal(size=1000)\n",
    "\n",
    "plt.hist(numeros, bins=10, edgecolor='black')\n",
    "\n",
    "plt.title(\"Histograma Gaussiano\")\n",
    "plt.show()"
   ]
  },
  {
   "cell_type": "markdown",
   "id": "86419f6c",
   "metadata": {},
   "source": [
    "## Gráfico de barras (bar)\n",
    "\n",
    "Este es el clásico gráfico donde las barras nos indican cantidades en el eje Y para los valores en el eje X.\n",
    "\n",
    "- [Documentación oficial](https://matplotlib.org/devdocs/api/_as_gen/matplotlib.pyplot.bar.html)"
   ]
  },
  {
   "cell_type": "code",
   "execution_count": null,
   "id": "dd8b4b33",
   "metadata": {
    "scrolled": true
   },
   "outputs": [],
   "source": [
    "# Gráfico de barras\n",
    "# http://www.datosmacro.com/prima-riesgo/espana\n",
    "\n",
    "fechas = ['25/06/2022', '27/06/2022', '28/06/2022', '29/06/2022', '30/06/2022']\n",
    "primas = [111, 111, 109, 107, 108]\n",
    "\n",
    "plt.bar(range(5), primas, edgecolor='black')\n",
    "\n",
    "plt.xticks(range(5), fechas, rotation=60)\n",
    "plt.title(\"PRIMA DE RIESGO EN ESPAÑA\")\n",
    "plt.ylim(min(primas)-1, max(primas)+1)\n",
    "plt.show()"
   ]
  },
  {
   "cell_type": "markdown",
   "id": "a14da6a7",
   "metadata": {},
   "source": [
    "## Gráfico de barras horizontales (barh)\n",
    "\n",
    "Es una variante del anterior con las columnas dispuestas horizontalmente, por lo que cambian los ejes de las etiquetas y límites:\n",
    "\n",
    "- [Documentación oficial](https://matplotlib.org/devdocs/api/_as_gen/matplotlib.pyplot.barh.html)"
   ]
  },
  {
   "cell_type": "code",
   "execution_count": null,
   "id": "fdc83c44",
   "metadata": {},
   "outputs": [],
   "source": [
    "# Gráfico de barras horizontales\n",
    "# http://www.datosmacro.com/prima-riesgo/espana\n",
    "\n",
    "fechas = ['25/06/2022', '27/06/2022', '28/06/2022', '29/06/2022', '30/06/2022']\n",
    "primas = [111, 111, 109, 107, 108]\n",
    "\n",
    "plt.barh(range(5), primas, edgecolor='black')\n",
    "\n",
    "plt.yticks(range(5), fechas, rotation=60)\n",
    "plt.title(\"PRIMA DE RIESGO EN ESPAÑA\")\n",
    "plt.xlim(min(primas)-1, max(primas)+1)\n",
    "plt.show()"
   ]
  },
  {
   "cell_type": "markdown",
   "id": "02078b53",
   "metadata": {},
   "source": [
    "## Gráfico de escaleras (step)\n",
    "\n",
    "Otro gráfico muy simple que nos muestra las variaciones de forma continuada dibujando una escalera:\n",
    "\n",
    "- [Documentación oficial](https://matplotlib.org/devdocs/api/_as_gen/matplotlib.pyplot.step.html)"
   ]
  },
  {
   "cell_type": "code",
   "execution_count": null,
   "id": "2d99640e",
   "metadata": {},
   "outputs": [],
   "source": [
    "# Gráfico de escaleras\n",
    "x = np.arange(1, 11)\n",
    "y = np.random.randint(10, size=10)\n",
    "\n",
    "plt.step(x, y)\n",
    "plt.show()"
   ]
  },
  {
   "cell_type": "markdown",
   "id": "b52455d0",
   "metadata": {},
   "source": [
    "Matplotlib ofrece muchísimos tipos de gráficos, os sugiero explorar más ejemplos en la [galería oficial](https://matplotlib.org/stable/gallery/index.html)."
   ]
  },
  {
   "cell_type": "code",
   "execution_count": null,
   "id": "c402406b",
   "metadata": {},
   "outputs": [],
   "source": []
  }
 ],
 "metadata": {
  "kernelspec": {
   "display_name": "Python 3 (ipykernel)",
   "language": "python",
   "name": "python3"
  },
  "language_info": {
   "codemirror_mode": {
    "name": "ipython",
    "version": 3
   },
   "file_extension": ".py",
   "mimetype": "text/x-python",
   "name": "python",
   "nbconvert_exporter": "python",
   "pygments_lexer": "ipython3",
   "version": "3.9.7"
  }
 },
 "nbformat": 4,
 "nbformat_minor": 5
}
