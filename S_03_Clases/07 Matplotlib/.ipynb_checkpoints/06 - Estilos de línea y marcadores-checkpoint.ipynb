{
 "cells": [
  {
   "cell_type": "markdown",
   "id": "46fd8968",
   "metadata": {},
   "source": [
    "# Estilos de línea y marcadores\n",
    "\n",
    "En esta lección vamos a seguir personalizando nuestro gráfico, concretamente las líneas y los marcadores:"
   ]
  },
  {
   "cell_type": "code",
   "execution_count": null,
   "id": "1d43a084",
   "metadata": {},
   "outputs": [],
   "source": [
    "import numpy as np\n",
    "import matplotlib.pyplot as plt\n",
    "\n",
    "ahorros = np.random.randint(100, size=[6])\n",
    "meses = ['Enero','Febrero','Marzo','Abril','Mayo','Junio']\n",
    "mapeado = range(len(meses))\n",
    "\n",
    "arr_pedro = np.random.randint(100, size=[6])\n",
    "arr_marta = np.random.randint(100, size=[6])\n",
    "arr_ana = np.random.randint(100, size=[6])"
   ]
  },
  {
   "cell_type": "markdown",
   "id": "0164f847",
   "metadata": {},
   "source": [
    "## Líneas\n",
    "\n",
    "Tenemos las siguientes propiedades básicas:\n",
    "\n",
    "- `linewidth (lw)`: Ancho de la línea\n",
    "- `linestyle (ls)`: Estilo de la línea\n",
    "- `color`: Color de la línea (número y decimal)\n",
    "- `alpha`: Opacidad de la línea (de 0 a 1)"
   ]
  },
  {
   "cell_type": "code",
   "execution_count": null,
   "id": "32c41ef6",
   "metadata": {},
   "outputs": [],
   "source": [
    "# Configuración de las líneas\n",
    "plt.plot(arr_pedro, label=\"Pedro\", color=\"red\", ls=\"-\", lw=\"5\")\n",
    "plt.plot(arr_marta, label=\"Marta\", color=\"#0000ff\", ls=\"--\", lw=\"4\")\n",
    "plt.plot(arr_ana, label=\"Ana\", color=\"green\", ls=\"-.\", lw=\"3\")\n",
    "plt.xticks(mapeado, meses)\n",
    "plt.legend()\n",
    "plt.show()"
   ]
  },
  {
   "cell_type": "markdown",
   "id": "1e8d46bc",
   "metadata": {},
   "source": [
    "En la [documentación oficial](https://matplotlib.org/api/lines_api.html#matplotlib.lines.Line2D.set_linestyle) podéis consultar más opciones de configuración."
   ]
  },
  {
   "cell_type": "markdown",
   "id": "bef9177b",
   "metadata": {},
   "source": [
    "## Marcadores\n",
    "\n",
    "Hacen referencia a los puntos o vértices donde se dibujan los valores:\n",
    "\n",
    "- `marker`: Tipo de marcador\n",
    "- `markersize`: Tamaño del marcador\n",
    "- `markerfacecolor`: Color del marcador (número y decimal)\n",
    "- `markeredgecolor`: Color del borde (número y decimal)\n",
    "- `markeredgewidth`: Tamaño del borde"
   ]
  },
  {
   "cell_type": "code",
   "execution_count": null,
   "id": "82f11b53",
   "metadata": {},
   "outputs": [],
   "source": [
    "# Configuración de los marcadores\n",
    "plt.plot(arr_pedro, label=\"Pedro\", color=\"red\", ls=\"-\", lw=\"2\", \n",
    "         marker=\"o\", markersize=\"10\", markeredgewidth=\"2\", markerfacecolor=\"yellow\", markeredgecolor=\"red\")\n",
    "\n",
    "plt.plot(arr_marta, label=\"Marta\", color=\"#0000ff\", ls=\"--\", lw=\"2\",\n",
    "         marker=\"*\", markersize=\"15\", markeredgewidth=\"2\", markerfacecolor=\"cyan\", markeredgecolor=\"#0000ff\")\n",
    "\n",
    "plt.plot(arr_ana, label=\"Ana\", color=\"green\", ls=\"-.\", lw=\"2\",\n",
    "         marker=\"D\", markersize=\"10\", markeredgewidth=\"2\", markerfacecolor=\"lime\", markeredgecolor=\"green\")\n",
    "\n",
    "plt.xticks(mapeado, meses)\n",
    "plt.legend()\n",
    "plt.show()"
   ]
  },
  {
   "cell_type": "markdown",
   "id": "0a5cd58b",
   "metadata": {},
   "source": [
    "La lista completa de marcadores posibles la encontraréis en la [documentación oficial](https://matplotlib.org/api/markers_api.html)."
   ]
  },
  {
   "cell_type": "code",
   "execution_count": null,
   "id": "2c0be155",
   "metadata": {},
   "outputs": [],
   "source": []
  }
 ],
 "metadata": {
  "kernelspec": {
   "display_name": "Python 3 (ipykernel)",
   "language": "python",
   "name": "python3"
  },
  "language_info": {
   "codemirror_mode": {
    "name": "ipython",
    "version": 3
   },
   "file_extension": ".py",
   "mimetype": "text/x-python",
   "name": "python",
   "nbconvert_exporter": "python",
   "pygments_lexer": "ipython3",
   "version": "3.9.7"
  }
 },
 "nbformat": 4,
 "nbformat_minor": 5
}
