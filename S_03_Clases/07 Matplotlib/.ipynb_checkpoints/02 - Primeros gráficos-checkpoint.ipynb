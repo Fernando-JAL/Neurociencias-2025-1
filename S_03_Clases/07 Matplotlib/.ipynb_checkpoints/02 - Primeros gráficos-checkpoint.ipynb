{
 "cells": [
  {
   "cell_type": "markdown",
   "id": "6d9c6c17",
   "metadata": {},
   "source": [
    "# Primeros gráficos\n",
    "\n",
    "Empezaremos nuestra andadura viendo el gráfico más simple, el de líneas:"
   ]
  },
  {
   "cell_type": "code",
   "execution_count": null,
   "id": "36d70042",
   "metadata": {},
   "outputs": [],
   "source": [
    "import numpy as np\n",
    "import pandas as pd\n",
    "import matplotlib.pyplot as plt"
   ]
  },
  {
   "cell_type": "markdown",
   "id": "1adb2e6e",
   "metadata": {},
   "source": [
    "## Usando listas\n",
    "\n",
    "Supongamos que necesitamos un gráfico que muestre los ahorros que hemos tenido durante los últimos 4 meses.\n",
    "\n",
    "Vamos a declarar una lista con ellos:"
   ]
  },
  {
   "cell_type": "code",
   "execution_count": null,
   "id": "e5aa16ce",
   "metadata": {},
   "outputs": [],
   "source": [
    "ahorros = [52, 104, 32, 65, 15, 76]"
   ]
  },
  {
   "cell_type": "markdown",
   "id": "b9d0abf3",
   "metadata": {},
   "source": [
    "Podemos dibujar un gráfico a partir de esta lista sin mucha complicación:"
   ]
  },
  {
   "cell_type": "code",
   "execution_count": null,
   "id": "b36c5523",
   "metadata": {},
   "outputs": [],
   "source": [
    "plt.plot(ahorros)"
   ]
  },
  {
   "cell_type": "markdown",
   "id": "86ac1567",
   "metadata": {},
   "source": [
    "Este gráfico tiene dos ejes, el horizontal (X) con 4 números de 0 a 3 y el vertical con los ahorros (Y) que empieza con el mínimo 30 hasta el máximo 100. Estos números corresponden a los índices de los valores en la lista y `matplotlib` genera una escala a partir de ellos.\n",
    "\n",
    "## Usando arrays\n",
    "\n",
    "También podemos crear gráficos a partir de arrays, como este array aleatorio de ahorros para el último año (12 meses):"
   ]
  },
  {
   "cell_type": "code",
   "execution_count": null,
   "id": "79fbe70a",
   "metadata": {},
   "outputs": [],
   "source": [
    "ahorros = np.random.randint(100, size=[6])\n",
    "\n",
    "plt.plot(ahorros)"
   ]
  },
  {
   "cell_type": "markdown",
   "id": "a4d3dc69",
   "metadata": {},
   "source": [
    "## Usando DataFrames\n",
    "\n",
    "Finalmente, también podemos crear un gráfico a partir de un `dataframe` como el anterior pero con etiquetas:"
   ]
  },
  {
   "cell_type": "code",
   "execution_count": null,
   "id": "854dce6d",
   "metadata": {},
   "outputs": [],
   "source": [
    "df = pd.DataFrame(ahorros, index=['Enero','Febrero','Marzo','Abril','Mayo','Junio'])"
   ]
  },
  {
   "cell_type": "code",
   "execution_count": null,
   "id": "d4f75fee",
   "metadata": {},
   "outputs": [],
   "source": [
    "plt.plot(df)"
   ]
  },
  {
   "cell_type": "markdown",
   "id": "fa63650d",
   "metadata": {},
   "source": [
    "Los `DataFrames` nos permiten configurar fácilmente el texto para los ejes del gráfico. \n",
    "\n",
    "También tienen su propio método `plot`, con lo cuál no tenemos que pasarlos a `plt.plot`, pero no vamos a profundizar en él porque tiene sus propias configuraciones y sería como aprender dos veces lo mismo:"
   ]
  },
  {
   "cell_type": "code",
   "execution_count": null,
   "id": "753e94bd",
   "metadata": {},
   "outputs": [],
   "source": [
    "df.plot()"
   ]
  },
  {
   "cell_type": "markdown",
   "id": "62527469",
   "metadata": {},
   "source": [
    "Los detalles sobre el método `plot` de los `DataFrames` se pueden encontrar en la [documentación oficial](https://pandas.pydata.org/docs/reference/api/pandas.DataFrame.plot.html) de pandas."
   ]
  },
  {
   "cell_type": "code",
   "execution_count": null,
   "id": "3ae8e86d",
   "metadata": {},
   "outputs": [],
   "source": []
  }
 ],
 "metadata": {
  "kernelspec": {
   "display_name": "Python 3 (ipykernel)",
   "language": "python",
   "name": "python3"
  },
  "language_info": {
   "codemirror_mode": {
    "name": "ipython",
    "version": 3
   },
   "file_extension": ".py",
   "mimetype": "text/x-python",
   "name": "python",
   "nbconvert_exporter": "python",
   "pygments_lexer": "ipython3",
   "version": "3.9.7"
  }
 },
 "nbformat": 4,
 "nbformat_minor": 5
}
