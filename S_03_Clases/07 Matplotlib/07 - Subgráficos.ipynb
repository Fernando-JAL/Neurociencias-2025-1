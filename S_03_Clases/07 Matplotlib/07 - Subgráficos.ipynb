{
 "cells": [
  {
   "cell_type": "markdown",
   "id": "2d9e8ad2",
   "metadata": {},
   "source": [
    "# Subgráficos\n",
    "\n",
    "Los subgráficos son útiles si queremos dibujar más de un gráfico en el mismo espacio, por ejemplo para hacer una comparativa de los ahorros de cada persona sin sobreponer las líneas en la misma figura:"
   ]
  },
  {
   "cell_type": "code",
   "execution_count": null,
   "id": "e50fa9da",
   "metadata": {},
   "outputs": [],
   "source": [
    "import numpy as np\n",
    "import matplotlib.pyplot as plt\n",
    "\n",
    "ahorros = np.random.randint(100, size=[6])\n",
    "meses = ['Enero','Febrero','Marzo','Abril','Mayo','Junio']\n",
    "mapeado = range(len(meses))\n",
    "\n",
    "arr_pedro = np.random.randint(100, size=[6])\n",
    "arr_marta = np.random.randint(100, size=[6])\n",
    "arr_ana = np.random.randint(100, size=[6])\n",
    "\n",
    "plt.plot(arr_pedro, label=\"Pedro\", color=\"red\", ls=\"-\", lw=\"2\", \n",
    "         marker=\"o\", markersize=\"10\", markeredgewidth=\"2\", markerfacecolor=\"yellow\", markeredgecolor=\"red\")\n",
    "plt.plot(arr_marta, label=\"Marta\", color=\"#0000ff\", ls=\"--\", lw=\"2\", \n",
    "         marker=\"*\", markersize=\"15\", markeredgewidth=\"2\", markerfacecolor=\"cyan\", markeredgecolor=\"#0000ff\")\n",
    "plt.plot(arr_ana, label=\"Ana\", color=\"green\", ls=\"-.\", lw=\"2\", \n",
    "         marker=\"D\", markersize=\"10\", markeredgewidth=\"2\", markerfacecolor=\"lime\", markeredgecolor=\"green\")\n",
    "plt.xticks(mapeado, meses)\n",
    "plt.legend()\n",
    "plt.show()"
   ]
  },
  {
   "cell_type": "markdown",
   "id": "7f76ef55",
   "metadata": {},
   "source": [
    "Los subgráficos se manejan de forma cuadricular como si fueran una tabla con filas y columnas mediante la instrucción `plt.subplot`:"
   ]
  },
  {
   "cell_type": "code",
   "execution_count": null,
   "id": "7f4c6dd0",
   "metadata": {},
   "outputs": [],
   "source": [
    "# Tabla 1x3 y dibujaremos en la celda 1\n",
    "plt.subplot(1, 3, 1)  \n",
    "plt.plot(arr_pedro, label=\"Pedro\", color=\"red\", ls=\"-\", lw=\"2\", \n",
    "         marker=\"o\", markersize=\"10\", markeredgewidth=\"2\", markerfacecolor=\"yellow\", markeredgecolor=\"red\")\n",
    "plt.xticks(mapeado, meses)\n",
    "plt.legend()\n",
    "\n",
    "# Tabla 1x3 y dibujaremos en la celda 2\n",
    "plt.subplot(1, 3, 2)  \n",
    "plt.plot(arr_marta, label=\"Marta\", color=\"#0000ff\", ls=\"--\", lw=\"2\", \n",
    "         marker=\"*\", markersize=\"15\", markeredgewidth=\"2\", markerfacecolor=\"cyan\", markeredgecolor=\"#0000ff\")\n",
    "plt.xticks(mapeado, meses)\n",
    "plt.legend()\n",
    "\n",
    "# Tabla 1x3 y dibujaremos en la celda 3\n",
    "plt.subplot(1, 3, 3)  \n",
    "plt.plot(arr_ana, label=\"Ana\", color=\"green\", ls=\"-.\", lw=\"2\", \n",
    "         marker=\"D\", markersize=\"10\", markeredgewidth=\"2\", markerfacecolor=\"lime\", markeredgecolor=\"green\")\n",
    "plt.xticks(mapeado, meses)\n",
    "plt.legend()\n",
    "\n",
    "# Dibujamos el conjunto\n",
    "plt.show()  "
   ]
  },
  {
   "cell_type": "markdown",
   "id": "093feb11",
   "metadata": {},
   "source": [
    "Cada subgráfico se dibuja individualmente con su propia configuración (títulos, etiquetas, leyendas...) y finalmente con `plt.show()` se dibuja el conjunto. Además al ser más pequeños no siempre caberá todo el contenido en los ejes.\n",
    "\n",
    "Podemos ajustar el tamaño mediante la instrucción `\n",
    "plt.rcParams[\"figure.figsize\"]`, aunque a veces hay que ejecutarla un par de veces para que los cambios se activen en jupyter:"
   ]
  },
  {
   "cell_type": "code",
   "execution_count": null,
   "id": "53f8965d",
   "metadata": {},
   "outputs": [],
   "source": [
    "plt.rcParams[\"figure.figsize\"] = (15,5)  # pulgadas de ancho y alto"
   ]
  },
  {
   "cell_type": "code",
   "execution_count": null,
   "id": "0c72f9cf",
   "metadata": {},
   "outputs": [],
   "source": [
    "# Tabla 1x3 y dibujaremos en la celda 1\n",
    "plt.subplot(1, 3, 1)  \n",
    "plt.plot(arr_pedro, label=\"Pedro\", color=\"red\", ls=\"-\", lw=\"2\", \n",
    "         marker=\"o\", markersize=\"10\", markeredgewidth=\"2\", markerfacecolor=\"yellow\", markeredgecolor=\"red\")\n",
    "plt.xticks(mapeado, meses)\n",
    "plt.legend()\n",
    "\n",
    "# Tabla 1x3 y dibujaremos en la celda 2\n",
    "plt.subplot(1, 3, 2)  \n",
    "plt.plot(arr_marta, label=\"Marta\", color=\"#0000ff\", ls=\"--\", lw=\"2\", \n",
    "         marker=\"*\", markersize=\"15\", markeredgewidth=\"2\", markerfacecolor=\"cyan\", markeredgecolor=\"#0000ff\")\n",
    "plt.xticks(mapeado, meses)\n",
    "plt.legend()\n",
    "\n",
    "# Tabla 1x3 y dibujaremos en la celda 3\n",
    "plt.subplot(1, 3, 3)  \n",
    "plt.plot(arr_ana, label=\"Ana\", color=\"green\", ls=\"-.\", lw=\"2\", marker=\"D\", \n",
    "         markersize=\"10\", markeredgewidth=\"2\", markerfacecolor=\"lime\", markeredgecolor=\"green\")\n",
    "plt.xticks(mapeado, meses)\n",
    "plt.legend()\n",
    "\n",
    "# Dibujamos el conjunto\n",
    "plt.show()  "
   ]
  },
  {
   "cell_type": "markdown",
   "id": "b2cb3592",
   "metadata": {},
   "source": [
    "Veamos otro ejemplo generado dinámicamente utilizando un bucle:"
   ]
  },
  {
   "cell_type": "code",
   "execution_count": null,
   "id": "e2f283cb",
   "metadata": {},
   "outputs": [],
   "source": [
    "# Cambiamos el tamaño de los gráficos generados\n",
    "plt.rcParams[\"figure.figsize\"] = (9,9)\n",
    "\n",
    "# Dibujando 9 subgráficos\n",
    "plt.suptitle('Subgráficos', size=15)\n",
    "for i in range(9):\n",
    "    plt.subplot(3, 3, i+1)  # Tabla 3x3\n",
    "    plt.plot(np.random.randint(100, size=[6]))\n",
    "    plt.plot(np.random.randint(100, size=[6]))\n",
    "    plt.ylim(0, 100)"
   ]
  },
  {
   "cell_type": "markdown",
   "id": "09f9964e",
   "metadata": {},
   "source": [
    "En la próxima lección aprenderemos a controlar el tamaño de los gráficos y otras opciones visuales mediante figuras."
   ]
  },
  {
   "cell_type": "code",
   "execution_count": null,
   "id": "f9a7a676",
   "metadata": {},
   "outputs": [],
   "source": []
  }
 ],
 "metadata": {
  "kernelspec": {
   "display_name": "Python 3 (ipykernel)",
   "language": "python",
   "name": "python3"
  },
  "language_info": {
   "codemirror_mode": {
    "name": "ipython",
    "version": 3
   },
   "file_extension": ".py",
   "mimetype": "text/x-python",
   "name": "python",
   "nbconvert_exporter": "python",
   "pygments_lexer": "ipython3",
   "version": "3.9.7"
  }
 },
 "nbformat": 4,
 "nbformat_minor": 5
}
