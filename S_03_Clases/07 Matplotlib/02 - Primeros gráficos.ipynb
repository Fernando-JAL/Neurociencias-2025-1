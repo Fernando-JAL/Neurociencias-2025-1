{
 "cells": [
  {
   "cell_type": "markdown",
   "id": "6d9c6c17",
   "metadata": {},
   "source": [
    "# Primeros gráficos\n",
    "\n",
    "Empezaremos nuestra andadura viendo el gráfico más simple, el de líneas:"
   ]
  },
  {
   "cell_type": "code",
   "execution_count": 1,
   "id": "36d70042",
   "metadata": {},
   "outputs": [],
   "source": [
    "import numpy as np\n",
    "import pandas as pd\n",
    "import matplotlib.pyplot as plt"
   ]
  },
  {
   "cell_type": "markdown",
   "id": "1adb2e6e",
   "metadata": {},
   "source": [
    "## Usando listas\n",
    "\n",
    "Supongamos que necesitamos un gráfico que muestre los ahorros que hemos tenido durante los últimos 4 meses.\n",
    "\n",
    "Vamos a declarar una lista con ellos:"
   ]
  },
  {
   "cell_type": "code",
   "execution_count": 2,
   "id": "e5aa16ce",
   "metadata": {},
   "outputs": [],
   "source": [
    "ahorros = [52, 104, 32, 65, 15, 76]"
   ]
  },
  {
   "cell_type": "markdown",
   "id": "b9d0abf3",
   "metadata": {},
   "source": [
    "Podemos dibujar un gráfico a partir de esta lista sin mucha complicación:"
   ]
  },
  {
   "cell_type": "code",
   "execution_count": 3,
   "id": "b36c5523",
   "metadata": {},
   "outputs": [
    {
     "data": {
      "text/plain": [
       "[<matplotlib.lines.Line2D at 0x1ad5e5a8e20>]"
      ]
     },
     "execution_count": 3,
     "metadata": {},
     "output_type": "execute_result"
    },
    {
     "data": {
      "image/png": "[encoded data removed]",
      "text/plain": [
       "<Figure size 432x288 with 1 Axes>"
      ]
     },
     "metadata": {
      "needs_background": "light"
     },
     "output_type": "display_data"
    }
   ],
   "source": [
    "plt.plot(ahorros)"
   ]
  },
  {
   "cell_type": "markdown",
   "id": "86ac1567",
   "metadata": {},
   "source": [
    "Este gráfico tiene dos ejes, el horizontal (X) con 4 números de 0 a 3 y el vertical con los ahorros (Y) que empieza con el mínimo 30 hasta el máximo 100. Estos números corresponden a los índices de los valores en la lista y `matplotlib` genera una escala a partir de ellos.\n",
    "\n",
    "## Usando arrays\n",
    "\n",
    "También podemos crear gráficos a partir de arrays, como este array aleatorio de ahorros para el último año (12 meses):"
   ]
  },
  {
   "cell_type": "code",
   "execution_count": 4,
   "id": "79fbe70a",
   "metadata": {},
   "outputs": [
    {
     "data": {
      "text/plain": [
       "[<matplotlib.lines.Line2D at 0x1ad5e6ac520>]"
      ]
     },
     "execution_count": 4,
     "metadata": {},
     "output_type": "execute_result"
    },
    {
     "data": {
      "image/png": "[encoded data removed]",
      "text/plain": [
       "<Figure size 432x288 with 1 Axes>"
      ]
     },
     "metadata": {
      "needs_background": "light"
     },
     "output_type": "display_data"
    }
   ],
   "source": [
    "ahorros = np.random.randint(100, size=[6])\n",
    "\n",
    "plt.plot(ahorros)"
   ]
  },
  {
   "cell_type": "markdown",
   "id": "a4d3dc69",
   "metadata": {},
   "source": [
    "## Usando DataFrames\n",
    "\n",
    "Finalmente, también podemos crear un gráfico a partir de un `dataframe` como el anterior pero con etiquetas:"
   ]
  },
  {
   "cell_type": "code",
   "execution_count": 5,
   "id": "854dce6d",
   "metadata": {},
   "outputs": [
    {
     "data": {
      "text/html": [
       "<div>\n",
       "<style scoped>\n",
       "    .dataframe tbody tr th:only-of-type {\n",
       "        vertical-align: middle;\n",
       "    }\n",
       "\n",
       "    .dataframe tbody tr th {\n",
       "        vertical-align: top;\n",
       "    }\n",
       "\n",
       "    .dataframe thead th {\n",
       "        text-align: right;\n",
       "    }\n",
       "</style>\n",
       "<table border=\"1\" class=\"dataframe\">\n",
       "  <thead>\n",
       "    <tr style=\"text-align: right;\">\n",
       "      <th></th>\n",
       "      <th>0</th>\n",
       "    </tr>\n",
       "  </thead>\n",
       "  <tbody>\n",
       "    <tr>\n",
       "      <th>Enero</th>\n",
       "      <td>24</td>\n",
       "    </tr>\n",
       "    <tr>\n",
       "      <th>Febrero</th>\n",
       "      <td>28</td>\n",
       "    </tr>\n",
       "    <tr>\n",
       "      <th>Marzo</th>\n",
       "      <td>43</td>\n",
       "    </tr>\n",
       "    <tr>\n",
       "      <th>Abril</th>\n",
       "      <td>60</td>\n",
       "    </tr>\n",
       "    <tr>\n",
       "      <th>Mayo</th>\n",
       "      <td>9</td>\n",
       "    </tr>\n",
       "    <tr>\n",
       "      <th>Junio</th>\n",
       "      <td>23</td>\n",
       "    </tr>\n",
       "  </tbody>\n",
       "</table>\n",
       "</div>"
      ],
      "text/plain": [
       "          0\n",
       "Enero    24\n",
       "Febrero  28\n",
       "Marzo    43\n",
       "Abril    60\n",
       "Mayo      9\n",
       "Junio    23"
      ]
     },
     "execution_count": 5,
     "metadata": {},
     "output_type": "execute_result"
    }
   ],
   "source": [
    "df = pd.DataFrame(ahorros, index=['Enero','Febrero','Marzo','Abril','Mayo','Junio'])\n",
    "df"
   ]
  },
  {
   "cell_type": "code",
   "execution_count": 6,
   "id": "d4f75fee",
   "metadata": {},
   "outputs": [
    {
     "data": {
      "text/plain": [
       "[<matplotlib.lines.Line2D at 0x1ad5e72ca60>]"
      ]
     },
     "execution_count": 6,
     "metadata": {},
     "output_type": "execute_result"
    },
    {
     "data": {
      "image/png": "[encoded data removed]",
      "text/plain": [
       "<Figure size 432x288 with 1 Axes>"
      ]
     },
     "metadata": {
      "needs_background": "light"
     },
     "output_type": "display_data"
    }
   ],
   "source": [
    "plt.plot(df)"
   ]
  },
  {
   "cell_type": "markdown",
   "id": "fa63650d",
   "metadata": {},
   "source": [
    "Los `DataFrames` nos permiten configurar fácilmente el texto para los ejes del gráfico. \n",
    "\n",
    "También tienen su propio método `plot`, con lo cuál no tenemos que pasarlos a `plt.plot`, pero no vamos a profundizar en él porque tiene sus propias configuraciones y sería como aprender dos veces lo mismo:"
   ]
  },
  {
   "cell_type": "code",
   "execution_count": 7,
   "id": "753e94bd",
   "metadata": {},
   "outputs": [
    {
     "data": {
      "text/plain": [
       "<AxesSubplot:>"
      ]
     },
     "execution_count": 7,
     "metadata": {},
     "output_type": "execute_result"
    },
    {
     "data": {
      "image/png": "[encoded data removed]",
      "text/plain": [
       "<Figure size 432x288 with 1 Axes>"
      ]
     },
     "metadata": {
      "needs_background": "light"
     },
     "output_type": "display_data"
    }
   ],
   "source": [
    "df.plot()"
   ]
  },
  {
   "cell_type": "markdown",
   "id": "62527469",
   "metadata": {},
   "source": [
    "Los detalles sobre el método `plot` de los `DataFrames` se pueden encontrar en la [documentación oficial](https://pandas.pydata.org/docs/reference/api/pandas.DataFrame.plot.html) de pandas."
   ]
  },
  {
   "cell_type": "code",
   "execution_count": 8,
   "id": "3ae8e86d",
   "metadata": {},
   "outputs": [
    {
     "data": {
      "text/html": [
       "<div>\n",
       "<style scoped>\n",
       "    .dataframe tbody tr th:only-of-type {\n",
       "        vertical-align: middle;\n",
       "    }\n",
       "\n",
       "    .dataframe tbody tr th {\n",
       "        vertical-align: top;\n",
       "    }\n",
       "\n",
       "    .dataframe thead th {\n",
       "        text-align: right;\n",
       "    }\n",
       "</style>\n",
       "<table border=\"1\" class=\"dataframe\">\n",
       "  <thead>\n",
       "    <tr style=\"text-align: right;\">\n",
       "      <th></th>\n",
       "      <th>length</th>\n",
       "      <th>width</th>\n",
       "    </tr>\n",
       "  </thead>\n",
       "  <tbody>\n",
       "    <tr>\n",
       "      <th>pig</th>\n",
       "      <td>1.5</td>\n",
       "      <td>0.70</td>\n",
       "    </tr>\n",
       "    <tr>\n",
       "      <th>rabbit</th>\n",
       "      <td>0.5</td>\n",
       "      <td>0.20</td>\n",
       "    </tr>\n",
       "    <tr>\n",
       "      <th>duck</th>\n",
       "      <td>1.2</td>\n",
       "      <td>0.15</td>\n",
       "    </tr>\n",
       "    <tr>\n",
       "      <th>chicken</th>\n",
       "      <td>0.9</td>\n",
       "      <td>0.20</td>\n",
       "    </tr>\n",
       "    <tr>\n",
       "      <th>horse</th>\n",
       "      <td>3.0</td>\n",
       "      <td>1.10</td>\n",
       "    </tr>\n",
       "  </tbody>\n",
       "</table>\n",
       "</div>"
      ],
      "text/plain": [
       "         length  width\n",
       "pig         1.5   0.70\n",
       "rabbit      0.5   0.20\n",
       "duck        1.2   0.15\n",
       "chicken     0.9   0.20\n",
       "horse       3.0   1.10"
      ]
     },
     "execution_count": 8,
     "metadata": {},
     "output_type": "execute_result"
    }
   ],
   "source": [
    "df = pd.DataFrame({'length': [1.5, 0.5, 1.2, 0.9, 3],\n",
    "                  'width': [0.7, 0.2, 0.15, 0.2, 1.1]},\n",
    "                  index=['pig', 'rabbit', 'duck', 'chicken', 'horse'])\n",
    "df"
   ]
  },
  {
   "cell_type": "code",
   "execution_count": 9,
   "id": "2e189a92",
   "metadata": {},
   "outputs": [
    {
     "data": {
      "text/plain": [
       "<AxesSubplot:title={'center':'DataFrame Plot'}>"
      ]
     },
     "execution_count": 9,
     "metadata": {},
     "output_type": "execute_result"
    },
    {
     "data": {
      "image/png": "[encoded data removed]",
      "text/plain": [
       "<Figure size 432x288 with 1 Axes>"
      ]
     },
     "metadata": {
      "needs_background": "light"
     },
     "output_type": "display_data"
    }
   ],
   "source": [
    "df.plot(title=\"DataFrame Plot\")"
   ]
  },
  {
   "cell_type": "code",
   "execution_count": null,
   "id": "626e2241",
   "metadata": {},
   "outputs": [],
   "source": []
  }
 ],
 "metadata": {
  "kernelspec": {
   "display_name": "Python 3 (ipykernel)",
   "language": "python",
   "name": "python3"
  },
  "language_info": {
   "codemirror_mode": {
    "name": "ipython",
    "version": 3
   },
   "file_extension": ".py",
   "mimetype": "text/x-python",
   "name": "python",
   "nbconvert_exporter": "python",
   "pygments_lexer": "ipython3",
   "version": "3.9.7"
  }
 },
 "nbformat": 4,
 "nbformat_minor": 5
}
