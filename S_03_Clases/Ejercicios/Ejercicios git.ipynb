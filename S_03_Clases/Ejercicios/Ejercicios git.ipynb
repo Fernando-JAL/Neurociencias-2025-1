{
 "cells": [
  {
   "cell_type": "markdown",
   "id": "811f668b",
   "metadata": {},
   "source": [
    "# Ejercicios git\n",
    "\n",
    "Dentro del repo del profe\n",
    "1. Abrir git bash \n",
    "1. Asegurarse que se está en la rama main (en caso contrario usar git checkout main)\n",
    "1. Update repositorio \n",
    "    1. pycharm\n",
    "    1. git pull\n",
    "1. git log, para determinar el histórico de los commits \n",
    "1. determinar el commit ID del penúltimo commit\n",
    "1. encontrar las diferencias entre el main y ese commit\n",
    "    1. git diff --name-status (branch1)..(branch2)\n",
    "1. Correr el script recientemente agregado\n",
    "1. Modificar ese script para plotear el scatter3D de coactivation_matrix\n",
    "\n",
    "El 3Dscatter plot permite modificar tamaño de nodos al igual que su color:\n",
    "- Determine el número de nodos en coactivation_matrix\n",
    "- Cree una lista llamada 'sizes' con esa longitud de elementos con enteros aleatorios en el rango [5, 20]\n",
    "- Haga el 3Dscatter plot utilizando sizes como tamaños de nodos"
   ]
  },
  {
   "cell_type": "code",
   "execution_count": null,
   "id": "d8998d94",
   "metadata": {},
   "outputs": [],
   "source": []
  }
 ],
 "metadata": {
  "kernelspec": {
   "display_name": "Python 3 (ipykernel)",
   "language": "python",
   "name": "python3"
  },
  "language_info": {
   "codemirror_mode": {
    "name": "ipython",
    "version": 3
   },
   "file_extension": ".py",
   "mimetype": "text/x-python",
   "name": "python",
   "nbconvert_exporter": "python",
   "pygments_lexer": "ipython3",
   "version": "3.9.7"
  }
 },
 "nbformat": 4,
 "nbformat_minor": 5
}
