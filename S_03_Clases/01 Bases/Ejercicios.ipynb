{
 "cells": [
  {
   "cell_type": "markdown",
   "id": "105f6d57",
   "metadata": {},
   "source": [
    "Resuelve los siguientes ejercicios"
   ]
  },
  {
   "cell_type": "markdown",
   "id": "7cb65d41",
   "metadata": {},
   "source": [
    "**1) Determina mentalmente (sin programar) el resultado que aparecerá por pantalla a partir de las siguientes variables:**\n",
    "\n",
    "a = 10.3\n",
    "\n",
    "b = -5\n",
    "\n",
    "c = \"ligar es ser ágil\"\n",
    "\n",
    "d = [1, 2, 3]\n",
    "\n",
    "print(a * 5)  \n",
    "print(a - b)    \n",
    "print(c + \"roar\")   \n",
    "print(c * 2)        \n",
    "print(c[::-1])        \n",
    "print(c[6:])    \n",
    "print(d + d)"
   ]
  },
  {
   "cell_type": "markdown",
   "id": "93c7a4b2",
   "metadata": {},
   "source": [
    "**2) Calcula la media de los siguientes valores:**\n",
    "\n",
    "numero_1 = 9\n",
    "\n",
    "numero_2 = 3\n",
    "\n",
    "numero_3 = 6"
   ]
  },
  {
   "cell_type": "code",
   "execution_count": 1,
   "id": "7876c899",
   "metadata": {},
   "outputs": [],
   "source": [
    "# Escribe tu código aquí"
   ]
  },
  {
   "cell_type": "markdown",
   "id": "a5804ee5",
   "metadata": {},
   "source": [
    "**3) Considera las siguientes calificaciones:**\n",
    "\n",
    "calif_1 = 10\n",
    "\n",
    "calif_2 = 7\n",
    "\n",
    "calif_3 = 4\n",
    "\n",
    "Calcula el promedio de las calificaciones considerando que:\n",
    "* La primera nota vale un 15% del total\n",
    "* La segunda nota vale un 35% del total\n",
    "* La tercera nota vale un 50% del total"
   ]
  },
  {
   "cell_type": "markdown",
   "id": "0da4269a",
   "metadata": {},
   "source": [
    "**4) La siguiente matriz debe cumplir que el 4to valor de cada fila debe ser igual a la suma de los primeros 3 valores. Crea un código para hacer las correcciones necesarias**"
   ]
  },
  {
   "cell_type": "code",
   "execution_count": null,
   "id": "d551caee",
   "metadata": {},
   "outputs": [],
   "source": [
    "matriz = [ \n",
    "    [1, 1, 1, 3],\n",
    "    [2, 2, 2, 7],\n",
    "    [3, 3, 3, 9],\n",
    "    [4, 4, 4, 13]\n",
    "]\n",
    "\n",
    "# Agrega tu código aquí"
   ]
  }
 ],
 "metadata": {
  "kernelspec": {
   "display_name": "Python 3 (ipykernel)",
   "language": "python",
   "name": "python3"
  },
  "language_info": {
   "codemirror_mode": {
    "name": "ipython",
    "version": 3
   },
   "file_extension": ".py",
   "mimetype": "text/x-python",
   "name": "python",
   "nbconvert_exporter": "python",
   "pygments_lexer": "ipython3",
   "version": "3.9.7"
  }
 },
 "nbformat": 4,
 "nbformat_minor": 5
}
