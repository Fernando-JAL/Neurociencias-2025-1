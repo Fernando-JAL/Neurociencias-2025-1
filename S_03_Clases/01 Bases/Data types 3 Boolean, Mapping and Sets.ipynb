{
 "cells": [
  {
   "cell_type": "markdown",
   "id": "4f1f7ceb",
   "metadata": {},
   "source": [
    "# Boolean\n",
    "Los tipos de dato boleano representan uno de dos posibles valores: True o False"
   ]
  },
  {
   "cell_type": "code",
   "execution_count": 1,
   "id": "6d6bf549",
   "metadata": {},
   "outputs": [
    {
     "data": {
      "text/plain": [
       "True"
      ]
     },
     "execution_count": 1,
     "metadata": {},
     "output_type": "execute_result"
    }
   ],
   "source": [
    "value = True\n",
    "value"
   ]
  },
  {
   "cell_type": "code",
   "execution_count": 2,
   "id": "5c64c5bf",
   "metadata": {},
   "outputs": [
    {
     "data": {
      "text/plain": [
       "bool"
      ]
     },
     "execution_count": 2,
     "metadata": {},
     "output_type": "execute_result"
    }
   ],
   "source": [
    "type(value)"
   ]
  },
  {
   "cell_type": "code",
   "execution_count": 6,
   "id": "bb9d686c",
   "metadata": {},
   "outputs": [
    {
     "data": {
      "text/plain": [
       "True"
      ]
     },
     "execution_count": 6,
     "metadata": {},
     "output_type": "execute_result"
    }
   ],
   "source": [
    "value"
   ]
  },
  {
   "cell_type": "markdown",
   "id": "d46b4413",
   "metadata": {},
   "source": [
    "Es posible evaluar variables cualquier valor y variable con la función bool() y regresará True o False"
   ]
  },
  {
   "cell_type": "code",
   "execution_count": 9,
   "id": "3b14026a",
   "metadata": {},
   "outputs": [
    {
     "name": "stdout",
     "output_type": "stream",
     "text": [
      "True\n",
      "True\n"
     ]
    }
   ],
   "source": [
    "print(bool(\"Hello\"))\n",
    "print(bool(15))"
   ]
  },
  {
   "cell_type": "markdown",
   "id": "50c793cb",
   "metadata": {},
   "source": [
    "Si la variable contiene algun valor, entonces bool retornará True\n",
    "\n",
    "Cualquier número es True, excepto 0.\n",
    "\n",
    "Si la variable, de cualquier tipo de dato no está vacía entonces será True."
   ]
  },
  {
   "cell_type": "code",
   "execution_count": 12,
   "id": "9eaf2ddf",
   "metadata": {},
   "outputs": [
    {
     "name": "stdout",
     "output_type": "stream",
     "text": [
      "False\n",
      "False\n",
      "False\n",
      "False\n",
      "False\n",
      "False\n",
      "False\n"
     ]
    }
   ],
   "source": [
    "print(bool(False))\n",
    "print(bool(None))\n",
    "print(bool(0))\n",
    "print(bool(\"\"))\n",
    "print(bool(()))\n",
    "print(bool([]))\n",
    "print(bool({}))"
   ]
  },
  {
   "cell_type": "markdown",
   "id": "95d0eff3",
   "metadata": {},
   "source": [
    "Los boleanos pueden ser utilizados para identificar posibles ocurrencias\n",
    "\n",
    "por ejemplo las funciones in y not in con listas"
   ]
  },
  {
   "cell_type": "code",
   "execution_count": 27,
   "id": "cbb7e0a3",
   "metadata": {},
   "outputs": [
    {
     "data": {
      "text/plain": [
       "True"
      ]
     },
     "execution_count": 27,
     "metadata": {},
     "output_type": "execute_result"
    }
   ],
   "source": [
    "lista = [456, 'a', 7, 'z']\n",
    "'a' in lista"
   ]
  },
  {
   "cell_type": "markdown",
   "id": "2950b98e",
   "metadata": {},
   "source": [
    "# Dictionary\n",
    "Los diccionarios son usados para almacenar datos en formatos key: value"
   ]
  },
  {
   "cell_type": "code",
   "execution_count": 23,
   "id": "c70618e3",
   "metadata": {},
   "outputs": [
    {
     "data": {
      "text/plain": [
       "{'key1': 456, 'key2': [10, 'a'], 'key3': 'value3', 10: 'other'}"
      ]
     },
     "execution_count": 23,
     "metadata": {},
     "output_type": "execute_result"
    }
   ],
   "source": [
    "dictionary1 = {'key1': 456, 'key2': [10, 'a'], 'key3': 'value3', 10: 'other'}\n",
    "dictionary1"
   ]
  },
  {
   "cell_type": "code",
   "execution_count": 16,
   "id": "72771951",
   "metadata": {},
   "outputs": [
    {
     "data": {
      "text/plain": [
       "dict"
      ]
     },
     "execution_count": 16,
     "metadata": {},
     "output_type": "execute_result"
    }
   ],
   "source": [
    "type(dictionary1)"
   ]
  },
  {
   "cell_type": "code",
   "execution_count": 17,
   "id": "6a65a5a2",
   "metadata": {},
   "outputs": [
    {
     "data": {
      "text/plain": [
       "456"
      ]
     },
     "execution_count": 17,
     "metadata": {},
     "output_type": "execute_result"
    }
   ],
   "source": [
    "dictionary1['key1']"
   ]
  },
  {
   "cell_type": "code",
   "execution_count": 20,
   "id": "8479b189",
   "metadata": {},
   "outputs": [
    {
     "data": {
      "text/plain": [
       "[10, 'a']"
      ]
     },
     "execution_count": 20,
     "metadata": {},
     "output_type": "execute_result"
    }
   ],
   "source": [
    "dictionary1['key2']"
   ]
  },
  {
   "cell_type": "markdown",
   "id": "8c2ffd24",
   "metadata": {},
   "source": [
    "¿Cómo se mostraría el siguiente diccionario?\n",
    "\n",
    "dictionary_test = {'key1': 456, 'key2': [10, 'a'], 'key3': 'value3', 'key1': 'other'}"
   ]
  },
  {
   "cell_type": "code",
   "execution_count": null,
   "id": "85318290",
   "metadata": {},
   "outputs": [],
   "source": [
    "dictionary_test = {'key1': 456, 'key2': [10, 'a'], 'key3': 'value3', 'key1': 'other'}\n",
    "dictionary_test"
   ]
  },
  {
   "cell_type": "markdown",
   "id": "5a869f52",
   "metadata": {},
   "source": [
    "## Función len()"
   ]
  },
  {
   "cell_type": "code",
   "execution_count": 28,
   "id": "ef4c5d18",
   "metadata": {},
   "outputs": [],
   "source": [
    "# Hacer ejemplos"
   ]
  },
  {
   "cell_type": "markdown",
   "id": "5d42264e",
   "metadata": {},
   "source": [
    "# Sets\n",
    "Los conjuntos son una colección de valores no ordenados que no admiten duplicados entre { } y separados con comas"
   ]
  },
  {
   "cell_type": "code",
   "execution_count": 29,
   "id": "7b073ec8",
   "metadata": {},
   "outputs": [
    {
     "data": {
      "text/plain": [
       "{4, 'Hola', 'mundo'}"
      ]
     },
     "execution_count": 29,
     "metadata": {},
     "output_type": "execute_result"
    }
   ],
   "source": [
    "set1 = {4, 'Hola', 'mundo'}\n",
    "set1"
   ]
  },
  {
   "cell_type": "code",
   "execution_count": 30,
   "id": "75a1e9d3",
   "metadata": {},
   "outputs": [
    {
     "data": {
      "text/plain": [
       "set"
      ]
     },
     "execution_count": 30,
     "metadata": {},
     "output_type": "execute_result"
    }
   ],
   "source": [
    "type(set1)"
   ]
  },
  {
   "cell_type": "code",
   "execution_count": 34,
   "id": "8a311e06",
   "metadata": {},
   "outputs": [
    {
     "data": {
      "text/plain": [
       "{4, 'Hola', 'azul', 'mundo'}"
      ]
     },
     "execution_count": 34,
     "metadata": {},
     "output_type": "execute_result"
    }
   ],
   "source": [
    "{4, 'Hola', 'mundo', 'azul', 'Hola'}"
   ]
  },
  {
   "cell_type": "markdown",
   "id": "40cdd203",
   "metadata": {},
   "source": [
    "# Casting data types"
   ]
  },
  {
   "cell_type": "code",
   "execution_count": null,
   "id": "2de87aa9",
   "metadata": {},
   "outputs": [],
   "source": [
    "x = int(1)\n",
    "y = int(2.8)\n",
    "z = int(\"3\")"
   ]
  },
  {
   "cell_type": "code",
   "execution_count": null,
   "id": "d089fdcb",
   "metadata": {},
   "outputs": [],
   "source": [
    "x = float(1)\n",
    "y = float(2.8)\n",
    "z = float(\"3\")\n",
    "w = float(\"4.2\")"
   ]
  },
  {
   "cell_type": "code",
   "execution_count": null,
   "id": "06fb3ef2",
   "metadata": {},
   "outputs": [],
   "source": [
    "x = str(\"s1\")\n",
    "y = str(2)\n",
    "z = str(3.0)"
   ]
  }
 ],
 "metadata": {
  "kernelspec": {
   "display_name": "Python 3 (ipykernel)",
   "language": "python",
   "name": "python3"
  },
  "language_info": {
   "codemirror_mode": {
    "name": "ipython",
    "version": 3
   },
   "file_extension": ".py",
   "mimetype": "text/x-python",
   "name": "python",
   "nbconvert_exporter": "python",
   "pygments_lexer": "ipython3",
   "version": "3.9.7"
  }
 },
 "nbformat": 4,
 "nbformat_minor": 5
}
