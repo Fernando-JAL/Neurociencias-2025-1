{
 "cells": [
  {
   "cell_type": "markdown",
   "id": "14299ccb",
   "metadata": {},
   "source": [
    "## Recorriendo los elementos de una lista utilizando While"
   ]
  },
  {
   "cell_type": "code",
   "execution_count": 1,
   "id": "2309fbda",
   "metadata": {},
   "outputs": [
    {
     "name": "stdout",
     "output_type": "stream",
     "text": [
      "1\n",
      "2\n",
      "3\n",
      "4\n",
      "5\n",
      "6\n",
      "7\n",
      "8\n",
      "9\n",
      "10\n"
     ]
    }
   ],
   "source": [
    "numeros = [1,2,3,4,5,6,7,8,9,10]\n",
    "indice = 0\n",
    "while indice < len(numeros):\n",
    "    print(numeros[indice])\n",
    "    indice+=1"
   ]
  },
  {
   "cell_type": "markdown",
   "id": "e3a55a09",
   "metadata": {},
   "source": [
    "# Sentencia For (Para) con listas"
   ]
  },
  {
   "cell_type": "code",
   "execution_count": 4,
   "id": "224247be",
   "metadata": {},
   "outputs": [
    {
     "name": "stdout",
     "output_type": "stream",
     "text": [
      "1\n",
      "2\n",
      "3\n",
      "4\n",
      "5\n",
      "6\n",
      "7\n",
      "8\n",
      "9\n",
      "10\n"
     ]
    }
   ],
   "source": [
    "numeros = [1, 2, 3, 4, 5, 6, 7, 8, 9, 10]\n",
    "for idx in numeros:  # Para [variable local] en [lista]\n",
    "    print(idx)"
   ]
  },
  {
   "cell_type": "code",
   "execution_count": 9,
   "id": "0d933fd1",
   "metadata": {},
   "outputs": [
    {
     "name": "stdout",
     "output_type": "stream",
     "text": [
      "0\n",
      "2\n",
      "4\n",
      "5\n",
      "6\n",
      "8\n",
      "el promedio es:  4.166666666666667\n"
     ]
    }
   ],
   "source": [
    "promedio = 0\n",
    "\n",
    "numeros = [0, 2, 4, 5, 6, 8]\n",
    "for idx in numeros:\n",
    "    promedio += idx\n",
    "    print(str(idx))\n",
    "promedio /= len(numeros)\n",
    "print('el promedio es: ', promedio)"
   ]
  },
  {
   "cell_type": "code",
   "execution_count": 11,
   "id": "f61cd74c",
   "metadata": {},
   "outputs": [
    {
     "name": "stdout",
     "output_type": "stream",
     "text": [
      "se está ejecutando el for\n",
      "se está ejecutando el for\n",
      "se está ejecutando el for\n",
      "se está ejecutando el for\n",
      "se está ejecutando el for\n",
      "se está ejecutando el for\n",
      "la longitud de la lista es:  6\n"
     ]
    }
   ],
   "source": [
    "numeros = [0, 2, 4, 5, 6, 8]\n",
    "longitud = 0\n",
    "for _ in numeros:\n",
    "    longitud += 1\n",
    "    print('se está ejecutando el for')\n",
    "print('la longitud de la lista es: ', longitud)"
   ]
  },
  {
   "cell_type": "code",
   "execution_count": 13,
   "id": "768b26bc",
   "metadata": {},
   "outputs": [
    {
     "data": {
      "text/plain": [
       "[0, 2, 8, 5, 6, 8]"
      ]
     },
     "execution_count": 13,
     "metadata": {},
     "output_type": "execute_result"
    }
   ],
   "source": [
    "numeros[2] = numeros[2]*2\n",
    "numeros"
   ]
  },
  {
   "cell_type": "markdown",
   "id": "33dcb90d",
   "metadata": {},
   "source": [
    "## Modificar ítems de la lista al vuelo\n",
    "Para asignar un nuevo valor a los elementos de una lista mientras la recorremos, podríamos intentar asignar al número el nuevo valor:"
   ]
  },
  {
   "cell_type": "code",
   "execution_count": 15,
   "id": "af35d09c",
   "metadata": {},
   "outputs": [
    {
     "name": "stdout",
     "output_type": "stream",
     "text": [
      "0\n",
      "20\n",
      "40\n",
      "50\n",
      "60\n",
      "80\n"
     ]
    },
    {
     "data": {
      "text/plain": [
       "[0, 2, 4, 5, 6, 8]"
      ]
     },
     "execution_count": 15,
     "metadata": {},
     "output_type": "execute_result"
    }
   ],
   "source": [
    "numeros = [0, 2, 4, 5, 6, 8]\n",
    "for numero in numeros:\n",
    "    numero *= 10\n",
    "    print(numero)\n",
    "    \n",
    "numeros"
   ]
  },
  {
   "cell_type": "markdown",
   "id": "b1a574b4",
   "metadata": {},
   "source": [
    "Sin embargo, ésto no funciona. La forma correcta de hacerlo es haciendo referencia al índice de la lista en lugar de la variable:"
   ]
  },
  {
   "cell_type": "code",
   "execution_count": 17,
   "id": "40388623",
   "metadata": {},
   "outputs": [
    {
     "data": {
      "text/plain": [
       "[10, 20, 30, 40, 50, 60, 70, 80, 90, 100]"
      ]
     },
     "execution_count": 17,
     "metadata": {},
     "output_type": "execute_result"
    }
   ],
   "source": [
    "indice = 0\n",
    "numeros = [1, 2, 3, 4, 5, 6, 7, 8, 9, 10]\n",
    "for numero in numeros:\n",
    "    numeros[indice] *= 10\n",
    "    indice+=1\n",
    "numeros"
   ]
  },
  {
   "cell_type": "code",
   "execution_count": 22,
   "id": "4cf1f883",
   "metadata": {},
   "outputs": [
    {
     "name": "stdout",
     "output_type": "stream",
     "text": [
      "azul\n",
      "verde\n",
      "56\n",
      "['2da lista']\n"
     ]
    }
   ],
   "source": [
    "lista = ['azul', 'verde', 56, ['2da lista']]\n",
    "for i in lista:\n",
    "    print(i)"
   ]
  },
  {
   "cell_type": "code",
   "execution_count": 23,
   "id": "428a79b3",
   "metadata": {},
   "outputs": [
    {
     "name": "stdout",
     "output_type": "stream",
     "text": [
      "4\n",
      "5\n",
      "6\n"
     ]
    }
   ],
   "source": [
    "lista = [4, 5, 6]\n",
    "for i in lista:\n",
    "    print(i)"
   ]
  },
  {
   "cell_type": "code",
   "execution_count": 27,
   "id": "54a9c4b6",
   "metadata": {},
   "outputs": [
    {
     "ename": "IndexError",
     "evalue": "list index out of range",
     "output_type": "error",
     "traceback": [
      "\u001b[1;31m---------------------------------------------------------------------------\u001b[0m",
      "\u001b[1;31mIndexError\u001b[0m                                Traceback (most recent call last)",
      "Input \u001b[1;32mIn [27]\u001b[0m, in \u001b[0;36m<cell line: 2>\u001b[1;34m()\u001b[0m\n\u001b[0;32m      1\u001b[0m lista \u001b[38;5;241m=\u001b[39m [\u001b[38;5;241m1\u001b[39m, \u001b[38;5;241m2\u001b[39m, \u001b[38;5;241m3\u001b[39m, \u001b[38;5;241m4\u001b[39m, \u001b[38;5;241m5\u001b[39m, \u001b[38;5;241m6\u001b[39m]\n\u001b[1;32m----> 2\u001b[0m \u001b[43mlista\u001b[49m\u001b[43m[\u001b[49m\u001b[38;5;241;43m6\u001b[39;49m\u001b[43m]\u001b[49m\n",
      "\u001b[1;31mIndexError\u001b[0m: list index out of range"
     ]
    }
   ],
   "source": [
    "lista = [1, 2, 3, 4, 5, 6]\n",
    "lista[6]"
   ]
  },
  {
   "cell_type": "code",
   "execution_count": 28,
   "id": "bdc29174",
   "metadata": {},
   "outputs": [
    {
     "name": "stdout",
     "output_type": "stream",
     "text": [
      "2\n",
      "3\n",
      "4\n",
      "5\n",
      "6\n"
     ]
    },
    {
     "ename": "IndexError",
     "evalue": "list index out of range",
     "output_type": "error",
     "traceback": [
      "\u001b[1;31m---------------------------------------------------------------------------\u001b[0m",
      "\u001b[1;31mIndexError\u001b[0m                                Traceback (most recent call last)",
      "Input \u001b[1;32mIn [28]\u001b[0m, in \u001b[0;36m<cell line: 2>\u001b[1;34m()\u001b[0m\n\u001b[0;32m      1\u001b[0m lista \u001b[38;5;241m=\u001b[39m [\u001b[38;5;241m1\u001b[39m, \u001b[38;5;241m2\u001b[39m, \u001b[38;5;241m3\u001b[39m, \u001b[38;5;241m4\u001b[39m, \u001b[38;5;241m5\u001b[39m, \u001b[38;5;241m6\u001b[39m]\n\u001b[0;32m      2\u001b[0m \u001b[38;5;28;01mfor\u001b[39;00m i \u001b[38;5;129;01min\u001b[39;00m lista:\n\u001b[1;32m----> 3\u001b[0m     \u001b[38;5;28mprint\u001b[39m(\u001b[43mlista\u001b[49m\u001b[43m[\u001b[49m\u001b[43mi\u001b[49m\u001b[43m]\u001b[49m)\n",
      "\u001b[1;31mIndexError\u001b[0m: list index out of range"
     ]
    }
   ],
   "source": [
    "lista = [1, 2, 3, 4, 5, 6]\n",
    "for i in lista:\n",
    "    print(lista[i])"
   ]
  },
  {
   "cell_type": "code",
   "execution_count": 29,
   "id": "92d1c565",
   "metadata": {},
   "outputs": [
    {
     "name": "stdout",
     "output_type": "stream",
     "text": [
      "valor de i = 1, lista es: [1, 20, 3, 4, 5]\n"
     ]
    },
    {
     "ename": "IndexError",
     "evalue": "list index out of range",
     "output_type": "error",
     "traceback": [
      "\u001b[1;31m---------------------------------------------------------------------------\u001b[0m",
      "\u001b[1;31mIndexError\u001b[0m                                Traceback (most recent call last)",
      "Input \u001b[1;32mIn [29]\u001b[0m, in \u001b[0;36m<cell line: 3>\u001b[1;34m()\u001b[0m\n\u001b[0;32m      2\u001b[0m numeros \u001b[38;5;241m=\u001b[39m [\u001b[38;5;241m1\u001b[39m, \u001b[38;5;241m2\u001b[39m, \u001b[38;5;241m3\u001b[39m, \u001b[38;5;241m4\u001b[39m, \u001b[38;5;241m5\u001b[39m]\n\u001b[0;32m      3\u001b[0m \u001b[38;5;28;01mfor\u001b[39;00m i \u001b[38;5;129;01min\u001b[39;00m numeros:\n\u001b[1;32m----> 4\u001b[0m     numeros[i] \u001b[38;5;241m*\u001b[39m\u001b[38;5;241m=\u001b[39m \u001b[38;5;241m10\u001b[39m\n\u001b[0;32m      5\u001b[0m     \u001b[38;5;28mprint\u001b[39m(\u001b[38;5;124m'\u001b[39m\u001b[38;5;124mvalor de i = \u001b[39m\u001b[38;5;132;01m{}\u001b[39;00m\u001b[38;5;124m, lista es: \u001b[39m\u001b[38;5;132;01m{}\u001b[39;00m\u001b[38;5;124m'\u001b[39m\u001b[38;5;241m.\u001b[39mformat(i, numeros))\n\u001b[0;32m      6\u001b[0m numeros\n",
      "\u001b[1;31mIndexError\u001b[0m: list index out of range"
     ]
    }
   ],
   "source": [
    "indice = 0\n",
    "numeros = [1, 2, 3, 4, 5]\n",
    "for i in numeros:\n",
    "    numeros[i] *= 10\n",
    "    print('valor de i = {}, lista es: {}'.format(i, numeros))\n",
    "numeros"
   ]
  },
  {
   "cell_type": "markdown",
   "id": "8259d9ff",
   "metadata": {},
   "source": [
    "Como alternativa para simplificar el código anterior, existe la función enumerate(lista)"
   ]
  },
  {
   "cell_type": "markdown",
   "id": "0486dbf6",
   "metadata": {},
   "source": [
    "# enumerate(iterable, start=0)\n",
    "Return an enumerate object. iterable must be a sequence, an iterator, or some other object which supports iteration. It returns a tuple containing a count (from start which defaults to 0) and the values obtained from iterating over iterable."
   ]
  },
  {
   "cell_type": "code",
   "execution_count": 30,
   "id": "31cba718",
   "metadata": {},
   "outputs": [
    {
     "data": {
      "text/plain": [
       "<enumerate at 0x2499579ea00>"
      ]
     },
     "execution_count": 30,
     "metadata": {},
     "output_type": "execute_result"
    }
   ],
   "source": [
    "seasons = ['Spring', 'Summer', 'Fall', 'Winter']\n",
    "enumerate(seasons)"
   ]
  },
  {
   "cell_type": "code",
   "execution_count": 31,
   "id": "7d62363a",
   "metadata": {},
   "outputs": [
    {
     "data": {
      "text/plain": [
       "[(0, 'Spring'), (1, 'Summer'), (2, 'Fall'), (3, 'Winter')]"
      ]
     },
     "execution_count": 31,
     "metadata": {},
     "output_type": "execute_result"
    }
   ],
   "source": [
    "seasons = ['Spring', 'Summer', 'Fall', 'Winter']\n",
    "list(enumerate(seasons))"
   ]
  },
  {
   "cell_type": "markdown",
   "id": "99c7de9c",
   "metadata": {},
   "source": [
    "# for usando enumerate"
   ]
  },
  {
   "cell_type": "code",
   "execution_count": 32,
   "id": "d7f3fe32",
   "metadata": {},
   "outputs": [
    {
     "data": {
      "text/plain": [
       "[10, 20, 30, 40, 50, 60, 70, 80, 90, 100]"
      ]
     },
     "execution_count": 32,
     "metadata": {},
     "output_type": "execute_result"
    }
   ],
   "source": [
    "numeros = [1, 2, 3, 4, 5, 6, 7, 8, 9, 10]\n",
    "for idx, numero in enumerate(numeros):\n",
    "    numeros[idx] *= 10\n",
    "numeros"
   ]
  },
  {
   "cell_type": "code",
   "execution_count": 34,
   "id": "e5612b2b",
   "metadata": {},
   "outputs": [
    {
     "name": "stdout",
     "output_type": "stream",
     "text": [
      "0 Spring\n",
      "1 Summer\n",
      "2 Fall\n",
      "3 Winter\n"
     ]
    }
   ],
   "source": [
    "seasons = ['Spring', 'Summer', 'Fall', 'Winter']\n",
    "for idx, season in enumerate(seasons):\n",
    "    print(idx, season)"
   ]
  },
  {
   "cell_type": "markdown",
   "id": "f1f0797a",
   "metadata": {},
   "source": [
    "## for con cadenas"
   ]
  },
  {
   "cell_type": "code",
   "execution_count": 35,
   "id": "2eeea4ba",
   "metadata": {},
   "outputs": [
    {
     "data": {
      "text/plain": [
       "['h', 'o', 'l', 'a']"
      ]
     },
     "execution_count": 35,
     "metadata": {},
     "output_type": "execute_result"
    }
   ],
   "source": [
    "string = 'hola'\n",
    "list(string)"
   ]
  },
  {
   "cell_type": "code",
   "execution_count": 37,
   "id": "661496df",
   "metadata": {},
   "outputs": [
    {
     "name": "stdout",
     "output_type": "stream",
     "text": [
      "h\n",
      "o\n",
      "l\n",
      "a\n"
     ]
    }
   ],
   "source": [
    "cadena = \"hola\"\n",
    "for caracter in cadena:\n",
    "    print(caracter)"
   ]
  },
  {
   "cell_type": "markdown",
   "id": "78ff4b1e",
   "metadata": {},
   "source": [
    "Pero debemos recordar que las cadenas son inmutables:"
   ]
  },
  {
   "cell_type": "code",
   "execution_count": 41,
   "id": "f58010b2",
   "metadata": {},
   "outputs": [
    {
     "ename": "TypeError",
     "evalue": "'str' object does not support item assignment",
     "output_type": "error",
     "traceback": [
      "\u001b[1;31m---------------------------------------------------------------------------\u001b[0m",
      "\u001b[1;31mTypeError\u001b[0m                                 Traceback (most recent call last)",
      "Input \u001b[1;32mIn [41]\u001b[0m, in \u001b[0;36m<cell line: 2>\u001b[1;34m()\u001b[0m\n\u001b[0;32m      1\u001b[0m string \u001b[38;5;241m=\u001b[39m \u001b[38;5;124m'\u001b[39m\u001b[38;5;124mhola\u001b[39m\u001b[38;5;124m'\u001b[39m\n\u001b[1;32m----> 2\u001b[0m string[\u001b[38;5;241m1\u001b[39m] \u001b[38;5;241m=\u001b[39m \u001b[38;5;124m'\u001b[39m\u001b[38;5;124mz\u001b[39m\u001b[38;5;124m'\u001b[39m\n",
      "\u001b[1;31mTypeError\u001b[0m: 'str' object does not support item assignment"
     ]
    }
   ],
   "source": [
    "string = 'hola'\n",
    "string[1] = 'z'"
   ]
  },
  {
   "cell_type": "code",
   "execution_count": 39,
   "id": "910b3853",
   "metadata": {},
   "outputs": [
    {
     "ename": "TypeError",
     "evalue": "'str' object does not support item assignment",
     "output_type": "error",
     "traceback": [
      "\u001b[1;31m---------------------------------------------------------------------------\u001b[0m",
      "\u001b[1;31mTypeError\u001b[0m                                 Traceback (most recent call last)",
      "Input \u001b[1;32mIn [39]\u001b[0m, in \u001b[0;36m<cell line: 2>\u001b[1;34m()\u001b[0m\n\u001b[0;32m      1\u001b[0m cadena \u001b[38;5;241m=\u001b[39m \u001b[38;5;124m'\u001b[39m\u001b[38;5;124mhola\u001b[39m\u001b[38;5;124m'\u001b[39m\n\u001b[0;32m      2\u001b[0m \u001b[38;5;28;01mfor\u001b[39;00m i, c \u001b[38;5;129;01min\u001b[39;00m \u001b[38;5;28menumerate\u001b[39m(cadena):\n\u001b[1;32m----> 3\u001b[0m     cadena[i] \u001b[38;5;241m=\u001b[39m \u001b[38;5;124m\"\u001b[39m\u001b[38;5;124m*\u001b[39m\u001b[38;5;124m\"\u001b[39m\n",
      "\u001b[1;31mTypeError\u001b[0m: 'str' object does not support item assignment"
     ]
    }
   ],
   "source": [
    "cadena = 'hola'\n",
    "for i, c in enumerate(cadena):\n",
    "    cadena[i] = \"*\"\n"
   ]
  },
  {
   "cell_type": "markdown",
   "id": "b80b780d",
   "metadata": {},
   "source": [
    "Sin embargo siempre podemos generar una nueva cadena:"
   ]
  },
  {
   "cell_type": "code",
   "execution_count": 45,
   "id": "68beed3a",
   "metadata": {},
   "outputs": [
    {
     "data": {
      "text/plain": [
       "'ll'"
      ]
     },
     "execution_count": 45,
     "metadata": {},
     "output_type": "execute_result"
    }
   ],
   "source": [
    "cadena[2]*2"
   ]
  },
  {
   "cell_type": "code",
   "execution_count": 43,
   "id": "bba069a2",
   "metadata": {},
   "outputs": [
    {
     "name": "stdout",
     "output_type": "stream",
     "text": [
      "hola hhoollaa\n"
     ]
    }
   ],
   "source": [
    "cadena = 'hola'\n",
    "cadena2 = \"\"\n",
    "for caracter in cadena:\n",
    "    cadena2 += caracter * 2\n",
    "\n",
    "print(cadena, cadena2)"
   ]
  },
  {
   "cell_type": "markdown",
   "id": "4eb5a369",
   "metadata": {},
   "source": [
    "# for usando range"
   ]
  },
  {
   "cell_type": "code",
   "execution_count": 47,
   "id": "8a131a96",
   "metadata": {},
   "outputs": [
    {
     "data": {
      "text/plain": [
       "[0, 1, 2, 3, 4, 5, 6, 7, 8, 9]"
      ]
     },
     "execution_count": 47,
     "metadata": {},
     "output_type": "execute_result"
    }
   ],
   "source": [
    "list(range(10))"
   ]
  },
  {
   "cell_type": "code",
   "execution_count": 48,
   "id": "d3fafd31",
   "metadata": {},
   "outputs": [
    {
     "name": "stdout",
     "output_type": "stream",
     "text": [
      "0\n",
      "1\n",
      "2\n",
      "3\n",
      "4\n",
      "5\n",
      "6\n",
      "7\n",
      "8\n",
      "9\n"
     ]
    }
   ],
   "source": [
    "for i in range(10):\n",
    "    print(i)"
   ]
  },
  {
   "cell_type": "markdown",
   "id": "f364f1fd",
   "metadata": {},
   "source": [
    "Se pueden anidar los for"
   ]
  },
  {
   "cell_type": "code",
   "execution_count": 50,
   "id": "7a9dce59",
   "metadata": {},
   "outputs": [
    {
     "name": "stdout",
     "output_type": "stream",
     "text": [
      "[1, 2, 3, 4]\n",
      "[5, 6, 7, 8]\n"
     ]
    }
   ],
   "source": [
    "matrix = [[1, 2, 3, 4], \n",
    "          [5, 6, 7, 8]]\n",
    "\n",
    "for row in matrix:\n",
    "    print(row)"
   ]
  },
  {
   "cell_type": "code",
   "execution_count": 52,
   "id": "c576fba8",
   "metadata": {},
   "outputs": [
    {
     "name": "stdout",
     "output_type": "stream",
     "text": [
      "val\n",
      "1\n",
      "2\n",
      "3\n",
      "4\n",
      "val\n",
      "5\n",
      "6\n",
      "7\n",
      "8\n"
     ]
    }
   ],
   "source": [
    "matrix = [[1, 2, 3, 4], \n",
    "          [5, 6, 7, 8]]\n",
    "for row in matrix:\n",
    "    print('val')\n",
    "    for column in row:\n",
    "        print(column)"
   ]
  },
  {
   "cell_type": "code",
   "execution_count": null,
   "id": "fbb4f673",
   "metadata": {},
   "outputs": [],
   "source": [
    "for idx_row, row in enumerate(matrix):\n",
    "    for idx_column, column in enumerate(row):\n",
    "        print(column)"
   ]
  }
 ],
 "metadata": {
  "kernelspec": {
   "display_name": "Python 3 (ipykernel)",
   "language": "python",
   "name": "python3"
  },
  "language_info": {
   "codemirror_mode": {
    "name": "ipython",
    "version": 3
   },
   "file_extension": ".py",
   "mimetype": "text/x-python",
   "name": "python",
   "nbconvert_exporter": "python",
   "pygments_lexer": "ipython3",
   "version": "3.9.7"
  }
 },
 "nbformat": 4,
 "nbformat_minor": 5
}
