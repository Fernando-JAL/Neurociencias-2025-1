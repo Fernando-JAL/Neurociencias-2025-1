{
 "cells": [
  {
   "cell_type": "markdown",
   "id": "a903dc90",
   "metadata": {},
   "source": [
    "1) Realiza un programa que lea un número impar por teclado. Si el usuario no introduce un número impar, debe repetise el proceso hasta que lo introduzca correctamente."
   ]
  },
  {
   "cell_type": "code",
   "execution_count": null,
   "id": "55ee68d4",
   "metadata": {},
   "outputs": [],
   "source": []
  },
  {
   "cell_type": "markdown",
   "id": "010865a9",
   "metadata": {},
   "source": [
    "2) Realiza un programa que sume todos los números enteros pares desde el 0 hasta el 100:\n",
    "\n",
    "Sugerencia: Puedes utilizar la funciones sum() y range() para hacerlo más fácil. El tercer parámetro en la función range(inicio, fin, salto) indica un salto de números, pruébalo."
   ]
  },
  {
   "cell_type": "code",
   "execution_count": null,
   "id": "d2a52288",
   "metadata": {},
   "outputs": [],
   "source": []
  },
  {
   "cell_type": "markdown",
   "id": "af5e2c0e",
   "metadata": {},
   "source": [
    "3) Realiza un programa que pida al usuario cuantos números quiere introducir. Luego lee todos los números y realiza una media aritmética:"
   ]
  },
  {
   "cell_type": "code",
   "execution_count": null,
   "id": "4daff566",
   "metadata": {},
   "outputs": [],
   "source": []
  },
  {
   "cell_type": "markdown",
   "id": "8f1eac88",
   "metadata": {},
   "source": [
    "4) Utilizando la función range() y la conversión a listas genera las siguientes listas dinámicamente:\n",
    "\n",
    "Todos los números del 0 al 10 [0, 1, 2, ..., 10]\n",
    "Todos los números del -10 al 0 [-10, -9, -8, ..., 0]\n",
    "Todos los números pares del 0 al 20 [0, 2, 4, ..., 20]\n",
    "Todos los números impares entre -20 y 0 [-19, -17, -15, ..., -1]\n",
    "Todos los números múltiples de 5 del 0 al 50 [0, 5, 10, ..., 50]\n",
    "Pista: Utiliza el tercer parámetro de la función range(inicio, fin, salto)."
   ]
  },
  {
   "cell_type": "code",
   "execution_count": null,
   "id": "ed775274",
   "metadata": {},
   "outputs": [],
   "source": []
  },
  {
   "cell_type": "markdown",
   "id": "5805cd94",
   "metadata": {},
   "source": [
    "5) Dado un número entero $n$, realice las siguientes acciones condicionales:\n",
    "\n",
    "- Si es impar, imprima 'Raro'\n",
    "- Si es par y está en el rango inclusivo de $2$ a $5$, imprima 'No es raro'\n",
    "- Si es par y está en el rango inclusivo de $6$ a $20$, imprima 'Raro'\n",
    "- Si es par y mayor que $20$, imprima 'No es raro'"
   ]
  },
  {
   "cell_type": "code",
   "execution_count": null,
   "id": "e5a776b9",
   "metadata": {},
   "outputs": [],
   "source": []
  },
  {
   "cell_type": "markdown",
   "id": "720bcc43",
   "metadata": {},
   "source": [
    "6) Escriba un número que reciba un número entero $n$ y para todos los enteros $i < n$, imprime $i^2$."
   ]
  },
  {
   "cell_type": "code",
   "execution_count": null,
   "id": "dcee2061",
   "metadata": {},
   "outputs": [],
   "source": []
  }
 ],
 "metadata": {
  "kernelspec": {
   "display_name": "Python 3 (ipykernel)",
   "language": "python",
   "name": "python3"
  },
  "language_info": {
   "codemirror_mode": {
    "name": "ipython",
    "version": 3
   },
   "file_extension": ".py",
   "mimetype": "text/x-python",
   "name": "python",
   "nbconvert_exporter": "python",
   "pygments_lexer": "ipython3",
   "version": "3.9.7"
  }
 },
 "nbformat": 4,
 "nbformat_minor": 5
}
