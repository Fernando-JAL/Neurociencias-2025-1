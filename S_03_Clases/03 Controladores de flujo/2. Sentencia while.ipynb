{
 "cells": [
  {
   "cell_type": "markdown",
   "id": "2919b76b",
   "metadata": {},
   "source": [
    "# Iteraciones\n",
    "Iterar significa realizar una acción varias veces. Cada vez que se repite se denomina iteración.\n",
    "\n",
    "# Controlador o sentencia While (Mientras)\n",
    "Se basa en repetir un bloque a partir de evaluar una condición lógica, siempre que ésta sea True.\n",
    "\n",
    "Queda en las manos del programador decidir el momento en que la condición cambie a False para hacer que el While finalice."
   ]
  },
  {
   "cell_type": "code",
   "execution_count": null,
   "id": "fdc6eea7",
   "metadata": {},
   "outputs": [],
   "source": [
    "c = 0 # condición inicial\n",
    "while c <= 5: # condición de paro\n",
    "    c += 1 # condición de incremento         c = c + 1\n",
    "    print(\"c vale\",c) # código a ejecutar"
   ]
  },
  {
   "cell_type": "code",
   "execution_count": null,
   "id": "59b7378e",
   "metadata": {},
   "outputs": [],
   "source": [
    "while True:\n",
    "    print('se los dije')"
   ]
  },
  {
   "cell_type": "markdown",
   "id": "2ef6e4dc",
   "metadata": {},
   "source": [
    "# Sentencia Else en bucle While\n",
    "Se encadena al While para ejecutar un bloque de código una vez la condición ya no devuelve True (normalmente al final)."
   ]
  },
  {
   "cell_type": "code",
   "execution_count": null,
   "id": "706334da",
   "metadata": {},
   "outputs": [],
   "source": [
    "c = 0\n",
    "while c <= 5:\n",
    "    c+=1\n",
    "    print(\"c vale\",c)\n",
    "else:\n",
    "    print(\"Se ha completado toda la iteración y c vale\",c)"
   ]
  },
  {
   "cell_type": "markdown",
   "id": "005e9d55",
   "metadata": {},
   "source": [
    "# Instrucción break\n",
    "Sirve para \"romper\" la ejecución del While en cualquier momento. No se ejecutará el Else, ya que éste sólo se llama al finalizar la iteración."
   ]
  },
  {
   "cell_type": "code",
   "execution_count": null,
   "id": "ea289cf2",
   "metadata": {},
   "outputs": [],
   "source": [
    "c = 0\n",
    "while c <= 5:\n",
    "    c += 1\n",
    "    if (c == 4):\n",
    "        print(\"Rompemos el bucle cuando c vale\",c)\n",
    "        break\n",
    "    print(\"c vale\",c)\n",
    "else:\n",
    "    print(\"Se ha completado toda la iteración y c vale\",c\n",
    "          \n",
    "# se sale de todo el código previo"
   ]
  },
  {
   "cell_type": "markdown",
   "id": "7ade3c3e",
   "metadata": {},
   "source": [
    "# Instrucción Continue\n",
    "Sirve para \"saltarse\" la iteración actual sin romper el bucle."
   ]
  },
  {
   "cell_type": "code",
   "execution_count": null,
   "id": "84c22854",
   "metadata": {},
   "outputs": [],
   "source": [
    "c = 0\n",
    "while c <= 5:\n",
    "    c += 1\n",
    "    if c == 4:\n",
    "        #print(\"Continuamos con la siguiente iteración\",c)\n",
    "        continue\n",
    "    print(\"c vale\",c)\n",
    "else:\n",
    "    print(\"Se ha completado toda la iteración y c vale\",c)"
   ]
  },
  {
   "cell_type": "markdown",
   "id": "640aa29e",
   "metadata": {},
   "source": [
    "# Creando un menú interactivo"
   ]
  },
  {
   "cell_type": "code",
   "execution_count": null,
   "id": "abbcbc2b",
   "metadata": {},
   "outputs": [],
   "source": [
    "print(\"Bienvenido al menú interactivo\")\n",
    "while(True):\n",
    "    print(\"\"\"¿Qué quieres hacer? Escribe una opción\n",
    "    1) Saludar\n",
    "    2) Sumar dos números\n",
    "    3) Salir\"\"\")\n",
    "    opcion = input()\n",
    "    if opcion == '1':\n",
    "        print(\"Hola, espero que te lo estés pasando bien\")\n",
    "    elif opcion == '2':\n",
    "        n1 = float(input(\"Introduce el primer número: \"))\n",
    "        n2 = float(input(\"Introduce el segundo número: \"))\n",
    "        print(\"El resultado de la suma es: \",n1+n2)\n",
    "    elif opcion =='3':\n",
    "        print(\"¡Hasta luego! Ha sido un placer ayudarte\")\n",
    "        break\n",
    "    else:\n",
    "        print(\"Comando desconocido, vuelve a intentarlo\")"
   ]
  },
  {
   "cell_type": "code",
   "execution_count": null,
   "id": "a942222a",
   "metadata": {},
   "outputs": [],
   "source": [
    "# Hacer ejemplos"
   ]
  },
  {
   "attachments": {
    "image.png": {
     "image/png": "[encoded data removed]"
    }
   },
   "cell_type": "markdown",
   "id": "a3a3df67",
   "metadata": {},
   "source": [
    "![image.png](attachment:image.png)"
   ]
  },
  {
   "cell_type": "code",
   "execution_count": null,
   "id": "a4553894",
   "metadata": {},
   "outputs": [],
   "source": []
  }
 ],
 "metadata": {
  "kernelspec": {
   "display_name": "Python 3 (ipykernel)",
   "language": "python",
   "name": "python3"
  },
  "language_info": {
   "codemirror_mode": {
    "name": "ipython",
    "version": 3
   },
   "file_extension": ".py",
   "mimetype": "text/x-python",
   "name": "python",
   "nbconvert_exporter": "python",
   "pygments_lexer": "ipython3",
   "version": "3.9.7"
  }
 },
 "nbformat": 4,
 "nbformat_minor": 5
}
