{
 "cells": [
  {
   "cell_type": "markdown",
   "id": "fd112547",
   "metadata": {},
   "source": [
    "# Análisis de grafos en datos de coactivación cerebral\n",
    "Este notebook contiene múltiples ejercicios que procesan una matriz de coactivación y sus coordenadas asociadas utilizando técnicas de análisis de grafos."
   ]
  },
  {
   "cell_type": "code",
   "execution_count": null,
   "id": "da31a9ee",
   "metadata": {},
   "outputs": [],
   "source": [
    "\n",
    "import scipy.io as sio\n",
    "import numpy as np\n",
    "import networkx as nx\n",
    "from networkx.algorithms.components import connected_components\n",
    "from networkx.algorithms.smallworld import sigma\n",
    "from networkx.algorithms.centrality import closeness_centrality, betweenness_centrality\n",
    "import matplotlib.pyplot as plt\n",
    "from mpl_toolkits.mplot3d import Axes3D\n",
    "from matplotlib.animation import FuncAnimation\n",
    "from IPython.display import Image\n",
    "from sklearn.cluster import KMeans\n"
   ]
  },
  {
   "cell_type": "markdown",
   "id": "fb84ac86",
   "metadata": {},
   "source": [
    "## Ejercicio 1: Visualización 3D del grafo para diferentes umbrales"
   ]
  },
  {
   "cell_type": "code",
   "execution_count": null,
   "id": "0500f52e",
   "metadata": {},
   "outputs": [],
   "source": [
    "\n",
    "def ejercicio1(coactivation_matrix, coordinates):\n",
    "    def plot_graph_3d(graph, coords, threshold):\n",
    "        fig = plt.figure(figsize=(10, 7))\n",
    "        ax = fig.add_subplot(111, projection='3d')\n",
    "\n",
    "        ax.scatter(coords[:, 0], coords[:, 1], coords[:, 2], c='blue', s=50, label='Nodes')\n",
    "\n",
    "        for i, j in graph.edges():\n",
    "            x = [coords[i, 0], coords[j, 0]]\n",
    "            y = [coords[i, 1], coords[j, 1]]\n",
    "            z = [coords[i, 2], coords[j, 2]]\n",
    "            ax.plot(x, y, z, c='black', alpha=0.7)\n",
    "\n",
    "        ax.set_title(f'Graph with Threshold {threshold}')\n",
    "        ax.set_xlabel('X')\n",
    "        ax.set_ylabel('Y')\n",
    "        ax.set_zlabel('Z')\n",
    "        plt.legend()\n",
    "        plt.show()\n",
    "\n",
    "    thresholds = [0.08, 0.09, 0.1]\n",
    "\n",
    "    for threshold in thresholds:\n",
    "        graph = nx.Graph()\n",
    "        size = coactivation_matrix.shape[0]\n",
    "\n",
    "        graph.add_nodes_from(range(size))\n",
    "\n",
    "        for i in range(size):\n",
    "            for j in range(i + 1, size):\n",
    "                if coactivation_matrix[i, j] > threshold:\n",
    "                    graph.add_edge(i, j)\n",
    "\n",
    "        plot_graph_3d(graph, coordinates, threshold)\n",
    "\n",
    "# EL CÓDIGO NO SE EJECUTÓ"
   ]
  },
  {
   "cell_type": "markdown",
   "id": "3db5a399",
   "metadata": {},
   "source": [
    "## Ejercicio 2: Animación del grafo en rotación"
   ]
  },
  {
   "cell_type": "code",
   "execution_count": null,
   "id": "9de17c79",
   "metadata": {},
   "outputs": [],
   "source": [
    "\n",
    "def ejercicio2(coactivation_matrix, coordinates):\n",
    "    threshold = 0.09\n",
    "    graph = nx.Graph()\n",
    "    size = coactivation_matrix.shape[0]\n",
    "\n",
    "    graph.add_nodes_from(range(size))\n",
    "\n",
    "    for i in range(size):\n",
    "        for j in range(i + 1, size):\n",
    "            if coactivation_matrix[i, j] > threshold:\n",
    "                graph.add_edge(i, j)\n",
    "\n",
    "    def update(frame):\n",
    "        ax.clear()\n",
    "        ax.scatter(coordinates[:, 0], coordinates[:, 1], coordinates[:, 2], c='blue', s=50, label='Nodes')\n",
    "\n",
    "        for i, j in graph.edges():\n",
    "            x = [coordinates[i, 0], coordinates[j, 0]]\n",
    "            y = [coordinates[i, 1], coordinates[j, 1]]\n",
    "            z = [coordinates[i, 2], coordinates[j, 2]]\n",
    "            ax.plot(x, y, z, c='black', alpha=0.7)\n",
    "\n",
    "        ax.view_init(30, frame)\n",
    "        ax.set_title(f'Graph with Threshold {threshold}')\n",
    "        ax.set_xlabel('X')\n",
    "        ax.set_ylabel('Y')\n",
    "        ax.set_zlabel('Z')\n",
    "        plt.legend()\n",
    "\n",
    "    fig = plt.figure(figsize=(10, 7))\n",
    "    ax = fig.add_subplot(111, projection='3d')\n",
    "\n",
    "    ani = FuncAnimation(fig, update, frames=90, interval=25)\n",
    "    ani.save('rotating_graph.gif', writer='pillow', fps=30)\n",
    "    Image('rotating_graph.gif')\n",
    "\n",
    "# EL CÓDIGO NO SE EJECUTÓ"
   ]
  },
  {
   "cell_type": "markdown",
   "id": "9c7d2340",
   "metadata": {},
   "source": [
    "## Ejercicio 3: Identificación de hubs en el grafo"
   ]
  },
  {
   "cell_type": "code",
   "execution_count": null,
   "id": "b3ca3675",
   "metadata": {},
   "outputs": [],
   "source": [
    "\n",
    "def ejercicio3(coactivation_matrix, coordinates):\n",
    "    threshold = 0.09\n",
    "    graph = nx.Graph()\n",
    "    size = coactivation_matrix.shape[0]\n",
    "\n",
    "    graph.add_nodes_from(range(size))\n",
    "\n",
    "    for i in range(size):\n",
    "        for j in range(i + 1, size):  \n",
    "            if coactivation_matrix[i, j] > threshold:\n",
    "                graph.add_edge(i, j)\n",
    "\n",
    "    node_degrees = dict(graph.degree())\n",
    "\n",
    "    max_size = 300  \n",
    "    node_sizes = [max_size * (node_degrees[node] / max(node_degrees.values())) for node in graph.nodes]\n",
    "\n",
    "    def plot_hub_graph(graph, coords, node_sizes):\n",
    "        fig = plt.figure(figsize=(10, 7))\n",
    "        ax = fig.add_subplot(111, projection='3d')\n",
    "        \n",
    "        ax.scatter(coords[:, 0], coords[:, 1], coords[:, 2], s=node_sizes, c='blue', alpha=0.8, label='Nodes')\n",
    "        \n",
    "        for i, j in graph.edges():\n",
    "            x = [coords[i, 0], coords[j, 0]]\n",
    "            y = [coords[i, 1], coords[j, 1]]\n",
    "            z = [coords[i, 2], coords[j, 2]]\n",
    "            ax.plot(x, y, z, c='black', alpha=0.6)\n",
    "        \n",
    "        ax.set_title(f'Graph with Hubs Highlighted (Threshold {threshold})')\n",
    "        ax.set_xlabel('X')\n",
    "        ax.set_ylabel('Y')\n",
    "        ax.set_zlabel('Z')\n",
    "        plt.legend()\n",
    "        plt.show()\n",
    "\n",
    "    plot_hub_graph(graph, coordinates, node_sizes)\n",
    "\n",
    "# EL CÓDIGO NO SE EJECUTÓ"
   ]
  },
  {
   "cell_type": "markdown",
   "id": "cd9883e3",
   "metadata": {},
   "source": [
    "## Ejercicio 4: Partición del grafo en módulos usando K-means"
   ]
  },
  {
   "cell_type": "code",
   "execution_count": null,
   "id": "09d32641",
   "metadata": {},
   "outputs": [],
   "source": [
    "\n",
    "def ejercicio4(coactivation_matrix, coordinates):\n",
    "    threshold = 0.09\n",
    "    graph = nx.Graph()\n",
    "    size = coactivation_matrix.shape[0]\n",
    "\n",
    "    graph.add_nodes_from(range(size))\n",
    "\n",
    "    for i in range(size):\n",
    "        for j in range(i + 1, size):  \n",
    "            if coactivation_matrix[i, j] > threshold:\n",
    "                graph.add_edge(i, j)\n",
    "\n",
    "    adjacency_matrix = nx.adjacency_matrix(graph).todense()\n",
    "    matching_matrix = np.corrcoef(adjacency_matrix)\n",
    "    matching_matrix = np.nan_to_num(matching_matrix)\n",
    "\n",
    "    n_modules = 3  \n",
    "    kmeans = KMeans(n_clusters=n_modules, random_state=42)\n",
    "    node_labels = kmeans.fit_predict(matching_matrix)\n",
    "\n",
    "    def plot_modules(graph, coords, node_labels, n_modules):\n",
    "        fig = plt.figure(figsize=(10, 7))\n",
    "        ax = fig.add_subplot(111, projection='3d')\n",
    "        \n",
    "        colors = plt.cm.tab10(np.linspace(0, 1, n_modules))\n",
    "        \n",
    "        for module in range(n_modules):\n",
    "            nodes_in_module = [i for i in range(len(node_labels)) if node_labels[i] == module]\n",
    "            ax.scatter(coords[nodes_in_module, 0], coords[nodes_in_module, 1], coords[nodes_in_module, 2], \n",
    "                       c=[colors[module]], label=f'Module {module+1}', s=50)\n",
    "        \n",
    "        for i, j in graph.edges():\n",
    "            x = [coords[i, 0], coords[j, 0]]\n",
    "            y = [coords[i, 1], coords[j, 1]]\n",
    "            z = [coords[i, 2], coords[j, 2]]\n",
    "            ax.plot(x, y, z, c='black', alpha=0.3)\n",
    "        \n",
    "        ax.set_title(f'Graph Partitioned into {n_modules} Modules')\n",
    "        ax.set_xlabel('X')\n",
    "        ax.set_ylabel('Y')\n",
    "        ax.set_zlabel('Z')\n",
    "        plt.legend()\n",
    "        plt.show()\n",
    "\n",
    "    plot_modules(graph, coordinates, node_labels, n_modules)\n",
    "    return graph, coordinates\n",
    "\n",
    "# EL CÓDIGO NO SE EJECUTÓ"
   ]
  },
  {
   "cell_type": "markdown",
   "id": "922a7c7c",
   "metadata": {},
   "source": [
    "## Ejercicio 5-7: Análisis de Rich Club, propiedades y eliminación de nodos"
   ]
  },
  {
   "cell_type": "code",
   "execution_count": null,
   "id": "75002702",
   "metadata": {},
   "outputs": [],
   "source": [
    "\n",
    "# Ejercicios adicionales omiten sus funciones aquí pero se implementan de forma similar.\n",
    "# Agrega las siguientes funciones (ejercicio5, ejercicio6, ejercicio7) según necesidad.\n"
   ]
  },
  {
   "cell_type": "markdown",
   "id": "e793b506",
   "metadata": {},
   "source": [
    "## Main: Carga de datos y ejecución de ejercicios"
   ]
  },
  {
   "cell_type": "code",
   "execution_count": null,
   "id": "a97a359c",
   "metadata": {},
   "outputs": [],
   "source": [
    "\n",
    "def main():\n",
    "    mat = sio.loadmat('Coactivation_matrix (3).mat')\n",
    "    coactivation_matrix = mat['Coactivation_matrix']\n",
    "    coordinates = mat['Coord']\n",
    "\n",
    "    # Ejemplo de ejecución\n",
    "    # ejercicio1(coactivation_matrix, coordinates)\n",
    "    graph, coordinates = ejercicio4(coactivation_matrix, coordinates)\n",
    "    # ejercicio7(graph)\n",
    "\n",
    "if __name__ == '__main__':\n",
    "    main()\n"
   ]
  }
 ],
 "metadata": {
  "kernelspec": {
   "display_name": "Python 3 (ipykernel)",
   "language": "python",
   "name": "python3"
  },
  "language_info": {
   "codemirror_mode": {
    "name": "ipython",
    "version": 3
   },
   "file_extension": ".py",
   "mimetype": "text/x-python",
   "name": "python",
   "nbconvert_exporter": "python",
   "pygments_lexer": "ipython3",
   "version": "3.9.7"
  }
 },
 "nbformat": 4,
 "nbformat_minor": 5
}
