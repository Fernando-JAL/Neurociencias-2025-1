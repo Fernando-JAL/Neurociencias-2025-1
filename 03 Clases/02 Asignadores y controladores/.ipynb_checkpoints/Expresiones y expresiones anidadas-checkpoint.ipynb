{
 "cells": [
  {
   "cell_type": "markdown",
   "id": "199051e4",
   "metadata": {},
   "source": [
    "# Expresiones anidadas\n",
    "Se pueden solucionar empleando las reglas de precedencia:\n",
    "\n",
    "- Primero los paréntesis porque tienen prioridad\n",
    "- Segundo, las expresiones aritméticas por sus propias reglas\n",
    "- Tercero, las expresiones relacionales\n",
    "- Cuarto, las expresiones lógicas"
   ]
  },
  {
   "cell_type": "code",
   "execution_count": null,
   "id": "83d5dd87",
   "metadata": {},
   "outputs": [],
   "source": [
    "(1 and 1) != True"
   ]
  },
  {
   "cell_type": "code",
   "execution_count": null,
   "id": "1fdfadf7",
   "metadata": {},
   "outputs": [],
   "source": [
    "a = 10\n",
    "b = 5\n",
    "\n",
    "a * b - 2**b >= 20 and not (a % b) != 0"
   ]
  },
  {
   "cell_type": "code",
   "execution_count": null,
   "id": "d022716c",
   "metadata": {},
   "outputs": [],
   "source": [
    "nombre = \"marco\"\n",
    "edad = 15\n",
    "\n",
    "expresion = nombre != \"****\" and (edad > 10 and edad < 18) and (len(nombre)>=3 and len(nombre)<10)\n",
    "expresion"
   ]
  },
  {
   "cell_type": "code",
   "execution_count": null,
   "id": "20fb54c1",
   "metadata": {},
   "outputs": [],
   "source": []
  }
 ],
 "metadata": {
  "kernelspec": {
   "display_name": "Python 3 (ipykernel)",
   "language": "python",
   "name": "python3"
  },
  "language_info": {
   "codemirror_mode": {
    "name": "ipython",
    "version": 3
   },
   "file_extension": ".py",
   "mimetype": "text/x-python",
   "name": "python",
   "nbconvert_exporter": "python",
   "pygments_lexer": "ipython3",
   "version": "3.9.7"
  }
 },
 "nbformat": 4,
 "nbformat_minor": 5
}
