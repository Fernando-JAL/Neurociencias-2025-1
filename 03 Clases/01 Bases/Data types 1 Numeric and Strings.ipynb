{
 "cells": [
  {
   "cell_type": "markdown",
   "id": "21934224",
   "metadata": {},
   "source": [
    "# This script is to describe the data types used in python. Part 1"
   ]
  },
  {
   "cell_type": "markdown",
   "id": "473274aa",
   "metadata": {},
   "source": [
    "# Numeric"
   ]
  },
  {
   "cell_type": "code",
   "execution_count": 3,
   "id": "044c2854",
   "metadata": {},
   "outputs": [
    {
     "data": {
      "text/plain": [
       "8"
      ]
     },
     "execution_count": 3,
     "metadata": {},
     "output_type": "execute_result"
    }
   ],
   "source": [
    "8"
   ]
  },
  {
   "cell_type": "code",
   "execution_count": 4,
   "id": "5155f53c",
   "metadata": {},
   "outputs": [
    {
     "data": {
      "text/plain": [
       "int"
      ]
     },
     "execution_count": 4,
     "metadata": {},
     "output_type": "execute_result"
    }
   ],
   "source": [
    "type(8)"
   ]
  },
  {
   "cell_type": "code",
   "execution_count": 5,
   "id": "d194ead6",
   "metadata": {},
   "outputs": [
    {
     "data": {
      "text/plain": [
       "-7.5"
      ]
     },
     "execution_count": 5,
     "metadata": {},
     "output_type": "execute_result"
    }
   ],
   "source": [
    "-7.5"
   ]
  },
  {
   "cell_type": "code",
   "execution_count": 8,
   "id": "275841f4",
   "metadata": {},
   "outputs": [
    {
     "data": {
      "text/plain": [
       "float"
      ]
     },
     "execution_count": 8,
     "metadata": {},
     "output_type": "execute_result"
    }
   ],
   "source": [
    "type(-7.5)"
   ]
  },
  {
   "cell_type": "code",
   "execution_count": 9,
   "id": "24aabe3e",
   "metadata": {},
   "outputs": [
    {
     "data": {
      "text/plain": [
       "(3+4j)"
      ]
     },
     "execution_count": 9,
     "metadata": {},
     "output_type": "execute_result"
    }
   ],
   "source": [
    "complex(3, 4)"
   ]
  },
  {
   "cell_type": "code",
   "execution_count": 10,
   "id": "805ba8a0",
   "metadata": {},
   "outputs": [
    {
     "data": {
      "text/plain": [
       "complex"
      ]
     },
     "execution_count": 10,
     "metadata": {},
     "output_type": "execute_result"
    }
   ],
   "source": [
    "type(complex(3, 4))"
   ]
  },
  {
   "cell_type": "markdown",
   "id": "09acbc2f",
   "metadata": {},
   "source": [
    "## Operaciones con números\n",
    "\n",
    "+, -, \\*, /, //, %, **"
   ]
  },
  {
   "cell_type": "code",
   "execution_count": 21,
   "id": "0b4ee755",
   "metadata": {},
   "outputs": [
    {
     "data": {
      "text/plain": [
       "112"
      ]
     },
     "execution_count": 21,
     "metadata": {},
     "output_type": "execute_result"
    }
   ],
   "source": [
    "80 + 32"
   ]
  },
  {
   "cell_type": "code",
   "execution_count": 22,
   "id": "2cf41519",
   "metadata": {},
   "outputs": [
    {
     "data": {
      "text/plain": [
       "90"
      ]
     },
     "execution_count": 22,
     "metadata": {},
     "output_type": "execute_result"
    }
   ],
   "source": [
    "100 - 10"
   ]
  },
  {
   "cell_type": "code",
   "execution_count": 23,
   "id": "b1c9d17b",
   "metadata": {},
   "outputs": [
    {
     "data": {
      "text/plain": [
       "2300"
      ]
     },
     "execution_count": 23,
     "metadata": {},
     "output_type": "execute_result"
    }
   ],
   "source": [
    "100 * 23"
   ]
  },
  {
   "cell_type": "code",
   "execution_count": 24,
   "id": "7e6634b0",
   "metadata": {},
   "outputs": [
    {
     "data": {
      "text/plain": [
       "200.0"
      ]
     },
     "execution_count": 24,
     "metadata": {},
     "output_type": "execute_result"
    }
   ],
   "source": [
    "800 / 4"
   ]
  },
  {
   "cell_type": "code",
   "execution_count": 29,
   "id": "fe83f3c3",
   "metadata": {},
   "outputs": [
    {
     "data": {
      "text/plain": [
       "14.285714285714286"
      ]
     },
     "execution_count": 29,
     "metadata": {},
     "output_type": "execute_result"
    }
   ],
   "source": [
    "100 / 7"
   ]
  },
  {
   "cell_type": "code",
   "execution_count": 31,
   "id": "7df2af5a",
   "metadata": {},
   "outputs": [
    {
     "data": {
      "text/plain": [
       "81"
      ]
     },
     "execution_count": 31,
     "metadata": {},
     "output_type": "execute_result"
    }
   ],
   "source": [
    "9**2"
   ]
  },
  {
   "cell_type": "code",
   "execution_count": 32,
   "id": "99d02024",
   "metadata": {},
   "outputs": [
    {
     "data": {
      "text/plain": [
       "4.0"
      ]
     },
     "execution_count": 32,
     "metadata": {},
     "output_type": "execute_result"
    }
   ],
   "source": [
    "16**0.5"
   ]
  },
  {
   "cell_type": "code",
   "execution_count": 33,
   "id": "58dff13b",
   "metadata": {},
   "outputs": [
    {
     "data": {
      "text/plain": [
       "4.0"
      ]
     },
     "execution_count": 33,
     "metadata": {},
     "output_type": "execute_result"
    }
   ],
   "source": [
    "16**(1/2)"
   ]
  },
  {
   "cell_type": "code",
   "execution_count": 34,
   "id": "416cad4d",
   "metadata": {},
   "outputs": [
    {
     "data": {
      "text/plain": [
       "14"
      ]
     },
     "execution_count": 34,
     "metadata": {},
     "output_type": "execute_result"
    }
   ],
   "source": [
    "# División entera\n",
    "100 // 7"
   ]
  },
  {
   "cell_type": "code",
   "execution_count": 38,
   "id": "96934fe2",
   "metadata": {},
   "outputs": [
    {
     "data": {
      "text/plain": [
       "2"
      ]
     },
     "execution_count": 38,
     "metadata": {},
     "output_type": "execute_result"
    }
   ],
   "source": [
    "# División entera\n",
    "7 // 3 "
   ]
  },
  {
   "cell_type": "code",
   "execution_count": 42,
   "id": "c68c77eb",
   "metadata": {},
   "outputs": [
    {
     "data": {
      "text/plain": [
       "1"
      ]
     },
     "execution_count": 42,
     "metadata": {},
     "output_type": "execute_result"
    }
   ],
   "source": [
    "# Residuo de la división. Operación módulo\n",
    "7 % 3"
   ]
  },
  {
   "cell_type": "code",
   "execution_count": null,
   "id": "f77bf76c",
   "metadata": {},
   "outputs": [],
   "source": [
    "# Hacer ejemplos"
   ]
  },
  {
   "cell_type": "markdown",
   "id": "1fd41dd4",
   "metadata": {},
   "source": [
    "## Asignación de valores numéricos"
   ]
  },
  {
   "cell_type": "code",
   "execution_count": null,
   "id": "d6c1fdcf",
   "metadata": {},
   "outputs": [],
   "source": [
    "# Hacer ejemplos"
   ]
  },
  {
   "cell_type": "code",
   "execution_count": 46,
   "id": "399b851f",
   "metadata": {},
   "outputs": [],
   "source": [
    "a = 5\n",
    "b = -7.5\n",
    "c = 0.5"
   ]
  },
  {
   "cell_type": "code",
   "execution_count": 47,
   "id": "10935703",
   "metadata": {},
   "outputs": [
    {
     "data": {
      "text/plain": [
       "-2.5"
      ]
     },
     "execution_count": 47,
     "metadata": {},
     "output_type": "execute_result"
    }
   ],
   "source": [
    "a + b"
   ]
  },
  {
   "cell_type": "code",
   "execution_count": 48,
   "id": "5f1725e4",
   "metadata": {},
   "outputs": [
    {
     "data": {
      "text/plain": [
       "25"
      ]
     },
     "execution_count": 48,
     "metadata": {},
     "output_type": "execute_result"
    }
   ],
   "source": [
    "a**2"
   ]
  },
  {
   "cell_type": "code",
   "execution_count": 49,
   "id": "28a389d7",
   "metadata": {},
   "outputs": [
    {
     "data": {
      "text/plain": [
       "7.0"
      ]
     },
     "execution_count": 49,
     "metadata": {},
     "output_type": "execute_result"
    }
   ],
   "source": [
    "49**c"
   ]
  },
  {
   "cell_type": "code",
   "execution_count": 52,
   "id": "db1371cb",
   "metadata": {},
   "outputs": [
    {
     "data": {
      "text/plain": [
       "5.744562646538029"
      ]
     },
     "execution_count": 52,
     "metadata": {},
     "output_type": "execute_result"
    }
   ],
   "source": [
    "(a + b + c + 7*a)**c"
   ]
  },
  {
   "cell_type": "code",
   "execution_count": null,
   "id": "86eb6c98",
   "metadata": {},
   "outputs": [],
   "source": []
  },
  {
   "cell_type": "markdown",
   "id": "5df9a452",
   "metadata": {},
   "source": [
    "# String"
   ]
  },
  {
   "cell_type": "code",
   "execution_count": 54,
   "id": "7ccd0a1d",
   "metadata": {},
   "outputs": [
    {
     "data": {
      "text/plain": [
       "'azul'"
      ]
     },
     "execution_count": 54,
     "metadata": {},
     "output_type": "execute_result"
    }
   ],
   "source": [
    "'azul'"
   ]
  },
  {
   "cell_type": "code",
   "execution_count": 55,
   "id": "4dcf95f8",
   "metadata": {},
   "outputs": [
    {
     "data": {
      "text/plain": [
       "str"
      ]
     },
     "execution_count": 55,
     "metadata": {},
     "output_type": "execute_result"
    }
   ],
   "source": [
    "type('azul')"
   ]
  },
  {
   "cell_type": "code",
   "execution_count": 56,
   "id": "20825762",
   "metadata": {},
   "outputs": [
    {
     "data": {
      "text/plain": [
       "'azul'"
      ]
     },
     "execution_count": 56,
     "metadata": {},
     "output_type": "execute_result"
    }
   ],
   "source": [
    "\"azul\""
   ]
  },
  {
   "cell_type": "code",
   "execution_count": 59,
   "id": "291f4545",
   "metadata": {},
   "outputs": [
    {
     "data": {
      "text/plain": [
       "\"Ejemplo de una frase y 'palabras'\""
      ]
     },
     "execution_count": 59,
     "metadata": {},
     "output_type": "execute_result"
    }
   ],
   "source": [
    "\"Ejemplo de una frase y 'palabras'\""
   ]
  },
  {
   "cell_type": "code",
   "execution_count": 61,
   "id": "d4fe1517",
   "metadata": {},
   "outputs": [
    {
     "data": {
      "text/plain": [
       "'cadena2'"
      ]
     },
     "execution_count": 61,
     "metadata": {},
     "output_type": "execute_result"
    }
   ],
   "source": [
    "'Ejemplo de otra frase y \"otras palabras\"'\n",
    "'cadena2'"
   ]
  },
  {
   "cell_type": "code",
   "execution_count": null,
   "id": "13ee67e2",
   "metadata": {},
   "outputs": [],
   "source": [
    "string1 = 'cadena 1'\n",
    "string2 = 'cadena 2'"
   ]
  },
  {
   "cell_type": "markdown",
   "id": "4c30294d",
   "metadata": {},
   "source": [
    "## Función print()\n",
    "Instrucción que permite mostrar el valor de una cadena (u otros valores/variables) por pantalla."
   ]
  },
  {
   "cell_type": "code",
   "execution_count": 60,
   "id": "31ec2e53",
   "metadata": {},
   "outputs": [
    {
     "name": "stdout",
     "output_type": "stream",
     "text": [
      "string con la función print\n"
     ]
    }
   ],
   "source": [
    "print('string con la función print')"
   ]
  },
  {
   "cell_type": "code",
   "execution_count": 62,
   "id": "6221852b",
   "metadata": {},
   "outputs": [
    {
     "name": "stdout",
     "output_type": "stream",
     "text": [
      "string1\n",
      "string2\n",
      "string3\n"
     ]
    }
   ],
   "source": [
    "print('string1')\n",
    "print('string2')\n",
    "print('string3')"
   ]
  },
  {
   "cell_type": "code",
   "execution_count": 64,
   "id": "2bdfcec2",
   "metadata": {},
   "outputs": [
    {
     "name": "stdout",
     "output_type": "stream",
     "text": [
      "string1\n",
      "string2\n"
     ]
    }
   ],
   "source": [
    "a = 'string1'\n",
    "b = 'string2'\n",
    "print(a)\n",
    "print(b)"
   ]
  },
  {
   "cell_type": "code",
   "execution_count": 65,
   "id": "5da63927",
   "metadata": {},
   "outputs": [
    {
     "name": "stdout",
     "output_type": "stream",
     "text": [
      "string1 string2\n"
     ]
    }
   ],
   "source": [
    "print(a, b)"
   ]
  },
  {
   "cell_type": "markdown",
   "id": "dcd35376",
   "metadata": {},
   "source": [
    "## Caracteres especiales \\n, \\t"
   ]
  },
  {
   "cell_type": "code",
   "execution_count": 66,
   "id": "6799c336",
   "metadata": {},
   "outputs": [
    {
     "name": "stdout",
     "output_type": "stream",
     "text": [
      "Texto con \n",
      "salto de línea\n"
     ]
    }
   ],
   "source": [
    "print(\"Texto con \\nsalto de línea\")"
   ]
  },
  {
   "cell_type": "code",
   "execution_count": 67,
   "id": "7a969696",
   "metadata": {},
   "outputs": [
    {
     "name": "stdout",
     "output_type": "stream",
     "text": [
      "Texto con \t tabulación\n"
     ]
    }
   ],
   "source": [
    "print(\"Texto con \\t tabulación\")"
   ]
  },
  {
   "cell_type": "code",
   "execution_count": 68,
   "id": "3ac2fbde",
   "metadata": {},
   "outputs": [
    {
     "name": "stdout",
     "output_type": "stream",
     "text": [
      "Tener cuidado de no incluir caracteres especiales sin darse cuenta ejemplo:\n",
      "Un path C:\n",
      "ombre_de_carpeta\tachuela\n"
     ]
    }
   ],
   "source": [
    "print('Tener cuidado de no incluir caracteres especiales sin darse cuenta ejemplo:')\n",
    "print('Un path C:\\nombre_de_carpeta\\tachuela')"
   ]
  },
  {
   "cell_type": "code",
   "execution_count": 69,
   "id": "e1b65a60",
   "metadata": {},
   "outputs": [
    {
     "name": "stdout",
     "output_type": "stream",
     "text": [
      "Para ignorar los carácteres especiales, se indica que un string es crudo (raw)\n",
      "Un path C:\\nombre_de_carpeta\\tachuela\n"
     ]
    }
   ],
   "source": [
    "print('Para ignorar los carácteres especiales, se indica que un string es crudo (raw)')\n",
    "print(r'Un path C:\\nombre_de_carpeta\\tachuela')  # r => raw (cruda)"
   ]
  },
  {
   "cell_type": "code",
   "execution_count": 70,
   "id": "b4a53804",
   "metadata": {},
   "outputs": [
    {
     "ename": "SyntaxError",
     "evalue": "EOL while scanning string literal (2660872039.py, line 1)",
     "output_type": "error",
     "traceback": [
      "\u001b[1;36m  Input \u001b[1;32mIn [70]\u001b[1;36m\u001b[0m\n\u001b[1;33m    print(\"¿Qué pasa si se\u001b[0m\n\u001b[1;37m                           ^\u001b[0m\n\u001b[1;31mSyntaxError\u001b[0m\u001b[1;31m:\u001b[0m EOL while scanning string literal\n"
     ]
    }
   ],
   "source": [
    "print(\"¿Qué pasa si se \n",
    "      hace un salto de línea dentro del print?\")"
   ]
  },
  {
   "cell_type": "code",
   "execution_count": 71,
   "id": "1bac995b",
   "metadata": {},
   "outputs": [
    {
     "name": "stdout",
     "output_type": "stream",
     "text": [
      "Si se desean utilizar múltiples líneas dentro del print, se usa triple comillado\n",
      "Una línea\n",
      "otra línea\n",
      "otra línea\tuna tabulación\n"
     ]
    }
   ],
   "source": [
    "print(\"Si se desean utilizar múltiples líneas dentro del print, se usa triple comillado\")\n",
    "print(\"\"\"Una línea\n",
    "otra línea\n",
    "otra línea\\tuna tabulación\"\"\")"
   ]
  },
  {
   "cell_type": "code",
   "execution_count": 72,
   "id": "44ba71ae",
   "metadata": {},
   "outputs": [
    {
     "data": {
      "text/plain": [
       "'yo el dia de hoy quiero escribir un texto que describa mi código con suficiente detalle para hacer varias cosas'"
      ]
     },
     "execution_count": 72,
     "metadata": {},
     "output_type": "execute_result"
    }
   ],
   "source": [
    "\"yo el dia de hoy quiero escribir un texto que describa mi código con suficiente detalle para hacer varias cosas\""
   ]
  },
  {
   "cell_type": "markdown",
   "id": "cb8f45cf",
   "metadata": {},
   "source": [
    "## Asignación de cadenas a variables"
   ]
  },
  {
   "cell_type": "code",
   "execution_count": 73,
   "id": "d5b98839",
   "metadata": {},
   "outputs": [
    {
     "name": "stdout",
     "output_type": "stream",
     "text": [
      "cadena 1 cadena 2 cadena 3\n"
     ]
    }
   ],
   "source": [
    "# Hacer ejemplos\n",
    "string1 = 'cadena 1'\n",
    "string2 = 'cadena 2'\n",
    "string3 = 'cadena 3'\n",
    "print(string1, string2, string3)"
   ]
  },
  {
   "cell_type": "markdown",
   "id": "cd63c4d4",
   "metadata": {},
   "source": [
    "## Adición de cadenas"
   ]
  },
  {
   "cell_type": "code",
   "execution_count": 74,
   "id": "6e5968cf",
   "metadata": {},
   "outputs": [
    {
     "data": {
      "text/plain": [
       "'cadena 1cadena 2'"
      ]
     },
     "execution_count": 74,
     "metadata": {},
     "output_type": "execute_result"
    }
   ],
   "source": [
    "# Hacer ejemplos\n",
    "string1 + string2"
   ]
  },
  {
   "cell_type": "code",
   "execution_count": 75,
   "id": "826b97dd",
   "metadata": {},
   "outputs": [
    {
     "data": {
      "text/plain": [
       "'cadena 1cadena 3'"
      ]
     },
     "execution_count": 75,
     "metadata": {},
     "output_type": "execute_result"
    }
   ],
   "source": [
    "string1 + string3"
   ]
  },
  {
   "cell_type": "code",
   "execution_count": 76,
   "id": "22e374ed",
   "metadata": {},
   "outputs": [
    {
     "name": "stdout",
     "output_type": "stream",
     "text": [
      "El promedio de los parciales es  8.5\n"
     ]
    }
   ],
   "source": [
    "calif1 = 8.7\n",
    "calif2 = 6.8\n",
    "calif3 = 10\n",
    "\n",
    "promedio = (calif1 + calif2 + calif3) / 3\n",
    "print('El promedio de los parciales es ', promedio)"
   ]
  },
  {
   "cell_type": "code",
   "execution_count": 77,
   "id": "7b00dd94",
   "metadata": {},
   "outputs": [
    {
     "data": {
      "text/plain": [
       "'8.5'"
      ]
     },
     "execution_count": 77,
     "metadata": {},
     "output_type": "execute_result"
    }
   ],
   "source": [
    "string_promedio = str(promedio)\n",
    "string_promedio"
   ]
  },
  {
   "cell_type": "code",
   "execution_count": 79,
   "id": "104478c3",
   "metadata": {},
   "outputs": [
    {
     "data": {
      "text/plain": [
       "'El promedio de los parciales es 8.5'"
      ]
     },
     "execution_count": 79,
     "metadata": {},
     "output_type": "execute_result"
    }
   ],
   "source": [
    "'El promedio de los parciales es ' + string_promedio"
   ]
  },
  {
   "cell_type": "code",
   "execution_count": 81,
   "id": "0cd5413d",
   "metadata": {},
   "outputs": [
    {
     "data": {
      "text/plain": [
       "'folder1\\\\carpeta\\\\file.txt'"
      ]
     },
     "execution_count": 81,
     "metadata": {},
     "output_type": "execute_result"
    }
   ],
   "source": [
    "path = 'folder1'\n",
    "subfolder = 'carpeta'\n",
    "archivo = 'file.txt'\n",
    "\n",
    "path + '\\\\' + subfolder  + '\\\\' + archivo"
   ]
  },
  {
   "cell_type": "code",
   "execution_count": 85,
   "id": "8ed181ec",
   "metadata": {},
   "outputs": [
    {
     "ename": "TypeError",
     "evalue": "unsupported operand type(s) for //: 'str' and 'str'",
     "output_type": "error",
     "traceback": [
      "\u001b[1;31m---------------------------------------------------------------------------\u001b[0m",
      "\u001b[1;31mTypeError\u001b[0m                                 Traceback (most recent call last)",
      "Input \u001b[1;32mIn [85]\u001b[0m, in \u001b[0;36m<cell line: 1>\u001b[1;34m()\u001b[0m\n\u001b[1;32m----> 1\u001b[0m \u001b[43mstring1\u001b[49m\u001b[43m \u001b[49m\u001b[38;5;241;43m/\u001b[39;49m\u001b[38;5;241;43m/\u001b[39;49m\u001b[43m \u001b[49m\u001b[43mstring2\u001b[49m\n",
      "\u001b[1;31mTypeError\u001b[0m: unsupported operand type(s) for //: 'str' and 'str'"
     ]
    }
   ],
   "source": [
    "string1 // string2"
   ]
  },
  {
   "cell_type": "markdown",
   "id": "65b31727",
   "metadata": {},
   "source": [
    "## Producto de cadenas y enteros"
   ]
  },
  {
   "cell_type": "code",
   "execution_count": 89,
   "id": "3564b3c3",
   "metadata": {},
   "outputs": [
    {
     "data": {
      "text/plain": [
       "'cadena 1cadena 1cadena 1cadena 1cadena 1cadena 1cadena 1cadena 1cadena 1cadena 1'"
      ]
     },
     "execution_count": 89,
     "metadata": {},
     "output_type": "execute_result"
    }
   ],
   "source": [
    "# Hacer ejemplos\n",
    "string1*10"
   ]
  },
  {
   "cell_type": "code",
   "execution_count": 90,
   "id": "21fcd7bc",
   "metadata": {},
   "outputs": [
    {
     "data": {
      "text/plain": [
       "'cadena 2cadena 2cadena 2cadena 2cadena 2cadena 2cadena 2cadena 2cadena 2cadena 2'"
      ]
     },
     "execution_count": 90,
     "metadata": {},
     "output_type": "execute_result"
    }
   ],
   "source": [
    "10*string2"
   ]
  },
  {
   "cell_type": "markdown",
   "id": "22af9792",
   "metadata": {},
   "source": [
    "## Índices en las cadenas\n",
    "Los índices nos permiten posicionarnos en un carácter específico de una cadena.\n",
    "\n",
    "Representan un número [índice], que empezando por el 0 indica el carácter de la primera posición, y así sucesivamente."
   ]
  },
  {
   "cell_type": "code",
   "execution_count": 93,
   "id": "dadc6d55",
   "metadata": {},
   "outputs": [
    {
     "data": {
      "text/plain": [
       "'Hello world'"
      ]
     },
     "execution_count": 93,
     "metadata": {},
     "output_type": "execute_result"
    }
   ],
   "source": [
    "# Hacer ejemplos\n",
    "string1 = 'Hello world'\n",
    "string1"
   ]
  },
  {
   "cell_type": "code",
   "execution_count": 99,
   "id": "ed00d3fe",
   "metadata": {},
   "outputs": [
    {
     "data": {
      "text/plain": [
       "'d'"
      ]
     },
     "execution_count": 99,
     "metadata": {},
     "output_type": "execute_result"
    }
   ],
   "source": [
    "string1[10]"
   ]
  },
  {
   "cell_type": "markdown",
   "id": "ed323cad",
   "metadata": {},
   "source": [
    "## Slicing en las cadenas\n",
    "El slicing es una capacidad de las cadenas que devuelve un subconjunto o subcadena utilizando dos índices [inicio:fin]:\n",
    "- El primer índice indica donde empieza la subcadena (se incluye el carácter).\n",
    "- El segundo índice indica donde acaba la subcadena (se excluye el carácter)."
   ]
  },
  {
   "cell_type": "code",
   "execution_count": 98,
   "id": "9a7d0d1c",
   "metadata": {},
   "outputs": [
    {
     "data": {
      "text/plain": [
       "'Hello world'"
      ]
     },
     "execution_count": 98,
     "metadata": {},
     "output_type": "execute_result"
    }
   ],
   "source": [
    "# Hacer ejemplos\n",
    "string1"
   ]
  },
  {
   "cell_type": "code",
   "execution_count": 104,
   "id": "a215f4aa",
   "metadata": {},
   "outputs": [
    {
     "data": {
      "text/plain": [
       "'world'"
      ]
     },
     "execution_count": 104,
     "metadata": {},
     "output_type": "execute_result"
    }
   ],
   "source": [
    "string1[6:11]"
   ]
  },
  {
   "cell_type": "code",
   "execution_count": 105,
   "id": "db10b734",
   "metadata": {},
   "outputs": [
    {
     "data": {
      "text/plain": [
       "'ello'"
      ]
     },
     "execution_count": 105,
     "metadata": {},
     "output_type": "execute_result"
    }
   ],
   "source": [
    "string1[1:5]"
   ]
  },
  {
   "cell_type": "code",
   "execution_count": 109,
   "id": "187127b4",
   "metadata": {},
   "outputs": [
    {
     "data": {
      "text/plain": [
       "'world'"
      ]
     },
     "execution_count": 109,
     "metadata": {},
     "output_type": "execute_result"
    }
   ],
   "source": [
    "string1[6:]"
   ]
  },
  {
   "cell_type": "code",
   "execution_count": 110,
   "id": "e29b4ac0",
   "metadata": {},
   "outputs": [
    {
     "data": {
      "text/plain": [
       "'lo world'"
      ]
     },
     "execution_count": 110,
     "metadata": {},
     "output_type": "execute_result"
    }
   ],
   "source": [
    "string1[3:]"
   ]
  },
  {
   "cell_type": "code",
   "execution_count": 111,
   "id": "4f30a03c",
   "metadata": {},
   "outputs": [
    {
     "data": {
      "text/plain": [
       "'Hello'"
      ]
     },
     "execution_count": 111,
     "metadata": {},
     "output_type": "execute_result"
    }
   ],
   "source": [
    "string1[:5]"
   ]
  },
  {
   "cell_type": "code",
   "execution_count": 118,
   "id": "2cde551d",
   "metadata": {},
   "outputs": [
    {
     "data": {
      "text/plain": [
       "'texto.txt'"
      ]
     },
     "execution_count": 118,
     "metadata": {},
     "output_type": "execute_result"
    }
   ],
   "source": [
    "string1 = 'texto.txt'\n",
    "string1"
   ]
  },
  {
   "cell_type": "code",
   "execution_count": 119,
   "id": "6bbbb10b",
   "metadata": {},
   "outputs": [
    {
     "data": {
      "text/plain": [
       "'texto'"
      ]
     },
     "execution_count": 119,
     "metadata": {},
     "output_type": "execute_result"
    }
   ],
   "source": [
    "string1[:-4]"
   ]
  },
  {
   "cell_type": "markdown",
   "id": "cd62451f",
   "metadata": {},
   "source": [
    "## Inmutabilidad\n",
    "Una propiedad de las cadenas es que no se pueden modificar. Si intentamos reasignar un carácter, no nos dejará:"
   ]
  },
  {
   "cell_type": "code",
   "execution_count": 121,
   "id": "4557ae1c",
   "metadata": {},
   "outputs": [
    {
     "data": {
      "text/plain": [
       "'palabra'"
      ]
     },
     "execution_count": 121,
     "metadata": {},
     "output_type": "execute_result"
    }
   ],
   "source": [
    "palabra = 'palabra'\n",
    "palabra"
   ]
  },
  {
   "cell_type": "code",
   "execution_count": 122,
   "id": "3382389c",
   "metadata": {},
   "outputs": [
    {
     "data": {
      "text/plain": [
       "'p'"
      ]
     },
     "execution_count": 122,
     "metadata": {},
     "output_type": "execute_result"
    }
   ],
   "source": [
    "palabra[0]"
   ]
  },
  {
   "cell_type": "code",
   "execution_count": 123,
   "id": "4c26db22",
   "metadata": {},
   "outputs": [
    {
     "ename": "TypeError",
     "evalue": "'str' object does not support item assignment",
     "output_type": "error",
     "traceback": [
      "\u001b[1;31m---------------------------------------------------------------------------\u001b[0m",
      "\u001b[1;31mTypeError\u001b[0m                                 Traceback (most recent call last)",
      "Input \u001b[1;32mIn [123]\u001b[0m, in \u001b[0;36m<cell line: 1>\u001b[1;34m()\u001b[0m\n\u001b[1;32m----> 1\u001b[0m palabra[\u001b[38;5;241m0\u001b[39m] \u001b[38;5;241m=\u001b[39m \u001b[38;5;124m\"\u001b[39m\u001b[38;5;124mN\u001b[39m\u001b[38;5;124m\"\u001b[39m\n",
      "\u001b[1;31mTypeError\u001b[0m: 'str' object does not support item assignment"
     ]
    }
   ],
   "source": [
    "palabra[0] = \"N\""
   ]
  },
  {
   "cell_type": "markdown",
   "id": "e2ebe71e",
   "metadata": {},
   "source": [
    "#### Sin embargo, utilizando slicing y concatenación podemos generar nuevas cadenas fácilmente:"
   ]
  },
  {
   "cell_type": "code",
   "execution_count": 124,
   "id": "75e2305b",
   "metadata": {},
   "outputs": [
    {
     "data": {
      "text/plain": [
       "'Nalabra'"
      ]
     },
     "execution_count": 124,
     "metadata": {},
     "output_type": "execute_result"
    }
   ],
   "source": [
    "\"N\" + palabra[1:]"
   ]
  },
  {
   "cell_type": "code",
   "execution_count": 141,
   "id": "8426604e",
   "metadata": {},
   "outputs": [
    {
     "data": {
      "text/plain": [
       "'pep8'"
      ]
     },
     "execution_count": 141,
     "metadata": {},
     "output_type": "execute_result"
    }
   ],
   "source": [
    "# Hacer ejemplos\n",
    "palabra = 'pep8'\n",
    "palabra"
   ]
  },
  {
   "cell_type": "code",
   "execution_count": 132,
   "id": "6636cabf",
   "metadata": {},
   "outputs": [
    {
     "data": {
      "text/plain": [
       "'pepsi'"
      ]
     },
     "execution_count": 132,
     "metadata": {},
     "output_type": "execute_result"
    }
   ],
   "source": [
    "palabra[:3] + 'si'"
   ]
  },
  {
   "cell_type": "code",
   "execution_count": 135,
   "id": "3d20d9f7",
   "metadata": {},
   "outputs": [
    {
     "data": {
      "text/plain": [
       "'pepsi'"
      ]
     },
     "execution_count": 135,
     "metadata": {},
     "output_type": "execute_result"
    }
   ],
   "source": [
    "palabra2 = palabra[:3] + 'si'\n",
    "palabra2"
   ]
  },
  {
   "cell_type": "markdown",
   "id": "2256ae44",
   "metadata": {},
   "source": [
    "## Función len()"
   ]
  },
  {
   "cell_type": "code",
   "execution_count": 139,
   "id": "cd9e93a3",
   "metadata": {},
   "outputs": [
    {
     "data": {
      "text/plain": [
       "'Hello world'"
      ]
     },
     "execution_count": 139,
     "metadata": {},
     "output_type": "execute_result"
    }
   ],
   "source": [
    "# Hacer ejemplos\n",
    "string1 = 'Hello world'\n",
    "string1"
   ]
  },
  {
   "cell_type": "code",
   "execution_count": 140,
   "id": "fabda5a5",
   "metadata": {},
   "outputs": [
    {
     "data": {
      "text/plain": [
       "11"
      ]
     },
     "execution_count": 140,
     "metadata": {},
     "output_type": "execute_result"
    }
   ],
   "source": [
    "len(string1)"
   ]
  },
  {
   "cell_type": "code",
   "execution_count": null,
   "id": "5e58d1d6",
   "metadata": {},
   "outputs": [],
   "source": []
  }
 ],
 "metadata": {
  "kernelspec": {
   "display_name": "Python 3 (ipykernel)",
   "language": "python",
   "name": "python3"
  },
  "language_info": {
   "codemirror_mode": {
    "name": "ipython",
    "version": 3
   },
   "file_extension": ".py",
   "mimetype": "text/x-python",
   "name": "python",
   "nbconvert_exporter": "python",
   "pygments_lexer": "ipython3",
   "version": "3.9.7"
  }
 },
 "nbformat": 4,
 "nbformat_minor": 5
}
