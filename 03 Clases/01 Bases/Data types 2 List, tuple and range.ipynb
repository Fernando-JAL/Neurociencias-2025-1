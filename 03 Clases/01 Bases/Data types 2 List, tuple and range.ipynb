{
 "cells": [
  {
   "cell_type": "markdown",
   "id": "ca348e89",
   "metadata": {},
   "source": [
    "# This script is to describe the data types used in python. Part 2\n",
    "\n",
    "# Sequence"
   ]
  },
  {
   "cell_type": "markdown",
   "id": "2d8d5491",
   "metadata": {},
   "source": [
    "## list\n",
    "Tipo compuesto de dato que puede almacenar distintos elementos (llamados ítems) ordenados entre [ ] y separados con comas."
   ]
  },
  {
   "cell_type": "code",
   "execution_count": null,
   "id": "25039ee6",
   "metadata": {},
   "outputs": [],
   "source": [
    "list1 = [5, 2.1, -9, -520.18]"
   ]
  },
  {
   "cell_type": "code",
   "execution_count": null,
   "id": "52972487",
   "metadata": {},
   "outputs": [],
   "source": [
    "type(list1)"
   ]
  },
  {
   "cell_type": "code",
   "execution_count": null,
   "id": "9f3b9ce3",
   "metadata": {},
   "outputs": [],
   "source": [
    "# Hacer ejemplos"
   ]
  },
  {
   "cell_type": "markdown",
   "id": "e8321962",
   "metadata": {},
   "source": [
    "## Slicing en listas\n",
    "Lst[ Initial : End : IndexJump ]"
   ]
  },
  {
   "cell_type": "code",
   "execution_count": null,
   "id": "a12eaae8",
   "metadata": {},
   "outputs": [],
   "source": [
    "# Hacer ejemplos"
   ]
  },
  {
   "cell_type": "markdown",
   "id": "6b1093b1",
   "metadata": {},
   "source": [
    "## Suma de listas\n",
    "Da como resultado una nueva lista que incluye todos los ítems."
   ]
  },
  {
   "cell_type": "code",
   "execution_count": null,
   "id": "a36c500a",
   "metadata": {},
   "outputs": [],
   "source": [
    "# Hacer ejemplos"
   ]
  },
  {
   "cell_type": "markdown",
   "id": "e4f925f5",
   "metadata": {},
   "source": [
    "## Son modificables\n",
    "A diferencia de las cadenas, en las listas sí podemos modificar sus ítems utilizando índices:"
   ]
  },
  {
   "cell_type": "code",
   "execution_count": null,
   "id": "e4807fc3",
   "metadata": {},
   "outputs": [],
   "source": [
    "# Hacer ejemplos"
   ]
  },
  {
   "cell_type": "code",
   "execution_count": null,
   "id": "605c1778",
   "metadata": {},
   "outputs": [],
   "source": []
  },
  {
   "cell_type": "markdown",
   "id": "b365ddef",
   "metadata": {},
   "source": [
    "## Método .append() en listas"
   ]
  },
  {
   "cell_type": "code",
   "execution_count": null,
   "id": "315df0b8",
   "metadata": {},
   "outputs": [],
   "source": [
    "letras = ['a','b','c','d','e','f']\n",
    "letras"
   ]
  },
  {
   "cell_type": "code",
   "execution_count": null,
   "id": "044225e2",
   "metadata": {},
   "outputs": [],
   "source": [
    "letras.append(7*2)\n",
    "letras"
   ]
  },
  {
   "cell_type": "code",
   "execution_count": null,
   "id": "790504de",
   "metadata": {},
   "outputs": [],
   "source": [
    "# Hacer ejemplos"
   ]
  },
  {
   "cell_type": "markdown",
   "id": "84dcde0c",
   "metadata": {},
   "source": [
    "Y una peculiaridad, es que también aceptan asignación con slicing para modificar varios ítems en conjunto"
   ]
  },
  {
   "cell_type": "code",
   "execution_count": null,
   "id": "a4a11653",
   "metadata": {},
   "outputs": [],
   "source": [
    "letras[:3] = ['A','B','C']\n",
    "letras"
   ]
  },
  {
   "cell_type": "code",
   "execution_count": null,
   "id": "b142517b",
   "metadata": {},
   "outputs": [],
   "source": [
    "letras[4:] = ['h', 'z']\n",
    "letras"
   ]
  },
  {
   "cell_type": "code",
   "execution_count": null,
   "id": "36534b3e",
   "metadata": {},
   "outputs": [],
   "source": [
    "# ¿Qué pasará si no se respeta el número de elementos a modificar?\n",
    "letras[4:] = ['x', 'y', 't', 'u']\n",
    "letras"
   ]
  },
  {
   "cell_type": "code",
   "execution_count": null,
   "id": "05a76e2f",
   "metadata": {},
   "outputs": [],
   "source": [
    "letras[:2] = ['l', 'm','n','o']\n",
    "letras"
   ]
  },
  {
   "cell_type": "code",
   "execution_count": null,
   "id": "43113d81",
   "metadata": {},
   "outputs": [],
   "source": [
    "letras[:4] = ['12']\n",
    "letras"
   ]
  },
  {
   "cell_type": "code",
   "execution_count": null,
   "id": "537b7ec0",
   "metadata": {},
   "outputs": [],
   "source": [
    "letras.append('alpha')\n",
    "letras"
   ]
  },
  {
   "cell_type": "markdown",
   "id": "2f8c5bd6",
   "metadata": {},
   "source": [
    "## Vaciar lista con [ ]"
   ]
  },
  {
   "cell_type": "code",
   "execution_count": null,
   "id": "e51b8773",
   "metadata": {},
   "outputs": [],
   "source": [
    "# Hacer ejemplos"
   ]
  },
  {
   "cell_type": "markdown",
   "id": "2079ab06",
   "metadata": {},
   "source": [
    "## Función len()"
   ]
  },
  {
   "cell_type": "code",
   "execution_count": null,
   "id": "47f8905f",
   "metadata": {},
   "outputs": [],
   "source": [
    "# Hacer ejemplos"
   ]
  },
  {
   "cell_type": "markdown",
   "id": "5c7284e0",
   "metadata": {},
   "source": [
    "# Listas dentro de listas (anidadas)\n",
    "Podemos manipular fácilmente este tipo de estructuras utilizando múltiples índices, como si nos refieréramos a las filas y columnas de una tabla."
   ]
  },
  {
   "cell_type": "code",
   "execution_count": null,
   "id": "d4a0eae4",
   "metadata": {},
   "outputs": [],
   "source": [
    "a = [1,2,3]\n",
    "b = [4,5,6]\n",
    "c = [7,8,9]\n",
    "r = [a,b,c]\n",
    "r"
   ]
  },
  {
   "cell_type": "code",
   "execution_count": null,
   "id": "63d4d0e7",
   "metadata": {},
   "outputs": [],
   "source": [
    "# Hacer ejemplos"
   ]
  },
  {
   "cell_type": "markdown",
   "id": "7a30db9c",
   "metadata": {},
   "source": [
    "# Tuple\n",
    " Es una colección de elementos distintos ordenados entre ( ) y separados por comas."
   ]
  },
  {
   "cell_type": "code",
   "execution_count": null,
   "id": "67c02aef",
   "metadata": {},
   "outputs": [],
   "source": [
    "tupla1 = (5, 3, 'a')\n",
    "type(tupla1)"
   ]
  },
  {
   "cell_type": "markdown",
   "id": "c385dfd3",
   "metadata": {},
   "source": [
    "Puede haber algunos inconvenientes al tratar de crear una tupla con 1 elemento"
   ]
  },
  {
   "cell_type": "code",
   "execution_count": null,
   "id": "380db166",
   "metadata": {},
   "outputs": [],
   "source": [
    "tupla2 = (5)\n",
    "tupla2"
   ]
  },
  {
   "cell_type": "code",
   "execution_count": null,
   "id": "6f73c0ce",
   "metadata": {},
   "outputs": [],
   "source": [
    "type(tupla2)"
   ]
  },
  {
   "cell_type": "code",
   "execution_count": null,
   "id": "81948dbb",
   "metadata": {},
   "outputs": [],
   "source": [
    "tupla2 = (5, )\n",
    "tupla2"
   ]
  },
  {
   "cell_type": "code",
   "execution_count": null,
   "id": "a0816db0",
   "metadata": {},
   "outputs": [],
   "source": [
    "type(tupla2)"
   ]
  },
  {
   "cell_type": "markdown",
   "id": "0e7e5c12",
   "metadata": {},
   "source": [
    "### Algunas características de las tuplas son:\n",
    "- inmutables\n",
    "- slicing en tuplas\n",
    "- suma de tuplas\n",
    "- función len\n",
    "- multiplicación con enteros"
   ]
  },
  {
   "cell_type": "code",
   "execution_count": null,
   "id": "c18481ed",
   "metadata": {},
   "outputs": [],
   "source": [
    "# Hacer ejemplos"
   ]
  },
  {
   "cell_type": "markdown",
   "id": "8e44bce5",
   "metadata": {},
   "source": [
    "Conversión de listas a tuplas y viceversa"
   ]
  },
  {
   "cell_type": "code",
   "execution_count": null,
   "id": "0ff82528",
   "metadata": {},
   "outputs": [],
   "source": [
    "# Hacer ejemplos"
   ]
  },
  {
   "cell_type": "markdown",
   "id": "d9a2ef8e",
   "metadata": {},
   "source": [
    "# range function\n",
    "La función range() retorna una sucesión de numeros en un rango, range(start, stop, step)"
   ]
  },
  {
   "cell_type": "code",
   "execution_count": null,
   "id": "bec6ef4f",
   "metadata": {},
   "outputs": [],
   "source": [
    "x = range(1, 5)\n",
    "x"
   ]
  },
  {
   "cell_type": "code",
   "execution_count": null,
   "id": "bcffc1cb",
   "metadata": {},
   "outputs": [],
   "source": [
    "type(x)"
   ]
  },
  {
   "cell_type": "code",
   "execution_count": null,
   "id": "8c81c746",
   "metadata": {},
   "outputs": [],
   "source": [
    "x[0]"
   ]
  },
  {
   "cell_type": "code",
   "execution_count": null,
   "id": "2f2b7313",
   "metadata": {},
   "outputs": [],
   "source": [
    "x[-1]"
   ]
  },
  {
   "cell_type": "markdown",
   "id": "a73e9229",
   "metadata": {},
   "source": [
    "## Función len()"
   ]
  },
  {
   "cell_type": "code",
   "execution_count": null,
   "id": "76a5c3b0",
   "metadata": {},
   "outputs": [],
   "source": [
    "# Hacer ejemplos"
   ]
  },
  {
   "cell_type": "markdown",
   "id": "2bdcf99d",
   "metadata": {},
   "source": [
    "## Conversión de range a list o tuple"
   ]
  },
  {
   "cell_type": "code",
   "execution_count": null,
   "id": "a2abe2b1",
   "metadata": {},
   "outputs": [],
   "source": [
    "#Hacer ejemplos"
   ]
  },
  {
   "cell_type": "code",
   "execution_count": null,
   "id": "ce1d3508",
   "metadata": {},
   "outputs": [],
   "source": []
  }
 ],
 "metadata": {
  "kernelspec": {
   "display_name": "Python 3 (ipykernel)",
   "language": "python",
   "name": "python3"
  },
  "language_info": {
   "codemirror_mode": {
    "name": "ipython",
    "version": 3
   },
   "file_extension": ".py",
   "mimetype": "text/x-python",
   "name": "python",
   "nbconvert_exporter": "python",
   "pygments_lexer": "ipython3",
   "version": "3.9.7"
  }
 },
 "nbformat": 4,
 "nbformat_minor": 5
}
