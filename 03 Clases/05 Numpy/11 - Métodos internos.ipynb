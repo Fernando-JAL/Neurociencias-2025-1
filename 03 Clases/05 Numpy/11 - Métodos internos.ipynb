{
 "cells": [
  {
   "cell_type": "markdown",
   "id": "edf880a4",
   "metadata": {},
   "source": [
    "# Métodos internos\n",
    "\n",
    "En esta lección vamos a repasar algunos métodos estadísticos y de ordenación que incluyen las instancias de la clase array. Para más información tenéis [la documentación oficial](https://numpy.org/doc/stable/reference/index.html).\n",
    "\n",
    "## Métodos estadísticos"
   ]
  },
  {
   "cell_type": "code",
   "execution_count": null,
   "id": "421862c8",
   "metadata": {},
   "outputs": [],
   "source": [
    "import numpy as np\n",
    "\n",
    "# generamos un array de 2*3 con números aleatorios\n",
    "arr = np.arange(1,7)\n",
    "\n",
    "arr"
   ]
  },
  {
   "cell_type": "code",
   "execution_count": null,
   "id": "64f970a6",
   "metadata": {},
   "outputs": [],
   "source": [
    "arr.reshape(2,3)"
   ]
  },
  {
   "cell_type": "code",
   "execution_count": null,
   "id": "92b05561",
   "metadata": {},
   "outputs": [],
   "source": [
    "# sumatorio\n",
    "arr.sum()"
   ]
  },
  {
   "cell_type": "code",
   "execution_count": null,
   "id": "c2436d37",
   "metadata": {},
   "outputs": [],
   "source": [
    "# media\n",
    "arr.mean()"
   ]
  },
  {
   "cell_type": "code",
   "execution_count": null,
   "id": "76d623cb",
   "metadata": {},
   "outputs": [],
   "source": [
    "# desviación estándard\n",
    "arr.std()"
   ]
  },
  {
   "cell_type": "code",
   "execution_count": null,
   "id": "484176bd",
   "metadata": {},
   "outputs": [],
   "source": [
    "# varianza\n",
    "arr.var()"
   ]
  },
  {
   "cell_type": "markdown",
   "id": "8643fc28",
   "metadata": {},
   "source": [
    "## Métodos de ordenación"
   ]
  },
  {
   "cell_type": "code",
   "execution_count": 2,
   "id": "f338e4b1",
   "metadata": {},
   "outputs": [],
   "source": [
    "import numpy as np"
   ]
  },
  {
   "cell_type": "code",
   "execution_count": 3,
   "id": "4bb9fb7f",
   "metadata": {},
   "outputs": [
    {
     "data": {
      "text/plain": [
       "array([[-3, -2,  4],\n",
       "       [ 7,  7, -4],\n",
       "       [ 8,  2, -8]])"
      ]
     },
     "execution_count": 3,
     "metadata": {},
     "output_type": "execute_result"
    }
   ],
   "source": [
    "# generamos un nuevo array aleatorio\n",
    "arr = np.random.randint(-10,10,[3,3])\n",
    "\n",
    "arr"
   ]
  },
  {
   "cell_type": "code",
   "execution_count": null,
   "id": "637edce6",
   "metadata": {},
   "outputs": [],
   "source": [
    "# Ordenar elementos horizontalmente\n",
    "arr.sort()\n",
    "\n",
    "arr"
   ]
  },
  {
   "cell_type": "code",
   "execution_count": 4,
   "id": "16b14047",
   "metadata": {},
   "outputs": [
    {
     "data": {
      "text/plain": [
       "array([[-3, -2, -8],\n",
       "       [ 7,  2, -4],\n",
       "       [ 8,  7,  4]])"
      ]
     },
     "execution_count": 4,
     "metadata": {},
     "output_type": "execute_result"
    }
   ],
   "source": [
    "# Ordenar elementos verticalmente\n",
    "arr.sort(0)\n",
    "\n",
    "arr"
   ]
  },
  {
   "cell_type": "code",
   "execution_count": 5,
   "id": "5a0bf84e",
   "metadata": {},
   "outputs": [
    {
     "data": {
      "text/plain": [
       "array([[-3, -2, -8],\n",
       "       [ 7,  2, -4],\n",
       "       [ 8,  7,  4]])"
      ]
     },
     "execution_count": 5,
     "metadata": {},
     "output_type": "execute_result"
    }
   ],
   "source": [
    "arr"
   ]
  },
  {
   "cell_type": "code",
   "execution_count": null,
   "id": "fe1a9c4b",
   "metadata": {},
   "outputs": [],
   "source": []
  }
 ],
 "metadata": {
  "kernelspec": {
   "display_name": "Python 3 (ipykernel)",
   "language": "python",
   "name": "python3"
  },
  "language_info": {
   "codemirror_mode": {
    "name": "ipython",
    "version": 3
   },
   "file_extension": ".py",
   "mimetype": "text/x-python",
   "name": "python",
   "nbconvert_exporter": "python",
   "pygments_lexer": "ipython3",
   "version": "3.9.7"
  }
 },
 "nbformat": 4,
 "nbformat_minor": 5
}
