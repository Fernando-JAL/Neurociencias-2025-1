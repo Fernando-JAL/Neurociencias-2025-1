{
 "cells": [
  {
   "cell_type": "markdown",
   "id": "14299ccb",
   "metadata": {},
   "source": [
    "## Recorriendo los elementos de una lista utilizando While"
   ]
  },
  {
   "cell_type": "code",
   "execution_count": null,
   "id": "2309fbda",
   "metadata": {},
   "outputs": [],
   "source": [
    "numeros = [1,2,3,4,5,6,7,8,9,10]\n",
    "indice = 0\n",
    "while indice < len(numeros):\n",
    "    print(numeros[indice])\n",
    "    indice+=1"
   ]
  },
  {
   "cell_type": "markdown",
   "id": "e3a55a09",
   "metadata": {},
   "source": [
    "# Sentencia For (Para) con listas"
   ]
  },
  {
   "cell_type": "code",
   "execution_count": 6,
   "id": "224247be",
   "metadata": {},
   "outputs": [
    {
     "name": "stdout",
     "output_type": "stream",
     "text": [
      "2  es par\n",
      "3  es impar\n",
      "4  es par\n",
      "5  es impar\n",
      "6  es par\n",
      "7  es impar\n",
      "8  es par\n",
      "9  es impar\n"
     ]
    }
   ],
   "source": [
    "numeros = [2, 3, 4, 5, 6, 7, 8, 9]\n",
    "for idx in numeros:  # Para [variable local] en [lista]\n",
    "    if idx % 2 == 0:\n",
    "        print(idx, ' es par')\n",
    "    else:\n",
    "        print(idx, ' es impar')"
   ]
  },
  {
   "cell_type": "code",
   "execution_count": null,
   "id": "0d933fd1",
   "metadata": {},
   "outputs": [],
   "source": [
    "promedio = 0\n",
    "\n",
    "numeros = [0, 2, 4, 5, 6, 8]\n",
    "for idx in numeros:\n",
    "    promedio += idx\n",
    "    print(str(idx))\n",
    "promedio /= len(numeros)\n",
    "print('el promedio es: ', promedio)"
   ]
  },
  {
   "cell_type": "code",
   "execution_count": null,
   "id": "f61cd74c",
   "metadata": {},
   "outputs": [],
   "source": [
    "numeros = [0, 2, 4, 5, 6, 8]\n",
    "longitud = 0\n",
    "for _ in numeros:\n",
    "    longitud += 1\n",
    "    print('se está ejecutando el for')\n",
    "print('la longitud de la lista es: ', longitud)"
   ]
  },
  {
   "cell_type": "code",
   "execution_count": null,
   "id": "768b26bc",
   "metadata": {},
   "outputs": [],
   "source": [
    "numeros[2] = numeros[2]*2\n",
    "numeros"
   ]
  },
  {
   "cell_type": "markdown",
   "id": "33dcb90d",
   "metadata": {},
   "source": [
    "## Modificar ítems de la lista al vuelo\n",
    "Para asignar un nuevo valor a los elementos de una lista mientras la recorremos, podríamos intentar asignar al número el nuevo valor:"
   ]
  },
  {
   "cell_type": "code",
   "execution_count": null,
   "id": "af35d09c",
   "metadata": {},
   "outputs": [],
   "source": [
    "numeros = [0, 2, 4, 5, 6, 8]\n",
    "for numero in numeros:\n",
    "    numero *= 10\n",
    "    print(numero)\n",
    "    \n",
    "numeros"
   ]
  },
  {
   "cell_type": "markdown",
   "id": "b1a574b4",
   "metadata": {},
   "source": [
    "Sin embargo, ésto no funciona. La forma correcta de hacerlo es haciendo referencia al índice de la lista en lugar de la variable:"
   ]
  },
  {
   "cell_type": "code",
   "execution_count": null,
   "id": "40388623",
   "metadata": {},
   "outputs": [],
   "source": [
    "indice = 0\n",
    "numeros = [1, 2, 3, 4, 5, 6, 7, 8, 9, 10]\n",
    "for numero in numeros:\n",
    "    numeros[indice] *= 10\n",
    "    indice+=1\n",
    "numeros"
   ]
  },
  {
   "cell_type": "code",
   "execution_count": null,
   "id": "4cf1f883",
   "metadata": {},
   "outputs": [],
   "source": [
    "lista = ['azul', 'verde', 56, ['2da lista']]\n",
    "for i in lista:\n",
    "    print(i)"
   ]
  },
  {
   "cell_type": "code",
   "execution_count": null,
   "id": "428a79b3",
   "metadata": {},
   "outputs": [],
   "source": [
    "lista = [4, 5, 6]\n",
    "for i in lista:\n",
    "    print(i)"
   ]
  },
  {
   "cell_type": "code",
   "execution_count": null,
   "id": "54a9c4b6",
   "metadata": {},
   "outputs": [],
   "source": [
    "lista = [1, 2, 3, 4, 5, 6]\n",
    "lista[6]"
   ]
  },
  {
   "cell_type": "code",
   "execution_count": null,
   "id": "bdc29174",
   "metadata": {},
   "outputs": [],
   "source": [
    "lista = [1, 2, 3, 4, 5, 6]\n",
    "for i in lista:\n",
    "    print(lista[i])"
   ]
  },
  {
   "cell_type": "code",
   "execution_count": null,
   "id": "92d1c565",
   "metadata": {},
   "outputs": [],
   "source": [
    "indice = 0\n",
    "numeros = [1, 2, 3, 4, 5]\n",
    "for i in numeros:\n",
    "    numeros[i] *= 10\n",
    "    print('valor de i = {}, lista es: {}'.format(i, numeros))\n",
    "numeros"
   ]
  },
  {
   "cell_type": "markdown",
   "id": "8259d9ff",
   "metadata": {},
   "source": [
    "Como alternativa para simplificar el código anterior, existe la función enumerate(lista)"
   ]
  },
  {
   "cell_type": "markdown",
   "id": "0486dbf6",
   "metadata": {},
   "source": [
    "# enumerate(iterable, start=0)\n",
    "Return an enumerate object. iterable must be a sequence, an iterator, or some other object which supports iteration. It returns a tuple containing a count (from start which defaults to 0) and the values obtained from iterating over iterable."
   ]
  },
  {
   "cell_type": "code",
   "execution_count": null,
   "id": "31cba718",
   "metadata": {},
   "outputs": [],
   "source": [
    "seasons = ['Spring', 'Summer', 'Fall', 'Winter']\n",
    "enumerate(seasons)"
   ]
  },
  {
   "cell_type": "code",
   "execution_count": null,
   "id": "7d62363a",
   "metadata": {},
   "outputs": [],
   "source": [
    "seasons = ['Spring', 'Summer', 'Fall', 'Winter']\n",
    "list(enumerate(seasons))"
   ]
  },
  {
   "cell_type": "markdown",
   "id": "99c7de9c",
   "metadata": {},
   "source": [
    "# for usando enumerate"
   ]
  },
  {
   "cell_type": "code",
   "execution_count": null,
   "id": "d7f3fe32",
   "metadata": {},
   "outputs": [],
   "source": [
    "numeros = [1, 2, 3, 4, 5, 6, 7, 8, 9, 10]\n",
    "for idx, numero in enumerate(numeros):\n",
    "    numeros[idx] *= 10\n",
    "numeros"
   ]
  },
  {
   "cell_type": "code",
   "execution_count": null,
   "id": "e5612b2b",
   "metadata": {},
   "outputs": [],
   "source": [
    "seasons = ['Spring', 'Summer', 'Fall', 'Winter']\n",
    "for idx, season in enumerate(seasons):\n",
    "    print(idx, season)"
   ]
  },
  {
   "cell_type": "markdown",
   "id": "f1f0797a",
   "metadata": {},
   "source": [
    "## for con cadenas"
   ]
  },
  {
   "cell_type": "code",
   "execution_count": null,
   "id": "2eeea4ba",
   "metadata": {},
   "outputs": [],
   "source": [
    "string = 'hola'\n",
    "list(string)"
   ]
  },
  {
   "cell_type": "code",
   "execution_count": null,
   "id": "661496df",
   "metadata": {},
   "outputs": [],
   "source": [
    "cadena = \"hola\"\n",
    "for caracter in cadena:\n",
    "    print(caracter)"
   ]
  },
  {
   "cell_type": "markdown",
   "id": "78ff4b1e",
   "metadata": {},
   "source": [
    "Pero debemos recordar que las cadenas son inmutables:"
   ]
  },
  {
   "cell_type": "code",
   "execution_count": null,
   "id": "f58010b2",
   "metadata": {},
   "outputs": [],
   "source": [
    "string = 'hola'\n",
    "string[1] = 'z'"
   ]
  },
  {
   "cell_type": "code",
   "execution_count": null,
   "id": "910b3853",
   "metadata": {},
   "outputs": [],
   "source": [
    "cadena = 'hola'\n",
    "for i, c in enumerate(cadena):\n",
    "    cadena[i] = \"*\"\n"
   ]
  },
  {
   "cell_type": "markdown",
   "id": "b80b780d",
   "metadata": {},
   "source": [
    "Sin embargo siempre podemos generar una nueva cadena:"
   ]
  },
  {
   "cell_type": "code",
   "execution_count": null,
   "id": "68beed3a",
   "metadata": {},
   "outputs": [],
   "source": [
    "cadena[2]*2"
   ]
  },
  {
   "cell_type": "code",
   "execution_count": null,
   "id": "bba069a2",
   "metadata": {},
   "outputs": [],
   "source": [
    "cadena = 'hola'\n",
    "cadena2 = \"\"\n",
    "for caracter in cadena:\n",
    "    cadena2 += caracter * 2\n",
    "\n",
    "print(cadena, cadena2)"
   ]
  },
  {
   "cell_type": "markdown",
   "id": "4eb5a369",
   "metadata": {},
   "source": [
    "# for usando range"
   ]
  },
  {
   "cell_type": "code",
   "execution_count": null,
   "id": "8a131a96",
   "metadata": {},
   "outputs": [],
   "source": [
    "list(range(10))"
   ]
  },
  {
   "cell_type": "code",
   "execution_count": null,
   "id": "d3fafd31",
   "metadata": {},
   "outputs": [],
   "source": [
    "for i in range(10):\n",
    "    print(i)"
   ]
  },
  {
   "cell_type": "markdown",
   "id": "f364f1fd",
   "metadata": {},
   "source": [
    "Se pueden anidar los for"
   ]
  },
  {
   "cell_type": "code",
   "execution_count": null,
   "id": "7a9dce59",
   "metadata": {},
   "outputs": [],
   "source": [
    "matrix = [[1, 2, 3, 4], \n",
    "          [5, 6, 7, 8]]\n",
    "\n",
    "for row in matrix:\n",
    "    print(row)"
   ]
  },
  {
   "cell_type": "code",
   "execution_count": null,
   "id": "c576fba8",
   "metadata": {},
   "outputs": [],
   "source": [
    "matrix = [[1, 2, 3, 4], \n",
    "          [5, 6, 7, 8]]\n",
    "for row in matrix:\n",
    "    print('val')\n",
    "    for column in row:\n",
    "        print(column)"
   ]
  },
  {
   "cell_type": "code",
   "execution_count": null,
   "id": "fbb4f673",
   "metadata": {},
   "outputs": [],
   "source": [
    "for idx_row, row in enumerate(matrix):\n",
    "    for idx_column, column in enumerate(row):\n",
    "        print(column)"
   ]
  }
 ],
 "metadata": {
  "kernelspec": {
   "display_name": "Python 3 (ipykernel)",
   "language": "python",
   "name": "python3"
  },
  "language_info": {
   "codemirror_mode": {
    "name": "ipython",
    "version": 3
   },
   "file_extension": ".py",
   "mimetype": "text/x-python",
   "name": "python",
   "nbconvert_exporter": "python",
   "pygments_lexer": "ipython3",
   "version": "3.9.7"
  }
 },
 "nbformat": 4,
 "nbformat_minor": 5
}
