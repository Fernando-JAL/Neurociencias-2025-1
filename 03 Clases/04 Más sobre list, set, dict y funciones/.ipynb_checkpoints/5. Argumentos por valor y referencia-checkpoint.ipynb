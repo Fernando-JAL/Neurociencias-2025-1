{
 "cells": [
  {
   "cell_type": "markdown",
   "metadata": {},
   "source": [
    "# Paso por valor y paso por referencia\n",
    "- **Paso por valor**: Se crea una copia local de la variable dentro de la función.\n",
    "- **Paso por referencia**: Se maneja directamente la variable, los cambios realizados dentro le afectarán también fuera.\n",
    "\n",
    "Tradicionalmente, **los tipos simples se pasan automáticamente por valor y los compuestos por referencia**.\n",
    "- **Simples**: Enteros, flotantes, cadenas, lógicos...\n",
    "- **Compuestos**: Listas, diccionarios, conjuntos...\n",
    "\n",
    "### Ejemplo paso por valor"
   ]
  },
  {
   "cell_type": "code",
   "execution_count": 3,
   "metadata": {},
   "outputs": [
    {
     "name": "stdout",
     "output_type": "stream",
     "text": [
      "adentro de la función, se tiene 20\n"
     ]
    },
    {
     "data": {
      "text/plain": [
       "10"
      ]
     },
     "execution_count": 3,
     "metadata": {},
     "output_type": "execute_result"
    }
   ],
   "source": [
    "def doblar_valor(numero):\n",
    "    numero *= 2\n",
    "    print('adentro de la función, se tiene', numero)\n",
    "    \n",
    "n = 10\n",
    "doblar_valor(n)\n",
    "n"
   ]
  },
  {
   "cell_type": "markdown",
   "metadata": {},
   "source": [
    "### Ejemplo paso por referencia"
   ]
  },
  {
   "cell_type": "code",
   "execution_count": 4,
   "metadata": {},
   "outputs": [
    {
     "name": "stdout",
     "output_type": "stream",
     "text": [
      "dentro de la función [20, 100, 200]\n",
      "fuera de la función [20, 100, 200]\n"
     ]
    }
   ],
   "source": [
    "def doblar_valores(numeros):\n",
    "    for i,n in enumerate(numeros):\n",
    "        numeros[i] *= 2\n",
    "    print('dentro de la función', numeros)\n",
    "        \n",
    "ns = [10, 50, 100]\n",
    "doblar_valores(ns)\n",
    "print('fuera de la función', ns)"
   ]
  },
  {
   "cell_type": "markdown",
   "metadata": {},
   "source": [
    "## Trucos\n",
    "#### Para modificar los tipos simples podemos devolverlos modificados y reasignarlos:"
   ]
  },
  {
   "cell_type": "code",
   "execution_count": 5,
   "metadata": {},
   "outputs": [
    {
     "name": "stdout",
     "output_type": "stream",
     "text": [
      "antes de la func.,  10\n",
      "después de la func.,  20\n"
     ]
    }
   ],
   "source": [
    "def doblar_valor(numero):\n",
    "    return numero*2\n",
    "\n",
    "n = 10\n",
    "print('antes de la func., ', n)\n",
    "n = doblar_valor(n)\n",
    "print('después de la func., ', n)"
   ]
  },
  {
   "cell_type": "markdown",
   "metadata": {},
   "source": [
    "#### Y en el caso de los tipos compuestos, podemos evitar la modificación enviando una copia:"
   ]
  },
  {
   "cell_type": "code",
   "execution_count": 6,
   "metadata": {},
   "outputs": [
    {
     "name": "stdout",
     "output_type": "stream",
     "text": [
      "dentro de la función [20, 100, 200]\n",
      "fuera de la función [20, 100, 200]\n"
     ]
    }
   ],
   "source": [
    "# cuando SÍ queremos modificar los valores de la lista ns\n",
    "def doblar_valores(numeros):\n",
    "    for i,n in enumerate(numeros):\n",
    "        numeros[i] *= 2\n",
    "    print('dentro de la función', numeros)\n",
    "        \n",
    "ns = [10, 50, 100]\n",
    "doblar_valores(ns)\n",
    "print('fuera de la función', ns)"
   ]
  },
  {
   "cell_type": "code",
   "execution_count": 7,
   "metadata": {},
   "outputs": [
    {
     "name": "stdout",
     "output_type": "stream",
     "text": [
      "dentro de la función [20, 100, 200]\n",
      "fuera de la función [10, 50, 100]\n"
     ]
    }
   ],
   "source": [
    "# cuando NO queremos modificar los valores de la lista ns\n",
    "def doblar_valores(numeros):\n",
    "    for i,n in enumerate(numeros):\n",
    "        numeros[i] *= 2\n",
    "    print('dentro de la función', numeros)\n",
    "        \n",
    "ns = [10, 50, 100]\n",
    "doblar_valores(ns[:])\n",
    "print('fuera de la función', ns)"
   ]
  },
  {
   "cell_type": "code",
   "execution_count": null,
   "metadata": {},
   "outputs": [],
   "source": []
  }
 ],
 "metadata": {
  "kernelspec": {
   "display_name": "Python 3 (ipykernel)",
   "language": "python",
   "name": "python3"
  },
  "language_info": {
   "codemirror_mode": {
    "name": "ipython",
    "version": 3
   },
   "file_extension": ".py",
   "mimetype": "text/x-python",
   "name": "python",
   "nbconvert_exporter": "python",
   "pygments_lexer": "ipython3",
   "version": "3.9.7"
  }
 },
 "nbformat": 4,
 "nbformat_minor": 1
}
