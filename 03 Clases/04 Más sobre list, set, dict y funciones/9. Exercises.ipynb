{
 "cells": [
  {
   "cell_type": "markdown",
   "id": "1019f96a",
   "metadata": {},
   "source": [
    "1) Calculate the factorial of a number (a non-negative integer)"
   ]
  },
  {
   "cell_type": "code",
   "execution_count": null,
   "id": "46d4d4ff",
   "metadata": {},
   "outputs": [],
   "source": [
    "# write your code here\n",
    "def factorial(n):\n",
    "    value = 1\n",
    "    if n > 1:\n",
    "        for i in range(1, n+1):\n",
    "            value *= i\n",
    "    return value\n",
    "\n",
    "factorial(35)"
   ]
  },
  {
   "cell_type": "markdown",
   "id": "799875b9",
   "metadata": {},
   "source": [
    "2) Ask for 3 numbers, check if the third number is in the range of the 2 first numbers"
   ]
  },
  {
   "cell_type": "code",
   "execution_count": null,
   "id": "120ae327",
   "metadata": {},
   "outputs": [],
   "source": [
    "# write your code here\n",
    "lim_1, lim_2 = float(input('Introduce un límite: ')), float(input('Introduce otro límite: '))\n",
    "value = float(input('Introduce un valor: '))\n",
    "\n",
    "lim_inf, lim_sup = min(lim_1, lim_2), max(lim_1, lim_2)\n",
    "if lim_inf <= value <= lim_sup:\n",
    "    print('El valor sí está en el rango')\n",
    "else:\n",
    "    print('El valor no está en el rango')"
   ]
  },
  {
   "cell_type": "markdown",
   "id": "827fee02",
   "metadata": {},
   "source": [
    "3) Given a string, 2 methods to count the spaces in the string"
   ]
  },
  {
   "cell_type": "code",
   "execution_count": null,
   "id": "183ddfd4",
   "metadata": {},
   "outputs": [],
   "source": [
    "# write your code here\n",
    "string = input('Introduce una cadena: ')\n",
    "\n",
    "# Method 1. With loop\n",
    "num_spaces = 0\n",
    "for letter in string:\n",
    "    if letter == ' ':\n",
    "        num_spaces += 1\n",
    "print('Método 1. El número de espacioes es ', num_spaces)\n",
    "# Method 1. With count\n",
    "print('Método 2. El número de espacioes es ', string.count(' '))"
   ]
  },
  {
   "cell_type": "markdown",
   "id": "dd058003",
   "metadata": {},
   "source": [
    "4) Given a list, ask for two indexes of the list, interchange those values"
   ]
  },
  {
   "cell_type": "code",
   "execution_count": null,
   "id": "1b7c1801",
   "metadata": {},
   "outputs": [],
   "source": [
    "# write your code here\n",
    "given_list = [4, 7, 'azul', 'loza', ['a', 'b', 'c']]\n",
    "print('La lista original es: ', given_list)\n",
    "\n",
    "idx1, idx2 = int(input('Dar el 1er índice: ')), int(input('Dar el 2do índice: '))\n",
    "#Intercambiar valores\n",
    "given_list[idx1], given_list[idx2] = given_list[idx2], given_list[idx1]\n",
    "\n",
    "print('La lista modificada es: ', given_list)"
   ]
  },
  {
   "cell_type": "markdown",
   "id": "4f1c278d",
   "metadata": {},
   "source": [
    "5) Given a list, 2 methods to find the length of the list"
   ]
  },
  {
   "cell_type": "code",
   "execution_count": null,
   "id": "13b42eb2",
   "metadata": {},
   "outputs": [],
   "source": [
    "# write your code here\n",
    "given_list = [4, 7, 'azul', 'loza', ['a', 'b', 'c']]\n",
    "\n",
    "# Method 1. With loop\n",
    "for idx, elt in enumerate(given_list):\n",
    "    pass\n",
    "\n",
    "print('Método 1. La longitud de la lista es: ', idx + 1)\n",
    "print('Método 2. La longitud de la lista es: ', len(given_list))"
   ]
  },
  {
   "cell_type": "markdown",
   "id": "aa042912",
   "metadata": {},
   "source": [
    "6) Given a dictionary, sort the dictionary by key"
   ]
  },
  {
   "cell_type": "code",
   "execution_count": null,
   "id": "db9995f9",
   "metadata": {},
   "outputs": [],
   "source": [
    "# write your code here\n",
    "given_dict = {'z': 10, 'p': 9, 'azul': 'color', 'a': -3.2}\n",
    "\n",
    "# get keys\n",
    "keys = list(given_dict.keys())\n",
    "# sort keys\n",
    "keys.sort()\n",
    "# create the new dictionary\n",
    "new_dict = {}\n",
    "for key in keys:\n",
    "    new_dict[key] = given_dict[key]\n",
    "    \n",
    "print(new_dict)"
   ]
  },
  {
   "cell_type": "markdown",
   "id": "dde9af17",
   "metadata": {},
   "source": [
    "7) Given a dictionary, find the sum of all values"
   ]
  },
  {
   "cell_type": "code",
   "execution_count": null,
   "id": "5ca00f9d",
   "metadata": {},
   "outputs": [],
   "source": [
    "# write your code here\n",
    "given_dict = {'z': 10, 'p': 9, 'azul': 29, 258: -3.2}\n",
    "\n",
    "# get values\n",
    "values = list(given_dict.values())\n",
    "print('La suma de los valores es: ', sum(values))"
   ]
  },
  {
   "cell_type": "markdown",
   "id": "2b98dbff",
   "metadata": {},
   "source": [
    "8) Given a list of integers, print the even numbers"
   ]
  },
  {
   "cell_type": "code",
   "execution_count": null,
   "id": "9b8485b0",
   "metadata": {},
   "outputs": [],
   "source": [
    "# write your code here\n",
    "given_list = [5, 23, 8, 12, -8, -62, -0, [2, 3, 4]]\n",
    "\n",
    "for value in given_list:\n",
    "    if value % 2 == 0:\n",
    "        print(value)"
   ]
  },
  {
   "cell_type": "code",
   "execution_count": null,
   "id": "82ce75bd",
   "metadata": {},
   "outputs": [],
   "source": [
    "52.36 % 2"
   ]
  },
  {
   "cell_type": "code",
   "execution_count": null,
   "id": "71b19e0d",
   "metadata": {},
   "outputs": [],
   "source": []
  }
 ],
 "metadata": {
  "kernelspec": {
   "display_name": "Python 3 (ipykernel)",
   "language": "python",
   "name": "python3"
  },
  "language_info": {
   "codemirror_mode": {
    "name": "ipython",
    "version": 3
   },
   "file_extension": ".py",
   "mimetype": "text/x-python",
   "name": "python",
   "nbconvert_exporter": "python",
   "pygments_lexer": "ipython3",
   "version": "3.9.7"
  }
 },
 "nbformat": 4,
 "nbformat_minor": 5
}
