{
 "cells": [
  {
   "cell_type": "code",
   "execution_count": 8,
   "id": "f815b17a",
   "metadata": {},
   "outputs": [],
   "source": [
    "import scipy.io\n",
    "import numpy as np \n",
    "import pandas as pd \n",
    "import matplotlib.pyplot as plt\n",
    "import seaborn as sns\n",
    "import networkx as nx"
   ]
  },
  {
   "cell_type": "code",
   "execution_count": 15,
   "id": "c30c6156",
   "metadata": {},
   "outputs": [
    {
     "name": "stdout",
     "output_type": "stream",
     "text": [
      "{'__header__': b'MATLAB 5.0 MAT-file, Platform: GLNX86, Created on: Wed Dec 25 01:14:03 2013', '__version__': '1.0', '__globals__': [], 'Coactivation_matrix': array([[0.        , 0.16071429, 0.11148649, ..., 0.        , 0.05045872,\n",
      "        0.1011236 ],\n",
      "       [0.16071429, 0.        , 0.06825939, ..., 0.        , 0.        ,\n",
      "        0.06923077],\n",
      "       [0.11148649, 0.06825939, 0.        , ..., 0.03412969, 0.        ,\n",
      "        0.        ],\n",
      "       ...,\n",
      "       [0.        , 0.        , 0.03412969, ..., 0.        , 0.        ,\n",
      "        0.        ],\n",
      "       [0.05045872, 0.        , 0.        , ..., 0.        , 0.        ,\n",
      "        0.09777778],\n",
      "       [0.1011236 , 0.06923077, 0.        , ..., 0.        , 0.09777778,\n",
      "        0.        ]]), 'Coord': array([[ 7.24363636, 37.01090909,  9.42545455],\n",
      "       [ 7.98653199, 46.22222222, 15.60942761],\n",
      "       [ 7.55725191, 33.83206107, 23.51145038],\n",
      "       ...,\n",
      "       [-4.92385787, 15.31979695, 27.73604061],\n",
      "       [-6.27312775, 34.70484581, -5.09251101],\n",
      "       [-4.53874539, 46.53874539,  3.06273063]])}\n"
     ]
    }
   ],
   "source": [
    "path = r\"/Users/sabrina/Documents/UNI/A-NEUROCIENCIAS/QUINTO /MODELOS/Neurociencias-2025-1/BCT/BCT/2019_03_03_BCT/data_and_demos/Coactivation_matrix.mat\"\n",
    "mat = scipy.io.loadmat(path)\n",
    "print(mat)"
   ]
  },
  {
   "cell_type": "code",
   "execution_count": 19,
   "id": "e4d9059c",
   "metadata": {},
   "outputs": [
    {
     "name": "stdout",
     "output_type": "stream",
     "text": [
      "[[0.         0.16071429 0.11148649 ... 0.         0.05045872 0.1011236 ]\n",
      " [0.16071429 0.         0.06825939 ... 0.         0.         0.06923077]\n",
      " [0.11148649 0.06825939 0.         ... 0.03412969 0.         0.        ]\n",
      " ...\n",
      " [0.         0.         0.03412969 ... 0.         0.         0.        ]\n",
      " [0.05045872 0.         0.         ... 0.         0.         0.09777778]\n",
      " [0.1011236  0.06923077 0.         ... 0.         0.09777778 0.        ]]\n"
     ]
    }
   ],
   "source": [
    "coactivation_matrix = mat['Coactivation_matrix']\n",
    "print(coactivation_matrix)"
   ]
  },
  {
   "cell_type": "code",
   "execution_count": 21,
   "id": "6f2be7dd",
   "metadata": {},
   "outputs": [],
   "source": [
    "# coeficiente de cluster y longitud \n",
    "G = nx.from_numpy_array(coactivation_matrix)"
   ]
  },
  {
   "cell_type": "code",
   "execution_count": 22,
   "id": "63177f81",
   "metadata": {},
   "outputs": [
    {
     "name": "stdout",
     "output_type": "stream",
     "text": [
      "Índice de mundo pequeño (SMI): 3.6006858105800674\n"
     ]
    }
   ],
   "source": [
    "if nx.is_connected(G):\n",
    "    C = nx.average_clustering(G)\n",
    "    L = nx.average_shortest_path_length(G)\n",
    "\n",
    "    #random red \n",
    "    n = G.number_of_nodes()\n",
    "    m = G.number_of_edges()\n",
    "    G_random = nx.gnm_random_graph(n, m)\n",
    "\n",
    "    # coef cluster y long random\n",
    "    if nx.is_connected(G_random):\n",
    "        C_rand = nx.average_clustering(G_random)\n",
    "        L_rand = nx.average_shortest_path_length(G_random)\n",
    "\n",
    "        # Calcular el índice de mundo pequeño (SMI)\n",
    "        SMI = (C / C_rand) / (L / L_rand)\n",
    "        print(f\"Índice de mundo pequeño (SMI): {SMI}\")\n",
    "    else:\n",
    "        print(\"La red aleatoria no es conectada. No se puede calcular el índice de mundo pequeño.\")\n",
    "else:\n",
    "    print(\"La red original no es conectada. No se puede calcular el índice de mundo pequeño.\")"
   ]
  },
  {
   "cell_type": "code",
   "execution_count": null,
   "id": "87765a29",
   "metadata": {},
   "outputs": [],
   "source": []
  }
 ],
 "metadata": {
  "kernelspec": {
   "display_name": "Python 3 (ipykernel)",
   "language": "python",
   "name": "python3"
  },
  "language_info": {
   "codemirror_mode": {
    "name": "ipython",
    "version": 3
   },
   "file_extension": ".py",
   "mimetype": "text/x-python",
   "name": "python",
   "nbconvert_exporter": "python",
   "pygments_lexer": "ipython3",
   "version": "3.11.3"
  }
 },
 "nbformat": 4,
 "nbformat_minor": 5
}
