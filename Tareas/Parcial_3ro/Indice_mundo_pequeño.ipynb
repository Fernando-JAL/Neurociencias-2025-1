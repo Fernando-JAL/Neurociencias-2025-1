{
 "cells": [
  {
   "cell_type": "code",
   "execution_count": 31,
   "id": "098b0666-52d4-44a7-bc08-c91cad4e455b",
   "metadata": {},
   "outputs": [
    {
     "data": {
      "text/plain": [
       "array([[0.        , 0.16071429, 0.11148649, ..., 0.        , 0.05045872,\n",
       "        0.1011236 ],\n",
       "       [0.16071429, 0.        , 0.06825939, ..., 0.        , 0.        ,\n",
       "        0.06923077],\n",
       "       [0.11148649, 0.06825939, 0.        , ..., 0.03412969, 0.        ,\n",
       "        0.        ],\n",
       "       ...,\n",
       "       [0.        , 0.        , 0.03412969, ..., 0.        , 0.        ,\n",
       "        0.        ],\n",
       "       [0.05045872, 0.        , 0.        , ..., 0.        , 0.        ,\n",
       "        0.09777778],\n",
       "       [0.1011236 , 0.06923077, 0.        , ..., 0.        , 0.09777778,\n",
       "        0.        ]])"
      ]
     },
     "execution_count": 31,
     "metadata": {},
     "output_type": "execute_result"
    }
   ],
   "source": [
    "import networkx as nx\n",
    "import scipy.io \n",
    "import numpy as np\n",
    "import matplotlib.pyplot as plt\n",
    "import seaborn as sns\n",
    "import pandas as pd\n",
    "\n",
    "path = r\"C:\\Users\\daphn\\Documents\\UNAM\\Neurociencias\\Quinto semestre 1\\Modelos\\Git\\Neurociencias-2025-1\\BCT\\BCT\\2019_03_03_BCT\\data_and_demos\\Coactivation_matrix.mat\"\n",
    "coactivation_matrix_json = scipy.io.loadmat(path)\n",
    "\n",
    "coactivation_matrix = coactivation_matrix_json['Coactivation_matrix']\n",
    "coactivation_matrix"
   ]
  },
  {
   "cell_type": "code",
   "execution_count": 32,
   "id": "54f41d2e-ebb9-4ba6-8a0e-90a035464591",
   "metadata": {
    "scrolled": true
   },
   "outputs": [],
   "source": [
    "G = nx.from_numpy_array(coactivation_matrix)"
   ]
  },
  {
   "cell_type": "code",
   "execution_count": 34,
   "id": "213c47ee-8117-4a9e-aa46-87f50dc5df15",
   "metadata": {},
   "outputs": [
    {
     "name": "stdout",
     "output_type": "stream",
     "text": [
      "Índice de mundo pequeño (SMI): 3.6251173789335605\n"
     ]
    }
   ],
   "source": [
    "if nx.is_connected(G):\n",
    "    Cluster = nx.average_clustering(G)\n",
    "    Longitud = nx.average_shortest_path_length(G)\n",
    "\n",
    "    #Red aleatoria\n",
    "    n = G.number_of_nodes()\n",
    "    m = G.number_of_edges()\n",
    "    G_random = nx.gnm_random_graph(n, m)\n",
    "\n",
    "    # coeficiente de cluster y longitud característica\n",
    "    if nx.is_connected(G_random):\n",
    "        C_rand = nx.average_clustering(G_random)\n",
    "        L_rand = nx.average_shortest_path_length(G_random)\n",
    "\n",
    "        # Índice de mundo pequeño\n",
    "        SMI = (Cluster / C_rand) / (Longitud / L_rand)\n",
    "        print(f\"Índice de mundo pequeño (SMI): {SMI}\")"
   ]
  },
  {
   "cell_type": "code",
   "execution_count": null,
   "id": "b5c0eeea-5fd3-4f42-ad57-d868c7be18c7",
   "metadata": {},
   "outputs": [],
   "source": []
  }
 ],
 "metadata": {
  "kernelspec": {
   "display_name": "Python 3 (ipykernel)",
   "language": "python",
   "name": "python3"
  },
  "language_info": {
   "codemirror_mode": {
    "name": "ipython",
    "version": 3
   },
   "file_extension": ".py",
   "mimetype": "text/x-python",
   "name": "python",
   "nbconvert_exporter": "python",
   "pygments_lexer": "ipython3",
   "version": "3.12.5"
  }
 },
 "nbformat": 4,
 "nbformat_minor": 5
}
