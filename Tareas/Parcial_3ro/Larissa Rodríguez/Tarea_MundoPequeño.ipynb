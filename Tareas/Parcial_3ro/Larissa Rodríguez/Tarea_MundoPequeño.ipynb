{
 "cells": [
  {
   "cell_type": "code",
   "execution_count": 23,
   "id": "b49860d0-94c3-4bd6-921f-c6a25ede8803",
   "metadata": {},
   "outputs": [],
   "source": [
    "import networkx as nx\n",
    "import matplotlib.pyplot as plt  \n",
    "import seaborn as sns\n",
    "import scipy.io "
   ]
  },
  {
   "cell_type": "code",
   "execution_count": 25,
   "id": "87225eab-61f0-4206-bbc6-6fa55cbbd56f",
   "metadata": {},
   "outputs": [],
   "source": [
    "the_path = r\"Coactivation_matrix.mat\""
   ]
  },
  {
   "cell_type": "code",
   "execution_count": 27,
   "id": "72b73212-93a6-46ca-947b-2a2abb202ecb",
   "metadata": {},
   "outputs": [],
   "source": [
    "coact_matrix = scipy.io.loadmat(the_path)"
   ]
  },
  {
   "cell_type": "code",
   "execution_count": 29,
   "id": "df45d9b0-7fd5-4643-a113-a7ae16b30293",
   "metadata": {},
   "outputs": [
    {
     "data": {
      "text/plain": [
       "3.578126969331812"
      ]
     },
     "execution_count": 29,
     "metadata": {},
     "output_type": "execute_result"
    }
   ],
   "source": [
    "coactivation_matrix = coact_matrix['Coactivation_matrix']\n",
    "G = nx.from_numpy_array(coactivation_matrix)\n",
    "calcular_imp(G)"
   ]
  },
  {
   "cell_type": "code",
   "execution_count": 30,
   "id": "6c772b58-d1e3-4feb-9b4c-264711e8cfbc",
   "metadata": {},
   "outputs": [],
   "source": [
    "def calcular_imp(G):\n",
    "    if nx.is_connected(G):\n",
    "        C = nx.average_clustering(G)\n",
    "        L = nx.average_shortest_path_length(G)\n",
    "        n = G.number_of_nodes()\n",
    "        m = G.number_of_edges()\n",
    "        G_random = nx.gnm_random_graph(n, m)\n",
    "\n",
    "        if nx.is_connected(G_random):\n",
    "            C_rand = nx.average_clustering(G_random)\n",
    "            L_rand = nx.average_shortest_path_length(G_random)\n",
    "            IMP = (C / C_rand) / (L / L_rand)\n",
    "            return IMP\n",
    "        else:\n",
    "            return \"La red aleatoria no es conectada, por tanto no se puede calcular el índice de mundo pequeño.\"\n",
    "    else:\n",
    "        return \"La red original no es conectada, por lo que no se puede calcular el índice de mundo pequeño.\""
   ]
  }
 ],
 "metadata": {
  "kernelspec": {
   "display_name": "Python 3 (ipykernel)",
   "language": "python",
   "name": "python3"
  },
  "language_info": {
   "codemirror_mode": {
    "name": "ipython",
    "version": 3
   },
   "file_extension": ".py",
   "mimetype": "text/x-python",
   "name": "python",
   "nbconvert_exporter": "python",
   "pygments_lexer": "ipython3",
   "version": "3.12.4"
  }
 },
 "nbformat": 4,
 "nbformat_minor": 5
}
