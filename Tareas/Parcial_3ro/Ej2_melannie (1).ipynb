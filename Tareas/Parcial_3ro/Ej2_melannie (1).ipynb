{
 "cells": [
  {
   "cell_type": "code",
   "execution_count": 89,
   "id": "0ff7fe07-85a1-4f8f-a47e-5d0516ebad10",
   "metadata": {},
   "outputs": [],
   "source": [
    "# Ejercicio 2\n",
    "#Analice el código en los archivos animation2_1 y animation2_2 y conteste lo siguiente:"
   ]
  },
  {
   "cell_type": "code",
   "execution_count": 91,
   "id": "d950eb82-6b21-44e3-aebd-5974037e5b4b",
   "metadata": {},
   "outputs": [
    {
     "name": "stdout",
     "output_type": "stream",
     "text": [
      "Número de Nodos:  20\n"
     ]
    }
   ],
   "source": [
    "#%%\n",
    "## Ejercicio 2.a\n",
    "#- ¿Qué forma tiene el grafo?\n",
    "  #Es de dodecaedro que es un poliedro de 12 caras\n",
    "#- ¿Cuántos nodos tiene el grafo?, ¿con qué comando descubres el número de nodos?\n",
    "import networkx as nx\n",
    "from animation2_1 import G\n",
    "print(\"Número de Nodos: \", G.number_of_nodes())\n",
    "\n",
    "    # 20  \n",
    "# se utiliza print(G.number_of_nodes()) devuelve el número de nodos del grafo"
   ]
  },
  {
   "cell_type": "code",
   "execution_count": 93,
   "id": "b70bfbbf-c494-4228-929f-838dd8134bbc",
   "metadata": {},
   "outputs": [
    {
     "name": "stdout",
     "output_type": "stream",
     "text": [
      "Número de Aristas:  30\n"
     ]
    }
   ],
   "source": [
    "## Ejercicio 2.b\n",
    "#- ¿Cuántas aristas tiene el grafo?, ¿con qué comando descubres el número de nodos?\n",
    "import networkx as nx\n",
    "from animation2_1 import G\n",
    "print(\"Número de Aristas: \", G.number_of_edges())\n",
    "    # 30, utilizando print(G.number_of_edges())-> devuelve no. aristas."
   ]
  },
  {
   "cell_type": "code",
   "execution_count": 95,
   "id": "eb1accda-3bce-4cae-a734-3163dd89ac16",
   "metadata": {},
   "outputs": [
    {
     "data": {
      "text/plain": [
       "DegreeView({0: 3, 1: 3, 2: 3, 3: 3, 4: 3, 5: 3, 6: 3, 7: 3, 8: 3, 9: 3, 10: 3, 11: 3, 12: 3, 13: 3, 14: 3, 15: 3, 16: 3, 17: 3, 18: 3, 19: 3})"
      ]
     },
     "execution_count": 95,
     "metadata": {},
     "output_type": "execute_result"
    }
   ],
   "source": [
    "## Ejercicio 2.c\n",
    "#- ¿Qué hace el código G.degree()?\n",
    "G.degree()\n",
    "    # muestra una estructura que contiene los grados de cada nodo del grafo (nodo, grado).\n",
    "\n",
    "## Ejercicio 2.d\n",
    "#- ¿Cuál es el número máximo de aristas en el grafo?\n",
    "    # 190, por ser grafo no direccionado se usa: n(n-1)/2-> 20(19)/2\n",
    "\n",
    "## Ejercicio 2.e\n",
    "#- ¿Cuál es la diferencia entre animation2_1 y animation2_2?\n",
    "    #La animación en el segundo, ya que el primero sólo muestra la figura con su histograma"
   ]
  },
  {
   "cell_type": "code",
   "execution_count": null,
   "id": "073c2db0-87a6-4478-b466-a544f452fcf6",
   "metadata": {},
   "outputs": [],
   "source": []
  },
  {
   "cell_type": "code",
   "execution_count": null,
   "id": "777e41a5-80ff-41ef-a405-53f0db76aa7f",
   "metadata": {},
   "outputs": [],
   "source": []
  }
 ],
 "metadata": {
  "kernelspec": {
   "display_name": "Python 3 (ipykernel)",
   "language": "python",
   "name": "python3"
  },
  "language_info": {
   "codemirror_mode": {
    "name": "ipython",
    "version": 3
   },
   "file_extension": ".py",
   "mimetype": "text/x-python",
   "name": "python",
   "nbconvert_exporter": "python",
   "pygments_lexer": "ipython3",
   "version": "3.12.4"
  }
 },
 "nbformat": 4,
 "nbformat_minor": 5
}
