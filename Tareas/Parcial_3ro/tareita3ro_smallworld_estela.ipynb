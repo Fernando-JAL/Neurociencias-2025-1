{
 "cells": [
  {
   "cell_type": "code",
   "execution_count": 4,
   "id": "62aaf458-7904-4bb4-9b66-8d4e99b84fae",
   "metadata": {},
   "outputs": [],
   "source": [
    "import pandas as pd\n",
    "import networkx as nx\n",
    "import numpy as np\n",
    "import scipy.io"
   ]
  },
  {
   "cell_type": "code",
   "execution_count": 5,
   "id": "40803700-f670-4639-bec6-bbb18ab91d5c",
   "metadata": {},
   "outputs": [],
   "source": [
    "mat_path = r\"C:\\Users\\estel\\OneDrive\\Escritorio\\NEUROCIENCIAS\\QUINTO SEMESTRE\\MODELOS\\Neurociencias-2025-1\\BCT\\BCT\\2019_03_03_BCT\\data_and_demos\\Coactivation_matrix.mat\"\n",
    "coact_mat = scipy.io.loadmat(mat_path)"
   ]
  },
  {
   "cell_type": "code",
   "execution_count": 8,
   "id": "80e32d6d-eb37-44aa-aa21-8d2a05fa497e",
   "metadata": {},
   "outputs": [],
   "source": [
    "def calculo_sw(G):\n",
    "    if nx.is_connected(G):\n",
    "        C = nx.average_clustering(G)  # coeficiente de clustering\n",
    "        L = nx.average_shortest_path_length(G)  # longitud promedio de caminos\n",
    "        n = G.number_of_nodes()  # número nodos\n",
    "        m = G.number_of_edges()  # número aristas\n",
    "        G_random = nx.gnm_random_graph(n, m)  # generar grafo aleatorio\n",
    "        if nx.is_connected(G_random):  # asegurar que el grafo aleatorio esté conectado\n",
    "            C_rand = nx.average_clustering(G_random)  # coeficiente de cluster!!!\n",
    "            L_rand = nx.average_shortest_path_length(G_random)  # longitud promedio de caminos en grafo aleatorio\n",
    "            swi = (C / C_rand) / (L / L_rand)  # cálculo small world index (swi)\n",
    "            return swi\n",
    "        else:\n",
    "            return \"No se puede calcular el índice de mundo pequeño porque el grafo aleatorio no está conectado\"\n",
    "    else:\n",
    "        return \"No se puede calcular el índice de mundo pequeño porque el grafo original no está conectado.\""
   ]
  },
  {
   "cell_type": "code",
   "execution_count": 10,
   "id": "032f15d2-c1df-40fb-819b-bfa4e899e8df",
   "metadata": {},
   "outputs": [
    {
     "data": {
      "text/plain": [
       "3.6297693373732574"
      ]
     },
     "execution_count": 10,
     "metadata": {},
     "output_type": "execute_result"
    }
   ],
   "source": [
    "coact_matrix = coact_mat['Coactivation_matrix']\n",
    "G = nx.from_numpy_array(coact_matrix)\n",
    "calculo_sw(G)"
   ]
  }
 ],
 "metadata": {
  "kernelspec": {
   "display_name": "Python 3 (ipykernel)",
   "language": "python",
   "name": "python3"
  },
  "language_info": {
   "codemirror_mode": {
    "name": "ipython",
    "version": 3
   },
   "file_extension": ".py",
   "mimetype": "text/x-python",
   "name": "python",
   "nbconvert_exporter": "python",
   "pygments_lexer": "ipython3",
   "version": "3.12.4"
  }
 },
 "nbformat": 4,
 "nbformat_minor": 5
}
