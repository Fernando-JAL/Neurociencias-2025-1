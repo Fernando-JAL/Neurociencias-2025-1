{
 "cells": [
  {
   "cell_type": "code",
   "execution_count": 44,
   "id": "fb1c34be-3f9e-44db-a22e-2ad92cb6ae8e",
   "metadata": {},
   "outputs": [],
   "source": [
    "import scipy.io\n",
    "import numpy as np\n",
    "import seaborn as sns\n",
    "import matplotlib.pyplot as plt\n",
    "import os\n"
   ]
  },
  {
   "cell_type": "code",
   "execution_count": 7,
   "id": "28a9e509-9028-4a5d-b8f4-e43e0935354a",
   "metadata": {},
   "outputs": [
    {
     "data": {
      "text/plain": [
       "{'__header__': b'MATLAB 5.0 MAT-file, Platform: PCWIN, Created on: Fri Jun 29 16:29:22 2007',\n",
       " '__version__': '1.0',\n",
       " '__globals__': [],\n",
       " 'Names': array(['  V1', '  V2', '  V3', '  VP', ' V3a', '  V4', ' VOT', ' V4t',\n",
       "        '  MT', ' FST', 'PITd', 'PITv', 'CITd', 'CITv', 'AITd', 'AITv',\n",
       "        'STPp', 'STPa', '  TF', '  TH', 'MSTd', 'MSTl', '  PO', ' PIP',\n",
       "        ' LIP', ' VIP', '  DP', '  7a', ' FEF', '  46'], dtype='<U4'),\n",
       " 'CIJ': array([[0, 1, 1, 0, 1, 1, 0, 0, 1, 0, 0, 0, 0, 0, 0, 0, 0, 0, 0, 0, 0, 1,\n",
       "         1, 1, 0, 0, 0, 0, 0, 0],\n",
       "        [1, 0, 1, 1, 1, 1, 1, 1, 1, 1, 0, 0, 0, 0, 0, 0, 0, 0, 0, 0, 1, 1,\n",
       "         1, 1, 0, 1, 0, 0, 1, 0],\n",
       "        [1, 1, 0, 0, 1, 1, 0, 1, 1, 1, 0, 0, 0, 0, 0, 0, 0, 0, 1, 0, 1, 0,\n",
       "         1, 1, 1, 1, 0, 0, 1, 0],\n",
       "        [0, 1, 1, 0, 1, 1, 1, 0, 1, 1, 0, 0, 0, 0, 0, 0, 0, 0, 1, 0, 1, 0,\n",
       "         1, 1, 0, 1, 0, 0, 1, 0],\n",
       "        [1, 1, 1, 1, 0, 1, 0, 0, 1, 1, 0, 0, 0, 0, 0, 0, 0, 0, 0, 0, 1, 1,\n",
       "         1, 0, 0, 0, 1, 0, 1, 0],\n",
       "        [1, 1, 1, 1, 1, 0, 0, 1, 1, 1, 1, 1, 1, 1, 0, 1, 0, 0, 1, 1, 0, 0,\n",
       "         0, 1, 1, 0, 1, 0, 1, 1],\n",
       "        [0, 1, 0, 1, 0, 1, 0, 0, 0, 0, 1, 1, 0, 0, 0, 0, 0, 0, 0, 0, 0, 0,\n",
       "         0, 0, 0, 0, 0, 0, 0, 0],\n",
       "        [1, 0, 1, 0, 0, 1, 0, 0, 1, 1, 0, 0, 0, 0, 0, 0, 0, 0, 0, 0, 0, 1,\n",
       "         1, 0, 0, 0, 0, 0, 1, 0],\n",
       "        [1, 1, 1, 1, 1, 1, 0, 1, 0, 1, 0, 0, 0, 0, 0, 0, 0, 0, 0, 0, 1, 1,\n",
       "         1, 1, 1, 1, 0, 0, 1, 1],\n",
       "        [0, 0, 1, 0, 1, 1, 0, 1, 1, 0, 1, 1, 0, 0, 0, 0, 1, 0, 1, 0, 1, 1,\n",
       "         0, 0, 1, 1, 0, 1, 1, 0],\n",
       "        [0, 0, 0, 0, 0, 1, 0, 0, 0, 1, 0, 0, 0, 1, 1, 1, 0, 0, 0, 0, 1, 0,\n",
       "         0, 0, 0, 0, 0, 0, 1, 1],\n",
       "        [0, 0, 0, 0, 0, 1, 0, 0, 0, 0, 1, 0, 0, 1, 0, 1, 0, 0, 0, 0, 1, 0,\n",
       "         0, 0, 0, 0, 0, 0, 1, 1],\n",
       "        [0, 0, 0, 0, 0, 1, 0, 0, 0, 0, 0, 1, 0, 0, 1, 1, 0, 0, 0, 0, 0, 0,\n",
       "         0, 0, 0, 0, 0, 0, 0, 0],\n",
       "        [0, 0, 0, 0, 0, 1, 0, 0, 0, 0, 0, 1, 0, 0, 1, 1, 0, 0, 0, 0, 0, 0,\n",
       "         0, 0, 0, 0, 0, 0, 0, 0],\n",
       "        [0, 0, 0, 0, 0, 0, 0, 0, 0, 0, 0, 1, 0, 1, 0, 0, 0, 0, 0, 0, 0, 0,\n",
       "         0, 0, 0, 0, 0, 1, 1, 1],\n",
       "        [0, 0, 0, 0, 0, 1, 0, 0, 0, 0, 0, 1, 0, 1, 0, 0, 0, 0, 1, 1, 0, 0,\n",
       "         0, 0, 0, 0, 0, 0, 0, 0],\n",
       "        [0, 0, 0, 0, 0, 0, 0, 0, 0, 1, 0, 0, 1, 1, 0, 0, 0, 1, 1, 1, 1, 1,\n",
       "         0, 0, 0, 0, 0, 1, 1, 1],\n",
       "        [0, 0, 0, 0, 0, 0, 0, 0, 0, 0, 0, 0, 0, 0, 1, 0, 1, 0, 1, 1, 0, 0,\n",
       "         0, 0, 0, 0, 0, 1, 0, 1],\n",
       "        [0, 0, 1, 1, 0, 1, 0, 0, 0, 1, 0, 1, 0, 1, 1, 1, 1, 1, 0, 0, 1, 0,\n",
       "         0, 0, 0, 0, 0, 1, 0, 1],\n",
       "        [0, 0, 0, 0, 0, 1, 0, 0, 0, 0, 0, 1, 1, 1, 1, 1, 1, 1, 0, 0, 0, 0,\n",
       "         0, 0, 0, 0, 0, 1, 0, 1],\n",
       "        [0, 1, 1, 1, 1, 0, 0, 1, 1, 1, 1, 1, 0, 0, 0, 0, 1, 0, 0, 0, 0, 0,\n",
       "         1, 0, 1, 1, 1, 1, 1, 0],\n",
       "        [0, 1, 0, 0, 1, 0, 0, 0, 1, 1, 0, 0, 0, 0, 0, 0, 1, 0, 0, 0, 0, 0,\n",
       "         1, 0, 0, 1, 0, 0, 1, 0],\n",
       "        [1, 0, 0, 0, 0, 0, 0, 0, 1, 0, 0, 0, 0, 0, 0, 0, 0, 0, 0, 0, 1, 1,\n",
       "         0, 0, 1, 1, 1, 1, 1, 0],\n",
       "        [1, 0, 1, 1, 0, 1, 0, 0, 1, 0, 0, 0, 0, 0, 0, 0, 0, 0, 0, 0, 0, 0,\n",
       "         1, 0, 0, 0, 1, 1, 0, 0],\n",
       "        [0, 0, 1, 1, 1, 1, 0, 0, 1, 1, 0, 1, 0, 0, 0, 0, 0, 0, 1, 0, 1, 1,\n",
       "         1, 0, 0, 1, 1, 1, 1, 1],\n",
       "        [0, 0, 1, 0, 0, 0, 0, 0, 1, 1, 0, 0, 0, 0, 0, 0, 0, 0, 0, 0, 1, 1,\n",
       "         1, 0, 1, 0, 0, 1, 1, 0],\n",
       "        [0, 0, 0, 0, 1, 1, 0, 0, 0, 1, 0, 0, 0, 0, 0, 0, 0, 0, 0, 0, 1, 1,\n",
       "         1, 1, 1, 0, 0, 1, 0, 1],\n",
       "        [0, 0, 0, 0, 0, 0, 0, 0, 0, 0, 0, 0, 0, 0, 1, 0, 1, 1, 1, 1, 1, 1,\n",
       "         1, 0, 1, 0, 1, 0, 1, 1],\n",
       "        [0, 0, 0, 0, 0, 0, 0, 0, 1, 1, 0, 0, 1, 1, 1, 0, 1, 0, 0, 0, 1, 1,\n",
       "         1, 0, 1, 1, 1, 1, 0, 1],\n",
       "        [0, 0, 0, 0, 0, 0, 0, 0, 0, 0, 0, 0, 1, 1, 1, 0, 1, 1, 1, 1, 0, 0,\n",
       "         0, 0, 0, 0, 1, 1, 1, 0]], dtype=uint8)}"
      ]
     },
     "execution_count": 7,
     "metadata": {},
     "output_type": "execute_result"
    }
   ],
   "source": [
    "math_path = \"/Users/marianazuniga/Downloads/BCT/2019_03_03_BCT/data_and_demos/fve30.mat\"\n",
    "\n",
    "math_json = scipy.io.loadmat(math_path)\n",
    "math_json\n",
    "\n"
   ]
  },
  {
   "cell_type": "code",
   "execution_count": 9,
   "id": "b690ea94-e9ec-46e2-970c-13a7044a6753",
   "metadata": {},
   "outputs": [],
   "source": [
    "def procesar_base_datos_matlab(ruta_archivo, directorio):\n",
    "    dat_path = scipy.io.loadmat(ruta_archivo)\n",
    "    variables = list(datos_path.keys())\n",
    "    variables = [var for var in variables if not var.startswith(\"__\")]\n",
    "    direc_exist = os.path.exists(directorio)\n",
    "\n",
    "    return directorio if existe_directorio else None, variables\n"
   ]
  },
  {
   "cell_type": "code",
   "execution_count": 11,
   "id": "387e6e6e-a65b-4f6f-81cf-c1cfcc8d9cdf",
   "metadata": {},
   "outputs": [],
   "source": [
    "CIJ = math_json['CIJ']"
   ]
  },
  {
   "cell_type": "code",
   "execution_count": 13,
   "id": "ed098131-1ac3-4655-ae7a-ebcd005b92f5",
   "metadata": {},
   "outputs": [
    {
     "data": {
      "image/png": "[encoded data removed]",
      "text/plain": [
       "<Figure size 640x480 with 2 Axes>"
      ]
     },
     "metadata": {},
     "output_type": "display_data"
    }
   ],
   "source": [
    "heatmap = sns.heatmap(CIJ, cmap= 'PiYG')"
   ]
  },
  {
   "cell_type": "code",
   "execution_count": 17,
   "id": "14b2286b-3902-47e5-bf58-e901591017f2",
   "metadata": {},
   "outputs": [
    {
     "data": {
      "text/plain": [
       "(30, 30)"
      ]
     },
     "execution_count": 17,
     "metadata": {},
     "output_type": "execute_result"
    }
   ],
   "source": [
    "CIJ.shape"
   ]
  },
  {
   "cell_type": "code",
   "execution_count": null,
   "id": "aabde540-628e-46c9-8ebf-c13c71ee302e",
   "metadata": {},
   "outputs": [],
   "source": [
    "plt"
   ]
  },
  {
   "cell_type": "code",
   "execution_count": 21,
   "id": "1a6864d4-d7e0-4674-9cf8-e4dc737733ea",
   "metadata": {},
   "outputs": [],
   "source": [
    "import networkx as nx"
   ]
  },
  {
   "cell_type": "code",
   "execution_count": null,
   "id": "7bc04b33-19ab-4295-9c65-77403a5600e4",
   "metadata": {},
   "outputs": [],
   "source": [
    "nx.draw(G)"
   ]
  },
  {
   "cell_type": "markdown",
   "id": "24c4ccd0-e8b2-4162-8bd0-440a4c408daa",
   "metadata": {},
   "source": [
    "Índice de mundo pequeño"
   ]
  },
  {
   "cell_type": "code",
   "execution_count": 25,
   "id": "089ce446-63b9-43cb-941c-2d585aed2554",
   "metadata": {},
   "outputs": [
    {
     "data": {
      "text/plain": [
       "<networkx.classes.graph.Graph at 0x13e9ef0e0>"
      ]
     },
     "execution_count": 25,
     "metadata": {},
     "output_type": "execute_result"
    }
   ],
   "source": [
    "import networkx as nx\n",
    "import numpy as np\n",
    "\n",
    "graph = nx.from_numpy_array(np.array(CIJ))\n",
    "graph"
   ]
  },
  {
   "cell_type": "code",
   "execution_count": 37,
   "id": "9ea3cc1f-afbc-43da-b490-3b5cf9bea119",
   "metadata": {},
   "outputs": [
    {
     "name": "stdout",
     "output_type": "stream",
     "text": [
      "Índice de Mundo Pequeño: 1.4256356097679794\n"
     ]
    }
   ],
   "source": [
    "# Función para calcular el índice de mundo pequeño\n",
    "\n",
    "import networkx as nx\n",
    "import numpy as np\n",
    "\n",
    "CIJg = nx.from_numpy_array(np.array(CIJ))\n",
    "\n",
    "def small_world_index(graph, num_random_graphs=100):\n",
    "    \n",
    "    # Calcular las propiedades de la red original\n",
    "    clustering_coefficient = nx.average_clustering(graph)\n",
    "    shortest_path_length = nx.average_shortest_path_length(graph)\n",
    "\n",
    "    # Generar redes aleatorias para comparación\n",
    "    random_clustering = []\n",
    "    random_shortest_path = []\n",
    "    \n",
    "    for _ in range(num_random_graphs):\n",
    "        random_graph = nx.gnm_random_graph(graph.number_of_nodes(), graph.number_of_edges())\n",
    "        random_clustering.append(nx.average_clustering(random_graph))\n",
    "        random_shortest_path.append(nx.average_shortest_path_length(random_graph))\n",
    "    \n",
    "    # Promedios de las redes aleatorias\n",
    "    avg_random_clustering = np.mean(random_clustering)\n",
    "    avg_random_shortest_path = np.mean(random_shortest_path)\n",
    "    \n",
    "    # Índice de mundo pequeño\n",
    "    sigma = (clustering_coefficient / avg_random_clustering) / (shortest_path_length / avg_random_shortest_path)\n",
    "    \n",
    "    return sigma\n",
    "    \n",
    "small_world_sigma = small_world_index(CIJg)\n",
    "print(\"Índice de Mundo Pequeño:\", small_world_sigma)\n",
    "\n",
    "\n"
   ]
  },
  {
   "cell_type": "code",
   "execution_count": null,
   "id": "38dd73e8-0758-47f6-8d5f-eb72470723bf",
   "metadata": {},
   "outputs": [],
   "source": []
  }
 ],
 "metadata": {
  "kernelspec": {
   "display_name": "Python 3 (ipykernel)",
   "language": "python",
   "name": "python3"
  },
  "language_info": {
   "codemirror_mode": {
    "name": "ipython",
    "version": 3
   },
   "file_extension": ".py",
   "mimetype": "text/x-python",
   "name": "python",
   "nbconvert_exporter": "python",
   "pygments_lexer": "ipython3",
   "version": "3.12.4"
  }
 },
 "nbformat": 4,
 "nbformat_minor": 5
}
