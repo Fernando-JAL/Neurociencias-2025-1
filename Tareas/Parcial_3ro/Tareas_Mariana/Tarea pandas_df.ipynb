{
 "cells": [
  {
   "cell_type": "markdown",
   "id": "9c27a4d7-88d0-408c-bb8d-ac41a62b0fda",
   "metadata": {},
   "source": [
    "Generar un número aleatorio entero en el rango [-3, 3] con seed=5002"
   ]
  },
  {
   "cell_type": "code",
   "execution_count": 9,
   "id": "57f62c03-457c-4352-acd2-e28df1554416",
   "metadata": {},
   "outputs": [
    {
     "data": {
      "text/plain": [
       "2"
      ]
     },
     "execution_count": 9,
     "metadata": {},
     "output_type": "execute_result"
    }
   ],
   "source": [
    "import random\n",
    "import numpy as np\n",
    "import matplotlib.pyplot as plt\n",
    "\n",
    "random.seed(5002)\n",
    "\n",
    "# Generar un número aleatorio entero en el rango [-3, 3]\n",
    "numero_aleatorio = random.randint(-3, 3)\n",
    "numero_aleatorio"
   ]
  },
  {
   "cell_type": "markdown",
   "id": "f12a1aea-c75e-4736-8702-b0474dfe716b",
   "metadata": {},
   "source": [
    "Generar un número aleatorio flotante en el rango [-10, 10] con seed=5002"
   ]
  },
  {
   "cell_type": "code",
   "execution_count": 3,
   "id": "eb2039a9-eab0-4ffa-a04b-89c0d838e4c5",
   "metadata": {},
   "outputs": [
    {
     "data": {
      "text/plain": [
       "2.756897507517177"
      ]
     },
     "execution_count": 3,
     "metadata": {},
     "output_type": "execute_result"
    }
   ],
   "source": [
    "random.seed(5002)\n",
    "numero_aleatorio_flotante = random.uniform(-10, 10)\n",
    "numero_aleatorio_flotante"
   ]
  },
  {
   "cell_type": "markdown",
   "id": "3836fcf7-c292-426f-9eee-4a0030291d30",
   "metadata": {},
   "source": [
    "Genera un array de 1000 números con distribución normal, con mu= ej1, y sigma= ej2"
   ]
  },
  {
   "cell_type": "code",
   "execution_count": 7,
   "id": "75a0b8cb-5587-4fc7-9198-04647baeabc6",
   "metadata": {},
   "outputs": [
    {
     "data": {
      "text/plain": [
       "array([-5.09230161e+00, -4.28220578e-01,  1.52072567e+00,  2.66406918e+00,\n",
       "        4.73854317e-01,  4.75915480e+00,  1.12726071e+00,  1.05575618e+01,\n",
       "        5.19485262e+00, -3.59140634e+00, -5.79823602e-01,  7.76406790e-01,\n",
       "       -5.03299547e-01, -1.60914828e+00,  3.81562307e+00, -8.15050235e-01,\n",
       "        3.17376864e+00,  8.66959993e-01,  1.88272700e+00,  5.06031012e+00,\n",
       "        3.27808834e+00, -1.00129175e+00,  1.86482335e+00, -1.03172458e-01,\n",
       "        7.17111765e+00,  4.15385325e+00,  4.80246657e+00,  2.10233324e+00,\n",
       "        3.68597572e+00,  2.98211158e+00,  2.60564063e+00,  2.54118944e+00,\n",
       "        3.11112559e+00, -4.42577805e+00,  3.61400239e+00,  2.60004125e+00,\n",
       "       -2.08445793e+00,  1.99423332e+00, -1.26448340e+00,  9.05543595e-02,\n",
       "       -1.31216486e+00,  4.56733201e+00, -7.42627933e-03, -3.75650301e+00,\n",
       "        3.48009687e+00,  3.43842474e+00,  5.58826382e+00,  6.27272495e+00,\n",
       "        4.04532363e+00,  1.96992840e+00,  4.00346558e+00,  1.72312303e+00,\n",
       "        2.40394655e+00,  5.24285650e+00,  3.63162585e+00,  3.30349249e+00,\n",
       "        3.30266585e+00, -1.21480918e+00,  2.69038083e+00,  1.40078845e+00,\n",
       "       -1.55492803e-02,  2.19371126e+00,  6.60465737e+00,  1.84488256e+00,\n",
       "        3.87336867e+00,  2.94980547e+00,  1.87099977e+00,  6.41749316e+00,\n",
       "        3.17213507e+00,  5.85626174e+00, -8.86262135e-01,  2.43133943e+00,\n",
       "       -1.34261583e+00,  9.47715806e-01,  4.64998247e+00,  7.64806916e-01,\n",
       "        2.57582096e+00,  3.91595913e+00,  6.49268372e+00,  9.58083512e-01,\n",
       "        3.90754430e-01,  1.52158673e-01,  5.75512457e+00,  2.92030459e+00,\n",
       "        3.74716695e+00, -4.79646894e+00,  4.78345162e+00,  1.71704311e-01,\n",
       "        3.16474801e+00,  2.90280758e+00,  2.12483176e+00,  3.56248172e+00,\n",
       "       -2.12481003e-01,  6.31304894e+00, -8.52089060e-01,  4.34919054e+00,\n",
       "       -3.92473118e-01,  1.55011491e+00,  5.41012917e-01,  5.74422527e+00,\n",
       "       -6.34372641e+00,  1.97512572e+00,  4.93930631e+00,  3.09035734e+00,\n",
       "        3.52798130e+00,  3.56366463e+00,  7.66779271e+00,  2.37044293e+00,\n",
       "        2.03433636e+00,  7.56222051e+00,  1.69988073e+00, -8.29740996e-01,\n",
       "       -1.00647623e+00,  3.48399802e+00,  1.38785975e+00,  2.46283183e+00,\n",
       "       -4.61105272e-01,  3.50103684e+00,  1.62554372e+00,  1.71676891e+00,\n",
       "        5.82525690e+00,  3.08449247e+00,  5.90872222e+00,  2.40862758e+00,\n",
       "        9.06617470e+00,  1.49729554e+00,  2.87750516e+00,  7.01249942e-01,\n",
       "        6.73766617e+00,  4.74243692e+00,  6.11749142e+00, -4.13514941e+00,\n",
       "        5.06930248e+00,  2.75007019e+00,  7.11846525e+00, -3.20828864e+00,\n",
       "        1.84777497e+00, -2.03513269e+00, -1.31660259e+00,  1.62808883e+00,\n",
       "        2.13593947e+00,  2.36427991e+00,  5.29895707e+00,  6.31210749e+00,\n",
       "        5.39863407e+00,  3.20590568e+00,  3.76227002e+00,  6.11948707e+00,\n",
       "        2.59622910e-01,  2.86986276e+00,  1.09940768e+00,  4.27708837e+00,\n",
       "        3.52671444e+00, -1.93798113e-01,  4.59107582e+00,  5.10721427e+00,\n",
       "        4.56543200e+00,  8.87760499e-01,  1.34763886e+00,  2.24202129e+00,\n",
       "        4.58527958e+00,  2.19436249e+00,  6.17083903e+00,  1.80582961e+00,\n",
       "        3.17551618e+00,  3.80560175e+00,  6.60349771e-02,  1.36252106e+00,\n",
       "        4.54920959e+00,  3.62612551e+00,  4.41294054e+00, -2.50449903e-01,\n",
       "       -1.62637895e+00, -1.86670727e+00,  2.80927888e+00, -4.45294385e+00,\n",
       "        5.40218217e+00,  2.31334341e-01,  1.62684253e+00,  6.85727454e-01,\n",
       "        3.05056975e-01, -1.10347352e+00,  9.40135029e-01,  3.25957687e+00,\n",
       "        3.06317643e+00,  7.04369102e+00, -3.26286030e+00,  1.64324682e+00,\n",
       "        2.11709934e+00, -6.11612838e+00,  5.52590361e+00, -2.20123288e+00,\n",
       "       -1.41916448e-01,  2.39818627e+00,  2.37382526e+00,  3.89519413e-01,\n",
       "        5.83750213e+00,  8.46086099e-01,  2.90799571e+00,  6.92287403e+00,\n",
       "        1.57114967e+00,  2.52321240e+00, -3.43613399e-01, -1.93235284e+00,\n",
       "       -1.99706910e+00, -2.39189888e+00,  4.14182297e+00, -1.53874788e+00,\n",
       "        1.18138210e+00,  7.39113237e-01,  6.13209407e+00,  5.94953344e+00,\n",
       "        3.79929096e+00, -9.82709876e-01,  8.42722938e+00, -4.52550886e-01,\n",
       "       -3.07364793e+00, -1.07530939e+00, -2.70709469e+00,  4.92252633e+00,\n",
       "        9.95306693e+00,  5.40434736e+00,  7.90211633e-01,  4.26482189e+00,\n",
       "        4.53757344e+00, -4.37615596e+00, -1.61023647e-01,  1.09119288e+00,\n",
       "        1.31913550e+00,  2.03885824e+00,  2.80715390e+00,  9.90706780e-02,\n",
       "        3.18670674e+00,  6.30688431e+00,  3.21633539e+00, -3.37983712e+00,\n",
       "       -6.76522240e-01,  4.30085219e+00,  8.96224165e-01,  6.20315468e+00,\n",
       "        8.77304515e-01,  6.31773720e+00,  6.62901566e+00,  1.14516077e+00,\n",
       "        5.22361250e+00,  3.70148871e+00, -1.27974556e+00,  6.27523471e+00,\n",
       "       -1.33031074e+00,  9.58041123e+00,  2.60906032e+00,  4.12480866e+00,\n",
       "        5.76897212e+00,  3.97810357e+00,  2.78000717e+00, -1.74289847e+00,\n",
       "       -7.04545062e-01, -5.78158987e-01, -6.70090503e-01,  1.11393713e+00,\n",
       "        3.68108060e-01, -2.86806958e+00,  1.15093264e+00,  4.83507806e+00,\n",
       "       -1.02911265e+00,  8.22629028e-01,  6.24801058e-01, -2.03470043e+00,\n",
       "        3.48097408e+00, -2.44725037e+00,  6.06992205e+00,  3.92862347e+00,\n",
       "        5.58867912e+00, -2.26422342e+00,  5.56709399e+00,  5.36543353e+00,\n",
       "        5.44547454e-01,  3.21317570e+00,  2.51836964e+00,  6.33143496e-01,\n",
       "        3.32693153e+00,  2.75882894e+00,  5.80520711e+00, -3.29286244e-01,\n",
       "        2.11068907e+00,  5.25016137e+00, -2.46498127e+00,  6.87981378e-01,\n",
       "        3.59385914e+00, -8.43422099e-01,  1.23084909e+00,  6.16507598e+00,\n",
       "        5.08138284e-01,  1.41895842e+00,  9.49495808e-01,  4.74461544e+00,\n",
       "        3.78940644e+00,  8.10863001e-02,  4.91988569e+00,  2.31311668e-01,\n",
       "        4.06566938e+00,  5.92160641e+00,  6.79518527e-01,  4.45013878e+00,\n",
       "        5.62892418e+00,  8.62643247e+00,  2.53748258e+00,  3.27764298e+00,\n",
       "       -2.03520024e+00,  2.31243537e+00,  1.09798359e+00, -2.60654985e+00,\n",
       "       -9.23148135e-03,  1.03992234e+00,  1.77522510e+00,  4.15579106e+00,\n",
       "        3.68793967e+00, -2.48011840e+00,  3.66313712e+00,  5.22142598e+00,\n",
       "       -5.12593352e+00,  1.21589753e+00,  6.91954080e+00,  4.97310802e+00,\n",
       "       -2.15347514e+00,  2.23730692e+00,  4.78900164e-01,  3.96725228e+00,\n",
       "        6.52513328e+00,  2.63542105e+00,  7.71878994e+00, -4.25253565e-01,\n",
       "        9.63069403e-01,  4.30916933e-01,  3.96213957e+00,  1.56176312e+00,\n",
       "       -2.64959310e+00, -1.77823064e+00,  3.98564435e+00,  3.12981361e+00,\n",
       "       -1.56988128e+00,  3.31781124e+00,  5.15254241e+00,  3.13519753e+00,\n",
       "        5.08637609e+00,  8.55258860e-01,  2.57377639e+00,  2.40515333e+00,\n",
       "        2.76388506e+00, -1.12747449e+00,  6.08676606e+00,  1.37583962e+00,\n",
       "        2.96110984e+00,  2.64711359e+00,  5.73281585e+00, -3.71026841e+00,\n",
       "        9.80653177e-01,  8.99075534e+00,  5.07383935e+00,  1.58537537e+00,\n",
       "        2.06629327e-01, -1.45333874e+00,  2.52656172e+00,  3.47108976e+00,\n",
       "        5.31038108e+00,  1.23689431e+00,  3.72019787e+00, -1.71345697e+00,\n",
       "        1.52426263e+00,  3.51411604e-01,  5.34748966e+00,  2.32488100e+00,\n",
       "        2.59703697e+00, -3.05236855e-01,  3.90001785e-01,  5.99008462e+00,\n",
       "        1.58915338e+00, -3.87231996e+00,  9.17030619e-01,  8.16210457e-01,\n",
       "       -2.16690209e+00,  4.18293969e+00,  3.99594969e+00, -3.52357075e-01,\n",
       "       -1.54646074e+00,  6.13257752e+00,  3.58189964e+00,  3.79738766e+00,\n",
       "        2.49563656e+00,  1.44469895e+00,  1.74754955e+00,  4.81540291e+00,\n",
       "        4.08392195e+00,  1.06057348e+01,  7.18674920e-01,  4.95762491e+00,\n",
       "        3.74725025e+00,  1.27649164e+00,  1.52426867e+00,  4.13977357e+00,\n",
       "       -1.28696133e+00,  8.30314082e+00,  4.04664576e+00, -4.84624382e+00,\n",
       "       -1.20322547e+00,  4.93595740e-02,  4.04245489e+00,  3.97185320e+00,\n",
       "        1.11598346e-03,  2.58647747e+00, -1.65009165e+00,  5.90857052e+00,\n",
       "        2.79900607e+00,  2.43412714e+00,  2.34673954e+00, -4.74654623e-01,\n",
       "        1.48076076e+00,  2.81882396e+00,  7.82833543e+00, -6.96389213e-01,\n",
       "        2.74883997e+00,  2.70139081e+00,  7.25915720e+00,  6.73507731e+00,\n",
       "       -5.09881169e-01,  2.27648760e+00,  6.24239711e+00,  2.49286615e+00,\n",
       "        5.95749308e+00,  2.65663820e-01,  4.75270304e+00,  5.28125560e+00,\n",
       "        3.99151923e+00, -5.79493874e+00,  3.04539833e+00,  3.34378080e+00,\n",
       "        4.79406509e-01,  7.12746758e+00,  5.33259597e+00,  4.52761525e+00,\n",
       "        2.11859223e+00,  2.72652807e+00,  3.30303123e+00,  1.33887514e+00,\n",
       "        5.81870715e-01,  5.00376671e-01,  4.08445012e+00, -4.35931939e+00,\n",
       "        2.40159988e+00,  5.16169960e+00,  4.86928715e+00,  2.01948202e+00,\n",
       "        6.34854235e-01, -1.17023059e+00, -1.39162958e+00,  3.48373952e+00,\n",
       "        1.60567910e+00,  1.00629388e+00, -1.19221345e+00,  2.49709329e+00,\n",
       "        2.63809108e+00,  9.44455596e-01,  2.98139774e+00,  2.79219645e+00,\n",
       "        3.16103967e+00, -1.73397244e+00,  2.69032376e+00,  3.93174361e+00,\n",
       "        2.17533952e+00,  5.46119742e-01,  1.66082384e-02,  4.01666487e-01,\n",
       "        1.52687303e-01,  3.84650005e+00,  3.22010487e+00,  2.04518149e+00,\n",
       "        2.04192218e+00, -1.18232164e+00,  2.97953593e+00,  1.27075508e+00,\n",
       "        5.74302851e+00,  4.10617839e-01,  2.59642456e+00, -9.39479888e-01,\n",
       "        9.12132667e-01,  3.91923015e+00,  2.68611589e+00,  1.59475923e+00,\n",
       "       -1.38649552e+00, -6.66771818e-01, -6.99597625e-02,  4.28637732e+00,\n",
       "        1.17879054e+00,  4.87808540e+00,  2.48630375e+00,  7.84601420e+00,\n",
       "        2.48743298e+00,  7.58228589e+00,  6.09092370e+00,  4.88908597e-01,\n",
       "        5.46739531e+00, -2.69701059e+00,  9.91392682e+00,  1.99702392e+00,\n",
       "        7.88898685e+00, -3.18593774e+00,  5.77679796e+00, -7.18724993e-02,\n",
       "        8.53742473e+00,  3.68539071e+00,  2.52327304e+00,  3.69126629e+00,\n",
       "       -8.91592541e-01,  9.07187754e-01, -9.26110999e-02,  5.06087711e+00,\n",
       "        6.64904604e+00,  1.04520566e+00,  3.11036824e+00,  4.39283582e+00,\n",
       "        2.40249358e-01,  7.46483835e+00,  1.33742524e+00, -1.04171516e+00,\n",
       "       -1.30710914e+00,  5.32116987e+00,  1.64585320e-01, -1.84921829e-02,\n",
       "        4.51721781e+00,  4.79281811e+00,  1.39558530e+00,  3.53522185e+00,\n",
       "        5.92130202e+00, -4.08095497e-03,  2.15208861e+00,  1.16789233e+00,\n",
       "        4.82403606e+00,  3.88509617e-01,  1.97484414e+00, -6.26484741e-01,\n",
       "        5.85737252e+00,  1.87980512e+00, -2.53900145e+00, -2.44853060e+00,\n",
       "        4.48615474e+00,  1.50328375e+00,  3.66544408e-01,  1.00026085e+01,\n",
       "       -1.97814500e-01,  2.15177357e+00,  4.28774866e+00,  2.40245726e+00,\n",
       "        2.08461075e+00, -4.17819055e-01,  5.29758870e-01,  5.96866006e+00,\n",
       "       -4.75191733e+00,  7.01860283e+00, -2.64561744e+00,  1.62698689e+00,\n",
       "        3.39744063e+00,  3.62995057e+00,  4.50721304e+00,  6.52252093e+00,\n",
       "       -2.97862530e+00,  7.74644911e-01,  2.65247289e+00,  4.03960750e+00,\n",
       "        4.56405457e+00,  2.44036874e+00, -3.11312817e+00,  3.80042720e+00,\n",
       "       -2.66773212e+00,  2.78057279e+00,  7.37904878e+00,  4.16086493e+00,\n",
       "        4.39480233e+00,  8.76679804e-01,  5.41187569e+00,  5.03205471e+00,\n",
       "       -4.74394098e+00,  3.02229883e+00,  5.67002463e+00,  1.54129300e+00,\n",
       "        2.27120009e+00, -3.21960371e+00,  1.58431796e+00, -2.44923924e+00,\n",
       "       -6.96648207e-01,  3.22647375e+00,  1.21818771e+00,  2.40472665e+00,\n",
       "       -1.03790617e+00,  1.30332852e+00,  1.15232347e+00,  2.59283789e+00,\n",
       "       -9.03000365e-01,  2.04348433e+00,  4.40484618e+00,  9.01238659e-01,\n",
       "        3.90545235e+00,  3.97159424e+00,  1.97448679e+00,  1.02879141e+00,\n",
       "        6.24907663e+00,  4.37921994e+00,  6.50153164e-01,  5.56107570e+00,\n",
       "       -2.82911007e+00, -4.33757083e-01,  2.27584641e+00, -5.54154561e-01,\n",
       "        9.58048854e-02, -2.91333785e+00,  3.96054475e+00,  3.53663685e+00,\n",
       "        1.04508758e+00,  2.91357340e+00,  2.18654528e+00,  7.39228545e+00,\n",
       "        4.47986319e+00,  1.60958383e+00,  2.72069099e+00,  2.62118866e+00,\n",
       "        7.64071419e+00, -2.48245396e+00,  2.33697690e+00,  5.53891935e+00,\n",
       "        1.43504268e+00,  3.45918799e+00,  3.35992285e+00,  5.00493348e+00,\n",
       "        3.16813533e+00, -7.57628854e-01,  3.56897199e+00,  2.80146151e+00,\n",
       "        3.69658207e+00,  5.25250461e+00,  5.14962718e+00, -3.80528384e+00,\n",
       "       -1.75766919e-01,  7.41993224e-01,  2.46506341e+00,  1.09970624e+00,\n",
       "       -1.74627524e+00,  2.36993117e+00,  6.28914129e+00, -2.96625672e+00,\n",
       "       -2.77484424e+00,  3.49176121e+00,  4.60232829e+00,  1.87547207e+00,\n",
       "        1.71499947e+00, -2.22108475e+00,  3.68614051e+00,  9.96361179e-01,\n",
       "        1.54348089e+00,  1.02074896e+00, -4.19899074e+00,  3.60404009e+00,\n",
       "        4.86797122e+00,  2.74158989e+00,  2.43646504e+00,  2.02283244e+00,\n",
       "        6.08854475e-01,  1.71836887e+00, -4.89341056e-02, -1.23426813e+00,\n",
       "        2.69524787e+00,  3.63087907e+00,  6.69412920e+00,  6.20400273e-01,\n",
       "       -2.54002899e+00,  1.53328423e+00,  7.56405862e-01,  3.05581332e-01,\n",
       "        8.51572577e+00,  2.33583113e+00,  1.49465369e+00,  8.14222320e-02,\n",
       "        2.67696064e+00,  6.05801583e+00,  1.02485707e+00,  1.13339966e+00,\n",
       "        4.05826179e+00,  3.64093378e+00,  2.27771692e+00, -1.40895315e+00,\n",
       "       -3.78514729e-01, -1.97732188e+00,  1.52987952e+00, -1.02055957e+00,\n",
       "        5.41559375e+00,  2.76370850e+00, -1.27818961e+00,  3.28903935e+00,\n",
       "       -1.60134701e+00,  3.51985328e+00,  3.26197625e+00, -1.73325893e+00,\n",
       "        5.08192009e+00,  1.63969503e+00,  5.81896375e+00,  4.11058296e+00,\n",
       "        4.66933033e+00, -1.42650512e+00,  4.53657273e-01,  2.13148852e+00,\n",
       "        2.98188070e+00,  2.32818071e+00,  2.74769874e+00,  5.54801053e-01,\n",
       "       -2.50492914e+00,  4.45148007e+00,  1.37973745e+00, -1.02137329e-01,\n",
       "        4.55464045e+00,  1.28366270e+00, -1.45552998e+00, -9.48897750e-01,\n",
       "       -3.12971182e-01,  7.39333418e-01,  8.89462568e-01, -1.45993912e+00,\n",
       "        2.31137043e+00, -1.45610726e+00,  4.13172615e+00,  7.20306464e-01,\n",
       "        2.84553935e+00,  3.32616319e+00, -3.23443228e-01,  6.62357434e+00,\n",
       "       -2.51000773e-02,  2.72397417e+00,  1.89085123e+00,  9.49830288e-01,\n",
       "        1.15759746e+01, -1.70662142e-01,  2.76670574e+00,  1.10794357e+00,\n",
       "        8.97256252e-01,  2.72684444e+00,  1.01783857e+00,  1.64759694e+00,\n",
       "        4.01949586e+00,  3.20160328e+00,  5.04492065e+00,  7.94994136e+00,\n",
       "        5.85412193e+00,  3.77353021e+00,  1.01004490e+00,  1.11760198e+00,\n",
       "        2.97018100e-01,  2.02463939e+00,  1.72812400e+00,  6.97885191e-01,\n",
       "        1.89153163e+00, -2.33213412e+00, -3.82864758e+00,  1.40067387e+00,\n",
       "        5.97314195e+00,  1.75492487e+00,  6.63141321e+00,  2.41135397e+00,\n",
       "        3.17156896e+00,  1.88426447e+00,  3.24196094e+00, -1.76873141e+00,\n",
       "       -3.23396928e+00,  2.23921005e+00,  2.21476891e+00,  7.64602154e-01,\n",
       "        4.23694335e-01,  3.48638011e+00,  3.33029781e+00, -1.59391904e+00,\n",
       "       -1.12862832e+00,  9.51626096e-01,  3.91908154e+00, -7.03133613e-02,\n",
       "        1.97013125e+00,  2.55711825e+00,  3.79578935e+00,  3.49912460e+00,\n",
       "        3.08275110e+00,  1.88634261e+00,  6.66085825e-01,  1.03105718e+00,\n",
       "        2.15345941e+00,  3.29458812e+00,  8.44793365e-01,  5.72683709e+00,\n",
       "       -1.41327726e+00,  6.09051146e+00,  1.87953211e+00,  3.58590825e+00,\n",
       "        1.66841163e-01,  8.00138779e+00, -7.84480614e-01,  2.92456459e+00,\n",
       "        1.96732721e+00, -3.30948621e-01, -3.11253704e+00,  5.00164257e-01,\n",
       "        5.38655820e+00, -2.05420073e+00,  3.62210256e+00,  8.62619326e+00,\n",
       "        5.45818994e+00,  9.25457990e-01, -3.52755797e-01, -6.59935620e-01,\n",
       "        2.96334589e+00,  5.04232468e+00,  3.17874816e+00, -8.08734133e-02,\n",
       "        5.55511110e+00, -1.64469213e+00,  1.32852462e+00, -1.35857021e+00,\n",
       "        2.40369443e-01, -1.16825299e-01,  8.31764091e+00,  3.24805954e+00,\n",
       "        4.58293227e+00,  5.28422073e-01, -1.06556577e+00, -3.39038401e-01,\n",
       "        6.05244515e+00,  1.24905669e+00, -3.82644247e-01,  1.96443238e+00,\n",
       "       -1.28087926e+00,  2.95961435e+00, -1.54755565e+00,  6.67896711e+00,\n",
       "        4.43958559e+00, -1.53443900e+00,  2.93660683e+00,  2.46239432e-01,\n",
       "        4.92033430e+00,  6.84039318e+00,  3.87301855e+00,  2.62471708e+00,\n",
       "        2.47549282e+00,  5.57085267e+00,  3.95869612e-01,  9.80161382e-01,\n",
       "        5.58966223e+00,  1.65060865e+00,  3.88361320e+00,  1.88081854e+00,\n",
       "        3.39886259e+00,  3.99036539e+00,  4.48327534e+00, -4.65830914e+00,\n",
       "        1.38297334e+00,  1.76177440e+00,  2.04668930e+00,  7.18393622e+00,\n",
       "        7.34600254e+00,  1.70068964e+00, -2.82026307e+00,  2.25063190e+00,\n",
       "        3.21244931e+00,  4.08764301e+00,  5.35292887e+00,  1.56938666e+00,\n",
       "        2.67875719e+00,  3.77117173e+00,  2.55546353e+00,  3.42372404e+00,\n",
       "        2.72630160e+00,  8.85345040e+00, -1.72370297e+00, -2.32340983e+00,\n",
       "        1.47416818e-01,  1.40412197e+00,  2.84921671e+00,  4.54595604e+00,\n",
       "       -3.62381918e+00,  8.43949193e-01,  6.10265985e+00,  2.14312418e+00,\n",
       "        1.36204900e+00,  3.70916612e+00,  6.71253348e+00,  1.64174793e-01,\n",
       "       -2.29803309e-02,  4.28034355e+00,  1.96840483e+00,  3.56350851e+00,\n",
       "        7.49805010e-01,  5.47232259e+00,  2.99984637e+00, -2.03373763e+00,\n",
       "        4.49976836e+00,  1.85835165e+00,  7.51025335e-01,  8.68110570e-01,\n",
       "       -1.05982052e+00, -8.36476147e-01,  7.08186403e+00,  5.55230681e+00,\n",
       "       -6.53612297e-01,  2.07479796e-01,  1.51332434e+00,  4.68244882e+00,\n",
       "        1.73280295e+00,  1.02339267e+01,  4.10415624e+00,  9.11742520e-01,\n",
       "        2.41360189e+00,  3.97842658e+00,  3.91175264e+00,  5.53175666e+00,\n",
       "       -1.79238296e+00,  3.24448414e+00, -3.14994701e-01,  1.39944961e+00,\n",
       "        4.86454782e-01,  2.08985795e+00,  9.15113039e-01,  1.87456907e+00,\n",
       "        4.04352978e+00,  1.45209435e+00,  3.57974987e+00,  1.28984214e+00,\n",
       "        3.37129012e+00,  2.85101595e+00,  5.19490543e+00,  4.95256153e+00,\n",
       "        1.58709045e+00, -1.86355933e+00,  2.71062601e+00, -9.63177636e-01,\n",
       "       -1.90850330e+00,  1.35447766e+00, -1.10335046e+00,  3.76653053e+00,\n",
       "        4.64601595e+00, -5.25524036e-01,  2.96659256e+00,  4.10868914e+00,\n",
       "        3.41081822e-01,  2.39550126e+00,  4.60627735e+00, -2.31024949e-01,\n",
       "        1.74784413e+00,  3.41820159e+00,  2.28786046e+00, -1.91427782e+00,\n",
       "        3.52249620e+00,  1.76402991e+00, -2.53034439e+00, -4.90042949e-01,\n",
       "        1.31817402e+00,  3.56869306e-01,  7.07834065e+00,  1.61338499e+00,\n",
       "        3.63718405e+00, -1.58662563e-02,  6.14263791e+00, -2.09469078e-01,\n",
       "        2.70282263e+00,  4.94299341e-01, -1.87046097e+00,  1.19777579e+00,\n",
       "        2.65941203e+00,  3.56007041e+00,  1.15944275e+00,  5.92148835e+00,\n",
       "        4.06605304e+00,  3.73949949e+00,  4.50347474e-01, -2.94435739e+00,\n",
       "        3.57917057e-01,  3.36084148e+00,  2.65611351e-02,  3.11716785e+00,\n",
       "        4.88069629e+00,  9.88407161e+00, -2.41097974e-01,  1.42815934e-02,\n",
       "        8.14892991e+00,  2.26713087e+00, -2.13700104e+00, -3.31889247e+00,\n",
       "        2.41723757e+00, -2.02667459e+00,  1.20082001e+00, -2.07066302e+00,\n",
       "        4.89609875e+00, -1.09012889e+00, -6.67425016e-01,  4.01193083e+00,\n",
       "       -3.94999857e-01,  1.52021238e+00,  4.68073971e+00,  5.96992332e+00])"
      ]
     },
     "execution_count": 7,
     "metadata": {},
     "output_type": "execute_result"
    }
   ],
   "source": [
    "mu = 2 \n",
    "sigma = 2.7569  \n",
    "\n",
    "# Generar un array de 1000 números con distribución normal\n",
    "array_normal = np.random.normal(mu, sigma, 1000)\n",
    "array_normal"
   ]
  },
  {
   "cell_type": "markdown",
   "id": "5c630f7e-7335-4280-bc4b-8ee47ef952b8",
   "metadata": {},
   "source": [
    "Plotear la distribución de los 1000 números"
   ]
  },
  {
   "cell_type": "code",
   "execution_count": 19,
   "id": "5a159afe-ba9a-4682-aa74-007bb1bfe082",
   "metadata": {},
   "outputs": [
    {
     "data": {
      "text/plain": [
       "Text(0.5, 1.0, 'Distribución de 1000 Números Aleatorios')"
      ]
     },
     "execution_count": 19,
     "metadata": {},
     "output_type": "execute_result"
    },
    {
     "data": {
      "image/png": "[encoded data removed]",
      "text/plain": [
       "<Figure size 640x480 with 1 Axes>"
      ]
     },
     "metadata": {},
     "output_type": "display_data"
    }
   ],
   "source": [
    "\n",
    "mu = 2  \n",
    "sigma = 2.7569  \n",
    "\n",
    "# Generar un array de 1000 números con distribución normal\n",
    "array_normal = np.random.normal(mu, sigma, 1000)\n",
    "plt.hist(array_normal, bins=30, edgecolor='black', color='skyblue', alpha=0.7)\n",
    "plt.title('Distribución de 1000 Números Aleatorios', fontsize=14)\n",
    "\n"
   ]
  },
  {
   "cell_type": "markdown",
   "id": "62fe7eab-c54f-468d-a435-f423e92d123d",
   "metadata": {},
   "source": [
    "Calcular el valor de 1sigma, 2sigma, 3sigma"
   ]
  },
  {
   "cell_type": "code",
   "execution_count": 21,
   "id": "e1ccaa32-24fe-4112-b22b-971e4e440ddc",
   "metadata": {},
   "outputs": [
    {
     "data": {
      "text/plain": [
       "(4.7569, 7.5138, 10.2707)"
      ]
     },
     "execution_count": 21,
     "metadata": {},
     "output_type": "execute_result"
    }
   ],
   "source": [
    "mu = 2\n",
    "sigma = 2.7569\n",
    "\n",
    "# Calcular 1σ, 2σ, 3σ\n",
    "uno_sigma = mu + sigma\n",
    "dos_sigma = mu + 2 * sigma\n",
    "tres_sigma = mu + 3 * sigma\n",
    "\n",
    "(uno_sigma, dos_sigma, tres_sigma)"
   ]
  },
  {
   "cell_type": "markdown",
   "id": "6a1f7b00-1c8c-486b-9d46-2bd61654667c",
   "metadata": {},
   "source": [
    "Calcular el porcentaje de números que están en el rango [-1sigma, 1sigma]"
   ]
  },
  {
   "cell_type": "code",
   "execution_count": 32,
   "id": "8dfe410d-c47a-40bd-92bb-735b0a87db8b",
   "metadata": {},
   "outputs": [
    {
     "name": "stdout",
     "output_type": "stream",
     "text": [
      "Porcentaje de números en el rango [-1σ, 1σ]: 68.8%\n"
     ]
    }
   ],
   "source": [
    "\n",
    "mu = 2\n",
    "sigma = 2.7569\n",
    "array_normal = np.random.normal(mu, sigma, 1000)\n",
    "\n",
    "\n",
    "abajo = mu - sigma\n",
    "arriba = mu + sigma\n",
    "\n",
    "\n",
    "count_in_range = np.sum((array_normal >= abajo) & (array_normal <= arriba))\n",
    "\n",
    "#Porcentaje\n",
    "percentage = (count_in_range / len(array_normal)) * 100\n",
    "\n",
    "print(f\"Porcentaje de números en el rango [-1σ, 1σ]: {percentage}%\")\n"
   ]
  },
  {
   "cell_type": "markdown",
   "id": "665038e6-0f4d-4597-946a-ad11877d3a07",
   "metadata": {},
   "source": [
    "Calcular el porcentaje de números que están en el rango [-2sigma, 2sigma]\n"
   ]
  },
  {
   "cell_type": "code",
   "execution_count": 40,
   "id": "e3edae92-a7c5-46ce-831f-5defe837024a",
   "metadata": {},
   "outputs": [
    {
     "name": "stdout",
     "output_type": "stream",
     "text": [
      "Porcentaje de números en el rango [-2σ, 2σ]: 94.89999999999999%\n"
     ]
    }
   ],
   "source": [
    "mu = 2\n",
    "sigma = 2.7569\n",
    "\n",
    "array_normal = np.random.normal(mu, sigma, 1000)\n",
    "\n",
    "lower_bound_2sigma = mu - 2 * sigma\n",
    "upper_bound_2sigma = mu + 2 * sigma\n",
    "\n",
    "count_in_range_2sigma = np.sum((array_normal >= lower_bound_2sigma) & (array_normal <= upper_bound_2sigma))\n",
    "\n",
    "# Calcular el porcentaje\n",
    "percentage_in_range_2sigma = (count_in_range_2sigma / len(array_normal)) * 100\n",
    "\n",
    "print(f\"Porcentaje de números en el rango [-2σ, 2σ]: {percentage_in_range_2sigma}%\")\n"
   ]
  },
  {
   "cell_type": "markdown",
   "id": "5c8c15df-a64a-44a6-a38f-c633581a116c",
   "metadata": {},
   "source": [
    "Calcular el porcentaje de números que están en el rango [-3sigma, 3sigma]"
   ]
  },
  {
   "cell_type": "code",
   "execution_count": 42,
   "id": "19a33071-7443-4650-82b1-23582310d4c7",
   "metadata": {},
   "outputs": [
    {
     "name": "stdout",
     "output_type": "stream",
     "text": [
      "Porcentaje de números en el rango [-3σ, 3σ]: 99.7%\n"
     ]
    }
   ],
   "source": [
    "mu = 2\n",
    "sigma = 2.7569\n",
    "\n",
    "array_normal = np.random.normal(mu, sigma, 1000)\n",
    "\n",
    "lower_bound_3sigma = mu - 3 * sigma\n",
    "upper_bound_3sigma = mu + 3 * sigma\n",
    "\n",
    "count_in_range_3sigma = np.sum((array_normal >= lower_bound_3sigma) & (array_normal <= upper_bound_3sigma))\n",
    "\n",
    "percentage_in_range_3sigma = (count_in_range_3sigma / len(array_normal)) * 100\n",
    "\n",
    "print(f\"Porcentaje de números en el rango [-3σ, 3σ]: {percentage_in_range_3sigma}%\")"
   ]
  },
  {
   "cell_type": "markdown",
   "id": "b0fce37e-de6f-480b-9849-78f7877dbf17",
   "metadata": {},
   "source": [
    "Crear una función que reciba un entero (mu), un flotante (sigma) y un entero (total de números) y: genere array de números con distribución normal, con mu, y sigma. Plotee la distribución, calcule los sigmas, calcule el porcentaje de números que están en los rangos de +-1sigmam +-2sigma, +-3sigma"
   ]
  },
  {
   "cell_type": "code",
   "execution_count": 48,
   "id": "66cea132-8f0e-452e-9efa-6d4ba2dcc616",
   "metadata": {},
   "outputs": [],
   "source": [
    "def normal_distribution_stats(mu, sigma, total_numbers):\n",
    "    # Generar un array de números con distribución normal\n",
    "    array_normal = np.random.normal(mu, sigma, total_numbers)\n",
    "    \n",
    "    # Calcular los límites para los rangos de sigmas\n",
    "    sigma_ranges = {\n",
    "        \"1sigma\": (mu - sigma, mu + sigma),\n",
    "        \"2sigma\": (mu - 2 * sigma, mu + 2 * sigma),\n",
    "        \"3sigma\": (mu - 3 * sigma, mu + 3 * sigma)\n",
    "    }\n",
    "\n",
    "    # Contar cuántos valores están en cada rango de sigma\n",
    "    percentages = {}\n",
    "    for key, (lower, upper) in sigma_ranges.items():\n",
    "        count_in_range = np.sum((array_normal >= lower) & (array_normal <= upper))\n",
    "        percentage_in_range = (count_in_range / total_numbers) * 100\n",
    "        percentages[key] = percentage_in_range\n",
    "\n",
    "    # Graficar la distribución\n",
    "    plt.figure(figsize=(10, 6))\n",
    "    plt.hist(array_normal, bins=30, color='skyblue', edgecolor='black', alpha=0.7, density=True)\n",
    "    plt.title(f'Distribución Normal: mu={mu}, sigma={sigma}')\n",
    "    plt.xlabel('Valor')\n",
    "    plt.ylabel('Densidad')\n",
    "    plt.show()\n",
    "\n",
    "    # Mostrar los resultados de los porcentajes y los valores de los sigmas\n",
    "    for key, percentage in percentages.items():\n",
    "        print(f\"Porcentaje de números en el rango {key}: {percentage:.2f}%\")\n",
    "    \n",
    "    print(f\"\\nValor de 1σ: {mu + sigma}\")\n",
    "    print(f\"Valor de 2σ: {mu + 2*sigma}\")\n",
    "    print(f\"Valor de 3σ: {mu + 3*sigma}\")\n"
   ]
  },
  {
   "cell_type": "markdown",
   "id": "96919174-2a6c-4c4a-82d2-83c14b14719b",
   "metadata": {},
   "source": [
    "Usar la función anterior con los valores (0, 1., 1000), (3, 5, 5000), (-3, 3, 10000)"
   ]
  },
  {
   "cell_type": "code",
   "execution_count": 50,
   "id": "d760bead-6215-4730-871c-390d22054c8c",
   "metadata": {},
   "outputs": [
    {
     "name": "stdout",
     "output_type": "stream",
     "text": [
      "Resultados para mu=0, sigma=1.0, total_numbers=1000:\n"
     ]
    },
    {
     "data": {
      "image/png": "[encoded data removed]",
      "text/plain": [
       "<Figure size 1000x600 with 1 Axes>"
      ]
     },
     "metadata": {},
     "output_type": "display_data"
    },
    {
     "name": "stdout",
     "output_type": "stream",
     "text": [
      "Porcentaje de números en el rango 1sigma: 68.90%\n",
      "Porcentaje de números en el rango 2sigma: 95.00%\n",
      "Porcentaje de números en el rango 3sigma: 99.60%\n",
      "\n",
      "Valor de 1σ: 1.0\n",
      "Valor de 2σ: 2.0\n",
      "Valor de 3σ: 3.0\n",
      "\n",
      "==================================================\n",
      "\n",
      "Resultados para mu=3, sigma=5, total_numbers=5000:\n"
     ]
    },
    {
     "data": {
      "image/png": "[encoded data removed]",
      "text/plain": [
       "<Figure size 1000x600 with 1 Axes>"
      ]
     },
     "metadata": {},
     "output_type": "display_data"
    },
    {
     "name": "stdout",
     "output_type": "stream",
     "text": [
      "Porcentaje de números en el rango 1sigma: 68.36%\n",
      "Porcentaje de números en el rango 2sigma: 95.50%\n",
      "Porcentaje de números en el rango 3sigma: 99.74%\n",
      "\n",
      "Valor de 1σ: 8\n",
      "Valor de 2σ: 13\n",
      "Valor de 3σ: 18\n",
      "\n",
      "==================================================\n",
      "\n",
      "Resultados para mu=-3, sigma=3, total_numbers=10000:\n"
     ]
    },
    {
     "data": {
      "image/png": "[encoded data removed]",
      "text/plain": [
       "<Figure size 1000x600 with 1 Axes>"
      ]
     },
     "metadata": {},
     "output_type": "display_data"
    },
    {
     "name": "stdout",
     "output_type": "stream",
     "text": [
      "Porcentaje de números en el rango 1sigma: 67.87%\n",
      "Porcentaje de números en el rango 2sigma: 95.31%\n",
      "Porcentaje de números en el rango 3sigma: 99.70%\n",
      "\n",
      "Valor de 1σ: 0\n",
      "Valor de 2σ: 3\n",
      "Valor de 3σ: 6\n",
      "\n",
      "==================================================\n",
      "\n"
     ]
    }
   ],
   "source": [
    "mu_values = [(0, 1., 1000), (3, 5, 5000), (-3, 3, 10000)]\n",
    "\n",
    "# Ejecutar la función para cada conjunto de parámetros\n",
    "for mu, sigma, total_numbers in mu_values:\n",
    "    print(f\"Resultados para mu={mu}, sigma={sigma}, total_numbers={total_numbers}:\")\n",
    "    normal_distribution_stats(mu, sigma, total_numbers)\n",
    "    print(\"\\n\" + \"=\"*50 + \"\\n\")"
   ]
  },
  {
   "cell_type": "code",
   "execution_count": null,
   "id": "426569c5-e8db-4dd6-bcc8-cbd6acc8bdce",
   "metadata": {},
   "outputs": [],
   "source": []
  }
 ],
 "metadata": {
  "kernelspec": {
   "display_name": "Python 3 (ipykernel)",
   "language": "python",
   "name": "python3"
  },
  "language_info": {
   "codemirror_mode": {
    "name": "ipython",
    "version": 3
   },
   "file_extension": ".py",
   "mimetype": "text/x-python",
   "name": "python",
   "nbconvert_exporter": "python",
   "pygments_lexer": "ipython3",
   "version": "3.12.4"
  }
 },
 "nbformat": 4,
 "nbformat_minor": 5
}
