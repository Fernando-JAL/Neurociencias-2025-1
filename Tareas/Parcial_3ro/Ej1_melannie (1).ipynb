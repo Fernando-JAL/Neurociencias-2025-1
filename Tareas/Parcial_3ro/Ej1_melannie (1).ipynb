{
 "cells": [
  {
   "cell_type": "code",
   "execution_count": 3,
   "id": "c027b2bc-3a86-422f-aa8b-10f2ca0153af",
   "metadata": {},
   "outputs": [],
   "source": [
    "#Examen Melannie Martínez Velasco\n"
   ]
  },
  {
   "cell_type": "code",
   "execution_count": null,
   "id": "383ba2fb-eb9e-439a-955c-2f17b23e461a",
   "metadata": {},
   "outputs": [],
   "source": [
    "# Ejercicio 1.\n",
    "\n",
    "# En un solo lanzamiento de dos dados de 6 caras (con el mismo peso), encuentre la probabilidad de que su suma sea como máximo n. \n",
    "# Cree una funcion llamada 'lanzamiento' que reciba un entero llamado 'n' y retorne un flotante que calcule la probabilidad de que \n",
    "# el lanzamiento de 2 dados de 6 caras sea <= n."
   ]
  },
  {
   "cell_type": "code",
   "execution_count": null,
   "id": "5a6a06ca-dec1-4bd9-b1cf-fb770f2ea5cd",
   "metadata": {},
   "outputs": [],
   "source": [
    "n = int(input('Introducir valor n: '))\n",
    "con_tot = 36\n",
    "casos= 0\n",
    "\n",
    "def lanzamiento(n):\n",
    "    global casos\n",
    "    for d1 in range(1,7):\n",
    "        for d2 in range(1,7):\n",
    "            sum = d1 + d2\n",
    "            if sum <= n:\n",
    "                casos += 1\n",
    "            else:\n",
    "                continue\n",
    "    return casos\n",
    "\n",
    "lanzamiento(n)\n",
    "prob= casos/con_tot\n",
    "\n",
    "print(f' casos donde la suma es<={n} {casos}, y la probabilidad es de {prob}')"
   ]
  },
  {
   "cell_type": "code",
   "execution_count": 30,
   "id": "e9f3d287-fa35-4585-8e33-d7115e87096b",
   "metadata": {},
   "outputs": [
    {
     "ename": "SyntaxError",
     "evalue": "invalid non-printable character U+00A0 (1365177184.py, line 8)",
     "output_type": "error",
     "traceback": [
      "\u001b[1;36m  Cell \u001b[1;32mIn[30], line 8\u001b[1;36m\u001b[0m\n\u001b[1;33m    print(\"Probabilidad de obtener suma menor a n\", lanzamiento(7))\u001b[0m\n\u001b[1;37m                                                   ^\u001b[0m\n\u001b[1;31mSyntaxError\u001b[0m\u001b[1;31m:\u001b[0m invalid non-printable character U+00A0\n"
     ]
    }
   ],
   "source": [
    "\n",
    "\n"
   ]
  },
  {
   "cell_type": "code",
   "execution_count": null,
   "id": "1f874319-6376-4690-be07-ef18999caace",
   "metadata": {},
   "outputs": [],
   "source": []
  },
  {
   "cell_type": "code",
   "execution_count": null,
   "id": "fa7a5889-b9c6-4de5-825b-cba281c6b7b0",
   "metadata": {},
   "outputs": [],
   "source": []
  }
 ],
 "metadata": {
  "kernelspec": {
   "display_name": "Python 3 (ipykernel)",
   "language": "python",
   "name": "python3"
  },
  "language_info": {
   "codemirror_mode": {
    "name": "ipython",
    "version": 3
   },
   "file_extension": ".py",
   "mimetype": "text/x-python",
   "name": "python",
   "nbconvert_exporter": "python",
   "pygments_lexer": "ipython3",
   "version": "3.12.4"
  }
 },
 "nbformat": 4,
 "nbformat_minor": 5
}
