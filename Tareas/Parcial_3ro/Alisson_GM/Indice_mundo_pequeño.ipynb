{
 "cells": [
  {
   "metadata": {},
   "cell_type": "markdown",
   "source": [
    "### Función que calcule el índice de mundo pequeño \n",
    "\n",
    "\n",
    "La fórmula general de para calcular el índice de mundo pequeño, basado en el coeficiente de clustering y la longuitud promedio de las conexiones entre nodos es: \n",
    "\n",
    "sigma = (C_real / C_aleatoria) / (L_real / L_aleatoria)\n",
    "\n",
    "donde: \n",
    "\n",
    "C_real : coeficiente de clustering de la red real\n",
    "\n",
    "C_ random : coeficiente de clustering de una red aleatoria \n",
    "\n",
    "L_real: longuitud promedio de una red real\n",
    "\n",
    "L_aleatoria: longuitud promedio de una red aleatoria\n",
    "\n",
    "\n",
    "Por lo tanto: "
   ],
   "id": "6a2dab8acc78eac0"
  },
  {
   "cell_type": "code",
   "id": "initial_id",
   "metadata": {
    "collapsed": true,
    "ExecuteTime": {
     "end_time": "2024-11-07T05:08:24.209984Z",
     "start_time": "2024-11-07T05:08:24.191426Z"
    }
   },
   "source": [
    "import networkx as nx\n",
    "import numpy as np\n",
    "\n",
    "def indice_mundo_pequeño(G, num_red_aleatoria=10):\n",
    "    c_real = nx.average_clustering(G)\n",
    "    try: \n",
    "        l_real = nx.average_shortest_path_length(G)\n",
    "    except nx.NetworkXError:\n",
    "        print('No todos los nodos están conecatados, por lo tanto no se puede calcular el índice pequeño en general')\n",
    "        return None\n",
    "    # Promedio de redes aleatorias \n",
    "    c_aleatoria_total = 0\n",
    "    l_aleatoria_total = 0\n",
    "    \n",
    "    for _ in range(num_red_aleatoria):\n",
    "        #Creamos nuestra red aleatoria \n",
    "        red_aleatoria = nx.gnm_random_graph(G.number_of_nodes(), G.number_of_edges())\n",
    "        \n",
    "        #Calcular el coeficiente de clustering y la longuitud promedio de nuestra red aleatoria \n",
    "        c_aleatoria_total += nx.average_clustering(red_aleatoria)\n",
    "        try:\n",
    "            l_aleatoria_total += nx.average_shortest_path_length(red_aleatoria)\n",
    "        except nx.NetworkXError:\n",
    "            num_red_aleatoria -= 1 #por si la red aleatoria no está conectada en todos sus nodos \n",
    "            \n",
    "    #promedio de coeficiente y longuitud de la red aleatoria \n",
    "    c_aleatoria = c_aleatoria_total / num_red_aleatoria\n",
    "    l_aleatoria = l_aleatoria_total / num_red_aleatoria\n",
    "    \n",
    "    #Aplicamos la fórmula \n",
    "    sigma = (c_real / c_aleatoria) / (l_real / l_aleatoria)\n",
    "    return sigma\n",
    "        "
   ],
   "outputs": [],
   "execution_count": 34
  },
  {
   "metadata": {},
   "cell_type": "markdown",
   "source": "Probamos la función",
   "id": "26be21a465eeaec5"
  },
  {
   "metadata": {
    "ExecuteTime": {
     "end_time": "2024-11-07T05:08:28.710427Z",
     "start_time": "2024-11-07T05:08:28.668187Z"
    }
   },
   "cell_type": "code",
   "source": [
    "#Al crear un red de prueba \n",
    "G = nx.watts_strogatz_graph(30, 4, 0.1)\n",
    "\n",
    "#Ponemos a prueba nuestra función \n",
    "sigma = indice_mundo_pequeño(G)\n",
    "print(f\"Índice de mundo pequeño: {sigma}\")"
   ],
   "id": "d415c88d8a12d7b1",
   "outputs": [
    {
     "name": "stdout",
     "output_type": "stream",
     "text": [
      "Índice de mundo pequeño: 0.8661252423248584\n"
     ]
    }
   ],
   "execution_count": 35
  },
  {
   "metadata": {},
   "cell_type": "markdown",
   "source": "También si lo probamos con el archivo fv32 ",
   "id": "c3089318e68d0c7d"
  },
  {
   "metadata": {
    "ExecuteTime": {
     "end_time": "2024-11-07T05:08:31.735064Z",
     "start_time": "2024-11-07T05:08:31.710620Z"
    }
   },
   "cell_type": "code",
   "source": [
    "import scipy.io \n",
    "\n",
    "mat_path = r\"C:\\Users\\aliss\\Documents\\Repo_modelos\\pythonProject\\TAREAS\\fve32.mat\"\n",
    "mat_data = scipy.io.loadmat(mat_path)\n",
    "mat_data.keys()"
   ],
   "id": "f0af281e1f974b13",
   "outputs": [
    {
     "data": {
      "text/plain": [
       "dict_keys(['__header__', '__version__', '__globals__', 'Names', 'CIJ'])"
      ]
     },
     "execution_count": 36,
     "metadata": {},
     "output_type": "execute_result"
    }
   ],
   "execution_count": 36
  },
  {
   "metadata": {
    "ExecuteTime": {
     "end_time": "2024-11-07T05:08:33.673454Z",
     "start_time": "2024-11-07T05:08:33.606714Z"
    }
   },
   "cell_type": "code",
   "source": [
    "cij_matrix = mat_data['CIJ']\n",
    "G = nx.from_numpy_array(cij_matrix)\n",
    "\n",
    "sigma = indice_mundo_pequeño(G)\n",
    "print(f\"Índice de mundo pequeño: {sigma}\")"
   ],
   "id": "3c1e40cbb73e29d1",
   "outputs": [
    {
     "name": "stdout",
     "output_type": "stream",
     "text": [
      "Índice de mundo pequeño: 1.5913237115177525\n"
     ]
    }
   ],
   "execution_count": 37
  }
 ],
 "metadata": {
  "kernelspec": {
   "display_name": "Python 3",
   "language": "python",
   "name": "python3"
  },
  "language_info": {
   "codemirror_mode": {
    "name": "ipython",
    "version": 2
   },
   "file_extension": ".py",
   "mimetype": "text/x-python",
   "name": "python",
   "nbconvert_exporter": "python",
   "pygments_lexer": "ipython2",
   "version": "2.7.6"
  }
 },
 "nbformat": 4,
 "nbformat_minor": 5
}
