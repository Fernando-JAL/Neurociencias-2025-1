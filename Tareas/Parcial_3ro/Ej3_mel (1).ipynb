{
 "cells": [
  {
   "cell_type": "code",
   "execution_count": 51,
   "id": "a693d066-a5ef-428d-a478-25720eea7f91",
   "metadata": {},
   "outputs": [
    {
     "name": "stdout",
     "output_type": "stream",
     "text": [
      "Requirement already satisfied: ipython in c:\\users\\melan\\anaconda3\\lib\\site-packages (8.25.0)\n",
      "Requirement already satisfied: decorator in c:\\users\\melan\\anaconda3\\lib\\site-packages (from ipython) (5.1.1)\n",
      "Requirement already satisfied: jedi>=0.16 in c:\\users\\melan\\anaconda3\\lib\\site-packages (from ipython) (0.18.1)\n",
      "Requirement already satisfied: matplotlib-inline in c:\\users\\melan\\anaconda3\\lib\\site-packages (from ipython) (0.1.6)\n",
      "Requirement already satisfied: prompt-toolkit<3.1.0,>=3.0.41 in c:\\users\\melan\\anaconda3\\lib\\site-packages (from ipython) (3.0.43)\n",
      "Requirement already satisfied: pygments>=2.4.0 in c:\\users\\melan\\anaconda3\\lib\\site-packages (from ipython) (2.15.1)\n",
      "Requirement already satisfied: stack-data in c:\\users\\melan\\anaconda3\\lib\\site-packages (from ipython) (0.2.0)\n",
      "Requirement already satisfied: traitlets>=5.13.0 in c:\\users\\melan\\anaconda3\\lib\\site-packages (from ipython) (5.14.3)\n",
      "Requirement already satisfied: colorama in c:\\users\\melan\\anaconda3\\lib\\site-packages (from ipython) (0.4.6)\n",
      "Requirement already satisfied: parso<0.9.0,>=0.8.0 in c:\\users\\melan\\anaconda3\\lib\\site-packages (from jedi>=0.16->ipython) (0.8.3)\n",
      "Requirement already satisfied: wcwidth in c:\\users\\melan\\anaconda3\\lib\\site-packages (from prompt-toolkit<3.1.0,>=3.0.41->ipython) (0.2.5)\n",
      "Requirement already satisfied: executing in c:\\users\\melan\\anaconda3\\lib\\site-packages (from stack-data->ipython) (0.8.3)\n",
      "Requirement already satisfied: asttokens in c:\\users\\melan\\anaconda3\\lib\\site-packages (from stack-data->ipython) (2.0.5)\n",
      "Requirement already satisfied: pure-eval in c:\\users\\melan\\anaconda3\\lib\\site-packages (from stack-data->ipython) (0.2.2)\n",
      "Requirement already satisfied: six in c:\\users\\melan\\anaconda3\\lib\\site-packages (from asttokens->stack-data->ipython) (1.16.0)\n"
     ]
    }
   ],
   "source": [
    "#Modifique el código de animation2_2 para usar la información de 'fve30.mat'.\n",
    "#Para las coordenadas 'x', 'y', 'z' utiliza un arreglo de números enteros aleatorios en el intevalor [0, 50]\n",
    "\n",
    "# Instalar...\n",
    "! pip install ipython \n",
    "\n",
    "# Importar paqueterías\n",
    "import numpy as np\n",
    "import pandas as pd\n",
    "import matplotlib.pyplot as plt\n",
    "from matplotlib import animation\n",
    "import scipy.io\n",
    "import networkx as nx\n",
    "from IPython.display import HTML "
   ]
  },
  {
   "cell_type": "code",
   "execution_count": 52,
   "id": "51691042-c2a4-4f98-8deb-9d73f5db8050",
   "metadata": {},
   "outputs": [
    {
     "data": {
      "text/plain": [
       "{'Names': array(['  V1', '  V2', '  V3', '  VP', ' V3a', '  V4', ' VOT', ' V4t',\n",
       "        '  MT', ' FST', 'PITd', 'PITv', 'CITd', 'CITv', 'AITd', 'AITv',\n",
       "        'STPp', 'STPa', '  TF', '  TH', 'MSTd', 'MSTl', '  PO', ' PIP',\n",
       "        ' LIP', ' VIP', '  DP', '  7a', ' FEF', '  46'], dtype='<U4'),\n",
       " 'CIJ': array([[0, 1, 1, 0, 1, 1, 0, 0, 1, 0, 0, 0, 0, 0, 0, 0, 0, 0, 0, 0, 0, 1,\n",
       "         1, 1, 0, 0, 0, 0, 0, 0],\n",
       "        [1, 0, 1, 1, 1, 1, 1, 1, 1, 1, 0, 0, 0, 0, 0, 0, 0, 0, 0, 0, 1, 1,\n",
       "         1, 1, 0, 1, 0, 0, 1, 0],\n",
       "        [1, 1, 0, 0, 1, 1, 0, 1, 1, 1, 0, 0, 0, 0, 0, 0, 0, 0, 1, 0, 1, 0,\n",
       "         1, 1, 1, 1, 0, 0, 1, 0],\n",
       "        [0, 1, 1, 0, 1, 1, 1, 0, 1, 1, 0, 0, 0, 0, 0, 0, 0, 0, 1, 0, 1, 0,\n",
       "         1, 1, 0, 1, 0, 0, 1, 0],\n",
       "        [1, 1, 1, 1, 0, 1, 0, 0, 1, 1, 0, 0, 0, 0, 0, 0, 0, 0, 0, 0, 1, 1,\n",
       "         1, 0, 0, 0, 1, 0, 1, 0],\n",
       "        [1, 1, 1, 1, 1, 0, 0, 1, 1, 1, 1, 1, 1, 1, 0, 1, 0, 0, 1, 1, 0, 0,\n",
       "         0, 1, 1, 0, 1, 0, 1, 1],\n",
       "        [0, 1, 0, 1, 0, 1, 0, 0, 0, 0, 1, 1, 0, 0, 0, 0, 0, 0, 0, 0, 0, 0,\n",
       "         0, 0, 0, 0, 0, 0, 0, 0],\n",
       "        [1, 0, 1, 0, 0, 1, 0, 0, 1, 1, 0, 0, 0, 0, 0, 0, 0, 0, 0, 0, 0, 1,\n",
       "         1, 0, 0, 0, 0, 0, 1, 0],\n",
       "        [1, 1, 1, 1, 1, 1, 0, 1, 0, 1, 0, 0, 0, 0, 0, 0, 0, 0, 0, 0, 1, 1,\n",
       "         1, 1, 1, 1, 0, 0, 1, 1],\n",
       "        [0, 0, 1, 0, 1, 1, 0, 1, 1, 0, 1, 1, 0, 0, 0, 0, 1, 0, 1, 0, 1, 1,\n",
       "         0, 0, 1, 1, 0, 1, 1, 0],\n",
       "        [0, 0, 0, 0, 0, 1, 0, 0, 0, 1, 0, 0, 0, 1, 1, 1, 0, 0, 0, 0, 1, 0,\n",
       "         0, 0, 0, 0, 0, 0, 1, 1],\n",
       "        [0, 0, 0, 0, 0, 1, 0, 0, 0, 0, 1, 0, 0, 1, 0, 1, 0, 0, 0, 0, 1, 0,\n",
       "         0, 0, 0, 0, 0, 0, 1, 1],\n",
       "        [0, 0, 0, 0, 0, 1, 0, 0, 0, 0, 0, 1, 0, 0, 1, 1, 0, 0, 0, 0, 0, 0,\n",
       "         0, 0, 0, 0, 0, 0, 0, 0],\n",
       "        [0, 0, 0, 0, 0, 1, 0, 0, 0, 0, 0, 1, 0, 0, 1, 1, 0, 0, 0, 0, 0, 0,\n",
       "         0, 0, 0, 0, 0, 0, 0, 0],\n",
       "        [0, 0, 0, 0, 0, 0, 0, 0, 0, 0, 0, 1, 0, 1, 0, 0, 0, 0, 0, 0, 0, 0,\n",
       "         0, 0, 0, 0, 0, 1, 1, 1],\n",
       "        [0, 0, 0, 0, 0, 1, 0, 0, 0, 0, 0, 1, 0, 1, 0, 0, 0, 0, 1, 1, 0, 0,\n",
       "         0, 0, 0, 0, 0, 0, 0, 0],\n",
       "        [0, 0, 0, 0, 0, 0, 0, 0, 0, 1, 0, 0, 1, 1, 0, 0, 0, 1, 1, 1, 1, 1,\n",
       "         0, 0, 0, 0, 0, 1, 1, 1],\n",
       "        [0, 0, 0, 0, 0, 0, 0, 0, 0, 0, 0, 0, 0, 0, 1, 0, 1, 0, 1, 1, 0, 0,\n",
       "         0, 0, 0, 0, 0, 1, 0, 1],\n",
       "        [0, 0, 1, 1, 0, 1, 0, 0, 0, 1, 0, 1, 0, 1, 1, 1, 1, 1, 0, 0, 1, 0,\n",
       "         0, 0, 0, 0, 0, 1, 0, 1],\n",
       "        [0, 0, 0, 0, 0, 1, 0, 0, 0, 0, 0, 1, 1, 1, 1, 1, 1, 1, 0, 0, 0, 0,\n",
       "         0, 0, 0, 0, 0, 1, 0, 1],\n",
       "        [0, 1, 1, 1, 1, 0, 0, 1, 1, 1, 1, 1, 0, 0, 0, 0, 1, 0, 0, 0, 0, 0,\n",
       "         1, 0, 1, 1, 1, 1, 1, 0],\n",
       "        [0, 1, 0, 0, 1, 0, 0, 0, 1, 1, 0, 0, 0, 0, 0, 0, 1, 0, 0, 0, 0, 0,\n",
       "         1, 0, 0, 1, 0, 0, 1, 0],\n",
       "        [1, 0, 0, 0, 0, 0, 0, 0, 1, 0, 0, 0, 0, 0, 0, 0, 0, 0, 0, 0, 1, 1,\n",
       "         0, 0, 1, 1, 1, 1, 1, 0],\n",
       "        [1, 0, 1, 1, 0, 1, 0, 0, 1, 0, 0, 0, 0, 0, 0, 0, 0, 0, 0, 0, 0, 0,\n",
       "         1, 0, 0, 0, 1, 1, 0, 0],\n",
       "        [0, 0, 1, 1, 1, 1, 0, 0, 1, 1, 0, 1, 0, 0, 0, 0, 0, 0, 1, 0, 1, 1,\n",
       "         1, 0, 0, 1, 1, 1, 1, 1],\n",
       "        [0, 0, 1, 0, 0, 0, 0, 0, 1, 1, 0, 0, 0, 0, 0, 0, 0, 0, 0, 0, 1, 1,\n",
       "         1, 0, 1, 0, 0, 1, 1, 0],\n",
       "        [0, 0, 0, 0, 1, 1, 0, 0, 0, 1, 0, 0, 0, 0, 0, 0, 0, 0, 0, 0, 1, 1,\n",
       "         1, 1, 1, 0, 0, 1, 0, 1],\n",
       "        [0, 0, 0, 0, 0, 0, 0, 0, 0, 0, 0, 0, 0, 0, 1, 0, 1, 1, 1, 1, 1, 1,\n",
       "         1, 0, 1, 0, 1, 0, 1, 1],\n",
       "        [0, 0, 0, 0, 0, 0, 0, 0, 1, 1, 0, 0, 1, 1, 1, 0, 1, 0, 0, 0, 1, 1,\n",
       "         1, 0, 1, 1, 1, 1, 0, 1],\n",
       "        [0, 0, 0, 0, 0, 0, 0, 0, 0, 0, 0, 0, 1, 1, 1, 0, 1, 1, 1, 1, 0, 0,\n",
       "         0, 0, 0, 0, 1, 1, 1, 0]], dtype=uint8)}"
      ]
     },
     "execution_count": 52,
     "metadata": {},
     "output_type": "execute_result"
    }
   ],
   "source": [
    "# Cargar archivo\n",
    "fve30 = r\"C:\\Users\\melan\\Downloads\\fve30.mat\"\n",
    "m_jason = scipy.io.loadmat(fve30)\n",
    "m_dict = {k:v for k, v in m_jason.items() if k[0] != '_'}\n",
    "m_dictmat_dict = {k:v for k, v in m_jason.items() if k[0] != '_'}\n",
    "m_dict"
   ]
  },
  {
   "cell_type": "code",
   "execution_count": 53,
   "id": "5bb6fc1f-3378-4894-9a5c-97ff70754f58",
   "metadata": {},
   "outputs": [
    {
     "name": "stdout",
     "output_type": "stream",
     "text": [
      "(30,) 1\n",
      "(30, 30) 2\n"
     ]
    }
   ],
   "source": [
    "# Diccionario\n",
    "m_dict.keys()\n",
    "for key in m_dict.keys():\n",
    "    print(m_dict[key].shape, m_dict[key].ndim)"
   ]
  },
  {
   "cell_type": "code",
   "execution_count": 54,
   "id": "05aeb4db-ed24-4e47-84b6-6cdba901bcea",
   "metadata": {},
   "outputs": [],
   "source": [
    "# Matriz de adyacencia\n",
    "matAdj = m_jason['CIJ']\n",
    "G = nx.from_numpy_array(matAdj)"
   ]
  },
  {
   "cell_type": "code",
   "execution_count": null,
   "id": "4fd6e987-079c-4998-99ed-c8c4b8a5c905",
   "metadata": {},
   "outputs": [],
   "source": [
    "# Coordenadas aleatorias (0-50)\n",
    "n_nodos = G.number_of_nodes()\n",
    "x = np.random.randint(0, 51, size= 32)\n",
    "y = np.random.randint(0, 51, size= 32)\n",
    "z = np.random.randint(0, 51, size= 32)\n",
    "\n",
    "# arreglos (nodos y aristas)\n",
    "nodes = np.array([[i, j, k] for i, j, k in zip(x, y, z)])\n",
    "edges = np.array([(nodes[u], nodes[v]) for u, v in G.edges()])\n",
    "\n",
    "# Graficar\n",
    "fig = plt.figure(figsize = (8, 8))\n",
    "ax = fig.add_subplot(111, projection=\"3d\")\n",
    "\n",
    "\n",
    "\n",
    "def init():\n",
    "    ax.scatter(*nodes.T)\n",
    "    for edge in edges:\n",
    "        ax.plot(*edge.T)\n",
    "    return fig,\n",
    "\n",
    "# Animar\n",
    "def animate(i):\n",
    "    ax.view_init(elev= 20, azim= i*4)\n",
    "    return fig,\n",
    "animacion = animation.FuncAnimation(fig, animate, init_func=init, frames=90, interval=200, blit=False)\n",
    "\n",
    "# Renderizar\n",
    "HTML(animacion.to_jshtml()) \n"
   ]
  },
  {
   "cell_type": "code",
   "execution_count": null,
   "id": "3ee11411-5a22-4eed-aff4-9fee1646b7e8",
   "metadata": {},
   "outputs": [],
   "source": []
  },
  {
   "cell_type": "code",
   "execution_count": null,
   "id": "c84deb1e-7568-4ab5-b2b4-f9f1618d60d1",
   "metadata": {},
   "outputs": [],
   "source": []
  }
 ],
 "metadata": {
  "kernelspec": {
   "display_name": "Python 3 (ipykernel)",
   "language": "python",
   "name": "python3"
  },
  "language_info": {
   "codemirror_mode": {
    "name": "ipython",
    "version": 3
   },
   "file_extension": ".py",
   "mimetype": "text/x-python",
   "name": "python",
   "nbconvert_exporter": "python",
   "pygments_lexer": "ipython3",
   "version": "3.12.4"
  }
 },
 "nbformat": 4,
 "nbformat_minor": 5
}
