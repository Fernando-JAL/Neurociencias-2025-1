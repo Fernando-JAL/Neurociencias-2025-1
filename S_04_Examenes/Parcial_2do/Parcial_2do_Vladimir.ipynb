{
 "cells": [
  {
   "cell_type": "code",
   "execution_count": 101,
   "id": "12e5522d-33d9-4ba2-bf5a-9c3e87a3ba90",
   "metadata": {
    "scrolled": true
   },
   "outputs": [
    {
     "name": "stdin",
     "output_type": "stream",
     "text": [
      "Escriba el numero del DataFrame con el que desea trabajar: 1\n",
      "ESCRIBA EL NOMBRE DE LA COLUMNA EN BASE A LA CUAL DESEA ORDENAR: Schizophrenia disorders (share of population) - Sex: Both - Age: Age-standardized\n"
     ]
    },
    {
     "name": "stdout",
     "output_type": "stream",
     "text": [
      "             Entity Code  Year  \\\n",
      "6077  United States  USA  2007   \n",
      "6076  United States  USA  2006   \n",
      "6078  United States  USA  2008   \n",
      "6075  United States  USA  2005   \n",
      "6079  United States  USA  2009   \n",
      "...             ...  ...   ...   \n",
      "5277        Somalia  SOM  2017   \n",
      "5276        Somalia  SOM  2016   \n",
      "5275        Somalia  SOM  2015   \n",
      "5278        Somalia  SOM  2018   \n",
      "5279        Somalia  SOM  2019   \n",
      "\n",
      "      Schizophrenia disorders (share of population) - Sex: Both - Age: Age-standardized  \\\n",
      "6077                                           0.462045                                   \n",
      "6076                                           0.462012                                   \n",
      "6078                                           0.461791                                   \n",
      "6075                                           0.461672                                   \n",
      "6079                                           0.461269                                   \n",
      "...                                                 ...                                   \n",
      "5277                                           0.188458                                   \n",
      "5276                                           0.188450                                   \n",
      "5275                                           0.188446                                   \n",
      "5278                                           0.188445                                   \n",
      "5279                                           0.188416                                   \n",
      "\n",
      "      Depressive disorders (share of population) - Sex: Both - Age: Age-standardized  \\\n",
      "6077                                           4.498417                                \n",
      "6076                                           4.491761                                \n",
      "6078                                           4.503609                                \n",
      "6075                                           4.484824                                \n",
      "6079                                           4.506408                                \n",
      "...                                                 ...                                \n",
      "5277                                           4.848084                                \n",
      "5276                                           4.846382                                \n",
      "5275                                           4.843278                                \n",
      "5278                                           4.846586                                \n",
      "5279                                           4.846650                                \n",
      "\n",
      "      Anxiety disorders (share of population) - Sex: Both - Age: Age-standardized  \\\n",
      "6077                                           5.950346                             \n",
      "6076                                           6.000551                             \n",
      "6078                                           5.908171                             \n",
      "6075                                           6.070686                             \n",
      "6079                                           5.862272                             \n",
      "...                                                 ...                             \n",
      "5277                                           3.281442                             \n",
      "5276                                           3.281896                             \n",
      "5275                                           3.282897                             \n",
      "5278                                           3.278473                             \n",
      "5279                                           3.272863                             \n",
      "\n",
      "      Bipolar disorders (share of population) - Sex: Both - Age: Age-standardized  \\\n",
      "6077                                           0.602818                             \n",
      "6076                                           0.603106                             \n",
      "6078                                           0.602520                             \n",
      "6075                                           0.603320                             \n",
      "6079                                           0.602267                             \n",
      "...                                                 ...                             \n",
      "5277                                           0.581205                             \n",
      "5276                                           0.581205                             \n",
      "5275                                           0.581205                             \n",
      "5278                                           0.581207                             \n",
      "5279                                           0.581208                             \n",
      "\n",
      "      Eating disorders (share of population) - Sex: Both - Age: Age-standardized  \n",
      "6077                                           0.458217                           \n",
      "6076                                           0.457149                           \n",
      "6078                                           0.459226                           \n",
      "6075                                           0.456196                           \n",
      "6079                                           0.459859                           \n",
      "...                                                 ...                           \n",
      "5277                                           0.045691                           \n",
      "5276                                           0.045525                           \n",
      "5275                                           0.045267                           \n",
      "5278                                           0.045660                           \n",
      "5279                                           0.045336                           \n",
      "\n",
      "[6420 rows x 8 columns]\n"
     ]
    }
   ],
   "source": [
    "###PRIMER EJERCICIO\n",
    "##Crear una función llamada \"df_ordered\" que reciba un dataframe y un str y retorne un dataframe ordenado de mayor a menor considerando la característica str\n",
    "\n",
    "import pandas as pd\n",
    "#DEFINIR LOS DATAFRAMES\n",
    "df1 = r\"C:\\Users\\vladi\\OneDrive\\Documentos\\Df parcial\\1- mental-illnesses-prevalence.csv\"\n",
    "df2 = r\"C:\\Users\\vladi\\OneDrive\\Documentos\\Df parcial\\2- burden-disease-from-each-mental-illness(1).csv\"\n",
    "df3 = r\"C:\\Users\\vladi\\OneDrive\\Documentos\\Df parcial\\3- adult-population-covered-in-primary-data-on-the-prevalence-of-major-depression.csv\"\n",
    "df4 = r\"C:\\Users\\vladi\\OneDrive\\Documentos\\Df parcial\\4- adult-population-covered-in-primary-data-on-the-prevalence-of-mental-illnesses.csv\"\n",
    "df5 = r\"C:\\Users\\vladi\\OneDrive\\Documentos\\Df parcial\\5- anxiety-disorders-treatment-gap.csv\"\n",
    "df6 = r\"C:\\Users\\vladi\\OneDrive\\Documentos\\Df parcial\\6- depressive-symptoms-across-us-population.csv\"\n",
    "df7 = r\"C:\\Users\\vladi\\OneDrive\\Documentos\\Df parcial\\7- number-of-countries-with-primary-data-on-prevalence-of-mental-illnesses-in-the-global-burden-of-disease-study.csv\"\n",
    "\n",
    "dx = {'1':df1, '2':df2, '3':df3, '4':df4, '5':df5, '6':df6, '7':df7}\n",
    "#ENTRADA DE INFORMACION\n",
    "Df = input('Escriba el numero del DataFrame con el que desea trabajar:' )\n",
    "int = input('ESCRIBA EL NOMBRE DE LA COLUMNA EN BASE A LA CUAL DESEA ORDENAR:')\n",
    "\n",
    "#ELECCION DEL DATAFRAME\n",
    "df_ini = pd.read_csv(dx.get(Df), sep= ',')\n",
    "\n",
    "#FUNCION\n",
    "def df_ordered(int):\n",
    "    df_ord = df_ini.sort_values(int, ascending=False)\n",
    "    print(df_ord)\n",
    "\n",
    "df_ordered(int)"
   ]
  },
  {
   "cell_type": "code",
   "execution_count": 180,
   "id": "b9d496b5-321c-4aeb-a18c-472c6699cbe5",
   "metadata": {},
   "outputs": [
    {
     "name": "stdin",
     "output_type": "stream",
     "text": [
      "Escriba el numero del DataFrame con el que desea trabajar: 1\n",
      "ESCRIBA EL NOMBRE DE LA COLUMNA EN BASE A LA CUAL DESEA CREAR EL PLOT: Depressive disorders (share of population) - Sex: Both - Age: Age-standardized\n"
     ]
    },
    {
     "data": {
      "image/png": "[encoded data removed]",
      "text/plain": [
       "<Figure size 640x480 with 1 Axes>"
      ]
     },
     "metadata": {},
     "output_type": "display_data"
    }
   ],
   "source": [
    "###SEGUNDO EJERCICIO\n",
    "## Crear una función llamada \"plot_bar\" que reciba un dataframe y un str y haga el plot de barras de ese dataframe considerando esa caracterísitca descrita por el string\n",
    "\n",
    "import pandas as pd\n",
    "import matplotlib.pyplot as plt\n",
    "#DEFINIR LOS DATAFRAMES\n",
    "df1 = r\"C:\\Users\\vladi\\OneDrive\\Documentos\\Df parcial\\1- mental-illnesses-prevalence.csv\"\n",
    "df2 = r\"C:\\Users\\vladi\\OneDrive\\Documentos\\Df parcial\\2- burden-disease-from-each-mental-illness(1).csv\"\n",
    "df3 = r\"C:\\Users\\vladi\\OneDrive\\Documentos\\Df parcial\\3- adult-population-covered-in-primary-data-on-the-prevalence-of-major-depression.csv\"\n",
    "df4 = r\"C:\\Users\\vladi\\OneDrive\\Documentos\\Df parcial\\4- adult-population-covered-in-primary-data-on-the-prevalence-of-mental-illnesses.csv\"\n",
    "df5 = r\"C:\\Users\\vladi\\OneDrive\\Documentos\\Df parcial\\5- anxiety-disorders-treatment-gap.csv\"\n",
    "df6 = r\"C:\\Users\\vladi\\OneDrive\\Documentos\\Df parcial\\6- depressive-symptoms-across-us-population.csv\"\n",
    "df7 = r\"C:\\Users\\vladi\\OneDrive\\Documentos\\Df parcial\\7- number-of-countries-with-primary-data-on-prevalence-of-mental-illnesses-in-the-global-burden-of-disease-study.csv\"\n",
    "\n",
    "dx = {'1':df1, '2':df2, '3':df3, '4':df4, '5':df5, '6':df6, '7':df7}\n",
    "#ENTRADA DE INFORMACION\n",
    "Df = input('Escriba el numero del DataFrame con el que desea trabajar:' )\n",
    "int = input('ESCRIBA EL NOMBRE DE LA COLUMNA EN BASE A LA CUAL DESEA CREAR EL PLOT:')\n",
    "\n",
    "#ELECCION DEL DATAFRAME Y DE LA COLUMNA ESPECIFICA\n",
    "df_ini = pd.read_csv(dx.get(Df), sep= ',')\n",
    "df_cl = df_ini[int]\n",
    "\n",
    "#FUNCION: CREACION DEL PLOT\n",
    "def plot_bar(int):\n",
    "    plt.title(int)\n",
    "    Plot = plt.show(plt.hist(df_cl, bins = 100))\n",
    "plot_bar(int)"
   ]
  },
  {
   "cell_type": "code",
   "execution_count": 99,
   "id": "be25bec6-7721-4982-800f-5d8627b5ebe4",
   "metadata": {},
   "outputs": [
    {
     "name": "stdout",
     "output_type": "stream",
     "text": [
      "LOS CINCO PAISES CON MAYOR INDICE DE DEPRESION SON:  ['Uganda', 'Palestine', 'Greenland', 'Equatorial Guinea', 'Central African Republic', 'Congo']\n"
     ]
    }
   ],
   "source": [
    "###TERCER EJERCICIO\n",
    "## Países con mayor depresión\n",
    "# IMPORTAMOS LAS LIBRERIAS NECESARIAS\n",
    "import pandas as pd\n",
    "\n",
    "# DEFINO EL DATAFRAME\n",
    "df = r\"C:\\Users\\vladi\\OneDrive\\Documentos\\Df parcial\\1- mental-illnesses-prevalence.csv\"\n",
    "\n",
    "# LO LEEMOS CON LA FUNCION read_csv\n",
    "DF = pd.read_csv(df, sep = ',')\n",
    "\n",
    "# LO ORDEMANOS DE MAYOR A MENOR EN BASE A LA COLUMNA DE 'DEPRESION'\n",
    "DF_ord = DF.sort_values('Depressive disorders (share of population) - Sex: Both - Age: Age-standardized', ascending = False)\n",
    "\n",
    "# CREAMOS UNA LISTA QUE CONTENGA LOS NOMBRES DE LOS CINCO PAISES CON MAYOR DEPRESION\n",
    "dep = list(DF_ord['Entity'])\n",
    "lista_paises = []\n",
    "\n",
    "\n",
    "for x in dep:\n",
    "    if x not in lista_paises:\n",
    "        lista_paises.append(x)\n",
    "    else:\n",
    "        continue\n",
    "print('LOS CINCO PAISES CON MAYOR INDICE DE DEPRESION SON: ', lista_paises[:5])"
   ]
  },
  {
   "cell_type": "code",
   "execution_count": 182,
   "id": "11183caf-eb7d-417a-9a46-9ca234c1a43a",
   "metadata": {},
   "outputs": [
    {
     "data": {
      "image/png": "[encoded data removed]",
      "text/plain": [
       "<Figure size 640x480 with 1 Axes>"
      ]
     },
     "metadata": {},
     "output_type": "display_data"
    }
   ],
   "source": [
    "### CUARTO EJERCICIO\n",
    "## gráfica de barras mostrando el valor de depresión y la entidad (país)\n",
    "# IMPORTAMOS LAS LIBRERIAS NECESARIAS\n",
    "import pandas as pd\n",
    "import matplotlib.pyplot as plt\n",
    "\n",
    "# DEFINIMOS EL DATAFRAME CON EL QUE VAMOS A TRABAJAR\n",
    "df = r\"C:\\Users\\vladi\\OneDrive\\Documentos\\Df parcial\\1- mental-illnesses-prevalence.csv\"\n",
    "\n",
    "# LO LEEMOS CON LA FUNCION read_csv\n",
    "DF = pd.read_csv(df, sep = ',')\n",
    "\n",
    "# CREAMOS EL HISTOGRAMA\n",
    "dataframe = DF.drop(columns = ['Code', 'Year','Schizophrenia disorders (share of population) - Sex: Both - Age: Age-standardized','Anxiety disorders (share of population) - Sex: Both - Age: Age-standardized','Bipolar disorders (share of population) - Sex: Both - Age: Age-standardized','Eating disorders (share of population) - Sex: Both - Age: Age-standardized'])\n",
    "x = dataframe['Depressive disorders (share of population) - Sex: Both - Age: Age-standardized']\n",
    "y = dataframe['Entity']\n",
    "P = plt.bar(y, x)\n",
    "plt.show()\n"
   ]
  },
  {
   "cell_type": "code",
   "execution_count": 217,
   "id": "0de7cb9e-5d00-4131-9c11-cc494ba23efd",
   "metadata": {},
   "outputs": [
    {
     "name": "stdout",
     "output_type": "stream",
     "text": [
      "LOS CINCO PAISES CON MAYOR INDICE DE DESORDENES ALIMENTICIOS SON:  ['Australia', 'Monaco', 'New Zealand', 'Spain', 'Luxembourg']\n"
     ]
    }
   ],
   "source": [
    "### QUINTO EJERCICIO\n",
    "## Países con mayor desorden alimenticio\n",
    "# IMPORTAMOS LAS LIBRERIAS QUE VAMOS A REQUERIR\n",
    "import pandas as pd\n",
    "\n",
    "# DEFINIMOS NUESTRO DATAFRAME\n",
    "df = r\"C:\\Users\\vladi\\OneDrive\\Documentos\\Df parcial\\1- mental-illnesses-prevalence.csv\"\n",
    "\n",
    "DF = pd.read_csv(df, sep = ',')\n",
    "\n",
    "# LO ORDEMANOS DE MAYOR A MENOR EN BASE A LA COLUMNA DE 'DESORDENES ALIMENTICIOS'\n",
    "DF_ord = DF.sort_values('Eating disorders (share of population) - Sex: Both - Age: Age-standardized', ascending = False)\n",
    "\n",
    "# CREAMOS UNA LISTA QUE CONTENGA LOS NOMBRES DE LOS CINCO PAISES CON MAYOR INCIDENCIA DE DESORDENES ALIMENTICIOS\n",
    "Dep = list(DF_ord['Entity'])\n",
    "lista_paises_alimentos = []\n",
    "\n",
    "\n",
    "for x in Dep:\n",
    "    if x not in lista_paises_alimentos:\n",
    "        lista_paises_alimentos.append(x)\n",
    "    else:\n",
    "        continue\n",
    "print('LOS CINCO PAISES CON MAYOR INDICE DE DESORDENES ALIMENTICIOS SON: ', lista_paises_alimentos[:5])"
   ]
  },
  {
   "cell_type": "code",
   "execution_count": 191,
   "id": "d5e1ff2f-d7ea-4a99-be72-439b55f89c79",
   "metadata": {},
   "outputs": [
    {
     "data": {
      "image/png": "[encoded data removed]",
      "text/plain": [
       "<Figure size 640x480 with 1 Axes>"
      ]
     },
     "metadata": {},
     "output_type": "display_data"
    }
   ],
   "source": [
    "### SEXTO EJERCICIO\n",
    "## gráfica de barras mostrando el valor de desorden alimenticio y la entidad (país)\n",
    "# IMPORTAMOS LAS LIBRERIAS NECESARIAS\n",
    "import pandas as pd\n",
    "import matplotlib.pyplot as plt\n",
    "\n",
    "# DEFINIMOS EL DATAFRAME CON EL QUE VAMOS A TRABAJAR\n",
    "df = r\"C:\\Users\\vladi\\OneDrive\\Documentos\\Df parcial\\1- mental-illnesses-prevalence.csv\"\n",
    "\n",
    "# LO LEEMOS CON LA FUNCION read_csv\n",
    "DF = pd.read_csv(df, sep = ',')\n",
    "\n",
    "# CREAMOS EL HISTOGRAMA\n",
    "dataframe = DF.drop(columns = ['Code', 'Year','Schizophrenia disorders (share of population) - Sex: Both - Age: Age-standardized','Anxiety disorders (share of population) - Sex: Both - Age: Age-standardized','Bipolar disorders (share of population) - Sex: Both - Age: Age-standardized', 'Depressive disorders (share of population) - Sex: Both - Age: Age-standardized'])\n",
    "x = dataframe['Eating disorders (share of population) - Sex: Both - Age: Age-standardized']\n",
    "y = dataframe['Entity']\n",
    "P = plt.bar(y, x)\n",
    "plt.show()\n",
    "\n"
   ]
  },
  {
   "cell_type": "code",
   "execution_count": 215,
   "id": "fdef504b-700c-4670-b36a-e7ba6fc5c1f8",
   "metadata": {},
   "outputs": [
    {
     "name": "stdout",
     "output_type": "stream",
     "text": [
      "LOS CINCO PAISES CON MAYOR INDICE DE ESQUIZOFRENIA SON:  ['United States', 'New Zealand', 'Australia', 'Netherlands', 'Greenland']\n"
     ]
    }
   ],
   "source": [
    "### SEPTIMO EJERCICIO\n",
    "## Países con mayor esquizofrenia\n",
    "# IMPORTAMOS LAS LIBRERIAS QUE VAMOS A REQUERIR\n",
    "import pandas as pd\n",
    "\n",
    "# DEFINIMOS NUESTRO DATAFRAME\n",
    "df = r\"C:\\Users\\vladi\\OneDrive\\Documentos\\Df parcial\\1- mental-illnesses-prevalence.csv\"\n",
    "\n",
    "DF = pd.read_csv(df, sep = ',')\n",
    "\n",
    "# LO ORDEMANOS DE MAYOR A MENOR EN BASE A LA COLUMNA DE 'DESORDENES ALIMENTICIOS'\n",
    "DF_ord = DF.sort_values('Schizophrenia disorders (share of population) - Sex: Both - Age: Age-standardized', ascending = False)\n",
    "\n",
    "# CREAMOS UNA LISTA QUE CONTENGA LOS NOMBRES DE LOS CINCO PAISES CON MAYOR INCIDENCIA DE DESORDENES ALIMENTICIOS\n",
    "Dep = list(DF_ord['Entity'])\n",
    "lista_paises_alimentos = []\n",
    "\n",
    "\n",
    "for x in Dep:\n",
    "    if x not in lista_paises:\n",
    "        lista_paises.append(x)\n",
    "    else:\n",
    "        continue\n",
    "print('LOS CINCO PAISES CON MAYOR INDICE DE ESQUIZOFRENIA SON: ', lista_paises[:5])\n"
   ]
  },
  {
   "cell_type": "code",
   "execution_count": 219,
   "id": "da9193d9-aae0-4be7-bf30-ec78cb840436",
   "metadata": {},
   "outputs": [
    {
     "data": {
      "image/png": "[encoded data removed]",
      "text/plain": [
       "<Figure size 640x480 with 1 Axes>"
      ]
     },
     "metadata": {},
     "output_type": "display_data"
    }
   ],
   "source": [
    "### OCTAVO EJERCICIO\n",
    "## Gráfica de barras mostrando el valor de esquizofrenia y la entidad (país)\n",
    "# IMPORTAMOS LAS LIBRERIAS NECESARIAS\n",
    "import pandas as pd\n",
    "import matplotlib.pyplot as plt\n",
    "\n",
    "# DEFINIMOS EL DATAFRAME CON EL QUE VAMOS A TRABAJAR\n",
    "df = r\"C:\\Users\\vladi\\OneDrive\\Documentos\\Df parcial\\1- mental-illnesses-prevalence.csv\"\n",
    "\n",
    "DF = pd.read_csv(df, sep = ',')\n",
    "\n",
    "# CREAMOS EL HISTOGRAMA\n",
    "dataframe = DF.drop(columns = ['Code', 'Year','Eating disorders (share of population) - Sex: Both - Age: Age-standardized','Anxiety disorders (share of population) - Sex: Both - Age: Age-standardized','Bipolar disorders (share of population) - Sex: Both - Age: Age-standardized', 'Depressive disorders (share of population) - Sex: Both - Age: Age-standardized'])\n",
    "x = dataframe['Schizophrenia disorders (share of population) - Sex: Both - Age: Age-standardized']\n",
    "y = dataframe['Entity']\n",
    "P = plt.bar(y, x)\n",
    "plt.show()\n"
   ]
  },
  {
   "cell_type": "code",
   "execution_count": 233,
   "id": "0463ed40-a0da-47c3-8c7b-a22dd2b55ff5",
   "metadata": {},
   "outputs": [
    {
     "name": "stdout",
     "output_type": "stream",
     "text": [
      "LAS CARACTERISTICAS PARA \"Schizophrenia disorders\" son:\n",
      "count    6420.000000\n",
      "mean        0.266604\n",
      "std         0.039383\n",
      "min         0.188416\n",
      "25%         0.242267\n",
      "50%         0.273477\n",
      "75%         0.286575\n",
      "max         0.462045\n",
      "Name: Schizophrenia disorders (share of population) - Sex: Both - Age: Age-standardized, dtype: float64\n",
      "\n",
      "LAS CARACTERISTICAS PARA \"Depressive disorders\" son:\n",
      "count    6420.000000\n",
      "mean        3.767036\n",
      "std         0.925286\n",
      "min         1.522333\n",
      "25%         3.080036\n",
      "50%         3.636772\n",
      "75%         4.366252\n",
      "max         7.645899\n",
      "Name: Depressive disorders (share of population) - Sex: Both - Age: Age-standardized, dtype: float64\n",
      "\n",
      "LAS CARACTERISTICAS PARA \"Anxiety disorders\" son:\n",
      "count    6420.000000\n",
      "mean        4.101840\n",
      "std         1.050543\n",
      "min         1.879996\n",
      "25%         3.425846\n",
      "50%         3.939547\n",
      "75%         4.564164\n",
      "max         8.624634\n",
      "Name: Anxiety disorders (share of population) - Sex: Both - Age: Age-standardized, dtype: float64\n",
      "\n",
      "LAS CARACTERISTICAS PARA \"Bipolar disorders\" son:\n",
      "count    6420.000000\n",
      "mean        0.636968\n",
      "std         0.233391\n",
      "min         0.181667\n",
      "25%         0.520872\n",
      "50%         0.579331\n",
      "75%         0.844406\n",
      "max         1.506730\n",
      "Name: Bipolar disorders (share of population) - Sex: Both - Age: Age-standardized, dtype: float64\n",
      "\n",
      "LAS CARACTERISTICAS PARA \"Eating disorders\" son:\n",
      "count    6420.000000\n",
      "mean        0.195664\n",
      "std         0.138380\n",
      "min         0.044780\n",
      "25%         0.096416\n",
      "50%         0.144150\n",
      "75%         0.251167\n",
      "max         1.031688\n",
      "Name: Eating disorders (share of population) - Sex: Both - Age: Age-standardized, dtype: float64\n"
     ]
    }
   ],
   "source": [
    "### NOVENO Y DECIMO EJERCICIOS\n",
    "## crear un data frame con los valores por país de [\"Entity Code\", \"Year\", \"Schizophrenia disorders\", \"Depressive disorders\", \"Anxiety disorders\", \"Bipolar disorders\", \"Eating disorders\" mostrar los estadísticos del dataframe anterior]\n",
    "# LA VERDAD ESTOY ALGO CONFUNDIDO CON RESPECTO A ESTO DADO QUE EL DATAFRAME ORIGINAL YA INCLUYE TODOS ESTOS DATOS, TAL VEZ USTED SE REFIERE A ALGO DISTINTO A LO QUE YO ENTIENDO PERO YA VOY TARDE CON LA ENTREGA :(\n",
    "\n",
    "## mostrar los estadísticos del dataframe anterior\n",
    "\n",
    "# IMPORTAMOS TODAS LAS LIBRERIAS QUE VAMOS A UTILIZAR \n",
    "import numpy as np\n",
    "\n",
    "# DEFINIMOS EL DATAFRAME\n",
    "df = r\"C:\\Users\\vladi\\OneDrive\\Documentos\\Df parcial\\1- mental-illnesses-prevalence.csv\"\n",
    "DF = pd.read_csv(df, sep = ',')\n",
    "\n",
    "# UTILIZAMOS LA FUNCION .describe PARA CADA FEATURE SOLICITADA\n",
    "x = DF['Schizophrenia disorders (share of population) - Sex: Both - Age: Age-standardized'].describe()\n",
    "print(f'LAS CARACTERISTICAS PARA \"Schizophrenia disorders\" son:\\n{x}')\n",
    "\n",
    "y = DF['Depressive disorders (share of population) - Sex: Both - Age: Age-standardized'].describe()\n",
    "print(f'\\nLAS CARACTERISTICAS PARA \"Depressive disorders\" son:\\n{y}')\n",
    "\n",
    "z = DF['Anxiety disorders (share of population) - Sex: Both - Age: Age-standardized'].describe()\n",
    "print(f'\\nLAS CARACTERISTICAS PARA \"Anxiety disorders\" son:\\n{z}')\n",
    "\n",
    "a = DF['Bipolar disorders (share of population) - Sex: Both - Age: Age-standardized'].describe()\n",
    "print(f'\\nLAS CARACTERISTICAS PARA \"Bipolar disorders\" son:\\n{a}')\n",
    "\n",
    "b = DF['Eating disorders (share of population) - Sex: Both - Age: Age-standardized'].describe()\n",
    "print(f'\\nLAS CARACTERISTICAS PARA \"Eating disorders\" son:\\n{b}')\n"
   ]
  },
  {
   "cell_type": "code",
   "execution_count": 267,
   "id": "3834fe42-ad08-479c-bb69-a26e5eb78987",
   "metadata": {},
   "outputs": [
    {
     "data": {
      "text/plain": [
       "(array([ 30.,  83., 288., 465., 613., 516., 331., 314., 295., 251., 268.,\n",
       "        208., 198., 191., 184., 142., 131.,  89.,  76.,  86.,  63.,  51.,\n",
       "         77.,  69.,  72.,  88.,  69.,  52.,  47.,  38.,  56.,  49.,  43.,\n",
       "         48.,  63.,  44.,  70.,  73.,  81.,  73.,  37.,  45.,  40.,  38.,\n",
       "         28.,  24.,  13.,  24.,  19.,  21.,  29.,  14.,  16.,   9.,  13.,\n",
       "          2.,   3.,   0.,   0.,   0.,   0.,   0.,   0.,   0.,   0.,   0.,\n",
       "          0.,   2.,   8.,   5.,   4.,   1.,   3.,   3.,   1.,   3.,   3.,\n",
       "          1.,   3.,   1.,   1.,   2.,   1.,   1.,   0.,   1.,   0.,   0.,\n",
       "          0.,   1.,   0.,   1.,   1.,   1.,   1.,   1.,   2.,   2.,   3.,\n",
       "          3.]),\n",
       " array([0.0447803 , 0.05464938, 0.06451846, 0.07438754, 0.08425662,\n",
       "        0.0941257 , 0.10399478, 0.11386386, 0.12373293, 0.13360201,\n",
       "        0.14347109, 0.15334017, 0.16320925, 0.17307833, 0.18294741,\n",
       "        0.19281649, 0.20268557, 0.21255465, 0.22242372, 0.2322928 ,\n",
       "        0.24216188, 0.25203096, 0.26190004, 0.27176912, 0.2816382 ,\n",
       "        0.29150728, 0.30137636, 0.31124544, 0.32111451, 0.33098359,\n",
       "        0.34085267, 0.35072175, 0.36059083, 0.37045991, 0.38032899,\n",
       "        0.39019807, 0.40006715, 0.40993622, 0.4198053 , 0.42967438,\n",
       "        0.43954346, 0.44941254, 0.45928162, 0.4691507 , 0.47901978,\n",
       "        0.48888886, 0.49875794, 0.50862701, 0.51849609, 0.52836517,\n",
       "        0.53823425, 0.54810333, 0.55797241, 0.56784149, 0.57771057,\n",
       "        0.58757965, 0.59744873, 0.6073178 , 0.61718688, 0.62705596,\n",
       "        0.63692504, 0.64679412, 0.6566632 , 0.66653228, 0.67640136,\n",
       "        0.68627044, 0.69613952, 0.70600859, 0.71587767, 0.72574675,\n",
       "        0.73561583, 0.74548491, 0.75535399, 0.76522307, 0.77509215,\n",
       "        0.78496123, 0.7948303 , 0.80469938, 0.81456846, 0.82443754,\n",
       "        0.83430662, 0.8441757 , 0.85404478, 0.86391386, 0.87378294,\n",
       "        0.88365202, 0.89352109, 0.90339017, 0.91325925, 0.92312833,\n",
       "        0.93299741, 0.94286649, 0.95273557, 0.96260465, 0.97247373,\n",
       "        0.98234281, 0.99221188, 1.00208096, 1.01195004, 1.02181912,\n",
       "        1.0316882 ]),\n",
       " <BarContainer object of 100 artists>)"
      ]
     },
     "execution_count": 267,
     "metadata": {},
     "output_type": "execute_result"
    },
    {
     "data": {
      "image/png": "[encoded data removed]",
      "text/plain": [
       "<Figure size 640x480 with 5 Axes>"
      ]
     },
     "metadata": {},
     "output_type": "display_data"
    }
   ],
   "source": [
    "### ONCEAVO EJERCICIO\n",
    "## Mostrar la distribución de cada feature del dataframe anterior\n",
    "# IMPORTAMOS LAS LIBRERIAS NECESARIAS\n",
    "import pandas as pd\n",
    "import matplotlib.pyplot as plt\n",
    "\n",
    "# DEFINIMOS EL DATAFRAME CON EL QUE VAMOS A TRABAJAR\n",
    "df = r\"C:\\Users\\vladi\\OneDrive\\Documentos\\Df parcial\\1- mental-illnesses-prevalence.csv\"\n",
    "DF = pd.read_csv(df, sep = ',')\n",
    "\n",
    "# REALIZAMOS HISTIGRAMAS PARA VER SU DISTRIBUCION\n",
    "x1 = DF['Schizophrenia disorders (share of population) - Sex: Both - Age: Age-standardized']\n",
    "x2 = DF['Depressive disorders (share of population) - Sex: Both - Age: Age-standardized']\n",
    "x3 = DF['Anxiety disorders (share of population) - Sex: Both - Age: Age-standardized']\n",
    "x4 = DF['Bipolar disorders (share of population) - Sex: Both - Age: Age-standardized']\n",
    "x5 = DF['Eating disorders (share of population) - Sex: Both - Age: Age-standardized']\n",
    "\n",
    "plt.subplot(2,3,1)\n",
    "plt.hist(x1, bins = 100)\n",
    "\n",
    "plt.subplot(2,3,2)\n",
    "plt.hist(x2, bins = 100)\n",
    "\n",
    "plt.subplot(2,3,3)\n",
    "plt.hist(x3, bins = 100)\n",
    "\n",
    "plt.subplot(2,3,4)\n",
    "plt.hist(x4, bins = 100)\n",
    "\n",
    "plt.subplot(2,3,5)\n",
    "plt.hist(x5, bins = 100)"
   ]
  },
  {
   "cell_type": "markdown",
   "id": "76dabd81-1921-424c-952b-72a4cdc965b7",
   "metadata": {},
   "source": [
    "NOTA FINAL: YA NO HICE LOS DEMAS EJERCICIOS POR FALTA DE TIEMPO DADO MI RETARDO EN LA ENTREGA DEL EXAMEN PARA EVITAR QUE SE SIGA PROLONGANDO MAS LA ENTREGA PORQUE CON ESOS TUVE ALGUNAS DUDAS. MUCHAS GRACIAS"
   ]
  }
 ],
 "metadata": {
  "kernelspec": {
   "display_name": "Python 3 (ipykernel)",
   "language": "python",
   "name": "python3"
  },
  "language_info": {
   "codemirror_mode": {
    "name": "ipython",
    "version": 3
   },
   "file_extension": ".py",
   "mimetype": "text/x-python",
   "name": "python",
   "nbconvert_exporter": "python",
   "pygments_lexer": "ipython3",
   "version": "3.9.7"
  }
 },
 "nbformat": 4,
 "nbformat_minor": 5
}
