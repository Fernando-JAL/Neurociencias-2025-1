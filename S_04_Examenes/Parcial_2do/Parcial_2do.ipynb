{
 "cells": [
  {
   "cell_type": "code",
   "execution_count": 1,
   "id": "421e4343",
   "metadata": {},
   "outputs": [],
   "source": [
    "import bct"
   ]
  },
  {
   "cell_type": "markdown",
   "id": "ab86a745",
   "metadata": {},
   "source": [
    "# Mental health\n",
    "\n",
    "[dataset](https://www.kaggle.com/datasets/imtkaggleteam/mental-health)"
   ]
  },
  {
   "cell_type": "markdown",
   "id": "b30befb5",
   "metadata": {},
   "source": [
    "- Crear una función llamada \"df_ordered\" que reciba un dataframe y un str y retorne un dataframe ordenado de mayor a menor considerando la característica str\n",
    "- Crear una función llamada \"plot_bar\" que reciba un dataframe y un str y haga el plot de barras de ese dataframe considerando esa caracterísitca descrita por el string\n",
    "- países con mayor depresión\n",
    "- gráfica de barras mostrando el valor de depresión y la entidad (país)\n",
    "- países con mayor desorden alimenticio\n",
    "- gráfica de barras mostrando el valor de desorden alimenticio y la entidad (país)\n",
    "- países con mayor esquizofrenia\n",
    "- gráfica de barras mostrando el valor de esquizofrenia y la entidad (país)\n",
    "- crear un data frame con los valores por país de [\"Entity\tCode\", \"Year\", \"Schizophrenia disorders\", \"Depressive disorders\", \"Anxiety disorders\", \"Bipolar disorders\", \"Eating disorders\"]\n",
    "- mostrar los estadísticos del dataframe anterior\n",
    "- mostrar la distribución de cada feature del dataframe anterior\n",
    "- mostrar en un mapa de color la correlación entre las features [\"Schizophrenia disorders\", \"Depressive disorders\", \"Anxiety disorders\", \"Bipolar disorders\", \"Eating disorders\"]"
   ]
  },
  {
   "cell_type": "markdown",
   "id": "45e2e676",
   "metadata": {},
   "source": [
    "Del dataset cancer_reg visto en clase, determinar:\n",
    "- la correlación entre las features [\n",
    "    'target_deathrate', 'avganncount', 'avgdeathsperyear',\n",
    "    'incidencerate', 'medincome', 'povertypercent', \n",
    "    'pctprivatecoverage', 'pctpubliccoverage'\n",
    "]\n",
    "- mostrar la distribución de cada feature del dataframe anterior\n",
    "- aquellos que dependencia lineal encontrar los valores de la recta.\n",
    "hint: scipy"
   ]
  },
  {
   "cell_type": "code",
   "execution_count": null,
   "id": "1481d3b9",
   "metadata": {},
   "outputs": [],
   "source": []
  }
 ],
 "metadata": {
  "kernelspec": {
   "display_name": "Python 3 (ipykernel)",
   "language": "python",
   "name": "python3"
  },
  "language_info": {
   "codemirror_mode": {
    "name": "ipython",
    "version": 3
   },
   "file_extension": ".py",
   "mimetype": "text/x-python",
   "name": "python",
   "nbconvert_exporter": "python",
   "pygments_lexer": "ipython3",
   "version": "3.9.7"
  }
 },
 "nbformat": 4,
 "nbformat_minor": 5
}
