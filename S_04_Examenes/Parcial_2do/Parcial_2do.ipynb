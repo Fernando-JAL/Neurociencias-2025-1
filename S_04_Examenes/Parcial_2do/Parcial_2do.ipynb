{
 "cells": [
  {
   "cell_type": "code",
   "id": "59e9b52d",
   "metadata": {
    "jupyter": {
     "is_executing": true
    }
   },
   "source": [
    "import pandas as pd\n",
    "import numpy as np\n",
    "import matplotlib.pyplot as plt\n",
    "\n",
    "import seaborn as sns"
   ],
   "outputs": [],
   "execution_count": null
  },
  {
   "cell_type": "code",
   "execution_count": null,
   "id": "693dbc6c",
   "metadata": {},
   "outputs": [],
   "source": [
    "csv_path = r\"C:\\Users\\OMEN CI7\\Documents\\repository\\Neurociencias-2025-1\\datasets\\cancer_regression\\cancer_reg.csv\"\n",
    "\n",
    "df_cancer = pd.read_csv(csv_path, sep=\",\")"
   ]
  },
  {
   "cell_type": "code",
   "execution_count": null,
   "id": "10ae5822",
   "metadata": {},
   "outputs": [],
   "source": [
    "key_columns = [\n",
    "    'target_deathrate', 'avganncount', 'avgdeathsperyear',\n",
    "    'incidencerate', 'medincome', 'povertypercent', \n",
    "    'pctprivatecoverage', 'pctpubliccoverage'\n",
    "]"
   ]
  },
  {
   "cell_type": "code",
   "execution_count": null,
   "id": "367d5197",
   "metadata": {},
   "outputs": [],
   "source": [
    "df_filter = df_cancer[key_columns]"
   ]
  },
  {
   "cell_type": "code",
   "execution_count": null,
   "id": "6d6751ae",
   "metadata": {
    "scrolled": false
   },
   "outputs": [],
   "source": [
    "sns.pairplot(df_filter, markers='o')"
   ]
  },
  {
   "cell_type": "code",
   "execution_count": null,
   "id": "de1be256",
   "metadata": {},
   "outputs": [],
   "source": [
    "sns.lmplot(data=df_cancer, x=\"medincome\", y=\"povertypercent\", order=2)"
   ]
  },
  {
   "cell_type": "code",
   "execution_count": null,
   "id": "42685e8a",
   "metadata": {},
   "outputs": [],
   "source": [
    "sns.lmplot(data=df_cancer, x=\"avgdeathsperyear\", y=\"avganncount\", order=1)"
   ]
  },
  {
   "cell_type": "code",
   "execution_count": null,
   "id": "7cecebd3",
   "metadata": {},
   "outputs": [],
   "source": [
    "from scipy import stats\n",
    "slope, intercept, r_value, p_value, std_err = stats.linregress(df_cancer.avgdeathsperyear, df_cancer.avganncount)"
   ]
  },
  {
   "cell_type": "code",
   "execution_count": null,
   "id": "7b2be6f8",
   "metadata": {},
   "outputs": [],
   "source": [
    "slope, intercept, r_value, p_value, std_err"
   ]
  },
  {
   "cell_type": "markdown",
   "id": "ab86a745",
   "metadata": {},
   "source": [
    "# Mental health\n",
    "\n",
    "[dataset](https://www.kaggle.com/datasets/imtkaggleteam/mental-health)"
   ]
  },
  {
   "cell_type": "markdown",
   "id": "b30befb5",
   "metadata": {},
   "source": [
    "- países con mayor depresión\n",
    "- gráfica de barras mostrando el valor de depresión y la entidad (país)\n",
    "- países con mayor desorden alimenticio\n",
    "- gráfica de barras mostrando el valor de desorden alimenticio y la entidad (país)\n",
    "- países con mayor esquizofrenia\n",
    "- gráfica de barras mostrando el valor de esquizofrenia y la entidad (país)\n",
    "- crear un data frame con los valores por país de [\"Entity\tCode\", \"Year\", \"Schizophrenia disorders\", \"Depressive disorders\", \"Anxiety disorders\", \"Bipolar disorders\", \"Eating disorders\"]\n",
    "- mostrar los estadísticos del dataframe anterior\n",
    "- mostrar la distribución de cada feature del dataframe anterior\n",
    "- mostrar en un mapa de color la correlación entre las feaures [\"Schizophrenia disorders\", \"Depressive disorders\", \"Anxiety disorders\", \"Bipolar disorders\", \"Eating disorders\"]"
   ]
  },
  {
   "cell_type": "code",
   "execution_count": null,
   "id": "192a0500",
   "metadata": {},
   "outputs": [],
   "source": []
  }
 ],
 "metadata": {
  "kernelspec": {
   "display_name": "Python 3 (ipykernel)",
   "language": "python",
   "name": "python3"
  },
  "language_info": {
   "codemirror_mode": {
    "name": "ipython",
    "version": 3
   },
   "file_extension": ".py",
   "mimetype": "text/x-python",
   "name": "python",
   "nbconvert_exporter": "python",
   "pygments_lexer": "ipython3",
   "version": "3.9.7"
  }
 },
 "nbformat": 4,
 "nbformat_minor": 5
}
