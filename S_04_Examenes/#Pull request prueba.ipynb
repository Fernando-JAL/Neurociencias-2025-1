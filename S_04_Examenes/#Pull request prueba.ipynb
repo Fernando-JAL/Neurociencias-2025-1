{
 "cells": [
  {
   "cell_type": "code",
   "execution_count": null,
   "id": "cada9f35-3572-4653-8610-a55e8816f57b",
   "metadata": {},
   "outputs": [],
   "source": [
    "#Pull request prueba"
   ]
  }
 ],
 "metadata": {
  "kernelspec": {
   "display_name": "Python 3 (ipykernel)",
   "language": "python",
   "name": "python3"
  },
  "language_info": {
   "codemirror_mode": {
    "name": "ipython",
    "version": 3
   },
   "file_extension": ".py",
   "mimetype": "text/x-python",
   "name": "python",
   "nbconvert_exporter": "python",
   "pygments_lexer": "ipython3",
   "version": "3.12.4"
  }
 },
 "nbformat": 4,
 "nbformat_minor": 5
}
