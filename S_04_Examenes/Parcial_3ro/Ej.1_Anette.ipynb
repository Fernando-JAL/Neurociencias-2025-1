{
 "cells": [
  {
   "metadata": {},
   "cell_type": "markdown",
   "source": [
    "# Parcial 3, dataframes y grafos\n",
    "## Ejercicio 1\n",
    "En un solo lanzamiento de dos dados de 6 caras (con el mismo peso), encuentre la probabilidad de que su suma sea como máximo n. Cree una funcion llamada 'lanzamiento' que reciba un entero llamado 'n' y retorne un flotante que calcule la probabilidad de que el lanzamiento de 2 dados de 6 caras sea <= n."
   ],
   "id": "584fd53a188b77da"
  },
  {
   "metadata": {
    "ExecuteTime": {
     "end_time": "2024-11-20T19:57:46.105194Z",
     "start_time": "2024-11-20T19:57:41.818055Z"
    }
   },
   "cell_type": "code",
   "source": [
    "def lanzamiento(n):\n",
    "  if n < 2 or n > 12:\n",
    "    return 0.0\n",
    "  \n",
    "  total_combinaciones = 6*6\n",
    "  casos_favorables = 0 \n",
    "\n",
    "  for dado1 in range(1, 7):\n",
    "    for dado2 in range(1, 7):\n",
    "      if dado1 + dado2 <= n:\n",
    "        casos_favorables += 1\n",
    "  \n",
    "  probabilidad = casos_favorables / total_combinaciones\n",
    "  return probabilidad \n",
    "\n",
    "try:\n",
    "    n = int(input(\"Ingresa un entero entre 2 y 12: \"))\n",
    "    resultado = lanzamiento(n)\n",
    "    print(f\"La probabilidad de que la suma de dos dados sea <= {n} es: {resultado:.4f}\")\n",
    "except ValueError:\n",
    "    print(\"Por favor, ingresa un número entero válido.\")"
   ],
   "id": "a4515c3cf1621aca",
   "outputs": [
    {
     "name": "stdout",
     "output_type": "stream",
     "text": [
      "La probabilidad de que la suma de dos dados sea <= 12 es: 1.0000\n"
     ]
    }
   ],
   "execution_count": 5
  }
 ],
 "metadata": {
  "kernelspec": {
   "display_name": "Python 3",
   "language": "python",
   "name": "python3"
  },
  "language_info": {
   "codemirror_mode": {
    "name": "ipython",
    "version": 2
   },
   "file_extension": ".py",
   "mimetype": "text/x-python",
   "name": "python",
   "nbconvert_exporter": "python",
   "pygments_lexer": "ipython2",
   "version": "2.7.6"
  }
 },
 "nbformat": 4,
 "nbformat_minor": 5
}
