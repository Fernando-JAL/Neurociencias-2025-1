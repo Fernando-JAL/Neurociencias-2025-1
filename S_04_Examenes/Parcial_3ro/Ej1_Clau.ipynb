{
 "cells": [
  {
   "cell_type": "code",
   "execution_count": null,
   "id": "364deeee-1a59-4522-b5ea-36cef7536074",
   "metadata": {},
   "outputs": [],
   "source": [
    "# Examen 3er parcial. dataframes y grafos"
   ]
  },
  {
   "cell_type": "code",
   "execution_count": 3,
   "id": "c16a8ba8-bc7e-445c-9a0d-487d07080364",
   "metadata": {},
   "outputs": [
    {
     "name": "stdout",
     "output_type": "stream",
     "text": [
      "Para calcular la probabilidad de que el lanzamiento de 2 dados de 6 caras\n"
     ]
    },
    {
     "name": "stdin",
     "output_type": "stream",
     "text": [
      "Introduce un número:  9\n"
     ]
    },
    {
     "name": "stdout",
     "output_type": "stream",
     "text": [
      "No. de casos donde la suma es 9 es 30, con probabilidad: 0.8333333333333334\n"
     ]
    }
   ],
   "source": [
    "## Ejercicio 1.\n",
    "#En un solo lanzamiento de dos dados de 6 caras (con el mismo peso), encuentre la probabilidad de que\n",
    "#su suma sea como máximo $n$.\n",
    "#Cree una funcion llamada 'lanzamiento' que reciba un entero llamado 'n' y retorne un flotante que calcule la\n",
    "#probabilidad de que el lanzamiento de 2 dados de 6 caras sea <= n.\n",
    "\n",
    "print (\"Para calcular la probabilidad de que el lanzamiento de 2 dados de 6 caras\")\n",
    "n = int(input('Introduce un número: '))\n",
    "c_total = 36\n",
    "casos = 0\n",
    "\n",
    "def lanzamiento(n):\n",
    "    global casos\n",
    "    for D1 in range(1,7):\n",
    "        for D2 in range(1,7):\n",
    "            sum = D1 + D2\n",
    "            if sum <= n:\n",
    "                casos += 1\n",
    "            else:\n",
    "                continue\n",
    "    return casos\n",
    "\n",
    "lanzamiento(n)\n",
    "probabilidad = casos/c_total\n",
    "\n",
    "print(f'No. de casos donde la suma es {n} es {casos}, con probabilidad: {probabilidad}')"
   ]
  },
  {
   "cell_type": "code",
   "execution_count": null,
   "id": "f5900018-7857-4960-996d-0468fbf114aa",
   "metadata": {},
   "outputs": [],
   "source": []
  }
 ],
 "metadata": {
  "kernelspec": {
   "display_name": "Python 3 (ipykernel)",
   "language": "python",
   "name": "python3"
  },
  "language_info": {
   "codemirror_mode": {
    "name": "ipython",
    "version": 3
   },
   "file_extension": ".py",
   "mimetype": "text/x-python",
   "name": "python",
   "nbconvert_exporter": "python",
   "pygments_lexer": "ipython3",
   "version": "3.12.4"
  }
 },
 "nbformat": 4,
 "nbformat_minor": 5
}
