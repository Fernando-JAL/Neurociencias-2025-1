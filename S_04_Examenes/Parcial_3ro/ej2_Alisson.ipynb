{
 "cells": [
  {
   "metadata": {},
   "cell_type": "markdown",
   "source": [
    "### Ejercicio 2 \n",
    "Alisson García Mejía \n",
    "\n",
    "Analice el código en los archivos animation2_1 y animation 2_2 y conteste lo siguiente: \n",
    "* ¿Qué forma tiene el grafo? \n",
    "\n",
    "Tiene forma de un dodecaedro, un poliedro de 12 caras\n",
    "* ¿Cuántos nodos tiene el grafo?, ¿con qué comando descubres el número de nodos? \n",
    "\n",
    "Tiene 20 nodos o 20 vértices. La manera más común de saberlo es con print(G.number_of_nodes()), la función proveniente de networkx 'number of nodes() analiza cuantos nodos hay en nuestro grafo una vez asignado a la variable G (G=grafo_animation por ejemplo) \n",
    "\n",
    "\n",
    "* ¿Cuántas aristas tiene el grafo?, ¿con qué comando descubres el número de nodos? \n",
    "\n",
    "El numero de aristas es de 30. La forma más común es con Graph.number_of_edges(), la función proveniente de networkx analiza cuantos vertices hay en nuestro grafo una vez asignado a la variable G (G.number_of_edges()) \n",
    "\n",
    "\n",
    "* ¿Qué hace el código G.degree()?\n",
    "\n",
    "Nos devuelve infomración sobre los grados de los nodos en un grafo. Por ejemplo si queremos saber cuantas conexiones (grado) tiene un nodo."
   ],
   "id": "3d159de61ba54da2"
  },
  {
   "metadata": {
    "ExecuteTime": {
     "end_time": "2024-11-20T20:17:14.978222Z",
     "start_time": "2024-11-20T20:17:13.807468Z"
    }
   },
   "cell_type": "code",
   "source": [
    "# Ejemplo de G.degree()\n",
    "import numpy as np\n",
    "import networkx as nx\n",
    "\n",
    "# Se carga el grado del dodecaedro\n",
    "G = nx.dodecahedral_graph()\n",
    "# Se definen las coordenadas de cada nodo\n",
    "x = np.array([-1.        , -0.74535599, -0.33333333, -0.33333333,  0.33333333, 0.74535599,  0.33333333,  0.33333333, -0.33333333, -0.33333333, -0.74535599, -0.33333333,  0.33333333,  0.33333333,  0.74535599, 1.        ,  0.74535599,  0.33333333, -0.33333333, -0.74535599])\n",
    "y = np.array([-0.13278077,  0.5418651 ,  0.81169596,  0.30381473,  0.14755841, 0.55886793,  0.96932751,  0.79691831,  0.53273201, -0.14755841, -0.55886793, -0.96932751, -0.81169596, -0.30381473,  0.27990399, 0.13278077, -0.5418651 , -0.53273201, -0.79691831, -0.27990399])\n",
    "z = np.array([-0.0675157 ,  0.11842486, -0.39102575, -0.89182412, -0.91126968, -0.42248934, -0.10096091,  0.58775964,  0.7233475 ,  0.91126968, 0.42248934,  0.10096091,  0.39102575,  0.89182412,  0.69188391, 0.0675157 , -0.11842486, -0.7233475 , -0.58775964, -0.69188391])\n",
    "\n",
    "# Se crean los nodos y las aristas acorde al grafo\n",
    "nodes = np.array([[i, j, k] for i, j, k in zip(x, y, z)])\n",
    "edges = np.array([(nodes[u], nodes[v]) for u, v in G.edges()])\n",
    "\n",
    "random_sizes = np.random.randint(50, 500, size=len(nodes))\n",
    "\n",
    "#En base al archivo animation 2_1, podemos usar G.degree de la siguiente forma: \n",
    "grado_nodo_1 = G.degree[1]\n",
    "print(f\"\\nEl grado del nodo 1 es {grado_nodo_1}\")"
   ],
   "id": "58ef16cc4b448e3e",
   "outputs": [
    {
     "name": "stdout",
     "output_type": "stream",
     "text": [
      "\n",
      "El grado del nodo 1 es 3\n"
     ]
    }
   ],
   "execution_count": 1
  },
  {
   "metadata": {},
   "cell_type": "markdown",
   "source": [
    "* ¿Cuál es el número máximo de aristas en el grafo?\n",
    "\n",
    "Al tener 20 nodos, usamos la fórmula \n",
    "\n",
    "( n * (n-1) ) / 2 \n",
    "\n",
    "Que nos da un total de 190 \n",
    "\n",
    "* ¿Cuál es la diferencia entre animation2_1 y animation2_2?\n",
    "\n",
    "El uso de una función animate en animation 2_2 para darle la animación de giro al grafo, que nos permita visualizar toda su simetría. "
   ],
   "id": "8658a3278925ac79"
  }
 ],
 "metadata": {
  "kernelspec": {
   "display_name": "Python 3",
   "language": "python",
   "name": "python3"
  },
  "language_info": {
   "codemirror_mode": {
    "name": "ipython",
    "version": 2
   },
   "file_extension": ".py",
   "mimetype": "text/x-python",
   "name": "python",
   "nbconvert_exporter": "python",
   "pygments_lexer": "ipython2",
   "version": "2.7.6"
  }
 },
 "nbformat": 4,
 "nbformat_minor": 5
}
