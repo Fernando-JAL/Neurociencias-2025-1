{
 "cells": [
  {
   "cell_type": "code",
   "execution_count": 1,
   "id": "642377a2-9887-4a96-b8d4-21c61c1a9043",
   "metadata": {},
   "outputs": [],
   "source": [
    "import numpy as np\n",
    "import matplotlib.pyplot as plt\n",
    "import pandas as pd\n",
    "import networkx as nx"
   ]
  },
  {
   "cell_type": "code",
   "execution_count": 5,
   "id": "32e2f7d0-1863-4667-809c-0c3a15f81420",
   "metadata": {},
   "outputs": [
    {
     "name": "stdin",
     "output_type": "stream",
     "text": [
      "escribe valor de n:  3\n"
     ]
    },
    {
     "name": "stdout",
     "output_type": "stream",
     "text": [
      "El número de casos donde la suma <= 3 es de 3, y la probabilidad es de 0.083\n"
     ]
    }
   ],
   "source": [
    "# En un solo lanzamiento de dos dados de 6 caras (con el mismo peso), encuentre la probabilidad de que su suma sea como máximo \n",
    "# n. Crea una función llamada 'lanzamiento' que reciba un entero llamado 'n' y retorne \n",
    "# un flotante que calcule la probabilidad de que el lanzamiento de 2 dados de 6 caras sea <= n.\n",
    "\n",
    "def lanzamiento(n):\n",
    "    casos = 0\n",
    "    for d1 in range(1, 7):\n",
    "        for d2 in range(1, 7):\n",
    "            if d1 + d2 <= n:\n",
    "                casos += 1\n",
    "    return casos\n",
    "\n",
    "n = int(input('escribe valor de n: '))\n",
    "comb_total = 36 # número total de COMBINACIONES posibles\n",
    "casos = lanzamiento(n)\n",
    "p = casos / comb_total # sacar probabilidad\n",
    "\n",
    "print(f'El número de casos donde la suma <= {n} es de {casos}, y la probabilidad es de {p:.3f}')"
   ]
  }
 ],
 "metadata": {
  "kernelspec": {
   "display_name": "Python 3 (ipykernel)",
   "language": "python",
   "name": "python3"
  },
  "language_info": {
   "codemirror_mode": {
    "name": "ipython",
    "version": 3
   },
   "file_extension": ".py",
   "mimetype": "text/x-python",
   "name": "python",
   "nbconvert_exporter": "python",
   "pygments_lexer": "ipython3",
   "version": "3.12.4"
  }
 },
 "nbformat": 4,
 "nbformat_minor": 5
}
