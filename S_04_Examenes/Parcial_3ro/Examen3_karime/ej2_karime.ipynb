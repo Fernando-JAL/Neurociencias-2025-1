{
 "cells": [
  {
   "metadata": {},
   "cell_type": "markdown",
   "source": "## Examen 3er parcial - Karime Jiménez Romero",
   "id": "6952a1e755b0f64f"
  },
  {
   "metadata": {},
   "cell_type": "markdown",
   "source": "Ejercicio 2. Analice el código en los archivos animation2_1 y animation2_2 y contestar:",
   "id": "376dcea7213d1b0c"
  },
  {
   "metadata": {},
   "cell_type": "markdown",
   "source": "1. ¿Qué forma tiene el grafo?",
   "id": "72683f0181a23e2"
  },
  {
   "metadata": {},
   "cell_type": "markdown",
   "source": "Tiene la forma de un poliedro de doce caras -> dodecaedro",
   "id": "7e2f97a12649e794"
  },
  {
   "metadata": {},
   "cell_type": "markdown",
   "source": "2. ¿Cuantos nodos tiene el grafo?, ¿con qué comando descubres el número de nodos?",
   "id": "9cf6de7429597fc1"
  },
  {
   "metadata": {},
   "cell_type": "markdown",
   "source": "El grafo tiene 20 nodos\n",
   "id": "ff1a323e6e2a9b1c"
  },
  {
   "metadata": {},
   "cell_type": "markdown",
   "source": [
    "Para descubrir los nodos: \n",
    "    num_nodos = G.number_of_nodes()"
   ],
   "id": "15bc0296ade1b814"
  },
  {
   "metadata": {},
   "cell_type": "markdown",
   "source": "3. ¿Cuantas aristas tiene el grafo?,¿con qué comando descubres el número de nodos?",
   "id": "83e8ee30035716e"
  },
  {
   "metadata": {},
   "cell_type": "markdown",
   "source": "El grafo tiene 30 aristas",
   "id": "11691359137355b8"
  },
  {
   "metadata": {},
   "cell_type": "markdown",
   "source": "Para conocerlas se utiliza: num_edges = G.number_of_edges()",
   "id": "b7946d4749165543"
  },
  {
   "metadata": {},
   "cell_type": "markdown",
   "source": "4. ¿Qué hace el código G.degree()?",
   "id": "ccc12818a24647f"
  },
  {
   "metadata": {},
   "cell_type": "markdown",
   "source": "Es una función de networkx que nos devuelve el conjunto (nodo,grado) de un grafo",
   "id": "852ab67914032c1"
  },
  {
   "metadata": {},
   "cell_type": "markdown",
   "source": "5. ¿Cual es el número máximo de aristas en el grafo?",
   "id": "4fc43776b5426f6e"
  },
  {
   "metadata": {},
   "cell_type": "markdown",
   "source": "190 aristas",
   "id": "cc57291197622956"
  },
  {
   "metadata": {},
   "cell_type": "markdown",
   "source": "6. ¿Cual es la diferencia entre animation2_1 y animation2_2?",
   "id": "573f96fe79e351e6"
  },
  {
   "metadata": {},
   "cell_type": "markdown",
   "source": "La presencia de la animación de giro",
   "id": "b5d5a89f5f87e448"
  },
  {
   "metadata": {},
   "cell_type": "markdown",
   "source": "7. ¿Qué es el código G.degre()?, usarlo y explicar que hace",
   "id": "194e59a2bf24b285"
  },
  {
   "metadata": {},
   "cell_type": "markdown",
   "source": "Función de Network que se utiliza para analizar redes o grafos, especificamente para obtener el grado de uno o más nodos en un grafo",
   "id": "f9aabac1dd7d9ac4"
  },
  {
   "metadata": {
    "ExecuteTime": {
     "end_time": "2024-11-20T20:45:34.549064Z",
     "start_time": "2024-11-20T20:45:34.503818Z"
    }
   },
   "cell_type": "code",
   "source": [
    "import networkx as nx\n",
    "G = nx.Graph()\n",
    "G.add_edges_from([(1, 2), (3, 4), (4, 1), (1, 3)])\n",
    "\n",
    "print(\"Grado de todos los nodos:\", dict(G.degree()))\n",
    "print(\"Grado del nodo 1:\", G.degree(1))\n"
   ],
   "id": "69c24b1f565b980e",
   "outputs": [
    {
     "name": "stdout",
     "output_type": "stream",
     "text": [
      "Grado de todos los nodos: {1: 3, 2: 1, 3: 2, 4: 2}\n",
      "Grado del nodo 1: 3\n"
     ]
    }
   ],
   "execution_count": 4
  },
  {
   "metadata": {},
   "cell_type": "code",
   "outputs": [],
   "execution_count": null,
   "source": "",
   "id": "4306fddfc7f8a398"
  }
 ],
 "metadata": {
  "kernelspec": {
   "display_name": "Python 3",
   "language": "python",
   "name": "python3"
  },
  "language_info": {
   "codemirror_mode": {
    "name": "ipython",
    "version": 2
   },
   "file_extension": ".py",
   "mimetype": "text/x-python",
   "name": "python",
   "nbconvert_exporter": "python",
   "pygments_lexer": "ipython2",
   "version": "2.7.6"
  }
 },
 "nbformat": 4,
 "nbformat_minor": 5
}
