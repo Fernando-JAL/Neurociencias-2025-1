{
 "cells": [
  {
   "metadata": {},
   "cell_type": "markdown",
   "source": "## Examen 3er parcial - Karime Jiménez Romero",
   "id": "6952a1e755b0f64f"
  },
  {
   "metadata": {},
   "cell_type": "markdown",
   "source": "Ejercicio 1. En un solo lanzamiento de dos dados de 6 caras (con el mismo peso), encuentre la probabilidad de que su suma sea como máximo n. Cree una funcion llamada 'lanzamiento' que reciba un entero llamado 'n' y retorne un flotante que calcule la probabilidad de que el lanzamiento de 2 dados de 6 caras sea <= n",
   "id": "cfb95786a3fb5b8"
  },
  {
   "cell_type": "code",
   "id": "initial_id",
   "metadata": {
    "collapsed": true,
    "ExecuteTime": {
     "end_time": "2024-11-20T20:07:36.278201Z",
     "start_time": "2024-11-20T20:07:32.143904Z"
    }
   },
   "source": [
    "n = int(input(\"Valor de n:\"))\n",
    "total = 36\n",
    "casos= 0\n",
    "\n",
    "def lanzamiento(n):\n",
    "    global casos\n",
    "    for d1 in range(1,7):\n",
    "        for d2 in range(1,7):\n",
    "            sum = d1 + d2\n",
    "            if sum <= n:\n",
    "                casos += 1\n",
    "            else:\n",
    "                continue\n",
    "    return casos\n",
    "\n",
    "lanzamiento(n)\n",
    "prob= casos/total\n",
    "\n",
    "print(f'Número de casos donde la suma<={n} es de {casos}, la probabilidad es de {prob}')"
   ],
   "outputs": [
    {
     "name": "stdout",
     "output_type": "stream",
     "text": [
      "Número de casos donde la suma<=6 es de 15, la probabilidad es de 0.4166666666666667\n"
     ]
    }
   ],
   "execution_count": 2
  },
  {
   "metadata": {},
   "cell_type": "code",
   "outputs": [],
   "execution_count": null,
   "source": "",
   "id": "87f94f81f20702b1"
  }
 ],
 "metadata": {
  "kernelspec": {
   "display_name": "Python 3",
   "language": "python",
   "name": "python3"
  },
  "language_info": {
   "codemirror_mode": {
    "name": "ipython",
    "version": 2
   },
   "file_extension": ".py",
   "mimetype": "text/x-python",
   "name": "python",
   "nbconvert_exporter": "python",
   "pygments_lexer": "ipython2",
   "version": "2.7.6"
  }
 },
 "nbformat": 4,
 "nbformat_minor": 5
}
