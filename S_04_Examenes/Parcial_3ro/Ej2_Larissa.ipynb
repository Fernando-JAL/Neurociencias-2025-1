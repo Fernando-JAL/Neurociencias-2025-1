{
 "cells": [
  {
   "cell_type": "markdown",
   "id": "2e3fa5c6-09bb-4bed-9f42-70d12a36bf31",
   "metadata": {},
   "source": [
    "### Ejercicio 2\n",
    "Analice el código en los archivos animation2_1 y animation2_2 y conteste lo siguiente:ion2_2?"
   ]
  },
  {
   "cell_type": "markdown",
   "id": "9d2912a7-00dd-4ad3-925f-d80a63a70a6d",
   "metadata": {},
   "source": [
    "- ¿Qué forma tiene el grafo?\n",
    "El grafo es un grafo dodecaédrico (nx.dodecahedral_graph()), el cual representa las conexiones entre los vértices de un dodecaedro regular. Es un grafo 3D con 20 nodos y 30 aristas, donde cada nodo está conectado a tres vecinos.\n",
    "\n",
    "- ¿Cuántos nodos tiene el grafo? ¿Con qué comando descubres el número de nodos?\n",
    "Tiene 20 nodos. Esto lo podemos saber utilizando un comando como G.number_of_nodes() o len(G.nodes).\n",
    "\n",
    "- ¿Cuántas aristas tiene el grafo? ¿Con qué comando descubres el número de aristas?\n",
    "Cuenta con 30 aristas. Esto se puede averiguar usando un comando como: G.number_of_edges() o len(G.edges).\n",
    "\n",
    "- ¿Qué hace el código G.degree()?\n",
    "Ese código o función de networkx se encarga de devolverte un objeto iterador que contiene el grado de cada nodo en el grafo, es decir, el número de aristas conectadas a cada nodo. Para el grafo dodecaédrico cada nodo tiene grado3.\n",
    "\n",
    "- ¿Cuál es el número máximo de aristas en el grafo?\n",
    "Es posible conocer esto usando una fórmula: Máximo de aristas= (n(n−1)/2) = (20(20-1)/2) = 190\n",
    "En este caso, el grafo dodecaédrico tiene solamente 30 aristas porque es un grafo disperso.\n",
    "\n",
    "- ¿Cuál es la diferencia entre animation2_1 y animation2_2?\n",
    "Animation2_1.py grafica el grafo en 3D y nos muestra un histograma con los grados de los nodos. Animation2_2.py también grafica el grafoen 3D, pero además implementa una animación donde se rota la perspectiva del mismo sobre un eje. "
   ]
  }
 ],
 "metadata": {
  "kernelspec": {
   "display_name": "Python 3 (ipykernel)",
   "language": "python",
   "name": "python3"
  },
  "language_info": {
   "codemirror_mode": {
    "name": "ipython",
    "version": 3
   },
   "file_extension": ".py",
   "mimetype": "text/x-python",
   "name": "python",
   "nbconvert_exporter": "python",
   "pygments_lexer": "ipython3",
   "version": "3.12.4"
  }
 },
 "nbformat": 4,
 "nbformat_minor": 5
}
