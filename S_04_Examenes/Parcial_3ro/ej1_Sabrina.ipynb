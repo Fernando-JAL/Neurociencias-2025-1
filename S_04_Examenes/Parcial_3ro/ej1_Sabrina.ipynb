{
 "cells": [
  {
   "cell_type": "code",
   "execution_count": 1,
   "id": "7add055f",
   "metadata": {},
   "outputs": [],
   "source": [
    "import scipy.io\n",
    "import numpy as np \n",
    "import pandas as pd \n",
    "import matplotlib.pyplot as plt\n",
    "import seaborn as sns\n",
    "import networkx as nx"
   ]
  },
  {
   "cell_type": "code",
   "execution_count": 8,
   "id": "2ac1e768",
   "metadata": {},
   "outputs": [],
   "source": [
    "# En un solo lanzamiento de dos dados de 6 caras (con el mismo peso), encuentre la probabilidad de que su suma sea como máximo \n",
    "# n. Cree una funcion llamada 'lanzamiento' que reciba un entero llamado 'n' y retorne un flotante que calcule la probabilidad \n",
    "# de que el lanzamiento de 2 dados de 6 caras sea <= n.\n",
    "def lanzamiento(n: int) -> float:\n",
    "    tot_comb = 6 * 6\n",
    "    comb_val = 0\n",
    "    \n",
    "    for dado1 in range(1, 7):  \n",
    "        for dado2 in range(1, 7):  \n",
    "            if dado1 + dado2 <= n:\n",
    "                comb_val += 1\n",
    "    \n",
    "    probabilidad = comb_val / tot_comb\n",
    "    return probabilidad\n",
    "\n",
    "\n",
    "print(lanzamiento(7))"
   ]
  }
 ],
 "metadata": {
  "kernelspec": {
   "display_name": "Python 3 (ipykernel)",
   "language": "python",
   "name": "python3"
  },
  "language_info": {
   "codemirror_mode": {
    "name": "ipython",
    "version": 3
   },
   "file_extension": ".py",
   "mimetype": "text/x-python",
   "name": "python",
   "nbconvert_exporter": "python",
   "pygments_lexer": "ipython3",
   "version": "3.11.3"
  }
 },
 "nbformat": 4,
 "nbformat_minor": 5
}
