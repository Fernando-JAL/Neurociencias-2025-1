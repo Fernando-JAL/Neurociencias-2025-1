{
 "cells": [
  {
   "cell_type": "code",
   "execution_count": null,
   "id": "0661be8a",
   "metadata": {},
   "outputs": [],
   "source": [
    "import scipy.io\n",
    "import numpy as np \n",
    "import pandas as pd \n",
    "import matplotlib.pyplot as plt\n",
    "import seaborn as sns\n",
    "import networkx as nx"
   ]
  },
  {
   "cell_type": "code",
   "execution_count": null,
   "id": "d713b487",
   "metadata": {},
   "outputs": [],
   "source": [
    "# Analice el código en los archivos animation2_1 y animation2_2 y conteste lo siguiente:\n",
    "\n",
    "# ¿Qué forma tiene el grafo?\n",
    "# Ambos son dodecaedros no dirigidos \n",
    "\n",
    "# ¿Cuántos nodos tiene el grafo?, ¿con qué comando descubres el número de nodos?\n",
    "# Ambos tienen 20 nodos \n",
    "G.number_of_nodes()\n",
    "\n",
    "# ¿Cuántas aristas tiene el grafo?, ¿con qué comando descubres el número de nodos?\n",
    "# Ambos tienen 30 aristas \n",
    "G.number_of_edges()\n",
    "\n",
    "# ¿Qué hace el código G.degree()?\n",
    "# Devuelve el grado de cada nodo en el grafo: va a devolver un diccionario donde cada clave es un nodo y el valor asociado es el grado del nodo \n",
    "\n",
    "# ¿Cuál es el número máximo de aristas en el grafo?\n",
    "# 30 porque es un dodecaedro \n",
    "\n",
    "# ¿Cuál es la diferencia entre animation2_1 y animation2_2?"
   ]
  }
 ],
 "metadata": {
  "kernelspec": {
   "display_name": "Python 3 (ipykernel)",
   "language": "python",
   "name": "python3"
  },
  "language_info": {
   "codemirror_mode": {
    "name": "ipython",
    "version": 3
   },
   "file_extension": ".py",
   "mimetype": "text/x-python",
   "name": "python",
   "nbconvert_exporter": "python",
   "pygments_lexer": "ipython3",
   "version": "3.11.3"
  }
 },
 "nbformat": 4,
 "nbformat_minor": 5
}
