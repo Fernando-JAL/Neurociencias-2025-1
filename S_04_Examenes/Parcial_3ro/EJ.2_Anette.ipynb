{
 "cells": [
  {
   "metadata": {},
   "cell_type": "markdown",
   "source": [
    "## Ejercicio 2\n",
    "Analice el código en los archivos animation2_1 y animation2_2 y conteste lo siguiente:\n",
    "\n",
    "**¿Qué forma tiene el grafo?**\n",
    "- Dodecaedro\n",
    "\n",
    "**¿Cuántos nodos tiene el grafo?, ¿con qué comando descubres el número de nodos?**\n",
    "- Tiene 20 nodos, se puede utilizar el comando G.number_of_nodes(), extraido de networkx\n",
    "\n",
    "**¿Cuántas aristas tiene el grafo?, ¿con qué comando descubres el número de nodos?**\n",
    "- Tiene 30 aristas y se obtiene con la función Graph.number_of_edges(), igualmente de networx\n",
    "\n",
    "**¿Qué hace el código G.degree()?**\n",
    "- Nos da el conjunto de nodos y grados de un grafo para todos sus nodos.\n",
    "\n",
    "**¿Cuál es el número máximo de aristas en el grafo?**\n",
    "- Se puede utilizar la formula N(N-1/2) Y para nuestro nodo se sustituiría como 20(20-1/2)=190 aristas\n",
    "\n",
    "**¿Cuál es la diferencia entre animation2_1 y animation2_2?**\n",
    "- Que la 1 no gira y la 2 si"
   ],
   "id": "8f61aa084e633816"
  },
  {
   "metadata": {
    "collapsed": true,
    "ExecuteTime": {
     "end_time": "2024-11-20T19:43:25.894894Z",
     "start_time": "2024-11-20T19:43:24.603216Z"
    }
   },
   "cell_type": "code",
   "outputs": [
    {
     "name": "stdout",
     "output_type": "stream",
     "text": [
      "Grado de cada nodo:\n",
      "[(1, 2), (2, 2), (3, 2), (4, 2)]\n",
      "Grado del nodo 1: 2\n"
     ]
    }
   ],
   "execution_count": 1,
   "source": [
    "# Ejemplo de uso de G.degree\n",
    "import networkx as nx\n",
    "\n",
    "G = nx.Graph()\n",
    "G.add_nodes_from([1, 2, 3, 4])\n",
    "G.add_edges_from([(1, 2), (1, 3), (2, 4), (3, 4)])\n",
    "print(\"Grado de cada nodo:\")\n",
    "print(G.degree())\n",
    "nodo = 1\n",
    "print(f\"Grado del nodo {nodo}: {G.degree(nodo)}\")"
   ],
   "id": "initial_id"
  }
 ],
 "metadata": {
  "kernelspec": {
   "display_name": "Python 3",
   "language": "python",
   "name": "python3"
  },
  "language_info": {
   "codemirror_mode": {
    "name": "ipython",
    "version": 2
   },
   "file_extension": ".py",
   "mimetype": "text/x-python",
   "name": "python",
   "nbconvert_exporter": "python",
   "pygments_lexer": "ipython2",
   "version": "2.7.6"
  }
 },
 "nbformat": 4,
 "nbformat_minor": 5
}
