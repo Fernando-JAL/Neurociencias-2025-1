{
 "cells": [
  {
   "cell_type": "markdown",
   "id": "19dbf15b-bbff-44e0-b0d0-f3f5e12766c2",
   "metadata": {},
   "source": [
    "# Ejercicio 2\n",
    "Analice el código en los archivos animation2_1 y animation2_2 y conteste lo siguiente:\n",
    "\n",
    "* ¿Qué forma tiene el grafo?\n",
    "  * El grafo es un grafo dodecaédrico (creado con nx.dodecahedral_graph()), que representa las conexiones entre los vértices de un dodecaedro regular.\n",
    "  * Es un grafo tridimensional con 20 nodos y 30 aristas, donde cada nodo está conectado exactamente a tres vecinos.\n",
    "\n",
    "* ¿Cuántos nodos tiene el grafo?, ¿con qué comando descubres el número de nodos?\n",
    "  * Tiene 20 nodos y esto se puede encontrar utilizando un comando, como lo serían G.number_of_nodes() o len(G.nodes).\n",
    "\n",
    "* ¿Cuántas aristas tiene el grafo?, ¿con qué comando descubres el número de nodos?\n",
    "  * Cuenta con 30 aristas y esto se puede encontrar usando un comando como: G.number_of_edges() o len(G.edges).\n",
    "\n",
    "* ¿Qué hace el código G.degree()?\n",
    "  * El comando G.degree() de NetworkX devuelve un objeto que permite iterar sobre los grados de los nodos del grafo, o sea, la cantidad de aristas conectadas a cada nodo.\n",
    "  * En el caso del grafo dodecaédrico, cada nodo tiene un grado = 3.\n",
    "\n",
    "* ¿Cuál es el número máximo de aristas en el grafo?\n",
    "  * El número máximo de aristas en un grafo completo con la fórmula siguiente: (n(n−1)/2), lo cual daría un total de 190 al sustituir. Sin embargo, el grafo dodecaédrico tiene solo 30 aristas porque no es un grafo completo, sino disperso.\n",
    "\n",
    "* ¿Cuál es la diferencia entre animation2_1 y animation2_2?\n",
    "  * animation2_1.py: Representa el grafo en 3D y genera un histograma mostrando los grados de los nodos.\n",
    "  * animation2_2.py: También representa el grafo en 3D, pero además incluye una animación que rota la perspectiva del grafo alrededor de un eje."
   ]
  }
 ],
 "metadata": {
  "kernelspec": {
   "display_name": "Python 3 (ipykernel)",
   "language": "python",
   "name": "python3"
  },
  "language_info": {
   "codemirror_mode": {
    "name": "ipython",
    "version": 3
   },
   "file_extension": ".py",
   "mimetype": "text/x-python",
   "name": "python",
   "nbconvert_exporter": "python",
   "pygments_lexer": "ipython3",
   "version": "3.12.4"
  }
 },
 "nbformat": 4,
 "nbformat_minor": 5
}
