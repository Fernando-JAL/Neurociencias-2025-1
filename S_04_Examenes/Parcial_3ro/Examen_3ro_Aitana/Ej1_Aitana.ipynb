{
 "cells": [
  {
   "cell_type": "markdown",
   "id": "afa0bb80-8d79-47e2-a16e-b7d0f7cf665b",
   "metadata": {},
   "source": [
    "# Ejercicio 1\n",
    "* En un solo lanzamiento de dos dados de 6 caras (con el mismo peso), encuentre la probabilidad de que su suma sea como máximo n.\n",
    "* Cree una funcion llamada 'lanzamiento' que reciba un entero llamado 'n' y retorne un flotante que calcule la probabilidad de que el lanzamiento de 2 dados de 6 caras sea <= n.\r\n",
    "\r\n"
   ]
  },
  {
   "cell_type": "code",
   "execution_count": 17,
   "id": "d5987969-e960-4202-be0c-f7b2f560eef6",
   "metadata": {},
   "outputs": [
    {
     "name": "stdin",
     "output_type": "stream",
     "text": [
      "Introduce un número:  6\n"
     ]
    },
    {
     "name": "stdout",
     "output_type": "stream",
     "text": [
      "El número de casos donde el resultado es <=6 es de 15, y la probabilidad es de 0.4166666666666667\n"
     ]
    }
   ],
   "source": [
    "n = int(input('Introduce un número: '))\n",
    "combinaciones = 36\n",
    "casos = 0\n",
    "\n",
    "def lanzamiento(n):\n",
    "    global casos\n",
    "    for dado1 in range(1,7):\n",
    "        for dado2 in range(1,7):\n",
    "            sum = dado1 + dado2\n",
    "            if sum <= n:\n",
    "                casos += 1\n",
    "            else:\n",
    "                continue\n",
    "    return casos\n",
    "\n",
    "lanzamiento(n)\n",
    "prob = casos/combinaciones\n",
    "\n",
    "print(f'El número de casos donde el resultado es <={n} es de {casos}, y la probabilidad es de {prob}'.)"
   ]
  },
  {
   "cell_type": "code",
   "execution_count": null,
   "id": "34776e49-68a7-44a7-b335-650d6c824021",
   "metadata": {},
   "outputs": [],
   "source": []
  }
 ],
 "metadata": {
  "kernelspec": {
   "display_name": "Python 3 (ipykernel)",
   "language": "python",
   "name": "python3"
  },
  "language_info": {
   "codemirror_mode": {
    "name": "ipython",
    "version": 3
   },
   "file_extension": ".py",
   "mimetype": "text/x-python",
   "name": "python",
   "nbconvert_exporter": "python",
   "pygments_lexer": "ipython3",
   "version": "3.12.4"
  }
 },
 "nbformat": 4,
 "nbformat_minor": 5
}
