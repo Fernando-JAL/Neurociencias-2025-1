{
 "cells": [
  {
   "cell_type": "code",
   "execution_count": 1,
   "id": "70d01130-aa5f-4362-87e3-c65e516eb372",
   "metadata": {},
   "outputs": [],
   "source": [
    "import scipy.io \n",
    "import matplotlib.pyplot as plt\n",
    "import numpy as np\n",
    "import seaborn as sns\n",
    "import networkx as nx\n",
    "import pandas as pd\n",
    "from matplotlib import animation\n",
    "\n"
   ]
  },
  {
   "cell_type": "markdown",
   "id": "630c2384-a6b9-48d6-8b65-a7f999b833b4",
   "metadata": {},
   "source": [
    "1er ejercicio: En un solo lanzamiento de dos dados de 6 caras (con el mismo peso), encuentre la probabilidad de que su suma sea como máximo n. Cree una funcion llamada 'lanzamiento' que reciba un entero llamado 'n' y retorne un flotante que calcule la probabilidad de que el lanzamiento de 2 dados de 6 caras sea <= n."
   ]
  },
  {
   "cell_type": "code",
   "execution_count": 5,
   "id": "fd8b69e9-33f6-4ac5-9f4d-2a4803dc6e04",
   "metadata": {},
   "outputs": [
    {
     "name": "stdin",
     "output_type": "stream",
     "text": [
      "escribe valor de n:  8\n"
     ]
    },
    {
     "name": "stdout",
     "output_type": "stream",
     "text": [
      "El número de casos donde la suma <= 8 es de 26, y la probabilidad es de 0.722\n"
     ]
    }
   ],
   "source": [
    "def lanzamiento(n):\n",
    "    casos = 0\n",
    "    for d1 in range(1, 7):\n",
    "        for d2 in range(1, 7):\n",
    "            if d1 + d2 <= n:\n",
    "                casos += 1\n",
    "    return casos\n",
    "\n",
    "n = int(input('escribe valor de n: '))\n",
    "comb_total = 36 # Total de combinaciones posibles\n",
    "casos = lanzamiento(n)\n",
    "p = casos / comb_total # probabilidad\n",
    "\n",
    "print(f'El número de casos donde la suma <= {n} es de {casos}, y la probabilidad es de {p:.3f}')"
   ]
  },
  {
   "cell_type": "code",
   "execution_count": null,
   "id": "ab1b1428-afe4-416b-bcb9-f5e9f3fec496",
   "metadata": {},
   "outputs": [],
   "source": []
  }
 ],
 "metadata": {
  "kernelspec": {
   "display_name": "Python 3 (ipykernel)",
   "language": "python",
   "name": "python3"
  },
  "language_info": {
   "codemirror_mode": {
    "name": "ipython",
    "version": 3
   },
   "file_extension": ".py",
   "mimetype": "text/x-python",
   "name": "python",
   "nbconvert_exporter": "python",
   "pygments_lexer": "ipython3",
   "version": "3.12.4"
  }
 },
 "nbformat": 4,
 "nbformat_minor": 5
}
