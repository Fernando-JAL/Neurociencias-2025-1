{
 "cells": [
  {
   "cell_type": "code",
   "execution_count": 132,
   "id": "445a6378-0ad1-433b-8cbd-c86fe9527571",
   "metadata": {},
   "outputs": [],
   "source": [
    "import scipy.io \n",
    "import matplotlib.pyplot as plt\n",
    "import numpy as np\n",
    "import seaborn as sns\n",
    "import networkx as nx\n",
    "import pandas as pd\n",
    "from matplotlib import animation"
   ]
  },
  {
   "cell_type": "code",
   "execution_count": null,
   "id": "81968109-5b50-4ca9-a934-ee0a9977da8b",
   "metadata": {},
   "outputs": [],
   "source": [
    "\"\"\"\n",
    "Ejercicio 1.\n",
    "\n",
    "En un solo lanzamiento de dos dados de 6 caras (con el mismo peso), encuentre la probabilidad de que su suma sea como máximo n. \n",
    "Cree una funcion llamada 'lanzamiento' que reciba un entero llamado 'n' y retorne un flotante que calcule la probabilidad de que \n",
    "el lanzamiento de 2 dados de 6 caras sea <= n.\n",
    "\n",
    "\"\"\""
   ]
  },
  {
   "cell_type": "code",
   "execution_count": 102,
   "id": "3f60dddd-d40e-4dcb-bc52-fe451da8686f",
   "metadata": {},
   "outputs": [],
   "source": [
    "\n",
    "def lanzamiento(n):\n",
    "\n",
    "    dice1 = np.random.randint(1, 7, size=1000000)  \n",
    "    dice2 = np.random.randint(1, 7, size=1000000)  \n",
    "\n",
    "\n",
    "    sum = dice1 + dice2\n",
    "    cuentaN = np.sum(sum <= n)\n",
    "    posibilidades_totales = len(sum)\n",
    "    probabilidad = cuentaN / posibilidades_totales\n",
    "    \n",
    "    return probabilidad\n"
   ]
  },
  {
   "cell_type": "code",
   "execution_count": 104,
   "id": "5cbd7694-fe6e-4790-a185-e7e717eb39cc",
   "metadata": {},
   "outputs": [
    {
     "name": "stdout",
     "output_type": "stream",
     "text": [
      "0.582698\n"
     ]
    }
   ],
   "source": [
    "resultado = lanzamiento(7)\n",
    "print(resultado)"
   ]
  },
  {
   "cell_type": "code",
   "execution_count": 106,
   "id": "2ed36ad2-ec3b-4b89-b240-15b56d7c4577",
   "metadata": {},
   "outputs": [],
   "source": [
    "\n",
    "np.random.seed(42)\n",
    "\n",
    "def lanzamiento(n):\n",
    "    probabilidad_list = []  # Define this inside the function to avoid overwriting or appending globally\n",
    "    for idx in n:\n",
    "        dice1 = np.random.randint(1, 7, size=1000000)  \n",
    "        dice2 = np.random.randint(1, 7, size=1000000)\n",
    "        \n",
    "        sum_dices = dice1 + dice2\n",
    "        cuenta_n = np.sum(sum_dices <= idx)\n",
    "        posibilidades_totales = len(sum_dices)\n",
    "        probabilidad = cuenta_n / posibilidades_totales\n",
    "        probabilidad_list.append(probabilidad)\n",
    "    \n",
    "    return probabilidad_list\n",
    "    "
   ]
  },
  {
   "cell_type": "code",
   "execution_count": 126,
   "id": "577b2beb-efaa-409d-a411-de1e0877c8eb",
   "metadata": {},
   "outputs": [
    {
     "data": {
      "image/png": "[encoded data removed]",
      "text/plain": [
       "<Figure size 640x480 with 1 Axes>"
      ]
     },
     "metadata": {},
     "output_type": "display_data"
    }
   ],
   "source": [
    "\n",
    "range1To12 = list(np.arange(1, 13, 1))\n",
    "probabilidades_dices = lanzamiento(range1To12)\n",
    "\n",
    "plt.plot(range1To12, probabilidades_dices, marker=\"o\", linestyle=\"None\",color=\"purple\")\n",
    "plt.xticks(range1To12)\n",
    "plt.xlabel(\"N\")\n",
    "plt.ylabel(\"Probabilidad\")\n",
    "plt.show()\n"
   ]
  }
 ],
 "metadata": {
  "kernelspec": {
   "display_name": "Python 3 (ipykernel)",
   "language": "python",
   "name": "python3"
  },
  "language_info": {
   "codemirror_mode": {
    "name": "ipython",
    "version": 3
   },
   "file_extension": ".py",
   "mimetype": "text/x-python",
   "name": "python",
   "nbconvert_exporter": "python",
   "pygments_lexer": "ipython3",
   "version": "3.12.4"
  }
 },
 "nbformat": 4,
 "nbformat_minor": 5
}
