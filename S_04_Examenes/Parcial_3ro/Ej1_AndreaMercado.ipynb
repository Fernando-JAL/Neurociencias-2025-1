{
 "cells": [
  {
   "cell_type": "code",
   "execution_count": null,
   "id": "5565af84-4b09-4332-8445-0687cd5c0b50",
   "metadata": {},
   "outputs": [],
   "source": [
    "# Examen tercer parcial \n",
    "# Andrea Mercado Jiménez"
   ]
  },
  {
   "cell_type": "code",
   "execution_count": 3,
   "id": "df02f516-077e-4a7f-9db2-2b42ad778d42",
   "metadata": {},
   "outputs": [
    {
     "name": "stdout",
     "output_type": "stream",
     "text": [
      "Probabilidad de obtener suma <= n: 0.5833333333333334\n"
     ]
    }
   ],
   "source": [
    "# Ejercicio 1: Ejercicio 1. En un solo lanzamiento de dos dados de 6 caras (con el mismo peso), encuentre la probabilidad de que su suma sea como máximo n. Cree una funcion llamada 'lanzamiento' que reciba un entero llamado 'n' y retorne un flotante que calcule la probabilidad de que el lanzamiento de 2 dados de 6 caras sea <= n.\n",
    "\n",
    "import itertools\n",
    "def lanzamiento(n):\n",
    "    # Calcula la probabilidad de obtener una suma <= n al lanzar dos dados de 6 caras\n",
    "    total_posibilidades = 6 * 6  # Total de combinaciones posibles\n",
    "    favorables = sum(1 for a, b in itertools.product(range(1, 7), repeat=2) if a + b <= n)\n",
    "    return favorables / total_posibilidades\n",
    "\n",
    "# Prueba de la función\n",
    "print(\"Probabilidad de obtener suma <= n:\", lanzamiento(7))"
   ]
  }
 ],
 "metadata": {
  "kernelspec": {
   "display_name": "Python 3 (ipykernel)",
   "language": "python",
   "name": "python3"
  },
  "language_info": {
   "codemirror_mode": {
    "name": "ipython",
    "version": 3
   },
   "file_extension": ".py",
   "mimetype": "text/x-python",
   "name": "python",
   "nbconvert_exporter": "python",
   "pygments_lexer": "ipython3",
   "version": "3.12.2"
  }
 },
 "nbformat": 4,
 "nbformat_minor": 5
}
