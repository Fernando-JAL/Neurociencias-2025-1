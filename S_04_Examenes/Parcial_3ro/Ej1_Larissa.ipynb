{
 "cells": [
  {
   "cell_type": "markdown",
   "id": "20b85ac9-fd93-4b81-ad6c-e64a9cf66543",
   "metadata": {},
   "source": [
    "### Ejercicio 1\n",
    "En un solo lanzamiento de dos dados de 6 caras (con el mismo peso), encuentre la probabilidad de que su suma sea como máximo n\r\n",
    ". Cree una funcion llamada 'lanzamiento' que reciba un entero llamado 'n' y retorne un flotante que calcule la probabilidad de que el lanzamiento de 2 dados de 6 caras sea <= n."
   ]
  },
  {
   "cell_type": "code",
   "execution_count": 3,
   "id": "2a2958fd-adcb-4f87-bb0e-2422ae1acb7e",
   "metadata": {},
   "outputs": [],
   "source": [
    "def lanzamiento(n):\n",
    "\n",
    "    if n < 2: \n",
    "        return 0.0\n",
    "    if n > 12: \n",
    "        return 1.0\n",
    "\n",
    "    casos = 0\n",
    "    total_combinaciones = 36\n",
    "\n",
    "    for d1 in range(1, 7):\n",
    "        for d2 in range(1, 7):\n",
    "            suma = d1 + d2\n",
    "            if suma <= n:\n",
    "                casos += 1\n",
    "\n",
    "    probabilidad = casos / total_combinaciones\n",
    "    return probabilidad\n"
   ]
  },
  {
   "cell_type": "code",
   "execution_count": 5,
   "id": "49c53abf-b272-47ca-87e5-247d84b151ed",
   "metadata": {},
   "outputs": [
    {
     "name": "stdin",
     "output_type": "stream",
     "text": [
      "Introduce el valor de n:  15\n"
     ]
    },
    {
     "name": "stdout",
     "output_type": "stream",
     "text": [
      "La probabilidad de que la suma sea <= 15 es: 1.0000\n"
     ]
    }
   ],
   "source": [
    "n = int(input(\"Introduce el valor de n: \"))\n",
    "probabilidad = lanzamiento(n)\n",
    "print(f\"La probabilidad de que la suma sea <= {n} es: {probabilidad:.4f}\")"
   ]
  }
 ],
 "metadata": {
  "kernelspec": {
   "display_name": "Python 3 (ipykernel)",
   "language": "python",
   "name": "python3"
  },
  "language_info": {
   "codemirror_mode": {
    "name": "ipython",
    "version": 3
   },
   "file_extension": ".py",
   "mimetype": "text/x-python",
   "name": "python",
   "nbconvert_exporter": "python",
   "pygments_lexer": "ipython3",
   "version": "3.12.4"
  }
 },
 "nbformat": 4,
 "nbformat_minor": 5
}
