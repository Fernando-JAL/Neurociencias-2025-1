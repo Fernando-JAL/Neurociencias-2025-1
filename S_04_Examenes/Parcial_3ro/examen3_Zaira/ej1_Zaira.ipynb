{
 "cells": [
  {
   "metadata": {},
   "cell_type": "markdown",
   "source": [
    "## Examen 3er parcial: dataframes y grafos\n",
    "Alumna: Zaira Valentina Ávila Lazcano"
   ],
   "id": "67d7ec1f23fdfc31"
  },
  {
   "metadata": {},
   "cell_type": "markdown",
   "source": [
    "1) Asegurarse q estan en el main \n",
    "2) Actualizar, update el repo\n",
    "3) Crear una branch examen3_<su nombre>\n",
    "4) Para cada ejercicio crear un archivo(py ó .ipynd) con el nombre ej.(<No.>_<su_nombre>)"
   ],
   "id": "750c4a333de9328e"
  },
  {
   "metadata": {},
   "cell_type": "markdown",
   "source": [
    "# Ejercicio 1:\n",
    "En un solo lanzamiento de dos dados de 6 caras (con el mismo peso), encuentre la probabilidad de que su suma sea como máximo \n",
    ". Cree una funcion llamada 'lanzamiento' que reciba un entero llamado 'n' y retorne un flotante que calcule la probabilidad de que la suma de las caras al lanzar 2 dados de 6 caras sea <= n."
   ],
   "id": "d64a81986c3c70e0"
  },
  {
   "cell_type": "code",
   "id": "initial_id",
   "metadata": {
    "collapsed": true,
    "ExecuteTime": {
     "end_time": "2024-11-20T00:53:45.691911Z",
     "start_time": "2024-11-20T00:53:45.666709Z"
    }
   },
   "source": [
    "import numpy as np\n",
    "\n",
    "lados = 6\n",
    "dados = np.arange(1, lados + 1)\n",
    "# pares posibles al lanzar dos dados\n",
    "pares = [(dado1, dado2) for dado1 in dados for dado2 in dados]\n",
    "\n",
    "def lanzamiento(n):\n",
    "    if n < 2 or n > 12:\n",
    "        return \"0/36\"\n",
    "    exitos = [par for par in pares if sum(par) <= n]\n",
    "    return f\"{len(exitos)}/36\"\n",
    "\n",
    "#n = 4 ejemplo del profe para comprobar si sí me salio\n",
    "n = 4\n",
    "prob = lanzamiento(n)\n",
    "print(f\"La probabilidad de que la suma de dos dados sea como máximo {n} es {prob}\")"
   ],
   "outputs": [
    {
     "name": "stdout",
     "output_type": "stream",
     "text": [
      "La probabilidad de que la suma de dos dados sea como máximo 4 es 6/36\n"
     ]
    }
   ],
   "execution_count": 3
  },
  {
   "metadata": {},
   "cell_type": "code",
   "outputs": [],
   "execution_count": null,
   "source": "",
   "id": "beea0b002e7c7867"
  }
 ],
 "metadata": {
  "kernelspec": {
   "display_name": "Python 3",
   "language": "python",
   "name": "python3"
  },
  "language_info": {
   "codemirror_mode": {
    "name": "ipython",
    "version": 2
   },
   "file_extension": ".py",
   "mimetype": "text/x-python",
   "name": "python",
   "nbconvert_exporter": "python",
   "pygments_lexer": "ipython2",
   "version": "2.7.6"
  }
 },
 "nbformat": 4,
 "nbformat_minor": 5
}
