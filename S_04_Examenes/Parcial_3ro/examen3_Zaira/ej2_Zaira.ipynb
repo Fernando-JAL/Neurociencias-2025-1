{
 "cells": [
  {
   "metadata": {},
   "cell_type": "markdown",
   "source": [
    "## Examen 3er parcial: dataframes y grafos\n",
    "Alumna: Zaira Valentina Ávila Lazcano"
   ],
   "id": "77f387ae9946ab57"
  },
  {
   "metadata": {},
   "cell_type": "markdown",
   "source": [
    "# Ejercicio 2:\n",
    "Analice el código en los archivos animation2_1 y animation2_2 y conteste lo siguiente:\n",
    "\n",
    "1. ¿Qué forma tiene el grafo?\n",
    "2. ¿Cuántos nodos tiene el grafo?, ¿con qué comando descubres el número de nodos?\n",
    "3. ¿Cuántas aristas tiene el grafo?, ¿con qué comando descubres el número de nodos?\n",
    "4. ¿Qué hace el código G.degree()? (usarlo y decir que es lo que hace ese codigo)\n",
    "5. ¿Cuál es el número máximo de aristas en el grafo?\n",
    "6. ¿Cuál es la diferencia entre animation2_1 y animation2_2? (añadir breve explicacion del analisis)\n",
    "\n",
    "*checar correcciones*"
   ],
   "id": "b803ab0deee2150"
  },
  {
   "metadata": {},
   "cell_type": "markdown",
   "source": [
    "# Para animation2_1:\n",
    "1. ¿Qué forma tiene el grafo?\n",
    "\n",
    "*Observo que el grafo es un grafo dodecaédrico. Este tipo de grafo tiene la forma de un dodecaedro, que es un poliedro con 12 caras pentagonales.*\n",
    "\n",
    "2. ¿Cuántos nodos tiene el grafo?, ¿con qué comando descubres el número de nodos?\n",
    "\n",
    "*El grafo dodecaédrico tiene 20 nodos* & se usa *el comando G.number_of_nodes()*\n",
    "\n",
    "3. ¿Cuántas aristas tiene el grafo?, ¿con qué comando descubres el número de nodos?\n",
    "\n",
    "*El grafo tiene 30 aristas* & *usando el comando G.number_of_edges()*"
   ],
   "id": "1aa205fe8a12e2b0"
  },
  {
   "metadata": {},
   "cell_type": "markdown",
   "source": "4. ¿Qué hace el código G.degree()?",
   "id": "8a46264e0b50b911"
  },
  {
   "metadata": {
    "ExecuteTime": {
     "end_time": "2024-11-20T00:53:38.319811Z",
     "start_time": "2024-11-20T00:53:38.316419Z"
    }
   },
   "cell_type": "code",
   "source": [
    "# El método G.degree() devuelve el grado de cada nodo en el grafo G. El grado de un nodo es el número de aristas incidentes a ese nodo. En el código, se convierte el resultado a un diccionario para facilitar su uso:\n",
    "#degrees = dict(G.degree())\n",
    "# Esto permite acceder al grado de cada nodo de manera sencilla."
   ],
   "id": "ba5db5dbe0c5cf6a",
   "outputs": [],
   "execution_count": 8
  },
  {
   "metadata": {
    "ExecuteTime": {
     "end_time": "2024-11-20T00:53:23.343199Z",
     "start_time": "2024-11-20T00:53:23.231504Z"
    }
   },
   "cell_type": "code",
   "source": [
    "# Solicitud para dar un Ejemplo de su uso el 19/Nov en clase\n",
    "import networkx as nx\n",
    "import matplotlib.pyplot as plt\n",
    "\n",
    "# Crear un grafo dodecaédrico\n",
    "G = nx.dodecahedral_graph()\n",
    "\n",
    "# Obtener el grado de cada nodo y convertirlo a un diccionario\n",
    "degrees = dict(G.degree())\n",
    "\n",
    "# Mostrar el grado de cada nodo\n",
    "for node, degree in degrees.items():\n",
    "    print(f\"Nodo {node} tiene un grado de {degree}\")\n",
    "\n",
    "# Opcional: Graficar el histograma de los grados de los nodos\n",
    "plt.hist(degrees.values(), bins=range(1, max(degrees.values()) + 2), align='left', rwidth=0.8)\n",
    "plt.xlabel('Grado del nodo')\n",
    "plt.ylabel('Frecuencia')\n",
    "plt.title('Histograma de los grados de los nodos')\n",
    "plt.show()"
   ],
   "id": "faf426e021566b9e",
   "outputs": [
    {
     "name": "stdout",
     "output_type": "stream",
     "text": [
      "Nodo 0 tiene un grado de 3\n",
      "Nodo 1 tiene un grado de 3\n",
      "Nodo 2 tiene un grado de 3\n",
      "Nodo 3 tiene un grado de 3\n",
      "Nodo 4 tiene un grado de 3\n",
      "Nodo 5 tiene un grado de 3\n",
      "Nodo 6 tiene un grado de 3\n",
      "Nodo 7 tiene un grado de 3\n",
      "Nodo 8 tiene un grado de 3\n",
      "Nodo 9 tiene un grado de 3\n",
      "Nodo 10 tiene un grado de 3\n",
      "Nodo 11 tiene un grado de 3\n",
      "Nodo 12 tiene un grado de 3\n",
      "Nodo 13 tiene un grado de 3\n",
      "Nodo 14 tiene un grado de 3\n",
      "Nodo 15 tiene un grado de 3\n",
      "Nodo 16 tiene un grado de 3\n",
      "Nodo 17 tiene un grado de 3\n",
      "Nodo 18 tiene un grado de 3\n",
      "Nodo 19 tiene un grado de 3\n"
     ]
    },
    {
     "data": {
      "text/plain": [
       "<Figure size 640x480 with 1 Axes>"
      ],
      "image/png": "[encoded data removed]"
     },
     "metadata": {},
     "output_type": "display_data"
    }
   ],
   "execution_count": 6
  },
  {
   "metadata": {},
   "cell_type": "markdown",
   "source": [
    "5. ¿Cuál es el número máximo de aristas en el grafo?\n",
    "\n",
    "*El número máximo de aristas en un grafo no dirigido con ( n ) nodos es n(n-1)/2. Para un grafo con 20 nodos, el número máximo de aristas sería (20x19)/2 = 380/2 = 190. Sin embargo, el grafo dodecaédrico específico tiene 30 aristas.*"
   ],
   "id": "794ad352eafbca83"
  },
  {
   "metadata": {},
   "cell_type": "markdown",
   "source": "",
   "id": "6389609f5d5de8"
  },
  {
   "metadata": {},
   "cell_type": "markdown",
   "source": [
    "# Para animation2_2:\n",
    "1. ¿Qué forma tiene el grafo? \n",
    "\n",
    "*Tambien es un grafo dodecaédrico* & es *un poliedro con 12 caras pentagonales lo que forma el dodecaedro*\n",
    "\n",
    "2. ¿Cuántos nodos tiene el grafo?, ¿con qué comando descubres el número de nodos?\n",
    "\n",
    "*El dodecaedro tiene 20 nodos.* & *G.number_of_nodes()*\n",
    "\n",
    "3. ¿Cuántas aristas tiene el grafo?, ¿con qué comando descubres el número de nodos?\n",
    "\n",
    "*Tiene 30 aristas.* & se usa *G.number_of_edges()*\n",
    "\n",
    "4. ¿Cuál es el número máximo de aristas en el grafo?\n",
    "\n",
    "*Como este grafo no es completo sino un dodecaedro, tiene 30 aristas, no las 190 de un grafo completo.*"
   ],
   "id": "bab4e4ddde2a681a"
  },
  {
   "metadata": {},
   "cell_type": "markdown",
   "source": [
    "# ¿Cuál es la diferencia entre animation2_1 y animation2_2? (añadir breve explicacion del analisis)\n",
    "\n",
    "*La principal diferencia entre los dos archivos es la animación:*\n",
    "\n",
    "+ En animation2_1.py, el grafo se visualiza estáticamente, mostrando los nodos y las aristas en una figura 3D.\n",
    "+ En animation2_2.py, se añade una animación que rota la vista del grafo en 3D. Esto se logra mediante la función animate(i), que ajusta el ángulo de vista (elev y azim) en cada cuadro de la animación.\n"
   ],
   "id": "b8d025cdbfd0b792"
  },
  {
   "metadata": {
    "ExecuteTime": {
     "end_time": "2024-11-20T00:53:23.354977Z",
     "start_time": "2024-11-20T00:53:23.352946Z"
    }
   },
   "cell_type": "code",
   "source": "",
   "id": "f58c7fac14e6d0c9",
   "outputs": [],
   "execution_count": null
  }
 ],
 "metadata": {
  "kernelspec": {
   "display_name": "Python 3",
   "language": "python",
   "name": "python3"
  },
  "language_info": {
   "codemirror_mode": {
    "name": "ipython",
    "version": 2
   },
   "file_extension": ".py",
   "mimetype": "text/x-python",
   "name": "python",
   "nbconvert_exporter": "python",
   "pygments_lexer": "ipython2",
   "version": "2.7.6"
  }
 },
 "nbformat": 4,
 "nbformat_minor": 5
}
