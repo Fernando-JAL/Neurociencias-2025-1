{
 "cells": [
  {
   "cell_type": "code",
   "execution_count": null,
   "id": "652f46ca-d22a-4e09-809b-e3b600b75ecf",
   "metadata": {},
   "outputs": [],
   "source": [
    "# Ejercicio 1: En un solo lanzamiento de dos dados de 6 caras (con el mismo peso), encuentre la probabilidad de que su suma sea como máximo n.\n",
    "# Cree una funcion llamada 'lanzamiento' que reciba un entero llamado 'n' y retorne un flotante que calcule \n",
    "# la probabilidad de que el lanzamiento de 2 dados de 6 caras sea <= n.\n",
    "\n",
    "n = int(input('Introduce un valor: '))\n",
    "con_tot = 36\n",
    "casos= 0\n",
    "\n",
    "def lanzamiento(n):\n",
    "    global casos\n",
    "    for d1 in range(1,7):\n",
    "        for d2 in range(1,7):\n",
    "            sum = d1 + d2\n",
    "            if sum <= n:\n",
    "                casos += 1\n",
    "            else:\n",
    "                continue\n",
    "    return casos\n",
    "\n",
    "lanzamiento(n)\n",
    "prob= casos/con_tot\n",
    "\n",
    "print(f'El número de casos donde la suma es máximo {n} es {casos}, la probabilidad es: {prob}')"
   ]
  }
 ],
 "metadata": {
  "kernelspec": {
   "display_name": "Python 3 (ipykernel)",
   "language": "python",
   "name": "python3"
  },
  "language_info": {
   "codemirror_mode": {
    "name": "ipython",
    "version": 3
   },
   "file_extension": ".py",
   "mimetype": "text/x-python",
   "name": "python",
   "nbconvert_exporter": "python",
   "pygments_lexer": "ipython3",
   "version": "3.12.6"
  }
 },
 "nbformat": 4,
 "nbformat_minor": 5
}
