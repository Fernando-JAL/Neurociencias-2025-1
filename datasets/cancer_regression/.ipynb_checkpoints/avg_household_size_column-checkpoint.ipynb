{
 "cells": [
  {
   "cell_type": "code",
   "execution_count": 1,
   "metadata": {},
   "outputs": [
    {
     "ename": "ModuleNotFoundError",
     "evalue": "No module named 'datadotworld'",
     "output_type": "error",
     "traceback": [
      "\u001b[1;31m---------------------------------------------------------------------------\u001b[0m",
      "\u001b[1;31mModuleNotFoundError\u001b[0m                       Traceback (most recent call last)",
      "Input \u001b[1;32mIn [1]\u001b[0m, in \u001b[0;36m<cell line: 6>\u001b[1;34m()\u001b[0m\n\u001b[0;32m      4\u001b[0m \u001b[38;5;28;01mimport\u001b[39;00m \u001b[38;5;21;01mmatplotlib\u001b[39;00m \u001b[38;5;28;01mas\u001b[39;00m \u001b[38;5;21;01mmpl\u001b[39;00m\n\u001b[0;32m      5\u001b[0m \u001b[38;5;28;01mimport\u001b[39;00m \u001b[38;5;21;01mseaborn\u001b[39;00m \u001b[38;5;28;01mas\u001b[39;00m \u001b[38;5;21;01msns\u001b[39;00m\n\u001b[1;32m----> 6\u001b[0m \u001b[38;5;28;01mimport\u001b[39;00m \u001b[38;5;21;01mdatadotworld\u001b[39;00m \u001b[38;5;28;01mas\u001b[39;00m \u001b[38;5;21;01mddw\u001b[39;00m\n\u001b[0;32m      7\u001b[0m \u001b[38;5;28;01mimport\u001b[39;00m \u001b[38;5;21;01mre\u001b[39;00m\n\u001b[0;32m      8\u001b[0m \u001b[38;5;28;01mimport\u001b[39;00m \u001b[38;5;21;01mjson\u001b[39;00m\n",
      "\u001b[1;31mModuleNotFoundError\u001b[0m: No module named 'datadotworld'"
     ]
    }
   ],
   "source": [
    "import pandas as pd\n",
    "import numpy as np\n",
    "import matplotlib.pyplot as plt\n",
    "import matplotlib as mpl\n",
    "import seaborn as sns\n",
    "import datadotworld as ddw\n",
    "import re\n",
    "import json\n",
    "%matplotlib inline\n",
    "from log_progress import log_progress # https://github.com/alexanderkuk/log-progress\n",
    "\n",
    "%config InlineBackend.figure_format = 'retina'\n",
    "\n",
    "pd.set_option('display.max_rows', 40)\n",
    "pd.set_option('display.max_columns', 500)\n",
    "pd.set_option('display.width', 1000)\n",
    "#pd.set_option('max_colwidth', 70)"
   ]
  },
  {
   "cell_type": "code",
   "execution_count": 2,
   "metadata": {},
   "outputs": [],
   "source": [
    "dataset = 'uscensusbureau/acs-2015-5-e-housing'\n",
    "\n",
    "data = ddw.load_dataset(dataset)"
   ]
  },
  {
   "cell_type": "code",
   "execution_count": 3,
   "metadata": {},
   "outputs": [],
   "source": [
    "states = pd.Series([i for i in data.tables.keys()])\n",
    "states.drop(states[states.str.len() != 2].index, inplace=True)\n",
    "states.reset_index(drop=True, inplace=True)"
   ]
  },
  {
   "cell_type": "code",
   "execution_count": 4,
   "metadata": {},
   "outputs": [],
   "source": [
    "cols = ['statefips', 'countyfips', 'b25010_001', 'areaname']"
   ]
  },
  {
   "cell_type": "code",
   "execution_count": 5,
   "metadata": {},
   "outputs": [
    {
     "name": "stderr",
     "output_type": "stream",
     "text": [
      "/Users/noahrippner/anaconda/envs/anaconda-py3/lib/python3.6/site-packages/datadotworld/models/dataset.py:192: UserWarning: Unable to set data frame dtypes automatically using ak schema. Data types may need to be adjusted manually. Error: Integer column has NA values in column 3\n",
      "  'Error: {}'.format(resource_name, e))\n",
      "/Users/noahrippner/anaconda/envs/anaconda-py3/lib/python3.6/site-packages/datadotworld/models/dataset.py:192: UserWarning: Unable to set data frame dtypes automatically using al schema. Data types may need to be adjusted manually. Error: Integer column has NA values in column 3\n",
      "  'Error: {}'.format(resource_name, e))\n",
      "/Users/noahrippner/anaconda/envs/anaconda-py3/lib/python3.6/site-packages/datadotworld/models/dataset.py:192: UserWarning: Unable to set data frame dtypes automatically using ar schema. Data types may need to be adjusted manually. Error: Integer column has NA values in column 3\n",
      "  'Error: {}'.format(resource_name, e))\n",
      "/Users/noahrippner/anaconda/envs/anaconda-py3/lib/python3.6/site-packages/datadotworld/models/dataset.py:192: UserWarning: Unable to set data frame dtypes automatically using az schema. Data types may need to be adjusted manually. Error: Integer column has NA values in column 3\n",
      "  'Error: {}'.format(resource_name, e))\n",
      "/Users/noahrippner/anaconda/envs/anaconda-py3/lib/python3.6/site-packages/datadotworld/models/dataset.py:192: UserWarning: Unable to set data frame dtypes automatically using ca schema. Data types may need to be adjusted manually. Error: Integer column has NA values in column 3\n",
      "  'Error: {}'.format(resource_name, e))\n",
      "/Users/noahrippner/anaconda/envs/anaconda-py3/lib/python3.6/site-packages/datadotworld/models/dataset.py:192: UserWarning: Unable to set data frame dtypes automatically using co schema. Data types may need to be adjusted manually. Error: Integer column has NA values in column 3\n",
      "  'Error: {}'.format(resource_name, e))\n",
      "/Users/noahrippner/anaconda/envs/anaconda-py3/lib/python3.6/site-packages/datadotworld/models/dataset.py:192: UserWarning: Unable to set data frame dtypes automatically using ct schema. Data types may need to be adjusted manually. Error: Integer column has NA values in column 3\n",
      "  'Error: {}'.format(resource_name, e))\n",
      "/Users/noahrippner/anaconda/envs/anaconda-py3/lib/python3.6/site-packages/datadotworld/models/dataset.py:192: UserWarning: Unable to set data frame dtypes automatically using dc schema. Data types may need to be adjusted manually. Error: Integer column has NA values in column 3\n",
      "  'Error: {}'.format(resource_name, e))\n",
      "/Users/noahrippner/anaconda/envs/anaconda-py3/lib/python3.6/site-packages/datadotworld/models/dataset.py:192: UserWarning: Unable to set data frame dtypes automatically using de schema. Data types may need to be adjusted manually. Error: Integer column has NA values in column 3\n",
      "  'Error: {}'.format(resource_name, e))\n",
      "/Users/noahrippner/anaconda/envs/anaconda-py3/lib/python3.6/site-packages/datadotworld/models/dataset.py:192: UserWarning: Unable to set data frame dtypes automatically using fl schema. Data types may need to be adjusted manually. Error: Integer column has NA values in column 3\n",
      "  'Error: {}'.format(resource_name, e))\n",
      "/Users/noahrippner/anaconda/envs/anaconda-py3/lib/python3.6/site-packages/datadotworld/models/dataset.py:192: UserWarning: Unable to set data frame dtypes automatically using ga schema. Data types may need to be adjusted manually. Error: Integer column has NA values in column 3\n",
      "  'Error: {}'.format(resource_name, e))\n",
      "/Users/noahrippner/anaconda/envs/anaconda-py3/lib/python3.6/site-packages/datadotworld/models/dataset.py:192: UserWarning: Unable to set data frame dtypes automatically using hi schema. Data types may need to be adjusted manually. Error: Integer column has NA values in column 3\n",
      "  'Error: {}'.format(resource_name, e))\n",
      "/Users/noahrippner/anaconda/envs/anaconda-py3/lib/python3.6/site-packages/datadotworld/models/dataset.py:192: UserWarning: Unable to set data frame dtypes automatically using ia schema. Data types may need to be adjusted manually. Error: Integer column has NA values in column 3\n",
      "  'Error: {}'.format(resource_name, e))\n",
      "/Users/noahrippner/anaconda/envs/anaconda-py3/lib/python3.6/site-packages/datadotworld/models/dataset.py:192: UserWarning: Unable to set data frame dtypes automatically using id schema. Data types may need to be adjusted manually. Error: Integer column has NA values in column 3\n",
      "  'Error: {}'.format(resource_name, e))\n",
      "/Users/noahrippner/anaconda/envs/anaconda-py3/lib/python3.6/site-packages/datadotworld/models/dataset.py:192: UserWarning: Unable to set data frame dtypes automatically using il schema. Data types may need to be adjusted manually. Error: Integer column has NA values in column 3\n",
      "  'Error: {}'.format(resource_name, e))\n",
      "/Users/noahrippner/anaconda/envs/anaconda-py3/lib/python3.6/site-packages/datadotworld/models/dataset.py:192: UserWarning: Unable to set data frame dtypes automatically using in schema. Data types may need to be adjusted manually. Error: Integer column has NA values in column 3\n",
      "  'Error: {}'.format(resource_name, e))\n",
      "/Users/noahrippner/anaconda/envs/anaconda-py3/lib/python3.6/site-packages/datadotworld/models/dataset.py:192: UserWarning: Unable to set data frame dtypes automatically using ks schema. Data types may need to be adjusted manually. Error: Integer column has NA values in column 3\n",
      "  'Error: {}'.format(resource_name, e))\n",
      "/Users/noahrippner/anaconda/envs/anaconda-py3/lib/python3.6/site-packages/datadotworld/models/dataset.py:192: UserWarning: Unable to set data frame dtypes automatically using ky schema. Data types may need to be adjusted manually. Error: Integer column has NA values in column 3\n",
      "  'Error: {}'.format(resource_name, e))\n",
      "/Users/noahrippner/anaconda/envs/anaconda-py3/lib/python3.6/site-packages/datadotworld/models/dataset.py:192: UserWarning: Unable to set data frame dtypes automatically using la schema. Data types may need to be adjusted manually. Error: Integer column has NA values in column 3\n",
      "  'Error: {}'.format(resource_name, e))\n",
      "/Users/noahrippner/anaconda/envs/anaconda-py3/lib/python3.6/site-packages/datadotworld/models/dataset.py:192: UserWarning: Unable to set data frame dtypes automatically using ma schema. Data types may need to be adjusted manually. Error: Integer column has NA values in column 3\n",
      "  'Error: {}'.format(resource_name, e))\n",
      "/Users/noahrippner/anaconda/envs/anaconda-py3/lib/python3.6/site-packages/datadotworld/models/dataset.py:192: UserWarning: Unable to set data frame dtypes automatically using md schema. Data types may need to be adjusted manually. Error: Integer column has NA values in column 3\n",
      "  'Error: {}'.format(resource_name, e))\n",
      "/Users/noahrippner/anaconda/envs/anaconda-py3/lib/python3.6/site-packages/datadotworld/models/dataset.py:192: UserWarning: Unable to set data frame dtypes automatically using me schema. Data types may need to be adjusted manually. Error: Integer column has NA values in column 3\n",
      "  'Error: {}'.format(resource_name, e))\n",
      "/Users/noahrippner/anaconda/envs/anaconda-py3/lib/python3.6/site-packages/datadotworld/models/dataset.py:192: UserWarning: Unable to set data frame dtypes automatically using mi schema. Data types may need to be adjusted manually. Error: Integer column has NA values in column 3\n",
      "  'Error: {}'.format(resource_name, e))\n",
      "/Users/noahrippner/anaconda/envs/anaconda-py3/lib/python3.6/site-packages/datadotworld/models/dataset.py:192: UserWarning: Unable to set data frame dtypes automatically using mn schema. Data types may need to be adjusted manually. Error: Integer column has NA values in column 3\n",
      "  'Error: {}'.format(resource_name, e))\n",
      "/Users/noahrippner/anaconda/envs/anaconda-py3/lib/python3.6/site-packages/datadotworld/models/dataset.py:192: UserWarning: Unable to set data frame dtypes automatically using mo schema. Data types may need to be adjusted manually. Error: Integer column has NA values in column 3\n",
      "  'Error: {}'.format(resource_name, e))\n",
      "/Users/noahrippner/anaconda/envs/anaconda-py3/lib/python3.6/site-packages/datadotworld/models/dataset.py:192: UserWarning: Unable to set data frame dtypes automatically using ms schema. Data types may need to be adjusted manually. Error: Integer column has NA values in column 3\n",
      "  'Error: {}'.format(resource_name, e))\n"
     ]
    },
    {
     "name": "stderr",
     "output_type": "stream",
     "text": [
      "/Users/noahrippner/anaconda/envs/anaconda-py3/lib/python3.6/site-packages/datadotworld/models/dataset.py:192: UserWarning: Unable to set data frame dtypes automatically using mt schema. Data types may need to be adjusted manually. Error: Integer column has NA values in column 3\n",
      "  'Error: {}'.format(resource_name, e))\n",
      "/Users/noahrippner/anaconda/envs/anaconda-py3/lib/python3.6/site-packages/datadotworld/models/dataset.py:192: UserWarning: Unable to set data frame dtypes automatically using nc schema. Data types may need to be adjusted manually. Error: Integer column has NA values in column 3\n",
      "  'Error: {}'.format(resource_name, e))\n",
      "/Users/noahrippner/anaconda/envs/anaconda-py3/lib/python3.6/site-packages/datadotworld/models/dataset.py:192: UserWarning: Unable to set data frame dtypes automatically using nd schema. Data types may need to be adjusted manually. Error: Integer column has NA values in column 3\n",
      "  'Error: {}'.format(resource_name, e))\n",
      "/Users/noahrippner/anaconda/envs/anaconda-py3/lib/python3.6/site-packages/datadotworld/models/dataset.py:192: UserWarning: Unable to set data frame dtypes automatically using ne schema. Data types may need to be adjusted manually. Error: Integer column has NA values in column 3\n",
      "  'Error: {}'.format(resource_name, e))\n",
      "/Users/noahrippner/anaconda/envs/anaconda-py3/lib/python3.6/site-packages/datadotworld/models/dataset.py:192: UserWarning: Unable to set data frame dtypes automatically using nh schema. Data types may need to be adjusted manually. Error: Integer column has NA values in column 3\n",
      "  'Error: {}'.format(resource_name, e))\n",
      "/Users/noahrippner/anaconda/envs/anaconda-py3/lib/python3.6/site-packages/datadotworld/models/dataset.py:192: UserWarning: Unable to set data frame dtypes automatically using nj schema. Data types may need to be adjusted manually. Error: Integer column has NA values in column 3\n",
      "  'Error: {}'.format(resource_name, e))\n",
      "/Users/noahrippner/anaconda/envs/anaconda-py3/lib/python3.6/site-packages/datadotworld/models/dataset.py:192: UserWarning: Unable to set data frame dtypes automatically using nm schema. Data types may need to be adjusted manually. Error: Integer column has NA values in column 3\n",
      "  'Error: {}'.format(resource_name, e))\n",
      "/Users/noahrippner/anaconda/envs/anaconda-py3/lib/python3.6/site-packages/datadotworld/models/dataset.py:192: UserWarning: Unable to set data frame dtypes automatically using nv schema. Data types may need to be adjusted manually. Error: Integer column has NA values in column 3\n",
      "  'Error: {}'.format(resource_name, e))\n",
      "/Users/noahrippner/anaconda/envs/anaconda-py3/lib/python3.6/site-packages/datadotworld/models/dataset.py:192: UserWarning: Unable to set data frame dtypes automatically using ny schema. Data types may need to be adjusted manually. Error: Integer column has NA values in column 3\n",
      "  'Error: {}'.format(resource_name, e))\n",
      "/Users/noahrippner/anaconda/envs/anaconda-py3/lib/python3.6/site-packages/datadotworld/models/dataset.py:192: UserWarning: Unable to set data frame dtypes automatically using oh schema. Data types may need to be adjusted manually. Error: Integer column has NA values in column 3\n",
      "  'Error: {}'.format(resource_name, e))\n",
      "/Users/noahrippner/anaconda/envs/anaconda-py3/lib/python3.6/site-packages/datadotworld/models/dataset.py:192: UserWarning: Unable to set data frame dtypes automatically using ok schema. Data types may need to be adjusted manually. Error: Integer column has NA values in column 3\n",
      "  'Error: {}'.format(resource_name, e))\n",
      "/Users/noahrippner/anaconda/envs/anaconda-py3/lib/python3.6/site-packages/datadotworld/models/dataset.py:192: UserWarning: Unable to set data frame dtypes automatically using or schema. Data types may need to be adjusted manually. Error: Integer column has NA values in column 3\n",
      "  'Error: {}'.format(resource_name, e))\n",
      "/Users/noahrippner/anaconda/envs/anaconda-py3/lib/python3.6/site-packages/datadotworld/models/dataset.py:192: UserWarning: Unable to set data frame dtypes automatically using pa schema. Data types may need to be adjusted manually. Error: Integer column has NA values in column 3\n",
      "  'Error: {}'.format(resource_name, e))\n",
      "/Users/noahrippner/anaconda/envs/anaconda-py3/lib/python3.6/site-packages/datadotworld/models/dataset.py:192: UserWarning: Unable to set data frame dtypes automatically using pr schema. Data types may need to be adjusted manually. Error: Integer column has NA values in column 3\n",
      "  'Error: {}'.format(resource_name, e))\n",
      "/Users/noahrippner/anaconda/envs/anaconda-py3/lib/python3.6/site-packages/datadotworld/models/dataset.py:192: UserWarning: Unable to set data frame dtypes automatically using ri schema. Data types may need to be adjusted manually. Error: Integer column has NA values in column 3\n",
      "  'Error: {}'.format(resource_name, e))\n",
      "/Users/noahrippner/anaconda/envs/anaconda-py3/lib/python3.6/site-packages/datadotworld/models/dataset.py:192: UserWarning: Unable to set data frame dtypes automatically using sc schema. Data types may need to be adjusted manually. Error: Integer column has NA values in column 3\n",
      "  'Error: {}'.format(resource_name, e))\n",
      "/Users/noahrippner/anaconda/envs/anaconda-py3/lib/python3.6/site-packages/datadotworld/models/dataset.py:192: UserWarning: Unable to set data frame dtypes automatically using sd schema. Data types may need to be adjusted manually. Error: Integer column has NA values in column 3\n",
      "  'Error: {}'.format(resource_name, e))\n",
      "/Users/noahrippner/anaconda/envs/anaconda-py3/lib/python3.6/site-packages/datadotworld/models/dataset.py:192: UserWarning: Unable to set data frame dtypes automatically using tn schema. Data types may need to be adjusted manually. Error: Integer column has NA values in column 3\n",
      "  'Error: {}'.format(resource_name, e))\n",
      "/Users/noahrippner/anaconda/envs/anaconda-py3/lib/python3.6/site-packages/datadotworld/models/dataset.py:192: UserWarning: Unable to set data frame dtypes automatically using tx schema. Data types may need to be adjusted manually. Error: Integer column has NA values in column 3\n",
      "  'Error: {}'.format(resource_name, e))\n",
      "/Users/noahrippner/anaconda/envs/anaconda-py3/lib/python3.6/site-packages/datadotworld/models/dataset.py:192: UserWarning: Unable to set data frame dtypes automatically using ut schema. Data types may need to be adjusted manually. Error: Integer column has NA values in column 3\n",
      "  'Error: {}'.format(resource_name, e))\n",
      "/Users/noahrippner/anaconda/envs/anaconda-py3/lib/python3.6/site-packages/datadotworld/models/dataset.py:192: UserWarning: Unable to set data frame dtypes automatically using va schema. Data types may need to be adjusted manually. Error: Integer column has NA values in column 3\n",
      "  'Error: {}'.format(resource_name, e))\n",
      "/Users/noahrippner/anaconda/envs/anaconda-py3/lib/python3.6/site-packages/datadotworld/models/dataset.py:192: UserWarning: Unable to set data frame dtypes automatically using vt schema. Data types may need to be adjusted manually. Error: Integer column has NA values in column 3\n",
      "  'Error: {}'.format(resource_name, e))\n",
      "/Users/noahrippner/anaconda/envs/anaconda-py3/lib/python3.6/site-packages/datadotworld/models/dataset.py:192: UserWarning: Unable to set data frame dtypes automatically using wa schema. Data types may need to be adjusted manually. Error: Integer column has NA values in column 3\n",
      "  'Error: {}'.format(resource_name, e))\n",
      "/Users/noahrippner/anaconda/envs/anaconda-py3/lib/python3.6/site-packages/datadotworld/models/dataset.py:192: UserWarning: Unable to set data frame dtypes automatically using wi schema. Data types may need to be adjusted manually. Error: Integer column has NA values in column 3\n",
      "  'Error: {}'.format(resource_name, e))\n",
      "/Users/noahrippner/anaconda/envs/anaconda-py3/lib/python3.6/site-packages/datadotworld/models/dataset.py:192: UserWarning: Unable to set data frame dtypes automatically using wv schema. Data types may need to be adjusted manually. Error: Integer column has NA values in column 3\n",
      "  'Error: {}'.format(resource_name, e))\n",
      "/Users/noahrippner/anaconda/envs/anaconda-py3/lib/python3.6/site-packages/datadotworld/models/dataset.py:192: UserWarning: Unable to set data frame dtypes automatically using wy schema. Data types may need to be adjusted manually. Error: Integer column has NA values in column 3\n",
      "  'Error: {}'.format(resource_name, e))\n"
     ]
    }
   ],
   "source": [
    "count = 0\n",
    "for i in states.values:\n",
    "    if count == 0:\n",
    "        df = data.dataframes[i].loc[data.dataframes[i].summarylevel==50, cols]\n",
    "    else:\n",
    "        df = pd.concat([df, data.dataframes[i].loc[data.dataframes[i].summarylevel==50, cols]], axis=0)\n",
    "    count += 1\n",
    "df.reset_index(drop=True, inplace=True)    "
   ]
  },
  {
   "cell_type": "code",
   "execution_count": 6,
   "metadata": {},
   "outputs": [],
   "source": [
    "df['statefips'] = df.statefips.astype('str')\n",
    "df['countyfips'] = df.countyfips.astype('int')\n",
    "df['countyfips'] = df.countyfips.astype('str')\n",
    "df['countyfips'] = df.countyfips.str.pad(3, fillchar='0')"
   ]
  },
  {
   "cell_type": "code",
   "execution_count": 7,
   "metadata": {},
   "outputs": [],
   "source": [
    "df.rename(columns={'b25010_001':'avghouseholdsize', 'areaname':'geography'}, inplace=True)"
   ]
  },
  {
   "cell_type": "code",
   "execution_count": 8,
   "metadata": {},
   "outputs": [],
   "source": [
    "with ddw.open_remote_file('exercises/linear-regression-exercise-1', 'avg-household-size.csv') as f:\n",
    "    df.to_csv(f, index=False)"
   ]
  },
  {
   "cell_type": "code",
   "execution_count": null,
   "metadata": {},
   "outputs": [],
   "source": []
  }
 ],
 "metadata": {
  "kernelspec": {
   "display_name": "Python 3 (ipykernel)",
   "language": "python",
   "name": "python3"
  },
  "language_info": {
   "codemirror_mode": {
    "name": "ipython",
    "version": 3
   },
   "file_extension": ".py",
   "mimetype": "text/x-python",
   "name": "python",
   "nbconvert_exporter": "python",
   "pygments_lexer": "ipython3",
   "version": "3.9.7"
  },
  "toc": {
   "colors": {
    "hover_highlight": "#DAA520",
    "navigate_num": "#000000",
    "navigate_text": "#333333",
    "running_highlight": "#FF0000",
    "selected_highlight": "#FFD700",
    "sidebar_border": "#EEEEEE",
    "wrapper_background": "#FFFFFF"
   },
   "moveMenuLeft": true,
   "nav_menu": {
    "height": "12px",
    "width": "252px"
   },
   "navigate_menu": true,
   "number_sections": true,
   "sideBar": true,
   "threshold": 4,
   "toc_cell": false,
   "toc_section_display": "block",
   "toc_window_display": false,
   "widenNotebook": false
  },
  "varInspector": {
   "cols": {
    "lenName": 16,
    "lenType": 16,
    "lenVar": 40
   },
   "kernels_config": {
    "python": {
     "delete_cmd_postfix": "",
     "delete_cmd_prefix": "del ",
     "library": "var_list.py",
     "varRefreshCmd": "print(var_dic_list())"
    },
    "r": {
     "delete_cmd_postfix": ") ",
     "delete_cmd_prefix": "rm(",
     "library": "var_list.r",
     "varRefreshCmd": "cat(var_dic_list()) "
    }
   },
   "types_to_exclude": [
    "module",
    "function",
    "builtin_function_or_method",
    "instance",
    "_Feature"
   ],
   "window_display": false
  }
 },
 "nbformat": 4,
 "nbformat_minor": 2
}
